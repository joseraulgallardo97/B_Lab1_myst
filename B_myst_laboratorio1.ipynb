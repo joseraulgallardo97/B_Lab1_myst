{
 "cells": [
  {
   "cell_type": "markdown",
   "metadata": {},
   "source": [
    "<img style=\"float: right; margin: 0px 0px 15px 15px;\" src=\"https://www.carrerasenlinea.mx/logos/original/logo-instituto-tecnologico-y-de-estudios-superiores-de-occidente.png\" width=\"150px\" height=\"100px\" /> \n",
    "\n",
    "\n",
    "&nbsp;\n",
    "# Administración activa Vs Administración pasiva del capital\n",
    "## Equipo B\n",
    "\n",
    "***Emilio de la Torre***\n",
    "\n",
    "\n",
    "***José Raúl Gallardo***\n",
    "\n",
    "\n",
    "***Adrian Garcia*** \n"
   ]
  },
  {
   "cell_type": "markdown",
   "metadata": {},
   "source": [
    "La idea es replicar un ETF con posiciones en directo. Te han asignado la tarea de hacer un ejercicio simple de replicar la construcción de un portafolio de inversión y un criterio de rebalanceo lo más parecido a un ETF de ishares que tu selecciones. Esto con la finalidad de comparar los resultados de haber rebalanceado periódicamente el portafolio, ó, no haberlo hecho y continuar todo un año con las mismas posiciones."
   ]
  },
  {
   "cell_type": "markdown",
   "metadata": {},
   "source": [
    "## Limpieza y extracción de datos"
   ]
  },
  {
   "cell_type": "markdown",
   "metadata": {},
   "source": [
    "### Importando librerías a utilizar"
   ]
  },
  {
   "cell_type": "code",
   "execution_count": 1,
   "metadata": {},
   "outputs": [],
   "source": [
    "import numpy as np\n",
    "import pandas as pd\n",
    "import matplotlib.pyplot as plt\n",
    "import datetime as dt\n",
    "import plotly.graph_objs as go #Esta librería necesita ser instalada desde terminal 'pip install plotly'"
   ]
  },
  {
   "cell_type": "markdown",
   "metadata": {},
   "source": [
    "### Importando los datos del ETF"
   ]
  },
  {
   "cell_type": "code",
   "execution_count": 2,
   "metadata": {},
   "outputs": [],
   "source": [
    "#etf_file = 'IVEetf.xlsx' # Dirección del archivo que contiene información del etf\n",
    "#data_etf = pd.read_excel(etf_file, sheet_name=0, header=0, sep=',', index_col=None, parse_dates=False, skip_blank_lines=True) \n",
    "# Importando los datos desde el excel\n",
    "#data_etf.head()"
   ]
  },
  {
   "cell_type": "markdown",
   "metadata": {},
   "source": [
    "Función para convertir datos string a float."
   ]
  },
  {
   "cell_type": "code",
   "execution_count": 3,
   "metadata": {},
   "outputs": [],
   "source": [
    "def s2f(to_convert):\n",
    "    f = float(to_convert.replace(',',''))\n",
    "    return f"
   ]
  },
  {
   "cell_type": "markdown",
   "metadata": {},
   "source": [
    "Función para extraer información de los etfs (csv) y los tickers de cada uno."
   ]
  },
  {
   "cell_type": "code",
   "execution_count": 4,
   "metadata": {},
   "outputs": [],
   "source": [
    "def get_data(nFiles, file_title):\n",
    "    df = []\n",
    "    dr = np.arange(1,nFiles+1)\n",
    "    df = [pd.read_csv(file_title+str(dr[i])+'.csv', header=1, index_col=None, parse_dates=False, skip_blank_lines=True, skiprows=9) for i in range(len(dr))]\n",
    "    data = [df[i][(df[i]['Asset Class'] == 'Equity')] for i in range(len(df))]\n",
    "    tickers = [list(data[i].iloc[:,0]) for i in range(len(data))]\n",
    "    return data, tickers"
   ]
  },
  {
   "cell_type": "code",
   "execution_count": 5,
   "metadata": {},
   "outputs": [],
   "source": [
    "data_etf, tickers = get_data(13, 'IVE_Holdings')"
   ]
  },
  {
   "cell_type": "markdown",
   "metadata": {},
   "source": [
    "Función para sacar todos los tickers (valores únicos) de todos los archivos juntos."
   ]
  },
  {
   "cell_type": "code",
   "execution_count": 6,
   "metadata": {},
   "outputs": [],
   "source": [
    "def unique_tickers(tickers): \n",
    "    nFiles = len(tickers)\n",
    "    ticker = []\n",
    "    for i in range(nFiles):\n",
    "        ticker = ticker + tickers[i]\n",
    "    df = pd.DataFrame(ticker)\n",
    "    unique_tickers = df.iloc[:,0].unique()\n",
    "    return unique_tickers"
   ]
  },
  {
   "cell_type": "code",
   "execution_count": 7,
   "metadata": {},
   "outputs": [
    {
     "data": {
      "text/plain": [
       "453"
      ]
     },
     "execution_count": 7,
     "metadata": {},
     "output_type": "execute_result"
    }
   ],
   "source": [
    "all_tickers = unique_tickers(tickers)\n",
    "len(all_tickers)"
   ]
  },
  {
   "cell_type": "markdown",
   "metadata": {},
   "source": [
    "Función para extraer el número de acciones en circulación de los etf's de ishares."
   ]
  },
  {
   "cell_type": "code",
   "execution_count": 8,
   "metadata": {},
   "outputs": [],
   "source": [
    "def n_shares(nFiles, file_title):\n",
    "    dr = np.arange(1,nFiles+1)\n",
    "    df = [pd.read_csv(file_title+str(dr[i])+'.csv', index_col=None, parse_dates=False, skip_blank_lines=True, nrows=6) for i in range(len(dr))]\n",
    "    all_shares = [df[i].iloc[3,0] for i in range(len(df))]\n",
    "    all_shares_int = [int(float(all_shares[i].replace(',',''))) for i in range(len(all_shares))]\n",
    "    return all_shares_int"
   ]
  },
  {
   "cell_type": "code",
   "execution_count": 9,
   "metadata": {
    "scrolled": true
   },
   "outputs": [],
   "source": [
    "etf_shares = n_shares(13, 'IVE_Holdings')"
   ]
  },
  {
   "cell_type": "markdown",
   "metadata": {},
   "source": [
    "Función para extraer los precios de WIKI."
   ]
  },
  {
   "cell_type": "code",
   "execution_count": 10,
   "metadata": {},
   "outputs": [],
   "source": [
    "def get_quandl_prices(tickers):\n",
    "    d_quandl = quandl.get_table('WIKI/PRICES', ticker = [all_tickers], qopts = {'columns': ['ticker', 'date', 'close']}, \n",
    "                        date = {'gte': '2017-03-01', 'lte': '2018-03-31'}, paginate=True)\n",
    "    prices = d_quandl.set_index('date')\n",
    "    prices = prices.pivot(columns='ticker')\n",
    "    return prices"
   ]
  },
  {
   "cell_type": "markdown",
   "metadata": {},
   "source": [
    "Función para filtrar los precios por fechas de interés."
   ]
  },
  {
   "cell_type": "code",
   "execution_count": 11,
   "metadata": {},
   "outputs": [],
   "source": [
    "def final_prices(df_number,initial_date,final_date):\n",
    "    prices = quandl_prices[df_number][np.logical_and(quandl_prices[df_number].index >= np.datetime64(initial_date), \n",
    "                                            quandl_prices[0].index < np.datetime64(final_date))]\n",
    "    return prices"
   ]
  },
  {
   "cell_type": "markdown",
   "metadata": {},
   "source": [
    "### Extracción de precios de Quandl"
   ]
  },
  {
   "cell_type": "code",
   "execution_count": 12,
   "metadata": {},
   "outputs": [],
   "source": [
    "import quandl\n",
    "quandl.ApiConfig.api_key = \"JyBxQPPNx_LTemwn-VbD\" # Api para acceso a Quandl"
   ]
  },
  {
   "cell_type": "markdown",
   "metadata": {},
   "source": [
    "Obteniendo acceso a los precios de Quandl/WikiPrices."
   ]
  },
  {
   "cell_type": "code",
   "execution_count": 13,
   "metadata": {
    "scrolled": true
   },
   "outputs": [
    {
     "data": {
      "text/html": [
       "<div>\n",
       "<style scoped>\n",
       "    .dataframe tbody tr th:only-of-type {\n",
       "        vertical-align: middle;\n",
       "    }\n",
       "\n",
       "    .dataframe tbody tr th {\n",
       "        vertical-align: top;\n",
       "    }\n",
       "\n",
       "    .dataframe thead th {\n",
       "        text-align: right;\n",
       "    }\n",
       "</style>\n",
       "<table border=\"1\" class=\"dataframe\">\n",
       "  <thead>\n",
       "    <tr style=\"text-align: right;\">\n",
       "      <th></th>\n",
       "      <th>ticker</th>\n",
       "      <th>date</th>\n",
       "      <th>close</th>\n",
       "    </tr>\n",
       "    <tr>\n",
       "      <th>None</th>\n",
       "      <th></th>\n",
       "      <th></th>\n",
       "      <th></th>\n",
       "    </tr>\n",
       "  </thead>\n",
       "  <tbody>\n",
       "    <tr>\n",
       "      <th>0</th>\n",
       "      <td>ZION</td>\n",
       "      <td>2018-03-27</td>\n",
       "      <td>52.02</td>\n",
       "    </tr>\n",
       "    <tr>\n",
       "      <th>1</th>\n",
       "      <td>ZION</td>\n",
       "      <td>2018-03-26</td>\n",
       "      <td>53.24</td>\n",
       "    </tr>\n",
       "    <tr>\n",
       "      <th>2</th>\n",
       "      <td>ZION</td>\n",
       "      <td>2018-03-23</td>\n",
       "      <td>51.23</td>\n",
       "    </tr>\n",
       "    <tr>\n",
       "      <th>3</th>\n",
       "      <td>ZION</td>\n",
       "      <td>2018-03-22</td>\n",
       "      <td>53.07</td>\n",
       "    </tr>\n",
       "    <tr>\n",
       "      <th>4</th>\n",
       "      <td>ZION</td>\n",
       "      <td>2018-03-21</td>\n",
       "      <td>55.10</td>\n",
       "    </tr>\n",
       "  </tbody>\n",
       "</table>\n",
       "</div>"
      ],
      "text/plain": [
       "     ticker       date  close\n",
       "None                         \n",
       "0      ZION 2018-03-27  52.02\n",
       "1      ZION 2018-03-26  53.24\n",
       "2      ZION 2018-03-23  51.23\n",
       "3      ZION 2018-03-22  53.07\n",
       "4      ZION 2018-03-21  55.10"
      ]
     },
     "execution_count": 13,
     "metadata": {},
     "output_type": "execute_result"
    }
   ],
   "source": [
    "d_quandl = quandl.get_table('WIKI/PRICES', ticker = [all_tickers], qopts = {'columns': ['ticker', 'date', 'close']}, \n",
    "                        date = {'gte': '2017-03-01', 'lte': '2018-04-01'}, paginate=True)\n",
    "d_quandl.head()"
   ]
  },
  {
   "cell_type": "markdown",
   "metadata": {},
   "source": [
    "A continuación se ordena el dataframe para tener los precios de los tickers en columnas"
   ]
  },
  {
   "cell_type": "code",
   "execution_count": 14,
   "metadata": {
    "scrolled": true
   },
   "outputs": [
    {
     "data": {
      "text/html": [
       "<div>\n",
       "<style scoped>\n",
       "    .dataframe tbody tr th:only-of-type {\n",
       "        vertical-align: middle;\n",
       "    }\n",
       "\n",
       "    .dataframe tbody tr th {\n",
       "        vertical-align: top;\n",
       "    }\n",
       "\n",
       "    .dataframe thead tr th {\n",
       "        text-align: left;\n",
       "    }\n",
       "\n",
       "    .dataframe thead tr:last-of-type th {\n",
       "        text-align: right;\n",
       "    }\n",
       "</style>\n",
       "<table border=\"1\" class=\"dataframe\">\n",
       "  <thead>\n",
       "    <tr>\n",
       "      <th></th>\n",
       "      <th colspan=\"21\" halign=\"left\">close</th>\n",
       "    </tr>\n",
       "    <tr>\n",
       "      <th>ticker</th>\n",
       "      <th>A</th>\n",
       "      <th>AAL</th>\n",
       "      <th>AAP</th>\n",
       "      <th>ABC</th>\n",
       "      <th>ABT</th>\n",
       "      <th>ACN</th>\n",
       "      <th>ADM</th>\n",
       "      <th>ADS</th>\n",
       "      <th>ADSK</th>\n",
       "      <th>AEE</th>\n",
       "      <th>...</th>\n",
       "      <th>XL</th>\n",
       "      <th>XLNX</th>\n",
       "      <th>XOM</th>\n",
       "      <th>XRAY</th>\n",
       "      <th>XRX</th>\n",
       "      <th>XYL</th>\n",
       "      <th>YHOO</th>\n",
       "      <th>YUM</th>\n",
       "      <th>ZBH</th>\n",
       "      <th>ZION</th>\n",
       "    </tr>\n",
       "    <tr>\n",
       "      <th>date</th>\n",
       "      <th></th>\n",
       "      <th></th>\n",
       "      <th></th>\n",
       "      <th></th>\n",
       "      <th></th>\n",
       "      <th></th>\n",
       "      <th></th>\n",
       "      <th></th>\n",
       "      <th></th>\n",
       "      <th></th>\n",
       "      <th></th>\n",
       "      <th></th>\n",
       "      <th></th>\n",
       "      <th></th>\n",
       "      <th></th>\n",
       "      <th></th>\n",
       "      <th></th>\n",
       "      <th></th>\n",
       "      <th></th>\n",
       "      <th></th>\n",
       "      <th></th>\n",
       "    </tr>\n",
       "  </thead>\n",
       "  <tbody>\n",
       "    <tr>\n",
       "      <th>2017-03-01</th>\n",
       "      <td>52.04</td>\n",
       "      <td>47.09</td>\n",
       "      <td>156.68</td>\n",
       "      <td>92.23</td>\n",
       "      <td>45.59</td>\n",
       "      <td>124.07</td>\n",
       "      <td>46.51</td>\n",
       "      <td>247.62</td>\n",
       "      <td>88.93</td>\n",
       "      <td>54.76</td>\n",
       "      <td>...</td>\n",
       "      <td>41.12</td>\n",
       "      <td>59.68</td>\n",
       "      <td>83.02</td>\n",
       "      <td>64.50</td>\n",
       "      <td>7.39</td>\n",
       "      <td>49.55</td>\n",
       "      <td>46.24</td>\n",
       "      <td>65.57</td>\n",
       "      <td>118.89</td>\n",
       "      <td>46.53</td>\n",
       "    </tr>\n",
       "    <tr>\n",
       "      <th>2017-03-02</th>\n",
       "      <td>51.38</td>\n",
       "      <td>45.72</td>\n",
       "      <td>157.36</td>\n",
       "      <td>91.94</td>\n",
       "      <td>45.69</td>\n",
       "      <td>124.35</td>\n",
       "      <td>45.48</td>\n",
       "      <td>243.94</td>\n",
       "      <td>87.32</td>\n",
       "      <td>55.12</td>\n",
       "      <td>...</td>\n",
       "      <td>40.61</td>\n",
       "      <td>59.35</td>\n",
       "      <td>83.30</td>\n",
       "      <td>63.65</td>\n",
       "      <td>7.29</td>\n",
       "      <td>48.89</td>\n",
       "      <td>45.94</td>\n",
       "      <td>65.21</td>\n",
       "      <td>118.02</td>\n",
       "      <td>44.96</td>\n",
       "    </tr>\n",
       "    <tr>\n",
       "      <th>2017-03-03</th>\n",
       "      <td>51.98</td>\n",
       "      <td>46.82</td>\n",
       "      <td>155.35</td>\n",
       "      <td>92.23</td>\n",
       "      <td>45.25</td>\n",
       "      <td>123.64</td>\n",
       "      <td>45.20</td>\n",
       "      <td>244.63</td>\n",
       "      <td>85.32</td>\n",
       "      <td>54.89</td>\n",
       "      <td>...</td>\n",
       "      <td>40.36</td>\n",
       "      <td>58.74</td>\n",
       "      <td>82.46</td>\n",
       "      <td>63.36</td>\n",
       "      <td>7.36</td>\n",
       "      <td>48.73</td>\n",
       "      <td>45.91</td>\n",
       "      <td>65.03</td>\n",
       "      <td>118.28</td>\n",
       "      <td>45.36</td>\n",
       "    </tr>\n",
       "    <tr>\n",
       "      <th>2017-03-06</th>\n",
       "      <td>51.25</td>\n",
       "      <td>45.31</td>\n",
       "      <td>154.25</td>\n",
       "      <td>89.99</td>\n",
       "      <td>45.13</td>\n",
       "      <td>123.24</td>\n",
       "      <td>44.76</td>\n",
       "      <td>245.45</td>\n",
       "      <td>82.94</td>\n",
       "      <td>54.89</td>\n",
       "      <td>...</td>\n",
       "      <td>39.90</td>\n",
       "      <td>58.81</td>\n",
       "      <td>82.83</td>\n",
       "      <td>62.75</td>\n",
       "      <td>7.45</td>\n",
       "      <td>48.53</td>\n",
       "      <td>45.64</td>\n",
       "      <td>64.50</td>\n",
       "      <td>117.22</td>\n",
       "      <td>45.33</td>\n",
       "    </tr>\n",
       "    <tr>\n",
       "      <th>2017-03-07</th>\n",
       "      <td>51.21</td>\n",
       "      <td>44.84</td>\n",
       "      <td>151.99</td>\n",
       "      <td>88.48</td>\n",
       "      <td>45.00</td>\n",
       "      <td>124.14</td>\n",
       "      <td>44.46</td>\n",
       "      <td>245.05</td>\n",
       "      <td>82.07</td>\n",
       "      <td>54.82</td>\n",
       "      <td>...</td>\n",
       "      <td>40.13</td>\n",
       "      <td>58.75</td>\n",
       "      <td>82.52</td>\n",
       "      <td>62.55</td>\n",
       "      <td>7.36</td>\n",
       "      <td>48.78</td>\n",
       "      <td>45.73</td>\n",
       "      <td>64.02</td>\n",
       "      <td>117.07</td>\n",
       "      <td>45.28</td>\n",
       "    </tr>\n",
       "  </tbody>\n",
       "</table>\n",
       "<p>5 rows × 450 columns</p>\n",
       "</div>"
      ],
      "text/plain": [
       "            close                                                             \\\n",
       "ticker          A    AAL     AAP    ABC    ABT     ACN    ADM     ADS   ADSK   \n",
       "date                                                                           \n",
       "2017-03-01  52.04  47.09  156.68  92.23  45.59  124.07  46.51  247.62  88.93   \n",
       "2017-03-02  51.38  45.72  157.36  91.94  45.69  124.35  45.48  243.94  87.32   \n",
       "2017-03-03  51.98  46.82  155.35  92.23  45.25  123.64  45.20  244.63  85.32   \n",
       "2017-03-06  51.25  45.31  154.25  89.99  45.13  123.24  44.76  245.45  82.94   \n",
       "2017-03-07  51.21  44.84  151.99  88.48  45.00  124.14  44.46  245.05  82.07   \n",
       "\n",
       "                   ...                                                    \\\n",
       "ticker        AEE  ...       XL   XLNX    XOM   XRAY   XRX    XYL   YHOO   \n",
       "date               ...                                                     \n",
       "2017-03-01  54.76  ...    41.12  59.68  83.02  64.50  7.39  49.55  46.24   \n",
       "2017-03-02  55.12  ...    40.61  59.35  83.30  63.65  7.29  48.89  45.94   \n",
       "2017-03-03  54.89  ...    40.36  58.74  82.46  63.36  7.36  48.73  45.91   \n",
       "2017-03-06  54.89  ...    39.90  58.81  82.83  62.75  7.45  48.53  45.64   \n",
       "2017-03-07  54.82  ...    40.13  58.75  82.52  62.55  7.36  48.78  45.73   \n",
       "\n",
       "                                  \n",
       "ticker        YUM     ZBH   ZION  \n",
       "date                              \n",
       "2017-03-01  65.57  118.89  46.53  \n",
       "2017-03-02  65.21  118.02  44.96  \n",
       "2017-03-03  65.03  118.28  45.36  \n",
       "2017-03-06  64.50  117.22  45.33  \n",
       "2017-03-07  64.02  117.07  45.28  \n",
       "\n",
       "[5 rows x 450 columns]"
      ]
     },
     "execution_count": 14,
     "metadata": {},
     "output_type": "execute_result"
    }
   ],
   "source": [
    "stock_prices = d_quandl.set_index('date')\n",
    "stock_prices = stock_prices.pivot(columns='ticker')\n",
    "stock_prices.head()"
   ]
  },
  {
   "cell_type": "markdown",
   "metadata": {},
   "source": [
    "Se elimina el multindex para poder manupular los datos mejor y se llenan los NaN con 0."
   ]
  },
  {
   "cell_type": "code",
   "execution_count": 15,
   "metadata": {
    "scrolled": false
   },
   "outputs": [
    {
     "data": {
      "text/html": [
       "<div>\n",
       "<style scoped>\n",
       "    .dataframe tbody tr th:only-of-type {\n",
       "        vertical-align: middle;\n",
       "    }\n",
       "\n",
       "    .dataframe tbody tr th {\n",
       "        vertical-align: top;\n",
       "    }\n",
       "\n",
       "    .dataframe thead th {\n",
       "        text-align: right;\n",
       "    }\n",
       "</style>\n",
       "<table border=\"1\" class=\"dataframe\">\n",
       "  <thead>\n",
       "    <tr style=\"text-align: right;\">\n",
       "      <th>ticker</th>\n",
       "      <th>A</th>\n",
       "      <th>AAL</th>\n",
       "      <th>AAP</th>\n",
       "      <th>ABC</th>\n",
       "      <th>ABT</th>\n",
       "      <th>ACN</th>\n",
       "      <th>ADM</th>\n",
       "      <th>ADS</th>\n",
       "      <th>ADSK</th>\n",
       "      <th>AEE</th>\n",
       "      <th>...</th>\n",
       "      <th>XL</th>\n",
       "      <th>XLNX</th>\n",
       "      <th>XOM</th>\n",
       "      <th>XRAY</th>\n",
       "      <th>XRX</th>\n",
       "      <th>XYL</th>\n",
       "      <th>YHOO</th>\n",
       "      <th>YUM</th>\n",
       "      <th>ZBH</th>\n",
       "      <th>ZION</th>\n",
       "    </tr>\n",
       "    <tr>\n",
       "      <th>date</th>\n",
       "      <th></th>\n",
       "      <th></th>\n",
       "      <th></th>\n",
       "      <th></th>\n",
       "      <th></th>\n",
       "      <th></th>\n",
       "      <th></th>\n",
       "      <th></th>\n",
       "      <th></th>\n",
       "      <th></th>\n",
       "      <th></th>\n",
       "      <th></th>\n",
       "      <th></th>\n",
       "      <th></th>\n",
       "      <th></th>\n",
       "      <th></th>\n",
       "      <th></th>\n",
       "      <th></th>\n",
       "      <th></th>\n",
       "      <th></th>\n",
       "      <th></th>\n",
       "    </tr>\n",
       "  </thead>\n",
       "  <tbody>\n",
       "    <tr>\n",
       "      <th>2017-03-01</th>\n",
       "      <td>52.04</td>\n",
       "      <td>47.09</td>\n",
       "      <td>156.68</td>\n",
       "      <td>92.23</td>\n",
       "      <td>45.59</td>\n",
       "      <td>124.07</td>\n",
       "      <td>46.51</td>\n",
       "      <td>247.62</td>\n",
       "      <td>88.93</td>\n",
       "      <td>54.76</td>\n",
       "      <td>...</td>\n",
       "      <td>41.12</td>\n",
       "      <td>59.68</td>\n",
       "      <td>83.02</td>\n",
       "      <td>64.50</td>\n",
       "      <td>7.39</td>\n",
       "      <td>49.55</td>\n",
       "      <td>46.24</td>\n",
       "      <td>65.57</td>\n",
       "      <td>118.89</td>\n",
       "      <td>46.53</td>\n",
       "    </tr>\n",
       "    <tr>\n",
       "      <th>2017-03-02</th>\n",
       "      <td>51.38</td>\n",
       "      <td>45.72</td>\n",
       "      <td>157.36</td>\n",
       "      <td>91.94</td>\n",
       "      <td>45.69</td>\n",
       "      <td>124.35</td>\n",
       "      <td>45.48</td>\n",
       "      <td>243.94</td>\n",
       "      <td>87.32</td>\n",
       "      <td>55.12</td>\n",
       "      <td>...</td>\n",
       "      <td>40.61</td>\n",
       "      <td>59.35</td>\n",
       "      <td>83.30</td>\n",
       "      <td>63.65</td>\n",
       "      <td>7.29</td>\n",
       "      <td>48.89</td>\n",
       "      <td>45.94</td>\n",
       "      <td>65.21</td>\n",
       "      <td>118.02</td>\n",
       "      <td>44.96</td>\n",
       "    </tr>\n",
       "    <tr>\n",
       "      <th>2017-03-03</th>\n",
       "      <td>51.98</td>\n",
       "      <td>46.82</td>\n",
       "      <td>155.35</td>\n",
       "      <td>92.23</td>\n",
       "      <td>45.25</td>\n",
       "      <td>123.64</td>\n",
       "      <td>45.20</td>\n",
       "      <td>244.63</td>\n",
       "      <td>85.32</td>\n",
       "      <td>54.89</td>\n",
       "      <td>...</td>\n",
       "      <td>40.36</td>\n",
       "      <td>58.74</td>\n",
       "      <td>82.46</td>\n",
       "      <td>63.36</td>\n",
       "      <td>7.36</td>\n",
       "      <td>48.73</td>\n",
       "      <td>45.91</td>\n",
       "      <td>65.03</td>\n",
       "      <td>118.28</td>\n",
       "      <td>45.36</td>\n",
       "    </tr>\n",
       "    <tr>\n",
       "      <th>2017-03-06</th>\n",
       "      <td>51.25</td>\n",
       "      <td>45.31</td>\n",
       "      <td>154.25</td>\n",
       "      <td>89.99</td>\n",
       "      <td>45.13</td>\n",
       "      <td>123.24</td>\n",
       "      <td>44.76</td>\n",
       "      <td>245.45</td>\n",
       "      <td>82.94</td>\n",
       "      <td>54.89</td>\n",
       "      <td>...</td>\n",
       "      <td>39.90</td>\n",
       "      <td>58.81</td>\n",
       "      <td>82.83</td>\n",
       "      <td>62.75</td>\n",
       "      <td>7.45</td>\n",
       "      <td>48.53</td>\n",
       "      <td>45.64</td>\n",
       "      <td>64.50</td>\n",
       "      <td>117.22</td>\n",
       "      <td>45.33</td>\n",
       "    </tr>\n",
       "    <tr>\n",
       "      <th>2017-03-07</th>\n",
       "      <td>51.21</td>\n",
       "      <td>44.84</td>\n",
       "      <td>151.99</td>\n",
       "      <td>88.48</td>\n",
       "      <td>45.00</td>\n",
       "      <td>124.14</td>\n",
       "      <td>44.46</td>\n",
       "      <td>245.05</td>\n",
       "      <td>82.07</td>\n",
       "      <td>54.82</td>\n",
       "      <td>...</td>\n",
       "      <td>40.13</td>\n",
       "      <td>58.75</td>\n",
       "      <td>82.52</td>\n",
       "      <td>62.55</td>\n",
       "      <td>7.36</td>\n",
       "      <td>48.78</td>\n",
       "      <td>45.73</td>\n",
       "      <td>64.02</td>\n",
       "      <td>117.07</td>\n",
       "      <td>45.28</td>\n",
       "    </tr>\n",
       "  </tbody>\n",
       "</table>\n",
       "<p>5 rows × 450 columns</p>\n",
       "</div>"
      ],
      "text/plain": [
       "ticker          A    AAL     AAP    ABC    ABT     ACN    ADM     ADS   ADSK  \\\n",
       "date                                                                           \n",
       "2017-03-01  52.04  47.09  156.68  92.23  45.59  124.07  46.51  247.62  88.93   \n",
       "2017-03-02  51.38  45.72  157.36  91.94  45.69  124.35  45.48  243.94  87.32   \n",
       "2017-03-03  51.98  46.82  155.35  92.23  45.25  123.64  45.20  244.63  85.32   \n",
       "2017-03-06  51.25  45.31  154.25  89.99  45.13  123.24  44.76  245.45  82.94   \n",
       "2017-03-07  51.21  44.84  151.99  88.48  45.00  124.14  44.46  245.05  82.07   \n",
       "\n",
       "ticker        AEE  ...       XL   XLNX    XOM   XRAY   XRX    XYL   YHOO  \\\n",
       "date               ...                                                     \n",
       "2017-03-01  54.76  ...    41.12  59.68  83.02  64.50  7.39  49.55  46.24   \n",
       "2017-03-02  55.12  ...    40.61  59.35  83.30  63.65  7.29  48.89  45.94   \n",
       "2017-03-03  54.89  ...    40.36  58.74  82.46  63.36  7.36  48.73  45.91   \n",
       "2017-03-06  54.89  ...    39.90  58.81  82.83  62.75  7.45  48.53  45.64   \n",
       "2017-03-07  54.82  ...    40.13  58.75  82.52  62.55  7.36  48.78  45.73   \n",
       "\n",
       "ticker        YUM     ZBH   ZION  \n",
       "date                              \n",
       "2017-03-01  65.57  118.89  46.53  \n",
       "2017-03-02  65.21  118.02  44.96  \n",
       "2017-03-03  65.03  118.28  45.36  \n",
       "2017-03-06  64.50  117.22  45.33  \n",
       "2017-03-07  64.02  117.07  45.28  \n",
       "\n",
       "[5 rows x 450 columns]"
      ]
     },
     "execution_count": 15,
     "metadata": {},
     "output_type": "execute_result"
    }
   ],
   "source": [
    "stock_prices.columns = stock_prices.columns.droplevel(0)\n",
    "stock_prices = stock_prices.fillna(0)\n",
    "stock_prices.head()"
   ]
  },
  {
   "cell_type": "markdown",
   "metadata": {},
   "source": [
    "Para tener los pesos de las acciones presentes en Quandl es necesario hacer match entre los tickers del etf y los de la fuente de precios."
   ]
  },
  {
   "cell_type": "code",
   "execution_count": 16,
   "metadata": {},
   "outputs": [],
   "source": [
    "tickers_quandl = [stock_prices.columns[i] for i in range(len(stock_prices.columns))] #Extraemos los tickers de Quandl"
   ]
  },
  {
   "cell_type": "code",
   "execution_count": 17,
   "metadata": {},
   "outputs": [],
   "source": [
    "df_w = pd.DataFrame(tickers_quandl, columns=['Ticker']) # Tickers se hacen un dataframe\n",
    "# Se unen todos los datos de los dataframes con los tickers\n",
    "all_df_etf = [df_w.set_index('Ticker').join(data_etf[i].set_index('Ticker'), on='Ticker') for i in range(len(data_etf))]\n",
    "# Limpiando los dataframes para eliminar activos que no fueron necesarios en cada mes\n",
    "final_etf_data = [all_df_etf[i].dropna() for i in range(len(all_df_etf))]"
   ]
  },
  {
   "cell_type": "markdown",
   "metadata": {},
   "source": [
    "## ¿Cómo se calcula el NAV (Net Asset Value) de un ETF?"
   ]
  },
  {
   "cell_type": "markdown",
   "metadata": {},
   "source": [
    "Se suma el valor total de cada uno de los instrumentos que componen el ETF, y se divide entre el numero de certificados que el ETF emitió. \n",
    "\n",
    "$$ NAV = \\frac{\\sum (Títulos\\,de\\,cada\\,acción * precio)}{Acciones\\,en\\,circulación\\,del\\,etf}$$"
   ]
  },
  {
   "cell_type": "code",
   "execution_count": 18,
   "metadata": {},
   "outputs": [],
   "source": [
    "# quandl_prices[0][np.logical_and(quandl_prices[0].index >= np.datetime64('2017-03'), quandl_prices[0].index < np.datetime64('2017-04'))]"
   ]
  },
  {
   "cell_type": "markdown",
   "metadata": {},
   "source": [
    "### Cálculo del NAV "
   ]
  },
  {
   "cell_type": "markdown",
   "metadata": {},
   "source": [
    "#### NAV y rendimientos mensuales de los archivos de iShares"
   ]
  },
  {
   "cell_type": "markdown",
   "metadata": {},
   "source": [
    "Se calculan los rendimientos mensuales del etf, tomando en cuenta el market value $(acciones*precio)$."
   ]
  },
  {
   "cell_type": "code",
   "execution_count": 19,
   "metadata": {},
   "outputs": [],
   "source": [
    "nav_mensual = [sum([s2f(final_etf_data[i].iloc[j,5]) for j in range(len(final_etf_data[i]))])/etf_shares[i] \n",
    "                      for i in range(len(final_etf_data))]\n",
    "\n",
    "rend_etf_mensual = [((nav_mensual[i]/nav_mensual[i-1])-1) for i in (np.arange(1,len(nav_mensual)))]"
   ]
  },
  {
   "cell_type": "code",
   "execution_count": 58,
   "metadata": {
    "scrolled": true
   },
   "outputs": [
    {
     "data": {
      "application/vnd.plotly.v1+json": {
       "config": {
        "plotlyServerURL": "https://plot.ly"
       },
       "data": [
        {
         "type": "scatter",
         "uid": "b016c737-e894-4a4f-abf2-2822e9a3f0d8",
         "x": [
          "Mar-17",
          "Abr-17",
          "May-17",
          "Jun-17",
          "Jul-17",
          "Ago-17",
          "Sept-17",
          "Oct-17",
          "Nov-17",
          "Dic-17",
          "Ene-18",
          "Feb-18",
          "Mar-18"
         ],
         "y": [
          100.26147445371994,
          100.07596454136085,
          98.30307095617718,
          101.17725403913722,
          102.41455900650979,
          100.90740925252057,
          103.6387123514539,
          104.73627362798173,
          108.14036142358731,
          109.95018018331456,
          114.34799803808816,
          107.76191585885918,
          105.19172162528041
         ]
        }
       ],
       "layout": {
        "template": {
         "data": {
          "bar": [
           {
            "error_x": {
             "color": "#2a3f5f"
            },
            "error_y": {
             "color": "#2a3f5f"
            },
            "marker": {
             "line": {
              "color": "#E5ECF6",
              "width": 0.5
             }
            },
            "type": "bar"
           }
          ],
          "barpolar": [
           {
            "marker": {
             "line": {
              "color": "#E5ECF6",
              "width": 0.5
             }
            },
            "type": "barpolar"
           }
          ],
          "carpet": [
           {
            "aaxis": {
             "endlinecolor": "#2a3f5f",
             "gridcolor": "white",
             "linecolor": "white",
             "minorgridcolor": "white",
             "startlinecolor": "#2a3f5f"
            },
            "baxis": {
             "endlinecolor": "#2a3f5f",
             "gridcolor": "white",
             "linecolor": "white",
             "minorgridcolor": "white",
             "startlinecolor": "#2a3f5f"
            },
            "type": "carpet"
           }
          ],
          "choropleth": [
           {
            "colorbar": {
             "outlinewidth": 0,
             "ticks": ""
            },
            "type": "choropleth"
           }
          ],
          "contour": [
           {
            "colorbar": {
             "outlinewidth": 0,
             "ticks": ""
            },
            "colorscale": [
             [
              0,
              "#0d0887"
             ],
             [
              0.1111111111111111,
              "#46039f"
             ],
             [
              0.2222222222222222,
              "#7201a8"
             ],
             [
              0.3333333333333333,
              "#9c179e"
             ],
             [
              0.4444444444444444,
              "#bd3786"
             ],
             [
              0.5555555555555556,
              "#d8576b"
             ],
             [
              0.6666666666666666,
              "#ed7953"
             ],
             [
              0.7777777777777778,
              "#fb9f3a"
             ],
             [
              0.8888888888888888,
              "#fdca26"
             ],
             [
              1,
              "#f0f921"
             ]
            ],
            "type": "contour"
           }
          ],
          "contourcarpet": [
           {
            "colorbar": {
             "outlinewidth": 0,
             "ticks": ""
            },
            "type": "contourcarpet"
           }
          ],
          "heatmap": [
           {
            "colorbar": {
             "outlinewidth": 0,
             "ticks": ""
            },
            "colorscale": [
             [
              0,
              "#0d0887"
             ],
             [
              0.1111111111111111,
              "#46039f"
             ],
             [
              0.2222222222222222,
              "#7201a8"
             ],
             [
              0.3333333333333333,
              "#9c179e"
             ],
             [
              0.4444444444444444,
              "#bd3786"
             ],
             [
              0.5555555555555556,
              "#d8576b"
             ],
             [
              0.6666666666666666,
              "#ed7953"
             ],
             [
              0.7777777777777778,
              "#fb9f3a"
             ],
             [
              0.8888888888888888,
              "#fdca26"
             ],
             [
              1,
              "#f0f921"
             ]
            ],
            "type": "heatmap"
           }
          ],
          "heatmapgl": [
           {
            "colorbar": {
             "outlinewidth": 0,
             "ticks": ""
            },
            "colorscale": [
             [
              0,
              "#0d0887"
             ],
             [
              0.1111111111111111,
              "#46039f"
             ],
             [
              0.2222222222222222,
              "#7201a8"
             ],
             [
              0.3333333333333333,
              "#9c179e"
             ],
             [
              0.4444444444444444,
              "#bd3786"
             ],
             [
              0.5555555555555556,
              "#d8576b"
             ],
             [
              0.6666666666666666,
              "#ed7953"
             ],
             [
              0.7777777777777778,
              "#fb9f3a"
             ],
             [
              0.8888888888888888,
              "#fdca26"
             ],
             [
              1,
              "#f0f921"
             ]
            ],
            "type": "heatmapgl"
           }
          ],
          "histogram": [
           {
            "marker": {
             "colorbar": {
              "outlinewidth": 0,
              "ticks": ""
             }
            },
            "type": "histogram"
           }
          ],
          "histogram2d": [
           {
            "colorbar": {
             "outlinewidth": 0,
             "ticks": ""
            },
            "colorscale": [
             [
              0,
              "#0d0887"
             ],
             [
              0.1111111111111111,
              "#46039f"
             ],
             [
              0.2222222222222222,
              "#7201a8"
             ],
             [
              0.3333333333333333,
              "#9c179e"
             ],
             [
              0.4444444444444444,
              "#bd3786"
             ],
             [
              0.5555555555555556,
              "#d8576b"
             ],
             [
              0.6666666666666666,
              "#ed7953"
             ],
             [
              0.7777777777777778,
              "#fb9f3a"
             ],
             [
              0.8888888888888888,
              "#fdca26"
             ],
             [
              1,
              "#f0f921"
             ]
            ],
            "type": "histogram2d"
           }
          ],
          "histogram2dcontour": [
           {
            "colorbar": {
             "outlinewidth": 0,
             "ticks": ""
            },
            "colorscale": [
             [
              0,
              "#0d0887"
             ],
             [
              0.1111111111111111,
              "#46039f"
             ],
             [
              0.2222222222222222,
              "#7201a8"
             ],
             [
              0.3333333333333333,
              "#9c179e"
             ],
             [
              0.4444444444444444,
              "#bd3786"
             ],
             [
              0.5555555555555556,
              "#d8576b"
             ],
             [
              0.6666666666666666,
              "#ed7953"
             ],
             [
              0.7777777777777778,
              "#fb9f3a"
             ],
             [
              0.8888888888888888,
              "#fdca26"
             ],
             [
              1,
              "#f0f921"
             ]
            ],
            "type": "histogram2dcontour"
           }
          ],
          "mesh3d": [
           {
            "colorbar": {
             "outlinewidth": 0,
             "ticks": ""
            },
            "type": "mesh3d"
           }
          ],
          "parcoords": [
           {
            "line": {
             "colorbar": {
              "outlinewidth": 0,
              "ticks": ""
             }
            },
            "type": "parcoords"
           }
          ],
          "scatter": [
           {
            "marker": {
             "colorbar": {
              "outlinewidth": 0,
              "ticks": ""
             }
            },
            "type": "scatter"
           }
          ],
          "scatter3d": [
           {
            "line": {
             "colorbar": {
              "outlinewidth": 0,
              "ticks": ""
             }
            },
            "marker": {
             "colorbar": {
              "outlinewidth": 0,
              "ticks": ""
             }
            },
            "type": "scatter3d"
           }
          ],
          "scattercarpet": [
           {
            "marker": {
             "colorbar": {
              "outlinewidth": 0,
              "ticks": ""
             }
            },
            "type": "scattercarpet"
           }
          ],
          "scattergeo": [
           {
            "marker": {
             "colorbar": {
              "outlinewidth": 0,
              "ticks": ""
             }
            },
            "type": "scattergeo"
           }
          ],
          "scattergl": [
           {
            "marker": {
             "colorbar": {
              "outlinewidth": 0,
              "ticks": ""
             }
            },
            "type": "scattergl"
           }
          ],
          "scattermapbox": [
           {
            "marker": {
             "colorbar": {
              "outlinewidth": 0,
              "ticks": ""
             }
            },
            "type": "scattermapbox"
           }
          ],
          "scatterpolar": [
           {
            "marker": {
             "colorbar": {
              "outlinewidth": 0,
              "ticks": ""
             }
            },
            "type": "scatterpolar"
           }
          ],
          "scatterpolargl": [
           {
            "marker": {
             "colorbar": {
              "outlinewidth": 0,
              "ticks": ""
             }
            },
            "type": "scatterpolargl"
           }
          ],
          "scatterternary": [
           {
            "marker": {
             "colorbar": {
              "outlinewidth": 0,
              "ticks": ""
             }
            },
            "type": "scatterternary"
           }
          ],
          "surface": [
           {
            "colorbar": {
             "outlinewidth": 0,
             "ticks": ""
            },
            "colorscale": [
             [
              0,
              "#0d0887"
             ],
             [
              0.1111111111111111,
              "#46039f"
             ],
             [
              0.2222222222222222,
              "#7201a8"
             ],
             [
              0.3333333333333333,
              "#9c179e"
             ],
             [
              0.4444444444444444,
              "#bd3786"
             ],
             [
              0.5555555555555556,
              "#d8576b"
             ],
             [
              0.6666666666666666,
              "#ed7953"
             ],
             [
              0.7777777777777778,
              "#fb9f3a"
             ],
             [
              0.8888888888888888,
              "#fdca26"
             ],
             [
              1,
              "#f0f921"
             ]
            ],
            "type": "surface"
           }
          ],
          "table": [
           {
            "cells": {
             "fill": {
              "color": "#EBF0F8"
             },
             "line": {
              "color": "white"
             }
            },
            "header": {
             "fill": {
              "color": "#C8D4E3"
             },
             "line": {
              "color": "white"
             }
            },
            "type": "table"
           }
          ]
         },
         "layout": {
          "annotationdefaults": {
           "arrowcolor": "#2a3f5f",
           "arrowhead": 0,
           "arrowwidth": 1
          },
          "colorscale": {
           "diverging": [
            [
             0,
             "#8e0152"
            ],
            [
             0.1,
             "#c51b7d"
            ],
            [
             0.2,
             "#de77ae"
            ],
            [
             0.3,
             "#f1b6da"
            ],
            [
             0.4,
             "#fde0ef"
            ],
            [
             0.5,
             "#f7f7f7"
            ],
            [
             0.6,
             "#e6f5d0"
            ],
            [
             0.7,
             "#b8e186"
            ],
            [
             0.8,
             "#7fbc41"
            ],
            [
             0.9,
             "#4d9221"
            ],
            [
             1,
             "#276419"
            ]
           ],
           "sequential": [
            [
             0,
             "#0d0887"
            ],
            [
             0.1111111111111111,
             "#46039f"
            ],
            [
             0.2222222222222222,
             "#7201a8"
            ],
            [
             0.3333333333333333,
             "#9c179e"
            ],
            [
             0.4444444444444444,
             "#bd3786"
            ],
            [
             0.5555555555555556,
             "#d8576b"
            ],
            [
             0.6666666666666666,
             "#ed7953"
            ],
            [
             0.7777777777777778,
             "#fb9f3a"
            ],
            [
             0.8888888888888888,
             "#fdca26"
            ],
            [
             1,
             "#f0f921"
            ]
           ],
           "sequentialminus": [
            [
             0,
             "#0d0887"
            ],
            [
             0.1111111111111111,
             "#46039f"
            ],
            [
             0.2222222222222222,
             "#7201a8"
            ],
            [
             0.3333333333333333,
             "#9c179e"
            ],
            [
             0.4444444444444444,
             "#bd3786"
            ],
            [
             0.5555555555555556,
             "#d8576b"
            ],
            [
             0.6666666666666666,
             "#ed7953"
            ],
            [
             0.7777777777777778,
             "#fb9f3a"
            ],
            [
             0.8888888888888888,
             "#fdca26"
            ],
            [
             1,
             "#f0f921"
            ]
           ]
          },
          "colorway": [
           "#636efa",
           "#EF553B",
           "#00cc96",
           "#ab63fa",
           "#FFA15A",
           "#19d3f3",
           "#FF6692",
           "#B6E880",
           "#FF97FF",
           "#FECB52"
          ],
          "font": {
           "color": "#2a3f5f"
          },
          "geo": {
           "bgcolor": "white",
           "lakecolor": "white",
           "landcolor": "#E5ECF6",
           "showlakes": true,
           "showland": true,
           "subunitcolor": "white"
          },
          "hoverlabel": {
           "align": "left"
          },
          "hovermode": "closest",
          "mapbox": {
           "style": "light"
          },
          "paper_bgcolor": "white",
          "plot_bgcolor": "#E5ECF6",
          "polar": {
           "angularaxis": {
            "gridcolor": "white",
            "linecolor": "white",
            "ticks": ""
           },
           "bgcolor": "#E5ECF6",
           "radialaxis": {
            "gridcolor": "white",
            "linecolor": "white",
            "ticks": ""
           }
          },
          "scene": {
           "xaxis": {
            "backgroundcolor": "#E5ECF6",
            "gridcolor": "white",
            "gridwidth": 2,
            "linecolor": "white",
            "showbackground": true,
            "ticks": "",
            "zerolinecolor": "white"
           },
           "yaxis": {
            "backgroundcolor": "#E5ECF6",
            "gridcolor": "white",
            "gridwidth": 2,
            "linecolor": "white",
            "showbackground": true,
            "ticks": "",
            "zerolinecolor": "white"
           },
           "zaxis": {
            "backgroundcolor": "#E5ECF6",
            "gridcolor": "white",
            "gridwidth": 2,
            "linecolor": "white",
            "showbackground": true,
            "ticks": "",
            "zerolinecolor": "white"
           }
          },
          "shapedefaults": {
           "line": {
            "color": "#2a3f5f"
           }
          },
          "ternary": {
           "aaxis": {
            "gridcolor": "white",
            "linecolor": "white",
            "ticks": ""
           },
           "baxis": {
            "gridcolor": "white",
            "linecolor": "white",
            "ticks": ""
           },
           "bgcolor": "#E5ECF6",
           "caxis": {
            "gridcolor": "white",
            "linecolor": "white",
            "ticks": ""
           }
          },
          "title": {
           "x": 0.05
          },
          "xaxis": {
           "automargin": true,
           "gridcolor": "white",
           "linecolor": "white",
           "ticks": "",
           "zerolinecolor": "white",
           "zerolinewidth": 2
          },
          "yaxis": {
           "automargin": true,
           "gridcolor": "white",
           "linecolor": "white",
           "ticks": "",
           "zerolinecolor": "white",
           "zerolinewidth": 2
          }
         }
        },
        "title": {
         "text": "NAV mensual IVE Etf"
        },
        "xaxis": {
         "title": {
          "text": "Meses"
         }
        },
        "yaxis": {
         "title": {
          "text": "Precios"
         }
        }
       }
      },
      "text/html": [
       "<div>\n",
       "        \n",
       "        \n",
       "            <div id=\"6ed0d228-f5eb-45f3-ac1d-e27d72bf5d61\" class=\"plotly-graph-div\" style=\"height:525px; width:100%;\"></div>\n",
       "            <script type=\"text/javascript\">\n",
       "                require([\"plotly\"], function(Plotly) {\n",
       "                    window.PLOTLYENV=window.PLOTLYENV || {};\n",
       "                    \n",
       "                if (document.getElementById(\"6ed0d228-f5eb-45f3-ac1d-e27d72bf5d61\")) {\n",
       "                    Plotly.newPlot(\n",
       "                        '6ed0d228-f5eb-45f3-ac1d-e27d72bf5d61',\n",
       "                        [{\"type\": \"scatter\", \"uid\": \"b016c737-e894-4a4f-abf2-2822e9a3f0d8\", \"x\": [\"Mar-17\", \"Abr-17\", \"May-17\", \"Jun-17\", \"Jul-17\", \"Ago-17\", \"Sept-17\", \"Oct-17\", \"Nov-17\", \"Dic-17\", \"Ene-18\", \"Feb-18\", \"Mar-18\"], \"y\": [100.26147445371994, 100.07596454136085, 98.30307095617718, 101.17725403913722, 102.41455900650979, 100.90740925252057, 103.6387123514539, 104.73627362798173, 108.14036142358731, 109.95018018331456, 114.34799803808816, 107.76191585885918, 105.19172162528041]}],\n",
       "                        {\"template\": {\"data\": {\"bar\": [{\"error_x\": {\"color\": \"#2a3f5f\"}, \"error_y\": {\"color\": \"#2a3f5f\"}, \"marker\": {\"line\": {\"color\": \"#E5ECF6\", \"width\": 0.5}}, \"type\": \"bar\"}], \"barpolar\": [{\"marker\": {\"line\": {\"color\": \"#E5ECF6\", \"width\": 0.5}}, \"type\": \"barpolar\"}], \"carpet\": [{\"aaxis\": {\"endlinecolor\": \"#2a3f5f\", \"gridcolor\": \"white\", \"linecolor\": \"white\", \"minorgridcolor\": \"white\", \"startlinecolor\": \"#2a3f5f\"}, \"baxis\": {\"endlinecolor\": \"#2a3f5f\", \"gridcolor\": \"white\", \"linecolor\": \"white\", \"minorgridcolor\": \"white\", \"startlinecolor\": \"#2a3f5f\"}, \"type\": \"carpet\"}], \"choropleth\": [{\"colorbar\": {\"outlinewidth\": 0, \"ticks\": \"\"}, \"type\": \"choropleth\"}], \"contour\": [{\"colorbar\": {\"outlinewidth\": 0, \"ticks\": \"\"}, \"colorscale\": [[0.0, \"#0d0887\"], [0.1111111111111111, \"#46039f\"], [0.2222222222222222, \"#7201a8\"], [0.3333333333333333, \"#9c179e\"], [0.4444444444444444, \"#bd3786\"], [0.5555555555555556, \"#d8576b\"], [0.6666666666666666, \"#ed7953\"], [0.7777777777777778, \"#fb9f3a\"], [0.8888888888888888, \"#fdca26\"], [1.0, \"#f0f921\"]], \"type\": \"contour\"}], \"contourcarpet\": [{\"colorbar\": {\"outlinewidth\": 0, \"ticks\": \"\"}, \"type\": \"contourcarpet\"}], \"heatmap\": [{\"colorbar\": {\"outlinewidth\": 0, \"ticks\": \"\"}, \"colorscale\": [[0.0, \"#0d0887\"], [0.1111111111111111, \"#46039f\"], [0.2222222222222222, \"#7201a8\"], [0.3333333333333333, \"#9c179e\"], [0.4444444444444444, \"#bd3786\"], [0.5555555555555556, \"#d8576b\"], [0.6666666666666666, \"#ed7953\"], [0.7777777777777778, \"#fb9f3a\"], [0.8888888888888888, \"#fdca26\"], [1.0, \"#f0f921\"]], \"type\": \"heatmap\"}], \"heatmapgl\": [{\"colorbar\": {\"outlinewidth\": 0, \"ticks\": \"\"}, \"colorscale\": [[0.0, \"#0d0887\"], [0.1111111111111111, \"#46039f\"], [0.2222222222222222, \"#7201a8\"], [0.3333333333333333, \"#9c179e\"], [0.4444444444444444, \"#bd3786\"], [0.5555555555555556, \"#d8576b\"], [0.6666666666666666, \"#ed7953\"], [0.7777777777777778, \"#fb9f3a\"], [0.8888888888888888, \"#fdca26\"], [1.0, \"#f0f921\"]], \"type\": \"heatmapgl\"}], \"histogram\": [{\"marker\": {\"colorbar\": {\"outlinewidth\": 0, \"ticks\": \"\"}}, \"type\": \"histogram\"}], \"histogram2d\": [{\"colorbar\": {\"outlinewidth\": 0, \"ticks\": \"\"}, \"colorscale\": [[0.0, \"#0d0887\"], [0.1111111111111111, \"#46039f\"], [0.2222222222222222, \"#7201a8\"], [0.3333333333333333, \"#9c179e\"], [0.4444444444444444, \"#bd3786\"], [0.5555555555555556, \"#d8576b\"], [0.6666666666666666, \"#ed7953\"], [0.7777777777777778, \"#fb9f3a\"], [0.8888888888888888, \"#fdca26\"], [1.0, \"#f0f921\"]], \"type\": \"histogram2d\"}], \"histogram2dcontour\": [{\"colorbar\": {\"outlinewidth\": 0, \"ticks\": \"\"}, \"colorscale\": [[0.0, \"#0d0887\"], [0.1111111111111111, \"#46039f\"], [0.2222222222222222, \"#7201a8\"], [0.3333333333333333, \"#9c179e\"], [0.4444444444444444, \"#bd3786\"], [0.5555555555555556, \"#d8576b\"], [0.6666666666666666, \"#ed7953\"], [0.7777777777777778, \"#fb9f3a\"], [0.8888888888888888, \"#fdca26\"], [1.0, \"#f0f921\"]], \"type\": \"histogram2dcontour\"}], \"mesh3d\": [{\"colorbar\": {\"outlinewidth\": 0, \"ticks\": \"\"}, \"type\": \"mesh3d\"}], \"parcoords\": [{\"line\": {\"colorbar\": {\"outlinewidth\": 0, \"ticks\": \"\"}}, \"type\": \"parcoords\"}], \"scatter\": [{\"marker\": {\"colorbar\": {\"outlinewidth\": 0, \"ticks\": \"\"}}, \"type\": \"scatter\"}], \"scatter3d\": [{\"line\": {\"colorbar\": {\"outlinewidth\": 0, \"ticks\": \"\"}}, \"marker\": {\"colorbar\": {\"outlinewidth\": 0, \"ticks\": \"\"}}, \"type\": \"scatter3d\"}], \"scattercarpet\": [{\"marker\": {\"colorbar\": {\"outlinewidth\": 0, \"ticks\": \"\"}}, \"type\": \"scattercarpet\"}], \"scattergeo\": [{\"marker\": {\"colorbar\": {\"outlinewidth\": 0, \"ticks\": \"\"}}, \"type\": \"scattergeo\"}], \"scattergl\": [{\"marker\": {\"colorbar\": {\"outlinewidth\": 0, \"ticks\": \"\"}}, \"type\": \"scattergl\"}], \"scattermapbox\": [{\"marker\": {\"colorbar\": {\"outlinewidth\": 0, \"ticks\": \"\"}}, \"type\": \"scattermapbox\"}], \"scatterpolar\": [{\"marker\": {\"colorbar\": {\"outlinewidth\": 0, \"ticks\": \"\"}}, \"type\": \"scatterpolar\"}], \"scatterpolargl\": [{\"marker\": {\"colorbar\": {\"outlinewidth\": 0, \"ticks\": \"\"}}, \"type\": \"scatterpolargl\"}], \"scatterternary\": [{\"marker\": {\"colorbar\": {\"outlinewidth\": 0, \"ticks\": \"\"}}, \"type\": \"scatterternary\"}], \"surface\": [{\"colorbar\": {\"outlinewidth\": 0, \"ticks\": \"\"}, \"colorscale\": [[0.0, \"#0d0887\"], [0.1111111111111111, \"#46039f\"], [0.2222222222222222, \"#7201a8\"], [0.3333333333333333, \"#9c179e\"], [0.4444444444444444, \"#bd3786\"], [0.5555555555555556, \"#d8576b\"], [0.6666666666666666, \"#ed7953\"], [0.7777777777777778, \"#fb9f3a\"], [0.8888888888888888, \"#fdca26\"], [1.0, \"#f0f921\"]], \"type\": \"surface\"}], \"table\": [{\"cells\": {\"fill\": {\"color\": \"#EBF0F8\"}, \"line\": {\"color\": \"white\"}}, \"header\": {\"fill\": {\"color\": \"#C8D4E3\"}, \"line\": {\"color\": \"white\"}}, \"type\": \"table\"}]}, \"layout\": {\"annotationdefaults\": {\"arrowcolor\": \"#2a3f5f\", \"arrowhead\": 0, \"arrowwidth\": 1}, \"colorscale\": {\"diverging\": [[0, \"#8e0152\"], [0.1, \"#c51b7d\"], [0.2, \"#de77ae\"], [0.3, \"#f1b6da\"], [0.4, \"#fde0ef\"], [0.5, \"#f7f7f7\"], [0.6, \"#e6f5d0\"], [0.7, \"#b8e186\"], [0.8, \"#7fbc41\"], [0.9, \"#4d9221\"], [1, \"#276419\"]], \"sequential\": [[0.0, \"#0d0887\"], [0.1111111111111111, \"#46039f\"], [0.2222222222222222, \"#7201a8\"], [0.3333333333333333, \"#9c179e\"], [0.4444444444444444, \"#bd3786\"], [0.5555555555555556, \"#d8576b\"], [0.6666666666666666, \"#ed7953\"], [0.7777777777777778, \"#fb9f3a\"], [0.8888888888888888, \"#fdca26\"], [1.0, \"#f0f921\"]], \"sequentialminus\": [[0.0, \"#0d0887\"], [0.1111111111111111, \"#46039f\"], [0.2222222222222222, \"#7201a8\"], [0.3333333333333333, \"#9c179e\"], [0.4444444444444444, \"#bd3786\"], [0.5555555555555556, \"#d8576b\"], [0.6666666666666666, \"#ed7953\"], [0.7777777777777778, \"#fb9f3a\"], [0.8888888888888888, \"#fdca26\"], [1.0, \"#f0f921\"]]}, \"colorway\": [\"#636efa\", \"#EF553B\", \"#00cc96\", \"#ab63fa\", \"#FFA15A\", \"#19d3f3\", \"#FF6692\", \"#B6E880\", \"#FF97FF\", \"#FECB52\"], \"font\": {\"color\": \"#2a3f5f\"}, \"geo\": {\"bgcolor\": \"white\", \"lakecolor\": \"white\", \"landcolor\": \"#E5ECF6\", \"showlakes\": true, \"showland\": true, \"subunitcolor\": \"white\"}, \"hoverlabel\": {\"align\": \"left\"}, \"hovermode\": \"closest\", \"mapbox\": {\"style\": \"light\"}, \"paper_bgcolor\": \"white\", \"plot_bgcolor\": \"#E5ECF6\", \"polar\": {\"angularaxis\": {\"gridcolor\": \"white\", \"linecolor\": \"white\", \"ticks\": \"\"}, \"bgcolor\": \"#E5ECF6\", \"radialaxis\": {\"gridcolor\": \"white\", \"linecolor\": \"white\", \"ticks\": \"\"}}, \"scene\": {\"xaxis\": {\"backgroundcolor\": \"#E5ECF6\", \"gridcolor\": \"white\", \"gridwidth\": 2, \"linecolor\": \"white\", \"showbackground\": true, \"ticks\": \"\", \"zerolinecolor\": \"white\"}, \"yaxis\": {\"backgroundcolor\": \"#E5ECF6\", \"gridcolor\": \"white\", \"gridwidth\": 2, \"linecolor\": \"white\", \"showbackground\": true, \"ticks\": \"\", \"zerolinecolor\": \"white\"}, \"zaxis\": {\"backgroundcolor\": \"#E5ECF6\", \"gridcolor\": \"white\", \"gridwidth\": 2, \"linecolor\": \"white\", \"showbackground\": true, \"ticks\": \"\", \"zerolinecolor\": \"white\"}}, \"shapedefaults\": {\"line\": {\"color\": \"#2a3f5f\"}}, \"ternary\": {\"aaxis\": {\"gridcolor\": \"white\", \"linecolor\": \"white\", \"ticks\": \"\"}, \"baxis\": {\"gridcolor\": \"white\", \"linecolor\": \"white\", \"ticks\": \"\"}, \"bgcolor\": \"#E5ECF6\", \"caxis\": {\"gridcolor\": \"white\", \"linecolor\": \"white\", \"ticks\": \"\"}}, \"title\": {\"x\": 0.05}, \"xaxis\": {\"automargin\": true, \"gridcolor\": \"white\", \"linecolor\": \"white\", \"ticks\": \"\", \"zerolinecolor\": \"white\", \"zerolinewidth\": 2}, \"yaxis\": {\"automargin\": true, \"gridcolor\": \"white\", \"linecolor\": \"white\", \"ticks\": \"\", \"zerolinecolor\": \"white\", \"zerolinewidth\": 2}}}, \"title\": {\"text\": \"NAV mensual IVE Etf\"}, \"xaxis\": {\"title\": {\"text\": \"Meses\"}}, \"yaxis\": {\"title\": {\"text\": \"Precios\"}}},\n",
       "                        {\"responsive\": true}\n",
       "                    ).then(function(){\n",
       "                            \n",
       "var gd = document.getElementById('6ed0d228-f5eb-45f3-ac1d-e27d72bf5d61');\n",
       "var x = new MutationObserver(function (mutations, observer) {{\n",
       "        var display = window.getComputedStyle(gd).display;\n",
       "        if (!display || display === 'none') {{\n",
       "            console.log([gd, 'removed!']);\n",
       "            Plotly.purge(gd);\n",
       "            observer.disconnect();\n",
       "        }}\n",
       "}});\n",
       "\n",
       "// Listen for the removal of the full notebook cells\n",
       "var notebookContainer = gd.closest('#notebook-container');\n",
       "if (notebookContainer) {{\n",
       "    x.observe(notebookContainer, {childList: true});\n",
       "}}\n",
       "\n",
       "// Listen for the clearing of the current output cell\n",
       "var outputEl = gd.closest('.output');\n",
       "if (outputEl) {{\n",
       "    x.observe(outputEl, {childList: true});\n",
       "}}\n",
       "\n",
       "                        })\n",
       "                };\n",
       "                });\n",
       "            </script>\n",
       "        </div>"
      ]
     },
     "metadata": {},
     "output_type": "display_data"
    }
   ],
   "source": [
    "fig = go.FigureWidget()\n",
    "fig.add_scatter(x=['Mar-17','Abr-17','May-17','Jun-17','Jul-17','Ago-17','Sept-17','Oct-17','Nov-17',\n",
    "                              'Dic-17','Ene-18','Feb-18','Mar-18'] ,y=nav_mensual)\n",
    "fig.layout.title = 'NAV mensual IVE Etf'\n",
    "fig.update_layout(xaxis=go.layout.XAxis(title=go.layout.xaxis.Title(text=\"Meses\")),\n",
    "                 yaxis=go.layout.YAxis(title=go.layout.yaxis.Title(text=\"Precios\")))\n",
    "fig.show()"
   ]
  },
  {
   "cell_type": "code",
   "execution_count": 64,
   "metadata": {
    "scrolled": true
   },
   "outputs": [
    {
     "data": {
      "application/vnd.plotly.v1+json": {
       "config": {
        "plotlyServerURL": "https://plot.ly"
       },
       "data": [
        {
         "type": "scatter",
         "uid": "4d2f62dd-9566-49f0-87db-9b1e46427ed5",
         "x": [
          "Abr-17",
          "May-17",
          "Jun-17",
          "Jul-17",
          "Ago-17",
          "Sept-17",
          "Oct-17",
          "Nov-17",
          "Dic-17",
          "Ene-18",
          "Feb-18",
          "Mar-18"
         ],
         "y": [
          -0.0018502611633217647,
          -0.017715478369943027,
          0.029237978579950363,
          0.012229082308301775,
          -0.014716167004082181,
          0.02706741872738272,
          0.010590263537874067,
          0.032501517169655436,
          0.016735830506781513,
          0.039998277833118046,
          -0.05759682978476999,
          -0.023850673153816948
         ]
        }
       ],
       "layout": {
        "template": {
         "data": {
          "bar": [
           {
            "error_x": {
             "color": "#2a3f5f"
            },
            "error_y": {
             "color": "#2a3f5f"
            },
            "marker": {
             "line": {
              "color": "#E5ECF6",
              "width": 0.5
             }
            },
            "type": "bar"
           }
          ],
          "barpolar": [
           {
            "marker": {
             "line": {
              "color": "#E5ECF6",
              "width": 0.5
             }
            },
            "type": "barpolar"
           }
          ],
          "carpet": [
           {
            "aaxis": {
             "endlinecolor": "#2a3f5f",
             "gridcolor": "white",
             "linecolor": "white",
             "minorgridcolor": "white",
             "startlinecolor": "#2a3f5f"
            },
            "baxis": {
             "endlinecolor": "#2a3f5f",
             "gridcolor": "white",
             "linecolor": "white",
             "minorgridcolor": "white",
             "startlinecolor": "#2a3f5f"
            },
            "type": "carpet"
           }
          ],
          "choropleth": [
           {
            "colorbar": {
             "outlinewidth": 0,
             "ticks": ""
            },
            "type": "choropleth"
           }
          ],
          "contour": [
           {
            "colorbar": {
             "outlinewidth": 0,
             "ticks": ""
            },
            "colorscale": [
             [
              0,
              "#0d0887"
             ],
             [
              0.1111111111111111,
              "#46039f"
             ],
             [
              0.2222222222222222,
              "#7201a8"
             ],
             [
              0.3333333333333333,
              "#9c179e"
             ],
             [
              0.4444444444444444,
              "#bd3786"
             ],
             [
              0.5555555555555556,
              "#d8576b"
             ],
             [
              0.6666666666666666,
              "#ed7953"
             ],
             [
              0.7777777777777778,
              "#fb9f3a"
             ],
             [
              0.8888888888888888,
              "#fdca26"
             ],
             [
              1,
              "#f0f921"
             ]
            ],
            "type": "contour"
           }
          ],
          "contourcarpet": [
           {
            "colorbar": {
             "outlinewidth": 0,
             "ticks": ""
            },
            "type": "contourcarpet"
           }
          ],
          "heatmap": [
           {
            "colorbar": {
             "outlinewidth": 0,
             "ticks": ""
            },
            "colorscale": [
             [
              0,
              "#0d0887"
             ],
             [
              0.1111111111111111,
              "#46039f"
             ],
             [
              0.2222222222222222,
              "#7201a8"
             ],
             [
              0.3333333333333333,
              "#9c179e"
             ],
             [
              0.4444444444444444,
              "#bd3786"
             ],
             [
              0.5555555555555556,
              "#d8576b"
             ],
             [
              0.6666666666666666,
              "#ed7953"
             ],
             [
              0.7777777777777778,
              "#fb9f3a"
             ],
             [
              0.8888888888888888,
              "#fdca26"
             ],
             [
              1,
              "#f0f921"
             ]
            ],
            "type": "heatmap"
           }
          ],
          "heatmapgl": [
           {
            "colorbar": {
             "outlinewidth": 0,
             "ticks": ""
            },
            "colorscale": [
             [
              0,
              "#0d0887"
             ],
             [
              0.1111111111111111,
              "#46039f"
             ],
             [
              0.2222222222222222,
              "#7201a8"
             ],
             [
              0.3333333333333333,
              "#9c179e"
             ],
             [
              0.4444444444444444,
              "#bd3786"
             ],
             [
              0.5555555555555556,
              "#d8576b"
             ],
             [
              0.6666666666666666,
              "#ed7953"
             ],
             [
              0.7777777777777778,
              "#fb9f3a"
             ],
             [
              0.8888888888888888,
              "#fdca26"
             ],
             [
              1,
              "#f0f921"
             ]
            ],
            "type": "heatmapgl"
           }
          ],
          "histogram": [
           {
            "marker": {
             "colorbar": {
              "outlinewidth": 0,
              "ticks": ""
             }
            },
            "type": "histogram"
           }
          ],
          "histogram2d": [
           {
            "colorbar": {
             "outlinewidth": 0,
             "ticks": ""
            },
            "colorscale": [
             [
              0,
              "#0d0887"
             ],
             [
              0.1111111111111111,
              "#46039f"
             ],
             [
              0.2222222222222222,
              "#7201a8"
             ],
             [
              0.3333333333333333,
              "#9c179e"
             ],
             [
              0.4444444444444444,
              "#bd3786"
             ],
             [
              0.5555555555555556,
              "#d8576b"
             ],
             [
              0.6666666666666666,
              "#ed7953"
             ],
             [
              0.7777777777777778,
              "#fb9f3a"
             ],
             [
              0.8888888888888888,
              "#fdca26"
             ],
             [
              1,
              "#f0f921"
             ]
            ],
            "type": "histogram2d"
           }
          ],
          "histogram2dcontour": [
           {
            "colorbar": {
             "outlinewidth": 0,
             "ticks": ""
            },
            "colorscale": [
             [
              0,
              "#0d0887"
             ],
             [
              0.1111111111111111,
              "#46039f"
             ],
             [
              0.2222222222222222,
              "#7201a8"
             ],
             [
              0.3333333333333333,
              "#9c179e"
             ],
             [
              0.4444444444444444,
              "#bd3786"
             ],
             [
              0.5555555555555556,
              "#d8576b"
             ],
             [
              0.6666666666666666,
              "#ed7953"
             ],
             [
              0.7777777777777778,
              "#fb9f3a"
             ],
             [
              0.8888888888888888,
              "#fdca26"
             ],
             [
              1,
              "#f0f921"
             ]
            ],
            "type": "histogram2dcontour"
           }
          ],
          "mesh3d": [
           {
            "colorbar": {
             "outlinewidth": 0,
             "ticks": ""
            },
            "type": "mesh3d"
           }
          ],
          "parcoords": [
           {
            "line": {
             "colorbar": {
              "outlinewidth": 0,
              "ticks": ""
             }
            },
            "type": "parcoords"
           }
          ],
          "scatter": [
           {
            "marker": {
             "colorbar": {
              "outlinewidth": 0,
              "ticks": ""
             }
            },
            "type": "scatter"
           }
          ],
          "scatter3d": [
           {
            "line": {
             "colorbar": {
              "outlinewidth": 0,
              "ticks": ""
             }
            },
            "marker": {
             "colorbar": {
              "outlinewidth": 0,
              "ticks": ""
             }
            },
            "type": "scatter3d"
           }
          ],
          "scattercarpet": [
           {
            "marker": {
             "colorbar": {
              "outlinewidth": 0,
              "ticks": ""
             }
            },
            "type": "scattercarpet"
           }
          ],
          "scattergeo": [
           {
            "marker": {
             "colorbar": {
              "outlinewidth": 0,
              "ticks": ""
             }
            },
            "type": "scattergeo"
           }
          ],
          "scattergl": [
           {
            "marker": {
             "colorbar": {
              "outlinewidth": 0,
              "ticks": ""
             }
            },
            "type": "scattergl"
           }
          ],
          "scattermapbox": [
           {
            "marker": {
             "colorbar": {
              "outlinewidth": 0,
              "ticks": ""
             }
            },
            "type": "scattermapbox"
           }
          ],
          "scatterpolar": [
           {
            "marker": {
             "colorbar": {
              "outlinewidth": 0,
              "ticks": ""
             }
            },
            "type": "scatterpolar"
           }
          ],
          "scatterpolargl": [
           {
            "marker": {
             "colorbar": {
              "outlinewidth": 0,
              "ticks": ""
             }
            },
            "type": "scatterpolargl"
           }
          ],
          "scatterternary": [
           {
            "marker": {
             "colorbar": {
              "outlinewidth": 0,
              "ticks": ""
             }
            },
            "type": "scatterternary"
           }
          ],
          "surface": [
           {
            "colorbar": {
             "outlinewidth": 0,
             "ticks": ""
            },
            "colorscale": [
             [
              0,
              "#0d0887"
             ],
             [
              0.1111111111111111,
              "#46039f"
             ],
             [
              0.2222222222222222,
              "#7201a8"
             ],
             [
              0.3333333333333333,
              "#9c179e"
             ],
             [
              0.4444444444444444,
              "#bd3786"
             ],
             [
              0.5555555555555556,
              "#d8576b"
             ],
             [
              0.6666666666666666,
              "#ed7953"
             ],
             [
              0.7777777777777778,
              "#fb9f3a"
             ],
             [
              0.8888888888888888,
              "#fdca26"
             ],
             [
              1,
              "#f0f921"
             ]
            ],
            "type": "surface"
           }
          ],
          "table": [
           {
            "cells": {
             "fill": {
              "color": "#EBF0F8"
             },
             "line": {
              "color": "white"
             }
            },
            "header": {
             "fill": {
              "color": "#C8D4E3"
             },
             "line": {
              "color": "white"
             }
            },
            "type": "table"
           }
          ]
         },
         "layout": {
          "annotationdefaults": {
           "arrowcolor": "#2a3f5f",
           "arrowhead": 0,
           "arrowwidth": 1
          },
          "colorscale": {
           "diverging": [
            [
             0,
             "#8e0152"
            ],
            [
             0.1,
             "#c51b7d"
            ],
            [
             0.2,
             "#de77ae"
            ],
            [
             0.3,
             "#f1b6da"
            ],
            [
             0.4,
             "#fde0ef"
            ],
            [
             0.5,
             "#f7f7f7"
            ],
            [
             0.6,
             "#e6f5d0"
            ],
            [
             0.7,
             "#b8e186"
            ],
            [
             0.8,
             "#7fbc41"
            ],
            [
             0.9,
             "#4d9221"
            ],
            [
             1,
             "#276419"
            ]
           ],
           "sequential": [
            [
             0,
             "#0d0887"
            ],
            [
             0.1111111111111111,
             "#46039f"
            ],
            [
             0.2222222222222222,
             "#7201a8"
            ],
            [
             0.3333333333333333,
             "#9c179e"
            ],
            [
             0.4444444444444444,
             "#bd3786"
            ],
            [
             0.5555555555555556,
             "#d8576b"
            ],
            [
             0.6666666666666666,
             "#ed7953"
            ],
            [
             0.7777777777777778,
             "#fb9f3a"
            ],
            [
             0.8888888888888888,
             "#fdca26"
            ],
            [
             1,
             "#f0f921"
            ]
           ],
           "sequentialminus": [
            [
             0,
             "#0d0887"
            ],
            [
             0.1111111111111111,
             "#46039f"
            ],
            [
             0.2222222222222222,
             "#7201a8"
            ],
            [
             0.3333333333333333,
             "#9c179e"
            ],
            [
             0.4444444444444444,
             "#bd3786"
            ],
            [
             0.5555555555555556,
             "#d8576b"
            ],
            [
             0.6666666666666666,
             "#ed7953"
            ],
            [
             0.7777777777777778,
             "#fb9f3a"
            ],
            [
             0.8888888888888888,
             "#fdca26"
            ],
            [
             1,
             "#f0f921"
            ]
           ]
          },
          "colorway": [
           "#636efa",
           "#EF553B",
           "#00cc96",
           "#ab63fa",
           "#FFA15A",
           "#19d3f3",
           "#FF6692",
           "#B6E880",
           "#FF97FF",
           "#FECB52"
          ],
          "font": {
           "color": "#2a3f5f"
          },
          "geo": {
           "bgcolor": "white",
           "lakecolor": "white",
           "landcolor": "#E5ECF6",
           "showlakes": true,
           "showland": true,
           "subunitcolor": "white"
          },
          "hoverlabel": {
           "align": "left"
          },
          "hovermode": "closest",
          "mapbox": {
           "style": "light"
          },
          "paper_bgcolor": "white",
          "plot_bgcolor": "#E5ECF6",
          "polar": {
           "angularaxis": {
            "gridcolor": "white",
            "linecolor": "white",
            "ticks": ""
           },
           "bgcolor": "#E5ECF6",
           "radialaxis": {
            "gridcolor": "white",
            "linecolor": "white",
            "ticks": ""
           }
          },
          "scene": {
           "xaxis": {
            "backgroundcolor": "#E5ECF6",
            "gridcolor": "white",
            "gridwidth": 2,
            "linecolor": "white",
            "showbackground": true,
            "ticks": "",
            "zerolinecolor": "white"
           },
           "yaxis": {
            "backgroundcolor": "#E5ECF6",
            "gridcolor": "white",
            "gridwidth": 2,
            "linecolor": "white",
            "showbackground": true,
            "ticks": "",
            "zerolinecolor": "white"
           },
           "zaxis": {
            "backgroundcolor": "#E5ECF6",
            "gridcolor": "white",
            "gridwidth": 2,
            "linecolor": "white",
            "showbackground": true,
            "ticks": "",
            "zerolinecolor": "white"
           }
          },
          "shapedefaults": {
           "line": {
            "color": "#2a3f5f"
           }
          },
          "ternary": {
           "aaxis": {
            "gridcolor": "white",
            "linecolor": "white",
            "ticks": ""
           },
           "baxis": {
            "gridcolor": "white",
            "linecolor": "white",
            "ticks": ""
           },
           "bgcolor": "#E5ECF6",
           "caxis": {
            "gridcolor": "white",
            "linecolor": "white",
            "ticks": ""
           }
          },
          "title": {
           "x": 0.05
          },
          "xaxis": {
           "automargin": true,
           "gridcolor": "white",
           "linecolor": "white",
           "ticks": "",
           "zerolinecolor": "white",
           "zerolinewidth": 2
          },
          "yaxis": {
           "automargin": true,
           "gridcolor": "white",
           "linecolor": "white",
           "ticks": "",
           "zerolinecolor": "white",
           "zerolinewidth": 2
          }
         }
        },
        "title": {
         "text": "Rendimiento mensual IVE Etf"
        },
        "xaxis": {
         "title": {
          "text": "Meses"
         }
        },
        "yaxis": {
         "title": {
          "text": "Rendimiento en decimal"
         }
        }
       }
      },
      "text/html": [
       "<div>\n",
       "        \n",
       "        \n",
       "            <div id=\"5910df1a-f1a4-42df-bc26-d59d7c325caa\" class=\"plotly-graph-div\" style=\"height:525px; width:100%;\"></div>\n",
       "            <script type=\"text/javascript\">\n",
       "                require([\"plotly\"], function(Plotly) {\n",
       "                    window.PLOTLYENV=window.PLOTLYENV || {};\n",
       "                    \n",
       "                if (document.getElementById(\"5910df1a-f1a4-42df-bc26-d59d7c325caa\")) {\n",
       "                    Plotly.newPlot(\n",
       "                        '5910df1a-f1a4-42df-bc26-d59d7c325caa',\n",
       "                        [{\"type\": \"scatter\", \"uid\": \"4d2f62dd-9566-49f0-87db-9b1e46427ed5\", \"x\": [\"Abr-17\", \"May-17\", \"Jun-17\", \"Jul-17\", \"Ago-17\", \"Sept-17\", \"Oct-17\", \"Nov-17\", \"Dic-17\", \"Ene-18\", \"Feb-18\", \"Mar-18\"], \"y\": [-0.0018502611633217647, -0.017715478369943027, 0.029237978579950363, 0.012229082308301775, -0.014716167004082181, 0.02706741872738272, 0.010590263537874067, 0.032501517169655436, 0.016735830506781513, 0.039998277833118046, -0.05759682978476999, -0.023850673153816948]}],\n",
       "                        {\"template\": {\"data\": {\"bar\": [{\"error_x\": {\"color\": \"#2a3f5f\"}, \"error_y\": {\"color\": \"#2a3f5f\"}, \"marker\": {\"line\": {\"color\": \"#E5ECF6\", \"width\": 0.5}}, \"type\": \"bar\"}], \"barpolar\": [{\"marker\": {\"line\": {\"color\": \"#E5ECF6\", \"width\": 0.5}}, \"type\": \"barpolar\"}], \"carpet\": [{\"aaxis\": {\"endlinecolor\": \"#2a3f5f\", \"gridcolor\": \"white\", \"linecolor\": \"white\", \"minorgridcolor\": \"white\", \"startlinecolor\": \"#2a3f5f\"}, \"baxis\": {\"endlinecolor\": \"#2a3f5f\", \"gridcolor\": \"white\", \"linecolor\": \"white\", \"minorgridcolor\": \"white\", \"startlinecolor\": \"#2a3f5f\"}, \"type\": \"carpet\"}], \"choropleth\": [{\"colorbar\": {\"outlinewidth\": 0, \"ticks\": \"\"}, \"type\": \"choropleth\"}], \"contour\": [{\"colorbar\": {\"outlinewidth\": 0, \"ticks\": \"\"}, \"colorscale\": [[0.0, \"#0d0887\"], [0.1111111111111111, \"#46039f\"], [0.2222222222222222, \"#7201a8\"], [0.3333333333333333, \"#9c179e\"], [0.4444444444444444, \"#bd3786\"], [0.5555555555555556, \"#d8576b\"], [0.6666666666666666, \"#ed7953\"], [0.7777777777777778, \"#fb9f3a\"], [0.8888888888888888, \"#fdca26\"], [1.0, \"#f0f921\"]], \"type\": \"contour\"}], \"contourcarpet\": [{\"colorbar\": {\"outlinewidth\": 0, \"ticks\": \"\"}, \"type\": \"contourcarpet\"}], \"heatmap\": [{\"colorbar\": {\"outlinewidth\": 0, \"ticks\": \"\"}, \"colorscale\": [[0.0, \"#0d0887\"], [0.1111111111111111, \"#46039f\"], [0.2222222222222222, \"#7201a8\"], [0.3333333333333333, \"#9c179e\"], [0.4444444444444444, \"#bd3786\"], [0.5555555555555556, \"#d8576b\"], [0.6666666666666666, \"#ed7953\"], [0.7777777777777778, \"#fb9f3a\"], [0.8888888888888888, \"#fdca26\"], [1.0, \"#f0f921\"]], \"type\": \"heatmap\"}], \"heatmapgl\": [{\"colorbar\": {\"outlinewidth\": 0, \"ticks\": \"\"}, \"colorscale\": [[0.0, \"#0d0887\"], [0.1111111111111111, \"#46039f\"], [0.2222222222222222, \"#7201a8\"], [0.3333333333333333, \"#9c179e\"], [0.4444444444444444, \"#bd3786\"], [0.5555555555555556, \"#d8576b\"], [0.6666666666666666, \"#ed7953\"], [0.7777777777777778, \"#fb9f3a\"], [0.8888888888888888, \"#fdca26\"], [1.0, \"#f0f921\"]], \"type\": \"heatmapgl\"}], \"histogram\": [{\"marker\": {\"colorbar\": {\"outlinewidth\": 0, \"ticks\": \"\"}}, \"type\": \"histogram\"}], \"histogram2d\": [{\"colorbar\": {\"outlinewidth\": 0, \"ticks\": \"\"}, \"colorscale\": [[0.0, \"#0d0887\"], [0.1111111111111111, \"#46039f\"], [0.2222222222222222, \"#7201a8\"], [0.3333333333333333, \"#9c179e\"], [0.4444444444444444, \"#bd3786\"], [0.5555555555555556, \"#d8576b\"], [0.6666666666666666, \"#ed7953\"], [0.7777777777777778, \"#fb9f3a\"], [0.8888888888888888, \"#fdca26\"], [1.0, \"#f0f921\"]], \"type\": \"histogram2d\"}], \"histogram2dcontour\": [{\"colorbar\": {\"outlinewidth\": 0, \"ticks\": \"\"}, \"colorscale\": [[0.0, \"#0d0887\"], [0.1111111111111111, \"#46039f\"], [0.2222222222222222, \"#7201a8\"], [0.3333333333333333, \"#9c179e\"], [0.4444444444444444, \"#bd3786\"], [0.5555555555555556, \"#d8576b\"], [0.6666666666666666, \"#ed7953\"], [0.7777777777777778, \"#fb9f3a\"], [0.8888888888888888, \"#fdca26\"], [1.0, \"#f0f921\"]], \"type\": \"histogram2dcontour\"}], \"mesh3d\": [{\"colorbar\": {\"outlinewidth\": 0, \"ticks\": \"\"}, \"type\": \"mesh3d\"}], \"parcoords\": [{\"line\": {\"colorbar\": {\"outlinewidth\": 0, \"ticks\": \"\"}}, \"type\": \"parcoords\"}], \"scatter\": [{\"marker\": {\"colorbar\": {\"outlinewidth\": 0, \"ticks\": \"\"}}, \"type\": \"scatter\"}], \"scatter3d\": [{\"line\": {\"colorbar\": {\"outlinewidth\": 0, \"ticks\": \"\"}}, \"marker\": {\"colorbar\": {\"outlinewidth\": 0, \"ticks\": \"\"}}, \"type\": \"scatter3d\"}], \"scattercarpet\": [{\"marker\": {\"colorbar\": {\"outlinewidth\": 0, \"ticks\": \"\"}}, \"type\": \"scattercarpet\"}], \"scattergeo\": [{\"marker\": {\"colorbar\": {\"outlinewidth\": 0, \"ticks\": \"\"}}, \"type\": \"scattergeo\"}], \"scattergl\": [{\"marker\": {\"colorbar\": {\"outlinewidth\": 0, \"ticks\": \"\"}}, \"type\": \"scattergl\"}], \"scattermapbox\": [{\"marker\": {\"colorbar\": {\"outlinewidth\": 0, \"ticks\": \"\"}}, \"type\": \"scattermapbox\"}], \"scatterpolar\": [{\"marker\": {\"colorbar\": {\"outlinewidth\": 0, \"ticks\": \"\"}}, \"type\": \"scatterpolar\"}], \"scatterpolargl\": [{\"marker\": {\"colorbar\": {\"outlinewidth\": 0, \"ticks\": \"\"}}, \"type\": \"scatterpolargl\"}], \"scatterternary\": [{\"marker\": {\"colorbar\": {\"outlinewidth\": 0, \"ticks\": \"\"}}, \"type\": \"scatterternary\"}], \"surface\": [{\"colorbar\": {\"outlinewidth\": 0, \"ticks\": \"\"}, \"colorscale\": [[0.0, \"#0d0887\"], [0.1111111111111111, \"#46039f\"], [0.2222222222222222, \"#7201a8\"], [0.3333333333333333, \"#9c179e\"], [0.4444444444444444, \"#bd3786\"], [0.5555555555555556, \"#d8576b\"], [0.6666666666666666, \"#ed7953\"], [0.7777777777777778, \"#fb9f3a\"], [0.8888888888888888, \"#fdca26\"], [1.0, \"#f0f921\"]], \"type\": \"surface\"}], \"table\": [{\"cells\": {\"fill\": {\"color\": \"#EBF0F8\"}, \"line\": {\"color\": \"white\"}}, \"header\": {\"fill\": {\"color\": \"#C8D4E3\"}, \"line\": {\"color\": \"white\"}}, \"type\": \"table\"}]}, \"layout\": {\"annotationdefaults\": {\"arrowcolor\": \"#2a3f5f\", \"arrowhead\": 0, \"arrowwidth\": 1}, \"colorscale\": {\"diverging\": [[0, \"#8e0152\"], [0.1, \"#c51b7d\"], [0.2, \"#de77ae\"], [0.3, \"#f1b6da\"], [0.4, \"#fde0ef\"], [0.5, \"#f7f7f7\"], [0.6, \"#e6f5d0\"], [0.7, \"#b8e186\"], [0.8, \"#7fbc41\"], [0.9, \"#4d9221\"], [1, \"#276419\"]], \"sequential\": [[0.0, \"#0d0887\"], [0.1111111111111111, \"#46039f\"], [0.2222222222222222, \"#7201a8\"], [0.3333333333333333, \"#9c179e\"], [0.4444444444444444, \"#bd3786\"], [0.5555555555555556, \"#d8576b\"], [0.6666666666666666, \"#ed7953\"], [0.7777777777777778, \"#fb9f3a\"], [0.8888888888888888, \"#fdca26\"], [1.0, \"#f0f921\"]], \"sequentialminus\": [[0.0, \"#0d0887\"], [0.1111111111111111, \"#46039f\"], [0.2222222222222222, \"#7201a8\"], [0.3333333333333333, \"#9c179e\"], [0.4444444444444444, \"#bd3786\"], [0.5555555555555556, \"#d8576b\"], [0.6666666666666666, \"#ed7953\"], [0.7777777777777778, \"#fb9f3a\"], [0.8888888888888888, \"#fdca26\"], [1.0, \"#f0f921\"]]}, \"colorway\": [\"#636efa\", \"#EF553B\", \"#00cc96\", \"#ab63fa\", \"#FFA15A\", \"#19d3f3\", \"#FF6692\", \"#B6E880\", \"#FF97FF\", \"#FECB52\"], \"font\": {\"color\": \"#2a3f5f\"}, \"geo\": {\"bgcolor\": \"white\", \"lakecolor\": \"white\", \"landcolor\": \"#E5ECF6\", \"showlakes\": true, \"showland\": true, \"subunitcolor\": \"white\"}, \"hoverlabel\": {\"align\": \"left\"}, \"hovermode\": \"closest\", \"mapbox\": {\"style\": \"light\"}, \"paper_bgcolor\": \"white\", \"plot_bgcolor\": \"#E5ECF6\", \"polar\": {\"angularaxis\": {\"gridcolor\": \"white\", \"linecolor\": \"white\", \"ticks\": \"\"}, \"bgcolor\": \"#E5ECF6\", \"radialaxis\": {\"gridcolor\": \"white\", \"linecolor\": \"white\", \"ticks\": \"\"}}, \"scene\": {\"xaxis\": {\"backgroundcolor\": \"#E5ECF6\", \"gridcolor\": \"white\", \"gridwidth\": 2, \"linecolor\": \"white\", \"showbackground\": true, \"ticks\": \"\", \"zerolinecolor\": \"white\"}, \"yaxis\": {\"backgroundcolor\": \"#E5ECF6\", \"gridcolor\": \"white\", \"gridwidth\": 2, \"linecolor\": \"white\", \"showbackground\": true, \"ticks\": \"\", \"zerolinecolor\": \"white\"}, \"zaxis\": {\"backgroundcolor\": \"#E5ECF6\", \"gridcolor\": \"white\", \"gridwidth\": 2, \"linecolor\": \"white\", \"showbackground\": true, \"ticks\": \"\", \"zerolinecolor\": \"white\"}}, \"shapedefaults\": {\"line\": {\"color\": \"#2a3f5f\"}}, \"ternary\": {\"aaxis\": {\"gridcolor\": \"white\", \"linecolor\": \"white\", \"ticks\": \"\"}, \"baxis\": {\"gridcolor\": \"white\", \"linecolor\": \"white\", \"ticks\": \"\"}, \"bgcolor\": \"#E5ECF6\", \"caxis\": {\"gridcolor\": \"white\", \"linecolor\": \"white\", \"ticks\": \"\"}}, \"title\": {\"x\": 0.05}, \"xaxis\": {\"automargin\": true, \"gridcolor\": \"white\", \"linecolor\": \"white\", \"ticks\": \"\", \"zerolinecolor\": \"white\", \"zerolinewidth\": 2}, \"yaxis\": {\"automargin\": true, \"gridcolor\": \"white\", \"linecolor\": \"white\", \"ticks\": \"\", \"zerolinecolor\": \"white\", \"zerolinewidth\": 2}}}, \"title\": {\"text\": \"Rendimiento mensual IVE Etf\"}, \"xaxis\": {\"title\": {\"text\": \"Meses\"}}, \"yaxis\": {\"title\": {\"text\": \"Rendimiento en decimal\"}}},\n",
       "                        {\"responsive\": true}\n",
       "                    ).then(function(){\n",
       "                            \n",
       "var gd = document.getElementById('5910df1a-f1a4-42df-bc26-d59d7c325caa');\n",
       "var x = new MutationObserver(function (mutations, observer) {{\n",
       "        var display = window.getComputedStyle(gd).display;\n",
       "        if (!display || display === 'none') {{\n",
       "            console.log([gd, 'removed!']);\n",
       "            Plotly.purge(gd);\n",
       "            observer.disconnect();\n",
       "        }}\n",
       "}});\n",
       "\n",
       "// Listen for the removal of the full notebook cells\n",
       "var notebookContainer = gd.closest('#notebook-container');\n",
       "if (notebookContainer) {{\n",
       "    x.observe(notebookContainer, {childList: true});\n",
       "}}\n",
       "\n",
       "// Listen for the clearing of the current output cell\n",
       "var outputEl = gd.closest('.output');\n",
       "if (outputEl) {{\n",
       "    x.observe(outputEl, {childList: true});\n",
       "}}\n",
       "\n",
       "                        })\n",
       "                };\n",
       "                });\n",
       "            </script>\n",
       "        </div>"
      ]
     },
     "metadata": {},
     "output_type": "display_data"
    }
   ],
   "source": [
    "fig = go.FigureWidget()\n",
    "fig.add_scatter(x=['Abr-17','May-17','Jun-17','Jul-17','Ago-17','Sept-17','Oct-17','Nov-17',\n",
    "                              'Dic-17','Ene-18','Feb-18','Mar-18'] ,y=rend_etf_mensual)\n",
    "fig.layout.title = 'Rendimiento mensual IVE Etf'\n",
    "fig.update_layout(xaxis=go.layout.XAxis(title=go.layout.xaxis.Title(text=\"Meses\")),\n",
    "                 yaxis=go.layout.YAxis(title=go.layout.yaxis.Title(text=\"Rendimiento en decimal\")))\n",
    "fig.show()"
   ]
  },
  {
   "cell_type": "markdown",
   "metadata": {},
   "source": [
    "#### Cálculo del NAV diario con distintos escenarios"
   ]
  },
  {
   "cell_type": "markdown",
   "metadata": {},
   "source": [
    "Se analizan diferentes escenarios del etf:\n",
    "\n",
    " * No hay rebalanceos, el etf inicial es el que tendremos hasta fin de año, sólo se ve afectado por los precios.\n",
    " * Sí hay rebalanceos, se parte desde el mes inicial y posteriormente se hace un rebalanceo por año; así con los 12 meses:\n",
    "     * Combinaciones: [1,2], [1,3], [1,4]..."
   ]
  },
  {
   "cell_type": "markdown",
   "metadata": {},
   "source": [
    "Fechas a tomar en cuenta:"
   ]
  },
  {
   "cell_type": "code",
   "execution_count": 22,
   "metadata": {},
   "outputs": [],
   "source": [
    "dates = ['2017-04','2017-05','2017-06','2017-07','2017-08','2017-09','2017-10','2017-11','2017-12','2018-01',\n",
    "         '2018-02','2018-03','2018-04']"
   ]
  },
  {
   "cell_type": "markdown",
   "metadata": {},
   "source": [
    "Función para calcular el rendimiento mensual y la desviación estándar del etf por mes."
   ]
  },
  {
   "cell_type": "code",
   "execution_count": 23,
   "metadata": {},
   "outputs": [],
   "source": [
    "# La variable tickers_Nmes debe ser ingresada como una lista.\n",
    "# La variable meses debe ser ingresada como una lista anidada, la principal deberá ser de la longitud de la variable tickers_Nmes\n",
    "def nav_quandl(tickers_Nmes, meses):\n",
    "    monthly_shares_df = []\n",
    "    nav_diario = []\n",
    "    desv_est = []\n",
    "    rend_mensual = []\n",
    "    etf_data = []\n",
    "    shares_out = []\n",
    "    for i in (tickers_Nmes):\n",
    "        shares = [s2f(final_etf_data[i].iloc[j,4]) for j in range(len(final_etf_data[i].iloc[:,4]))]\n",
    "        shares_df = pd.DataFrame(shares,columns=['shares'])\n",
    "        monthly_shares_df.append(shares_df)\n",
    "        etf_data.append(final_etf_data[i])\n",
    "        shares_out.append(etf_shares[i])\n",
    "    for i in range(len(tickers_Nmes)):\n",
    "        for j in range(len(meses[i])-1):\n",
    "            nav_diario = np.dot(stock_prices.loc[:,etf_data[i].index.values]\n",
    "                                [np.logical_and(stock_prices.index >= np.datetime64(meses[i][j]),\n",
    "                                                stock_prices.index < np.datetime64(meses[i][j+1]))],monthly_shares_df[i])/shares_out[i]\n",
    "            desv_est.append(np.std(nav_diario))\n",
    "            rend_mensual.append(float(((nav_diario[-1]/nav_diario[0])-1)))\n",
    "    return rend_mensual, desv_est"
   ]
  },
  {
   "cell_type": "markdown",
   "metadata": {},
   "source": [
    "Obteniendo las combinaciones posibles."
   ]
  },
  {
   "cell_type": "code",
   "execution_count": 24,
   "metadata": {},
   "outputs": [],
   "source": [
    "rend = []\n",
    "desv_std = []\n",
    "for i in range(2,len(dates)):\n",
    "    x,y = nav_quandl([1,i],[dates[:i],dates[i-1::]])\n",
    "    rend.append(x)\n",
    "    desv_std.append(y)\n",
    "\n",
    "r1, s1 = nav_quandl([1],[dates])\n",
    "rend.insert(0,r1)\n",
    "desv_std.insert(0,s1)"
   ]
  },
  {
   "cell_type": "markdown",
   "metadata": {},
   "source": [
    "Lo que nos interesa del siguiente bloque es calcular la desviación estándar/riesgo del etf original."
   ]
  },
  {
   "cell_type": "code",
   "execution_count": 25,
   "metadata": {},
   "outputs": [],
   "source": [
    "ignore, desv_original_etf = nav_quandl(list(np.arange(1,13)),[['2017-04','2017-05'],['2017-05','2017-06'],['2017-06','2017-07'],\n",
    "                                                          ['2017-07','2017-08'],['2017-08','2017-09'],['2017-09','2017-10'],\n",
    "                                                          ['2017-10','2017-11'],['2017-11','2017-12'],['2017-12','2018-01'],\n",
    "                                                          ['2018-01','2018-02'],['2018-02','2018-03'],['2018-03','2018-04']])"
   ]
  },
  {
   "cell_type": "markdown",
   "metadata": {},
   "source": [
    "## Medidas del desempeño"
   ]
  },
  {
   "cell_type": "markdown",
   "metadata": {},
   "source": [
    "### Comparación de rendimientos"
   ]
  },
  {
   "cell_type": "code",
   "execution_count": 125,
   "metadata": {
    "scrolled": false
   },
   "outputs": [
    {
     "data": {
      "text/html": [
       "<div>\n",
       "<style scoped>\n",
       "    .dataframe tbody tr th:only-of-type {\n",
       "        vertical-align: middle;\n",
       "    }\n",
       "\n",
       "    .dataframe tbody tr th {\n",
       "        vertical-align: top;\n",
       "    }\n",
       "\n",
       "    .dataframe thead th {\n",
       "        text-align: right;\n",
       "    }\n",
       "</style>\n",
       "<table border=\"1\" class=\"dataframe\">\n",
       "  <thead>\n",
       "    <tr style=\"text-align: right;\">\n",
       "      <th></th>\n",
       "      <th>Original iShares</th>\n",
       "      <th>Caso 1</th>\n",
       "      <th>Caso 2</th>\n",
       "      <th>Caso 3</th>\n",
       "      <th>Caso 4</th>\n",
       "      <th>Caso 5</th>\n",
       "      <th>Caso 6</th>\n",
       "      <th>Caso 7</th>\n",
       "      <th>Caso 8</th>\n",
       "      <th>Caso 9</th>\n",
       "      <th>Caso 10</th>\n",
       "      <th>Caso 11</th>\n",
       "      <th>Caso 12</th>\n",
       "    </tr>\n",
       "  </thead>\n",
       "  <tbody>\n",
       "    <tr>\n",
       "      <th>2017-04</th>\n",
       "      <td>-0.0019</td>\n",
       "      <td>0.0006</td>\n",
       "      <td>0.0006</td>\n",
       "      <td>0.0006</td>\n",
       "      <td>0.0006</td>\n",
       "      <td>0.0006</td>\n",
       "      <td>0.0006</td>\n",
       "      <td>0.0006</td>\n",
       "      <td>0.0006</td>\n",
       "      <td>0.0006</td>\n",
       "      <td>0.0006</td>\n",
       "      <td>0.0006</td>\n",
       "      <td>0.0006</td>\n",
       "    </tr>\n",
       "    <tr>\n",
       "      <th>2017-05</th>\n",
       "      <td>-0.0177</td>\n",
       "      <td>-0.0069</td>\n",
       "      <td>-0.0076</td>\n",
       "      <td>-0.0069</td>\n",
       "      <td>-0.0069</td>\n",
       "      <td>-0.0069</td>\n",
       "      <td>-0.0069</td>\n",
       "      <td>-0.0069</td>\n",
       "      <td>-0.0069</td>\n",
       "      <td>-0.0069</td>\n",
       "      <td>-0.0069</td>\n",
       "      <td>-0.0069</td>\n",
       "      <td>-0.0069</td>\n",
       "    </tr>\n",
       "    <tr>\n",
       "      <th>2017-06</th>\n",
       "      <td>0.0292</td>\n",
       "      <td>0.0024</td>\n",
       "      <td>0.0024</td>\n",
       "      <td>0.0093</td>\n",
       "      <td>0.0024</td>\n",
       "      <td>0.0024</td>\n",
       "      <td>0.0024</td>\n",
       "      <td>0.0024</td>\n",
       "      <td>0.0024</td>\n",
       "      <td>0.0024</td>\n",
       "      <td>0.0024</td>\n",
       "      <td>0.0024</td>\n",
       "      <td>0.0024</td>\n",
       "    </tr>\n",
       "    <tr>\n",
       "      <th>2017-07</th>\n",
       "      <td>0.0122</td>\n",
       "      <td>0.0014</td>\n",
       "      <td>0.0014</td>\n",
       "      <td>0.0013</td>\n",
       "      <td>0.0048</td>\n",
       "      <td>0.0014</td>\n",
       "      <td>0.0014</td>\n",
       "      <td>0.0014</td>\n",
       "      <td>0.0014</td>\n",
       "      <td>0.0014</td>\n",
       "      <td>0.0014</td>\n",
       "      <td>0.0014</td>\n",
       "      <td>0.0014</td>\n",
       "    </tr>\n",
       "    <tr>\n",
       "      <th>2017-08</th>\n",
       "      <td>-0.0147</td>\n",
       "      <td>-0.0217</td>\n",
       "      <td>-0.0217</td>\n",
       "      <td>-0.0218</td>\n",
       "      <td>-0.0217</td>\n",
       "      <td>-0.0175</td>\n",
       "      <td>-0.0217</td>\n",
       "      <td>-0.0217</td>\n",
       "      <td>-0.0217</td>\n",
       "      <td>-0.0217</td>\n",
       "      <td>-0.0217</td>\n",
       "      <td>-0.0217</td>\n",
       "      <td>-0.0217</td>\n",
       "    </tr>\n",
       "    <tr>\n",
       "      <th>2017-09</th>\n",
       "      <td>0.0271</td>\n",
       "      <td>0.0266</td>\n",
       "      <td>0.0266</td>\n",
       "      <td>0.0264</td>\n",
       "      <td>0.0264</td>\n",
       "      <td>0.0264</td>\n",
       "      <td>0.0262</td>\n",
       "      <td>0.0266</td>\n",
       "      <td>0.0266</td>\n",
       "      <td>0.0266</td>\n",
       "      <td>0.0266</td>\n",
       "      <td>0.0266</td>\n",
       "      <td>0.0266</td>\n",
       "    </tr>\n",
       "    <tr>\n",
       "      <th>2017-10</th>\n",
       "      <td>0.0106</td>\n",
       "      <td>0.0027</td>\n",
       "      <td>0.0027</td>\n",
       "      <td>0.0029</td>\n",
       "      <td>0.0029</td>\n",
       "      <td>0.0030</td>\n",
       "      <td>0.0034</td>\n",
       "      <td>0.0047</td>\n",
       "      <td>0.0027</td>\n",
       "      <td>0.0027</td>\n",
       "      <td>0.0027</td>\n",
       "      <td>0.0027</td>\n",
       "      <td>0.0027</td>\n",
       "    </tr>\n",
       "    <tr>\n",
       "      <th>2017-11</th>\n",
       "      <td>0.0325</td>\n",
       "      <td>0.0236</td>\n",
       "      <td>0.0236</td>\n",
       "      <td>0.0236</td>\n",
       "      <td>0.0237</td>\n",
       "      <td>0.0235</td>\n",
       "      <td>0.0226</td>\n",
       "      <td>0.0225</td>\n",
       "      <td>0.0224</td>\n",
       "      <td>0.0236</td>\n",
       "      <td>0.0236</td>\n",
       "      <td>0.0236</td>\n",
       "      <td>0.0236</td>\n",
       "    </tr>\n",
       "    <tr>\n",
       "      <th>2017-12</th>\n",
       "      <td>0.0167</td>\n",
       "      <td>0.0113</td>\n",
       "      <td>0.0113</td>\n",
       "      <td>0.0113</td>\n",
       "      <td>0.0113</td>\n",
       "      <td>0.0114</td>\n",
       "      <td>0.0111</td>\n",
       "      <td>0.0112</td>\n",
       "      <td>0.0112</td>\n",
       "      <td>0.0152</td>\n",
       "      <td>0.0113</td>\n",
       "      <td>0.0113</td>\n",
       "      <td>0.0113</td>\n",
       "    </tr>\n",
       "    <tr>\n",
       "      <th>2018-01</th>\n",
       "      <td>0.0400</td>\n",
       "      <td>0.0355</td>\n",
       "      <td>0.0355</td>\n",
       "      <td>0.0353</td>\n",
       "      <td>0.0354</td>\n",
       "      <td>0.0353</td>\n",
       "      <td>0.0355</td>\n",
       "      <td>0.0355</td>\n",
       "      <td>0.0355</td>\n",
       "      <td>0.0313</td>\n",
       "      <td>0.0313</td>\n",
       "      <td>0.0355</td>\n",
       "      <td>0.0355</td>\n",
       "    </tr>\n",
       "    <tr>\n",
       "      <th>2018-02</th>\n",
       "      <td>-0.0576</td>\n",
       "      <td>-0.0532</td>\n",
       "      <td>-0.0531</td>\n",
       "      <td>-0.0530</td>\n",
       "      <td>-0.0531</td>\n",
       "      <td>-0.0534</td>\n",
       "      <td>-0.0532</td>\n",
       "      <td>-0.0531</td>\n",
       "      <td>-0.0531</td>\n",
       "      <td>-0.0610</td>\n",
       "      <td>-0.0610</td>\n",
       "      <td>-0.0592</td>\n",
       "      <td>-0.0532</td>\n",
       "    </tr>\n",
       "    <tr>\n",
       "      <th>2018-03</th>\n",
       "      <td>-0.0239</td>\n",
       "      <td>-0.0333</td>\n",
       "      <td>-0.0333</td>\n",
       "      <td>-0.0317</td>\n",
       "      <td>-0.0309</td>\n",
       "      <td>-0.0302</td>\n",
       "      <td>-0.0309</td>\n",
       "      <td>-0.0309</td>\n",
       "      <td>-0.0309</td>\n",
       "      <td>-0.0249</td>\n",
       "      <td>-0.0249</td>\n",
       "      <td>-0.0230</td>\n",
       "      <td>-0.0238</td>\n",
       "    </tr>\n",
       "  </tbody>\n",
       "</table>\n",
       "</div>"
      ],
      "text/plain": [
       "         Original iShares  Caso 1  Caso 2  Caso 3  Caso 4  Caso 5  Caso 6  \\\n",
       "2017-04           -0.0019  0.0006  0.0006  0.0006  0.0006  0.0006  0.0006   \n",
       "2017-05           -0.0177 -0.0069 -0.0076 -0.0069 -0.0069 -0.0069 -0.0069   \n",
       "2017-06            0.0292  0.0024  0.0024  0.0093  0.0024  0.0024  0.0024   \n",
       "2017-07            0.0122  0.0014  0.0014  0.0013  0.0048  0.0014  0.0014   \n",
       "2017-08           -0.0147 -0.0217 -0.0217 -0.0218 -0.0217 -0.0175 -0.0217   \n",
       "2017-09            0.0271  0.0266  0.0266  0.0264  0.0264  0.0264  0.0262   \n",
       "2017-10            0.0106  0.0027  0.0027  0.0029  0.0029  0.0030  0.0034   \n",
       "2017-11            0.0325  0.0236  0.0236  0.0236  0.0237  0.0235  0.0226   \n",
       "2017-12            0.0167  0.0113  0.0113  0.0113  0.0113  0.0114  0.0111   \n",
       "2018-01            0.0400  0.0355  0.0355  0.0353  0.0354  0.0353  0.0355   \n",
       "2018-02           -0.0576 -0.0532 -0.0531 -0.0530 -0.0531 -0.0534 -0.0532   \n",
       "2018-03           -0.0239 -0.0333 -0.0333 -0.0317 -0.0309 -0.0302 -0.0309   \n",
       "\n",
       "         Caso 7  Caso 8  Caso 9  Caso 10  Caso 11  Caso 12  \n",
       "2017-04  0.0006  0.0006  0.0006   0.0006   0.0006   0.0006  \n",
       "2017-05 -0.0069 -0.0069 -0.0069  -0.0069  -0.0069  -0.0069  \n",
       "2017-06  0.0024  0.0024  0.0024   0.0024   0.0024   0.0024  \n",
       "2017-07  0.0014  0.0014  0.0014   0.0014   0.0014   0.0014  \n",
       "2017-08 -0.0217 -0.0217 -0.0217  -0.0217  -0.0217  -0.0217  \n",
       "2017-09  0.0266  0.0266  0.0266   0.0266   0.0266   0.0266  \n",
       "2017-10  0.0047  0.0027  0.0027   0.0027   0.0027   0.0027  \n",
       "2017-11  0.0225  0.0224  0.0236   0.0236   0.0236   0.0236  \n",
       "2017-12  0.0112  0.0112  0.0152   0.0113   0.0113   0.0113  \n",
       "2018-01  0.0355  0.0355  0.0313   0.0313   0.0355   0.0355  \n",
       "2018-02 -0.0531 -0.0531 -0.0610  -0.0610  -0.0592  -0.0532  \n",
       "2018-03 -0.0309 -0.0309 -0.0249  -0.0249  -0.0230  -0.0238  "
      ]
     },
     "execution_count": 125,
     "metadata": {},
     "output_type": "execute_result"
    }
   ],
   "source": [
    "r_dates = dates[:-1]\n",
    "colmns = ['Caso '+str(i) for i in range(1,len(rend)+1)]\n",
    "colmns.insert(0, \"Original iShares\")\n",
    "rend_table = pd.DataFrame(index=r_dates, columns=colmns)\n",
    "rend_table['Original iShares'] = rend_etf_mensual\n",
    "for i in colmns[1::]:\n",
    "    case = colmns[1::].index(i)\n",
    "    rend_table[i] = rend[case]\n",
    "pd.set_option('precision', 4)\n",
    "rend_table"
   ]
  },
  {
   "cell_type": "markdown",
   "metadata": {},
   "source": [
    "### Comparación de desviaciones estándar"
   ]
  },
  {
   "cell_type": "code",
   "execution_count": 126,
   "metadata": {
    "scrolled": true
   },
   "outputs": [
    {
     "data": {
      "text/html": [
       "<div>\n",
       "<style scoped>\n",
       "    .dataframe tbody tr th:only-of-type {\n",
       "        vertical-align: middle;\n",
       "    }\n",
       "\n",
       "    .dataframe tbody tr th {\n",
       "        vertical-align: top;\n",
       "    }\n",
       "\n",
       "    .dataframe thead th {\n",
       "        text-align: right;\n",
       "    }\n",
       "</style>\n",
       "<table border=\"1\" class=\"dataframe\">\n",
       "  <thead>\n",
       "    <tr style=\"text-align: right;\">\n",
       "      <th></th>\n",
       "      <th>Original iShares</th>\n",
       "      <th>Caso 1</th>\n",
       "      <th>Caso 2</th>\n",
       "      <th>Caso 3</th>\n",
       "      <th>Caso 4</th>\n",
       "      <th>Caso 5</th>\n",
       "      <th>Caso 6</th>\n",
       "      <th>Caso 7</th>\n",
       "      <th>Caso 8</th>\n",
       "      <th>Caso 9</th>\n",
       "      <th>Caso 10</th>\n",
       "      <th>Caso 11</th>\n",
       "      <th>Caso 12</th>\n",
       "    </tr>\n",
       "  </thead>\n",
       "  <tbody>\n",
       "    <tr>\n",
       "      <th>2017-04</th>\n",
       "      <td>21.6854</td>\n",
       "      <td>21.6854</td>\n",
       "      <td>21.6854</td>\n",
       "      <td>21.6854</td>\n",
       "      <td>21.6854</td>\n",
       "      <td>21.6854</td>\n",
       "      <td>21.6854</td>\n",
       "      <td>21.6854</td>\n",
       "      <td>21.6854</td>\n",
       "      <td>21.6854</td>\n",
       "      <td>21.6854</td>\n",
       "      <td>21.6854</td>\n",
       "      <td>21.6854</td>\n",
       "    </tr>\n",
       "    <tr>\n",
       "      <th>2017-05</th>\n",
       "      <td>0.6488</td>\n",
       "      <td>0.6281</td>\n",
       "      <td>0.6488</td>\n",
       "      <td>0.6281</td>\n",
       "      <td>0.6281</td>\n",
       "      <td>0.6281</td>\n",
       "      <td>0.6281</td>\n",
       "      <td>0.6281</td>\n",
       "      <td>0.6281</td>\n",
       "      <td>0.6281</td>\n",
       "      <td>0.6281</td>\n",
       "      <td>0.6281</td>\n",
       "      <td>0.6281</td>\n",
       "    </tr>\n",
       "    <tr>\n",
       "      <th>2017-06</th>\n",
       "      <td>0.5736</td>\n",
       "      <td>0.5782</td>\n",
       "      <td>0.5716</td>\n",
       "      <td>0.5736</td>\n",
       "      <td>0.5782</td>\n",
       "      <td>0.5782</td>\n",
       "      <td>0.5782</td>\n",
       "      <td>0.5782</td>\n",
       "      <td>0.5782</td>\n",
       "      <td>0.5782</td>\n",
       "      <td>0.5782</td>\n",
       "      <td>0.5782</td>\n",
       "      <td>0.5782</td>\n",
       "    </tr>\n",
       "    <tr>\n",
       "      <th>2017-07</th>\n",
       "      <td>0.4664</td>\n",
       "      <td>0.4597</td>\n",
       "      <td>0.4547</td>\n",
       "      <td>0.4612</td>\n",
       "      <td>0.4664</td>\n",
       "      <td>0.4597</td>\n",
       "      <td>0.4597</td>\n",
       "      <td>0.4597</td>\n",
       "      <td>0.4597</td>\n",
       "      <td>0.4597</td>\n",
       "      <td>0.4597</td>\n",
       "      <td>0.4597</td>\n",
       "      <td>0.4597</td>\n",
       "    </tr>\n",
       "    <tr>\n",
       "      <th>2017-08</th>\n",
       "      <td>0.9406</td>\n",
       "      <td>0.9954</td>\n",
       "      <td>0.9848</td>\n",
       "      <td>1.0007</td>\n",
       "      <td>1.0035</td>\n",
       "      <td>0.9406</td>\n",
       "      <td>0.9954</td>\n",
       "      <td>0.9954</td>\n",
       "      <td>0.9954</td>\n",
       "      <td>0.9954</td>\n",
       "      <td>0.9954</td>\n",
       "      <td>0.9954</td>\n",
       "      <td>0.9954</td>\n",
       "    </tr>\n",
       "    <tr>\n",
       "      <th>2017-09</th>\n",
       "      <td>1.1385</td>\n",
       "      <td>1.1035</td>\n",
       "      <td>1.0921</td>\n",
       "      <td>1.1015</td>\n",
       "      <td>1.1054</td>\n",
       "      <td>1.1077</td>\n",
       "      <td>1.1385</td>\n",
       "      <td>1.1035</td>\n",
       "      <td>1.1035</td>\n",
       "      <td>1.1035</td>\n",
       "      <td>1.1035</td>\n",
       "      <td>1.1035</td>\n",
       "      <td>1.1035</td>\n",
       "    </tr>\n",
       "    <tr>\n",
       "      <th>2017-10</th>\n",
       "      <td>0.3684</td>\n",
       "      <td>0.3661</td>\n",
       "      <td>0.3623</td>\n",
       "      <td>0.3668</td>\n",
       "      <td>0.3666</td>\n",
       "      <td>0.3674</td>\n",
       "      <td>0.3722</td>\n",
       "      <td>0.3684</td>\n",
       "      <td>0.3661</td>\n",
       "      <td>0.3661</td>\n",
       "      <td>0.3661</td>\n",
       "      <td>0.3661</td>\n",
       "      <td>0.3661</td>\n",
       "    </tr>\n",
       "    <tr>\n",
       "      <th>2017-11</th>\n",
       "      <td>0.9546</td>\n",
       "      <td>0.9421</td>\n",
       "      <td>0.9319</td>\n",
       "      <td>0.9425</td>\n",
       "      <td>0.9436</td>\n",
       "      <td>0.9439</td>\n",
       "      <td>0.9535</td>\n",
       "      <td>0.9534</td>\n",
       "      <td>0.9546</td>\n",
       "      <td>0.9421</td>\n",
       "      <td>0.9421</td>\n",
       "      <td>0.9421</td>\n",
       "      <td>0.9421</td>\n",
       "    </tr>\n",
       "    <tr>\n",
       "      <th>2017-12</th>\n",
       "      <td>0.7908</td>\n",
       "      <td>0.6699</td>\n",
       "      <td>0.6611</td>\n",
       "      <td>0.6716</td>\n",
       "      <td>0.6740</td>\n",
       "      <td>0.6765</td>\n",
       "      <td>0.6764</td>\n",
       "      <td>0.6812</td>\n",
       "      <td>0.6844</td>\n",
       "      <td>0.7908</td>\n",
       "      <td>0.6699</td>\n",
       "      <td>0.6699</td>\n",
       "      <td>0.6699</td>\n",
       "    </tr>\n",
       "    <tr>\n",
       "      <th>2018-01</th>\n",
       "      <td>1.5919</td>\n",
       "      <td>1.6863</td>\n",
       "      <td>1.6677</td>\n",
       "      <td>1.6892</td>\n",
       "      <td>1.6983</td>\n",
       "      <td>1.6994</td>\n",
       "      <td>1.7163</td>\n",
       "      <td>1.7201</td>\n",
       "      <td>1.7238</td>\n",
       "      <td>1.5890</td>\n",
       "      <td>1.5919</td>\n",
       "      <td>1.6863</td>\n",
       "      <td>1.6863</td>\n",
       "    </tr>\n",
       "    <tr>\n",
       "      <th>2018-02</th>\n",
       "      <td>2.0900</td>\n",
       "      <td>2.0697</td>\n",
       "      <td>2.0476</td>\n",
       "      <td>2.0797</td>\n",
       "      <td>2.0886</td>\n",
       "      <td>2.0919</td>\n",
       "      <td>2.1132</td>\n",
       "      <td>2.1153</td>\n",
       "      <td>2.1213</td>\n",
       "      <td>2.0937</td>\n",
       "      <td>2.0968</td>\n",
       "      <td>2.0900</td>\n",
       "      <td>2.0697</td>\n",
       "    </tr>\n",
       "    <tr>\n",
       "      <th>2018-03</th>\n",
       "      <td>1.9868</td>\n",
       "      <td>2.0104</td>\n",
       "      <td>1.9897</td>\n",
       "      <td>2.0025</td>\n",
       "      <td>1.9989</td>\n",
       "      <td>1.9920</td>\n",
       "      <td>2.0473</td>\n",
       "      <td>2.0502</td>\n",
       "      <td>2.0561</td>\n",
       "      <td>1.9451</td>\n",
       "      <td>1.9475</td>\n",
       "      <td>1.9424</td>\n",
       "      <td>1.9868</td>\n",
       "    </tr>\n",
       "  </tbody>\n",
       "</table>\n",
       "</div>"
      ],
      "text/plain": [
       "         Original iShares   Caso 1   Caso 2   Caso 3   Caso 4   Caso 5  \\\n",
       "2017-04           21.6854  21.6854  21.6854  21.6854  21.6854  21.6854   \n",
       "2017-05            0.6488   0.6281   0.6488   0.6281   0.6281   0.6281   \n",
       "2017-06            0.5736   0.5782   0.5716   0.5736   0.5782   0.5782   \n",
       "2017-07            0.4664   0.4597   0.4547   0.4612   0.4664   0.4597   \n",
       "2017-08            0.9406   0.9954   0.9848   1.0007   1.0035   0.9406   \n",
       "2017-09            1.1385   1.1035   1.0921   1.1015   1.1054   1.1077   \n",
       "2017-10            0.3684   0.3661   0.3623   0.3668   0.3666   0.3674   \n",
       "2017-11            0.9546   0.9421   0.9319   0.9425   0.9436   0.9439   \n",
       "2017-12            0.7908   0.6699   0.6611   0.6716   0.6740   0.6765   \n",
       "2018-01            1.5919   1.6863   1.6677   1.6892   1.6983   1.6994   \n",
       "2018-02            2.0900   2.0697   2.0476   2.0797   2.0886   2.0919   \n",
       "2018-03            1.9868   2.0104   1.9897   2.0025   1.9989   1.9920   \n",
       "\n",
       "          Caso 6   Caso 7   Caso 8   Caso 9  Caso 10  Caso 11  Caso 12  \n",
       "2017-04  21.6854  21.6854  21.6854  21.6854  21.6854  21.6854  21.6854  \n",
       "2017-05   0.6281   0.6281   0.6281   0.6281   0.6281   0.6281   0.6281  \n",
       "2017-06   0.5782   0.5782   0.5782   0.5782   0.5782   0.5782   0.5782  \n",
       "2017-07   0.4597   0.4597   0.4597   0.4597   0.4597   0.4597   0.4597  \n",
       "2017-08   0.9954   0.9954   0.9954   0.9954   0.9954   0.9954   0.9954  \n",
       "2017-09   1.1385   1.1035   1.1035   1.1035   1.1035   1.1035   1.1035  \n",
       "2017-10   0.3722   0.3684   0.3661   0.3661   0.3661   0.3661   0.3661  \n",
       "2017-11   0.9535   0.9534   0.9546   0.9421   0.9421   0.9421   0.9421  \n",
       "2017-12   0.6764   0.6812   0.6844   0.7908   0.6699   0.6699   0.6699  \n",
       "2018-01   1.7163   1.7201   1.7238   1.5890   1.5919   1.6863   1.6863  \n",
       "2018-02   2.1132   2.1153   2.1213   2.0937   2.0968   2.0900   2.0697  \n",
       "2018-03   2.0473   2.0502   2.0561   1.9451   1.9475   1.9424   1.9868  "
      ]
     },
     "execution_count": 126,
     "metadata": {},
     "output_type": "execute_result"
    }
   ],
   "source": [
    "r_dates = dates[:-1]\n",
    "colmns = ['Caso '+str(i) for i in range(1,len(rend)+1)]\n",
    "colmns.insert(0, \"Original iShares\")\n",
    "desv_table = pd.DataFrame(index=r_dates, columns=colmns)\n",
    "desv_table['Original iShares'] = desv_original_etf\n",
    "for i in colmns[1::]:\n",
    "    case = colmns[1::].index(i)\n",
    "    desv_table[i] = desv_std[case]\n",
    "pd.set_option('precision', 4)\n",
    "desv_table"
   ]
  },
  {
   "cell_type": "markdown",
   "metadata": {},
   "source": [
    "### Comparación Sharpe Ratio"
   ]
  },
  {
   "cell_type": "markdown",
   "metadata": {},
   "source": [
    "Extrayendo tasa libre de riesgo de Estados Unidos."
   ]
  },
  {
   "cell_type": "code",
   "execution_count": 80,
   "metadata": {
    "scrolled": true
   },
   "outputs": [],
   "source": [
    "treasury = 'Treasury Yield.xlsx' # Archivo de tasas\n",
    "start_date = '03-01-2017'\n",
    "end_date = '04-01-2018'\n",
    "t_yield = pd.read_excel(treasury, header = 0)\n",
    "t_yield['Date'] = pd.to_datetime(t_yield['Date'])\n",
    "t_y = t_yield[(t_yield['Date'] > start_date) & (t_yield['Date'] <= end_date)] \n",
    "t_y = t_y.sort_values(by=['Date'])\n",
    "rf_rates = [t_y[(t_y['Date'] > dates[i]) & (t_y['Date'] < dates[i+1])].iloc[-1,1] for i in range(len(dates)-1)]"
   ]
  },
  {
   "cell_type": "code",
   "execution_count": 160,
   "metadata": {},
   "outputs": [
    {
     "data": {
      "text/html": [
       "<div>\n",
       "<style scoped>\n",
       "    .dataframe tbody tr th:only-of-type {\n",
       "        vertical-align: middle;\n",
       "    }\n",
       "\n",
       "    .dataframe tbody tr th {\n",
       "        vertical-align: top;\n",
       "    }\n",
       "\n",
       "    .dataframe thead th {\n",
       "        text-align: right;\n",
       "    }\n",
       "</style>\n",
       "<table border=\"1\" class=\"dataframe\">\n",
       "  <thead>\n",
       "    <tr style=\"text-align: right;\">\n",
       "      <th></th>\n",
       "      <th>Original iShares</th>\n",
       "      <th>Caso 1</th>\n",
       "      <th>Caso 2</th>\n",
       "      <th>Caso 3</th>\n",
       "      <th>Caso 4</th>\n",
       "      <th>Caso 5</th>\n",
       "      <th>Caso 6</th>\n",
       "      <th>Caso 7</th>\n",
       "      <th>Caso 8</th>\n",
       "      <th>Caso 9</th>\n",
       "      <th>Caso 10</th>\n",
       "      <th>Caso 11</th>\n",
       "      <th>Caso 12</th>\n",
       "    </tr>\n",
       "  </thead>\n",
       "  <tbody>\n",
       "    <tr>\n",
       "      <th>2017-04</th>\n",
       "      <td>-0.000111</td>\n",
       "      <td>0.000000</td>\n",
       "      <td>0.000000</td>\n",
       "      <td>0.000000</td>\n",
       "      <td>0.000000</td>\n",
       "      <td>0.000000</td>\n",
       "      <td>0.000000</td>\n",
       "      <td>0.000000</td>\n",
       "      <td>0.000000</td>\n",
       "      <td>0.000000</td>\n",
       "      <td>0.000000</td>\n",
       "      <td>0.000000</td>\n",
       "      <td>0.000000</td>\n",
       "    </tr>\n",
       "    <tr>\n",
       "      <th>2017-05</th>\n",
       "      <td>-0.028407</td>\n",
       "      <td>-0.012184</td>\n",
       "      <td>-0.012881</td>\n",
       "      <td>-0.012184</td>\n",
       "      <td>-0.012184</td>\n",
       "      <td>-0.012184</td>\n",
       "      <td>-0.012184</td>\n",
       "      <td>-0.012184</td>\n",
       "      <td>-0.012184</td>\n",
       "      <td>-0.012184</td>\n",
       "      <td>-0.012184</td>\n",
       "      <td>-0.012184</td>\n",
       "      <td>-0.012184</td>\n",
       "    </tr>\n",
       "    <tr>\n",
       "      <th>2017-06</th>\n",
       "      <td>0.049756</td>\n",
       "      <td>0.002870</td>\n",
       "      <td>0.002935</td>\n",
       "      <td>0.014952</td>\n",
       "      <td>0.002870</td>\n",
       "      <td>0.002870</td>\n",
       "      <td>0.002870</td>\n",
       "      <td>0.002870</td>\n",
       "      <td>0.002870</td>\n",
       "      <td>0.002870</td>\n",
       "      <td>0.002870</td>\n",
       "      <td>0.002870</td>\n",
       "      <td>0.002870</td>\n",
       "    </tr>\n",
       "    <tr>\n",
       "      <th>2017-07</th>\n",
       "      <td>0.024431</td>\n",
       "      <td>0.001255</td>\n",
       "      <td>0.001208</td>\n",
       "      <td>0.001119</td>\n",
       "      <td>0.008538</td>\n",
       "      <td>0.001255</td>\n",
       "      <td>0.001255</td>\n",
       "      <td>0.001255</td>\n",
       "      <td>0.001255</td>\n",
       "      <td>0.001255</td>\n",
       "      <td>0.001255</td>\n",
       "      <td>0.001255</td>\n",
       "      <td>0.001255</td>\n",
       "    </tr>\n",
       "    <tr>\n",
       "      <th>2017-08</th>\n",
       "      <td>-0.016487</td>\n",
       "      <td>-0.022617</td>\n",
       "      <td>-0.022862</td>\n",
       "      <td>-0.022549</td>\n",
       "      <td>-0.022437</td>\n",
       "      <td>-0.019396</td>\n",
       "      <td>-0.022617</td>\n",
       "      <td>-0.022617</td>\n",
       "      <td>-0.022617</td>\n",
       "      <td>-0.022617</td>\n",
       "      <td>-0.022617</td>\n",
       "      <td>-0.022617</td>\n",
       "      <td>-0.022617</td>\n",
       "    </tr>\n",
       "    <tr>\n",
       "      <th>2017-09</th>\n",
       "      <td>0.023072</td>\n",
       "      <td>0.023369</td>\n",
       "      <td>0.023621</td>\n",
       "      <td>0.023215</td>\n",
       "      <td>0.023177</td>\n",
       "      <td>0.023086</td>\n",
       "      <td>0.022339</td>\n",
       "      <td>0.023369</td>\n",
       "      <td>0.023369</td>\n",
       "      <td>0.023369</td>\n",
       "      <td>0.023369</td>\n",
       "      <td>0.023369</td>\n",
       "      <td>0.023369</td>\n",
       "    </tr>\n",
       "    <tr>\n",
       "      <th>2017-10</th>\n",
       "      <td>0.026509</td>\n",
       "      <td>0.005096</td>\n",
       "      <td>0.005208</td>\n",
       "      <td>0.005789</td>\n",
       "      <td>0.005771</td>\n",
       "      <td>0.005990</td>\n",
       "      <td>0.006969</td>\n",
       "      <td>0.010408</td>\n",
       "      <td>0.005096</td>\n",
       "      <td>0.005096</td>\n",
       "      <td>0.005096</td>\n",
       "      <td>0.005096</td>\n",
       "      <td>0.005096</td>\n",
       "    </tr>\n",
       "    <tr>\n",
       "      <th>2017-11</th>\n",
       "      <td>0.033053</td>\n",
       "      <td>0.024083</td>\n",
       "      <td>0.024297</td>\n",
       "      <td>0.024001</td>\n",
       "      <td>0.024063</td>\n",
       "      <td>0.023942</td>\n",
       "      <td>0.022746</td>\n",
       "      <td>0.022643</td>\n",
       "      <td>0.022504</td>\n",
       "      <td>0.024083</td>\n",
       "      <td>0.024083</td>\n",
       "      <td>0.024083</td>\n",
       "      <td>0.024083</td>\n",
       "    </tr>\n",
       "    <tr>\n",
       "      <th>2017-12</th>\n",
       "      <td>0.019814</td>\n",
       "      <td>0.015315</td>\n",
       "      <td>0.015476</td>\n",
       "      <td>0.015271</td>\n",
       "      <td>0.015201</td>\n",
       "      <td>0.015316</td>\n",
       "      <td>0.014846</td>\n",
       "      <td>0.014865</td>\n",
       "      <td>0.014837</td>\n",
       "      <td>0.017921</td>\n",
       "      <td>0.015315</td>\n",
       "      <td>0.015315</td>\n",
       "      <td>0.015315</td>\n",
       "    </tr>\n",
       "    <tr>\n",
       "      <th>2018-01</th>\n",
       "      <td>0.024378</td>\n",
       "      <td>0.020358</td>\n",
       "      <td>0.020564</td>\n",
       "      <td>0.020167</td>\n",
       "      <td>0.020135</td>\n",
       "      <td>0.020063</td>\n",
       "      <td>0.019989</td>\n",
       "      <td>0.019958</td>\n",
       "      <td>0.019913</td>\n",
       "      <td>0.018924</td>\n",
       "      <td>0.018899</td>\n",
       "      <td>0.020358</td>\n",
       "      <td>0.020358</td>\n",
       "    </tr>\n",
       "    <tr>\n",
       "      <th>2018-02</th>\n",
       "      <td>-0.028156</td>\n",
       "      <td>-0.026305</td>\n",
       "      <td>-0.026547</td>\n",
       "      <td>-0.026089</td>\n",
       "      <td>-0.026029</td>\n",
       "      <td>-0.026114</td>\n",
       "      <td>-0.025768</td>\n",
       "      <td>-0.025699</td>\n",
       "      <td>-0.025612</td>\n",
       "      <td>-0.029749</td>\n",
       "      <td>-0.029682</td>\n",
       "      <td>-0.028916</td>\n",
       "      <td>-0.026305</td>\n",
       "    </tr>\n",
       "    <tr>\n",
       "      <th>2018-03</th>\n",
       "      <td>-0.012688</td>\n",
       "      <td>-0.017231</td>\n",
       "      <td>-0.017397</td>\n",
       "      <td>-0.016528</td>\n",
       "      <td>-0.016114</td>\n",
       "      <td>-0.015867</td>\n",
       "      <td>-0.015750</td>\n",
       "      <td>-0.015712</td>\n",
       "      <td>-0.015670</td>\n",
       "      <td>-0.013491</td>\n",
       "      <td>-0.013471</td>\n",
       "      <td>-0.012530</td>\n",
       "      <td>-0.012652</td>\n",
       "    </tr>\n",
       "  </tbody>\n",
       "</table>\n",
       "</div>"
      ],
      "text/plain": [
       "         Original iShares    Caso 1    Caso 2    Caso 3    Caso 4    Caso 5  \\\n",
       "2017-04         -0.000111  0.000000  0.000000  0.000000  0.000000  0.000000   \n",
       "2017-05         -0.028407 -0.012184 -0.012881 -0.012184 -0.012184 -0.012184   \n",
       "2017-06          0.049756  0.002870  0.002935  0.014952  0.002870  0.002870   \n",
       "2017-07          0.024431  0.001255  0.001208  0.001119  0.008538  0.001255   \n",
       "2017-08         -0.016487 -0.022617 -0.022862 -0.022549 -0.022437 -0.019396   \n",
       "2017-09          0.023072  0.023369  0.023621  0.023215  0.023177  0.023086   \n",
       "2017-10          0.026509  0.005096  0.005208  0.005789  0.005771  0.005990   \n",
       "2017-11          0.033053  0.024083  0.024297  0.024001  0.024063  0.023942   \n",
       "2017-12          0.019814  0.015315  0.015476  0.015271  0.015201  0.015316   \n",
       "2018-01          0.024378  0.020358  0.020564  0.020167  0.020135  0.020063   \n",
       "2018-02         -0.028156 -0.026305 -0.026547 -0.026089 -0.026029 -0.026114   \n",
       "2018-03         -0.012688 -0.017231 -0.017397 -0.016528 -0.016114 -0.015867   \n",
       "\n",
       "           Caso 6    Caso 7    Caso 8    Caso 9   Caso 10   Caso 11   Caso 12  \n",
       "2017-04  0.000000  0.000000  0.000000  0.000000  0.000000  0.000000  0.000000  \n",
       "2017-05 -0.012184 -0.012184 -0.012184 -0.012184 -0.012184 -0.012184 -0.012184  \n",
       "2017-06  0.002870  0.002870  0.002870  0.002870  0.002870  0.002870  0.002870  \n",
       "2017-07  0.001255  0.001255  0.001255  0.001255  0.001255  0.001255  0.001255  \n",
       "2017-08 -0.022617 -0.022617 -0.022617 -0.022617 -0.022617 -0.022617 -0.022617  \n",
       "2017-09  0.022339  0.023369  0.023369  0.023369  0.023369  0.023369  0.023369  \n",
       "2017-10  0.006969  0.010408  0.005096  0.005096  0.005096  0.005096  0.005096  \n",
       "2017-11  0.022746  0.022643  0.022504  0.024083  0.024083  0.024083  0.024083  \n",
       "2017-12  0.014846  0.014865  0.014837  0.017921  0.015315  0.015315  0.015315  \n",
       "2018-01  0.019989  0.019958  0.019913  0.018924  0.018899  0.020358  0.020358  \n",
       "2018-02 -0.025768 -0.025699 -0.025612 -0.029749 -0.029682 -0.028916 -0.026305  \n",
       "2018-03 -0.015750 -0.015712 -0.015670 -0.013491 -0.013471 -0.012530 -0.012652  "
      ]
     },
     "execution_count": 160,
     "metadata": {},
     "output_type": "execute_result"
    }
   ],
   "source": [
    "sharpe = rend_table.copy()\n",
    "for i in range(len(sharpe.iloc[:,0])):\n",
    "    for j in range(len(sharpe.iloc[0,:])):\n",
    "        sharpe.iat[i,j] = (rend_table.iat[i,j]-(rf_rates[i]/12/100))/desv_table.iat[i,j]\n",
    "pd.set_option('display.float_format', lambda x: '%.6f' % x)      \n",
    "sharpe"
   ]
  },
  {
   "cell_type": "markdown",
   "metadata": {},
   "source": [
    "## Notas"
   ]
  },
  {
   "cell_type": "markdown",
   "metadata": {},
   "source": [
    "> Para los cálculos solo se están usando los activos de \"Equity\".\n",
    "\n",
    "> En total tenemos 453 activos diferentes en el etf, quandl sólo permitió extraer 449; algunos en algún periodo de tiempo ya tenían NaN, se rellenaron con 0.\n",
    "\n",
    "> Las ponderaciones mensuales no van a dar 100%, debido a la ausencia de algunos activos."
   ]
  }
 ],
 "metadata": {
  "kernelspec": {
   "display_name": "Python 3",
   "language": "python",
   "name": "python3"
  },
  "language_info": {
   "codemirror_mode": {
    "name": "ipython",
    "version": 3
   },
   "file_extension": ".py",
   "mimetype": "text/x-python",
   "name": "python",
   "nbconvert_exporter": "python",
   "pygments_lexer": "ipython3",
   "version": "3.7.1"
  }
 },
 "nbformat": 4,
 "nbformat_minor": 2
}
