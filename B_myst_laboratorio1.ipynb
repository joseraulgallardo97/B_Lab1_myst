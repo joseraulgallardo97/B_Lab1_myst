{
 "cells": [
  {
   "cell_type": "markdown",
   "metadata": {},
   "source": [
    "<img style=\"float: right; margin: 0px 0px 15px 15px;\" src=\"https://www.carrerasenlinea.mx/logos/original/logo-instituto-tecnologico-y-de-estudios-superiores-de-occidente.png\" width=\"150px\" height=\"100px\" /> \n",
    "\n",
    "\n",
    "&nbsp;\n",
    "# Administración activa Vs Administración pasiva del capital\n",
    "## Equipo B\n",
    "\n",
    "***Emilio de la Torre***\n",
    "\n",
    "\n",
    "***José Raúl Gallardo***\n",
    "\n",
    "\n",
    "***Adrian Garcia*** \n"
   ]
  },
  {
   "cell_type": "markdown",
   "metadata": {},
   "source": [
    "La idea es replicar un ETF con posiciones en directo. Te han asignado la tarea de hacer un ejercicio simple de replicar la construcción de un portafolio de inversión y un criterio de rebalanceo lo más parecido a un ETF de ishares que tu selecciones. Esto con la finalidad de comparar los resultados de haber rebalanceado periódicamente el portafolio, ó, no haberlo hecho y continuar todo un año con las mismas posiciones."
   ]
  },
  {
   "cell_type": "markdown",
   "metadata": {},
   "source": [
    "## Limpieza y extracción de datos"
   ]
  },
  {
   "cell_type": "markdown",
   "metadata": {},
   "source": [
    "### Importando librerías a utilizar"
   ]
  },
  {
   "cell_type": "code",
   "execution_count": 94,
   "metadata": {},
   "outputs": [],
   "source": [
    "import numpy as np\n",
    "import pandas as pd\n",
    "import matplotlib.pyplot as plt\n",
    "import datetime as dt\n",
    "import plotly.graph_objs as go #Esta librería necesita ser instalada desde terminal 'pip install plotly'"
   ]
  },
  {
   "cell_type": "markdown",
   "metadata": {},
   "source": [
    "### Importando los datos del ETF"
   ]
  },
  {
   "cell_type": "markdown",
   "metadata": {},
   "source": [
    "Función para convertir datos string a float."
   ]
  },
  {
   "cell_type": "code",
   "execution_count": 95,
   "metadata": {},
   "outputs": [],
   "source": [
    "def s2f(to_convert):\n",
    "    f = float(to_convert.replace(',',''))\n",
    "    return f"
   ]
  },
  {
   "cell_type": "markdown",
   "metadata": {},
   "source": [
    "Función para extraer información de los etfs (csv) y los tickers de cada uno."
   ]
  },
  {
   "cell_type": "code",
   "execution_count": 96,
   "metadata": {},
   "outputs": [],
   "source": [
    "def get_data(nFiles, file_title):\n",
    "    df = []\n",
    "    dr = np.arange(1,nFiles+1)\n",
    "    df = [pd.read_csv(file_title+str(dr[i])+'.csv', header=1, index_col=None, parse_dates=False, skip_blank_lines=True, skiprows=9) for i in range(len(dr))]\n",
    "    data = [df[i][(df[i]['Asset Class'] == 'Equity')] for i in range(len(df))] #filtramos solo con equity (acciones)\n",
    "    tickers = [list(data[i].iloc[:,0]) for i in range(len(data))] #extracción de tickers de cada mes\n",
    "    return data, tickers"
   ]
  },
  {
   "cell_type": "code",
   "execution_count": 97,
   "metadata": {},
   "outputs": [],
   "source": [
    "data_etf, tickers = get_data(13, 'IVE_Holdings')"
   ]
  },
  {
   "cell_type": "markdown",
   "metadata": {},
   "source": [
    "Función para sacar todos los tickers (valores únicos) de todos los archivos juntos."
   ]
  },
  {
   "cell_type": "code",
   "execution_count": 98,
   "metadata": {},
   "outputs": [],
   "source": [
    "#Función depende de la anterior\n",
    "def unique_tickers(tickers): \n",
    "    nFiles = len(tickers) #archivos que tenemos\n",
    "    ticker = [] \n",
    "    for i in range(nFiles):\n",
    "        ticker = ticker + tickers[i] #Anexando los tickers de cada archivo en una sola lista\n",
    "    df = pd.DataFrame(ticker) #Se convierte en dataframe para poder sacar valores únicos\n",
    "    unique_tickers = df.iloc[:,0].unique() #.unique() regresa los valores únicos\n",
    "    return unique_tickers #Todos los tickers que se van a necesitar de quandl"
   ]
  },
  {
   "cell_type": "code",
   "execution_count": 99,
   "metadata": {},
   "outputs": [
    {
     "data": {
      "text/plain": [
       "453"
      ]
     },
     "execution_count": 99,
     "metadata": {},
     "output_type": "execute_result"
    }
   ],
   "source": [
    "all_tickers = unique_tickers(tickers)\n",
    "len(all_tickers)"
   ]
  },
  {
   "cell_type": "markdown",
   "metadata": {},
   "source": [
    "Función para extraer el número de acciones en circulación de los etf's de ishares."
   ]
  },
  {
   "cell_type": "code",
   "execution_count": 100,
   "metadata": {},
   "outputs": [],
   "source": [
    "def n_shares(nFiles, file_title):\n",
    "    dr = np.arange(1,nFiles+1)\n",
    "    df = [pd.read_csv(file_title+str(dr[i])+'.csv', index_col=None, parse_dates=False, skip_blank_lines=True, nrows=6) for i in range(len(dr))]\n",
    "    all_shares = [df[i].iloc[3,0] for i in range(len(df))]\n",
    "    all_shares_int = [int(float(all_shares[i].replace(',',''))) for i in range(len(all_shares))]\n",
    "    return all_shares_int"
   ]
  },
  {
   "cell_type": "code",
   "execution_count": 101,
   "metadata": {
    "scrolled": true
   },
   "outputs": [],
   "source": [
    "etf_shares = n_shares(13, 'IVE_Holdings')"
   ]
  },
  {
   "cell_type": "markdown",
   "metadata": {},
   "source": [
    "### Extracción de precios de Quandl"
   ]
  },
  {
   "cell_type": "code",
   "execution_count": 102,
   "metadata": {},
   "outputs": [],
   "source": [
    "import quandl\n",
    "quandl.ApiConfig.api_key = \"JyBxQPPNx_LTemwn-VbD\" # Api para acceso a Quandl"
   ]
  },
  {
   "cell_type": "markdown",
   "metadata": {},
   "source": [
    "Obteniendo acceso a los precios de Quandl/WikiPrices."
   ]
  },
  {
   "cell_type": "code",
   "execution_count": 103,
   "metadata": {
    "scrolled": true
   },
   "outputs": [
    {
     "data": {
      "text/html": [
       "<div>\n",
       "<style scoped>\n",
       "    .dataframe tbody tr th:only-of-type {\n",
       "        vertical-align: middle;\n",
       "    }\n",
       "\n",
       "    .dataframe tbody tr th {\n",
       "        vertical-align: top;\n",
       "    }\n",
       "\n",
       "    .dataframe thead th {\n",
       "        text-align: right;\n",
       "    }\n",
       "</style>\n",
       "<table border=\"1\" class=\"dataframe\">\n",
       "  <thead>\n",
       "    <tr style=\"text-align: right;\">\n",
       "      <th></th>\n",
       "      <th>ticker</th>\n",
       "      <th>date</th>\n",
       "      <th>close</th>\n",
       "    </tr>\n",
       "    <tr>\n",
       "      <th>None</th>\n",
       "      <th></th>\n",
       "      <th></th>\n",
       "      <th></th>\n",
       "    </tr>\n",
       "  </thead>\n",
       "  <tbody>\n",
       "    <tr>\n",
       "      <th>0</th>\n",
       "      <td>ZION</td>\n",
       "      <td>2018-03-27</td>\n",
       "      <td>52.020000</td>\n",
       "    </tr>\n",
       "    <tr>\n",
       "      <th>1</th>\n",
       "      <td>ZION</td>\n",
       "      <td>2018-03-26</td>\n",
       "      <td>53.240000</td>\n",
       "    </tr>\n",
       "    <tr>\n",
       "      <th>2</th>\n",
       "      <td>ZION</td>\n",
       "      <td>2018-03-23</td>\n",
       "      <td>51.230000</td>\n",
       "    </tr>\n",
       "    <tr>\n",
       "      <th>3</th>\n",
       "      <td>ZION</td>\n",
       "      <td>2018-03-22</td>\n",
       "      <td>53.070000</td>\n",
       "    </tr>\n",
       "    <tr>\n",
       "      <th>4</th>\n",
       "      <td>ZION</td>\n",
       "      <td>2018-03-21</td>\n",
       "      <td>55.100000</td>\n",
       "    </tr>\n",
       "  </tbody>\n",
       "</table>\n",
       "</div>"
      ],
      "text/plain": [
       "     ticker       date     close\n",
       "None                            \n",
       "0      ZION 2018-03-27 52.020000\n",
       "1      ZION 2018-03-26 53.240000\n",
       "2      ZION 2018-03-23 51.230000\n",
       "3      ZION 2018-03-22 53.070000\n",
       "4      ZION 2018-03-21 55.100000"
      ]
     },
     "execution_count": 103,
     "metadata": {},
     "output_type": "execute_result"
    }
   ],
   "source": [
    "d_quandl = quandl.get_table('WIKI/PRICES', ticker = [all_tickers], qopts = {'columns': ['ticker', 'date', 'close']},\n",
    "                        date = {'gte': '2017-03-01', 'lte': '2018-04-01'}, paginate=True)\n",
    "d_quandl.head()"
   ]
  },
  {
   "cell_type": "markdown",
   "metadata": {},
   "source": [
    "A continuación se ordena el dataframe para tener los precios de los tickers en columnas"
   ]
  },
  {
   "cell_type": "code",
   "execution_count": 104,
   "metadata": {
    "scrolled": true
   },
   "outputs": [
    {
     "data": {
      "text/html": [
       "<div>\n",
       "<style scoped>\n",
       "    .dataframe tbody tr th:only-of-type {\n",
       "        vertical-align: middle;\n",
       "    }\n",
       "\n",
       "    .dataframe tbody tr th {\n",
       "        vertical-align: top;\n",
       "    }\n",
       "\n",
       "    .dataframe thead tr th {\n",
       "        text-align: left;\n",
       "    }\n",
       "\n",
       "    .dataframe thead tr:last-of-type th {\n",
       "        text-align: right;\n",
       "    }\n",
       "</style>\n",
       "<table border=\"1\" class=\"dataframe\">\n",
       "  <thead>\n",
       "    <tr>\n",
       "      <th></th>\n",
       "      <th colspan=\"21\" halign=\"left\">close</th>\n",
       "    </tr>\n",
       "    <tr>\n",
       "      <th>ticker</th>\n",
       "      <th>A</th>\n",
       "      <th>AAL</th>\n",
       "      <th>AAP</th>\n",
       "      <th>ABC</th>\n",
       "      <th>ABT</th>\n",
       "      <th>ACN</th>\n",
       "      <th>ADM</th>\n",
       "      <th>ADS</th>\n",
       "      <th>ADSK</th>\n",
       "      <th>AEE</th>\n",
       "      <th>...</th>\n",
       "      <th>XL</th>\n",
       "      <th>XLNX</th>\n",
       "      <th>XOM</th>\n",
       "      <th>XRAY</th>\n",
       "      <th>XRX</th>\n",
       "      <th>XYL</th>\n",
       "      <th>YHOO</th>\n",
       "      <th>YUM</th>\n",
       "      <th>ZBH</th>\n",
       "      <th>ZION</th>\n",
       "    </tr>\n",
       "    <tr>\n",
       "      <th>date</th>\n",
       "      <th></th>\n",
       "      <th></th>\n",
       "      <th></th>\n",
       "      <th></th>\n",
       "      <th></th>\n",
       "      <th></th>\n",
       "      <th></th>\n",
       "      <th></th>\n",
       "      <th></th>\n",
       "      <th></th>\n",
       "      <th></th>\n",
       "      <th></th>\n",
       "      <th></th>\n",
       "      <th></th>\n",
       "      <th></th>\n",
       "      <th></th>\n",
       "      <th></th>\n",
       "      <th></th>\n",
       "      <th></th>\n",
       "      <th></th>\n",
       "      <th></th>\n",
       "    </tr>\n",
       "  </thead>\n",
       "  <tbody>\n",
       "    <tr>\n",
       "      <th>2017-03-01</th>\n",
       "      <td>52.040000</td>\n",
       "      <td>47.090000</td>\n",
       "      <td>156.680000</td>\n",
       "      <td>92.230000</td>\n",
       "      <td>45.590000</td>\n",
       "      <td>124.070000</td>\n",
       "      <td>46.510000</td>\n",
       "      <td>247.620000</td>\n",
       "      <td>88.930000</td>\n",
       "      <td>54.760000</td>\n",
       "      <td>...</td>\n",
       "      <td>41.120000</td>\n",
       "      <td>59.680000</td>\n",
       "      <td>83.020000</td>\n",
       "      <td>64.500000</td>\n",
       "      <td>7.390000</td>\n",
       "      <td>49.550000</td>\n",
       "      <td>46.240000</td>\n",
       "      <td>65.570000</td>\n",
       "      <td>118.890000</td>\n",
       "      <td>46.530000</td>\n",
       "    </tr>\n",
       "    <tr>\n",
       "      <th>2017-03-02</th>\n",
       "      <td>51.380000</td>\n",
       "      <td>45.720000</td>\n",
       "      <td>157.360000</td>\n",
       "      <td>91.940000</td>\n",
       "      <td>45.690000</td>\n",
       "      <td>124.350000</td>\n",
       "      <td>45.480000</td>\n",
       "      <td>243.940000</td>\n",
       "      <td>87.320000</td>\n",
       "      <td>55.120000</td>\n",
       "      <td>...</td>\n",
       "      <td>40.610000</td>\n",
       "      <td>59.350000</td>\n",
       "      <td>83.300000</td>\n",
       "      <td>63.650000</td>\n",
       "      <td>7.290000</td>\n",
       "      <td>48.890000</td>\n",
       "      <td>45.940000</td>\n",
       "      <td>65.210000</td>\n",
       "      <td>118.020000</td>\n",
       "      <td>44.960000</td>\n",
       "    </tr>\n",
       "    <tr>\n",
       "      <th>2017-03-03</th>\n",
       "      <td>51.980000</td>\n",
       "      <td>46.820000</td>\n",
       "      <td>155.350000</td>\n",
       "      <td>92.230000</td>\n",
       "      <td>45.250000</td>\n",
       "      <td>123.640000</td>\n",
       "      <td>45.200000</td>\n",
       "      <td>244.630000</td>\n",
       "      <td>85.320000</td>\n",
       "      <td>54.890000</td>\n",
       "      <td>...</td>\n",
       "      <td>40.360000</td>\n",
       "      <td>58.740000</td>\n",
       "      <td>82.460000</td>\n",
       "      <td>63.360000</td>\n",
       "      <td>7.360000</td>\n",
       "      <td>48.730000</td>\n",
       "      <td>45.910000</td>\n",
       "      <td>65.030000</td>\n",
       "      <td>118.280000</td>\n",
       "      <td>45.360000</td>\n",
       "    </tr>\n",
       "    <tr>\n",
       "      <th>2017-03-06</th>\n",
       "      <td>51.250000</td>\n",
       "      <td>45.310000</td>\n",
       "      <td>154.250000</td>\n",
       "      <td>89.990000</td>\n",
       "      <td>45.130000</td>\n",
       "      <td>123.240000</td>\n",
       "      <td>44.760000</td>\n",
       "      <td>245.450000</td>\n",
       "      <td>82.940000</td>\n",
       "      <td>54.890000</td>\n",
       "      <td>...</td>\n",
       "      <td>39.900000</td>\n",
       "      <td>58.810000</td>\n",
       "      <td>82.830000</td>\n",
       "      <td>62.750000</td>\n",
       "      <td>7.450000</td>\n",
       "      <td>48.530000</td>\n",
       "      <td>45.640000</td>\n",
       "      <td>64.500000</td>\n",
       "      <td>117.220000</td>\n",
       "      <td>45.330000</td>\n",
       "    </tr>\n",
       "    <tr>\n",
       "      <th>2017-03-07</th>\n",
       "      <td>51.210000</td>\n",
       "      <td>44.840000</td>\n",
       "      <td>151.990000</td>\n",
       "      <td>88.480000</td>\n",
       "      <td>45.000000</td>\n",
       "      <td>124.140000</td>\n",
       "      <td>44.460000</td>\n",
       "      <td>245.050000</td>\n",
       "      <td>82.070000</td>\n",
       "      <td>54.820000</td>\n",
       "      <td>...</td>\n",
       "      <td>40.130000</td>\n",
       "      <td>58.750000</td>\n",
       "      <td>82.520000</td>\n",
       "      <td>62.550000</td>\n",
       "      <td>7.360000</td>\n",
       "      <td>48.780000</td>\n",
       "      <td>45.730000</td>\n",
       "      <td>64.020000</td>\n",
       "      <td>117.070000</td>\n",
       "      <td>45.280000</td>\n",
       "    </tr>\n",
       "  </tbody>\n",
       "</table>\n",
       "<p>5 rows × 450 columns</p>\n",
       "</div>"
      ],
      "text/plain": [
       "               close                                                      \\\n",
       "ticker             A       AAL        AAP       ABC       ABT        ACN   \n",
       "date                                                                       \n",
       "2017-03-01 52.040000 47.090000 156.680000 92.230000 45.590000 124.070000   \n",
       "2017-03-02 51.380000 45.720000 157.360000 91.940000 45.690000 124.350000   \n",
       "2017-03-03 51.980000 46.820000 155.350000 92.230000 45.250000 123.640000   \n",
       "2017-03-06 51.250000 45.310000 154.250000 89.990000 45.130000 123.240000   \n",
       "2017-03-07 51.210000 44.840000 151.990000 88.480000 45.000000 124.140000   \n",
       "\n",
       "                                                       ...               \\\n",
       "ticker           ADM        ADS      ADSK       AEE    ...           XL   \n",
       "date                                                   ...                \n",
       "2017-03-01 46.510000 247.620000 88.930000 54.760000    ...    41.120000   \n",
       "2017-03-02 45.480000 243.940000 87.320000 55.120000    ...    40.610000   \n",
       "2017-03-03 45.200000 244.630000 85.320000 54.890000    ...    40.360000   \n",
       "2017-03-06 44.760000 245.450000 82.940000 54.890000    ...    39.900000   \n",
       "2017-03-07 44.460000 245.050000 82.070000 54.820000    ...    40.130000   \n",
       "\n",
       "                                                                       \\\n",
       "ticker          XLNX       XOM      XRAY      XRX       XYL      YHOO   \n",
       "date                                                                    \n",
       "2017-03-01 59.680000 83.020000 64.500000 7.390000 49.550000 46.240000   \n",
       "2017-03-02 59.350000 83.300000 63.650000 7.290000 48.890000 45.940000   \n",
       "2017-03-03 58.740000 82.460000 63.360000 7.360000 48.730000 45.910000   \n",
       "2017-03-06 58.810000 82.830000 62.750000 7.450000 48.530000 45.640000   \n",
       "2017-03-07 58.750000 82.520000 62.550000 7.360000 48.780000 45.730000   \n",
       "\n",
       "                                           \n",
       "ticker           YUM        ZBH      ZION  \n",
       "date                                       \n",
       "2017-03-01 65.570000 118.890000 46.530000  \n",
       "2017-03-02 65.210000 118.020000 44.960000  \n",
       "2017-03-03 65.030000 118.280000 45.360000  \n",
       "2017-03-06 64.500000 117.220000 45.330000  \n",
       "2017-03-07 64.020000 117.070000 45.280000  \n",
       "\n",
       "[5 rows x 450 columns]"
      ]
     },
     "execution_count": 104,
     "metadata": {},
     "output_type": "execute_result"
    }
   ],
   "source": [
    "stock_prices = d_quandl.set_index('date')\n",
    "stock_prices = stock_prices.pivot(columns='ticker') #Pivotear el df para tener los tickers como columnas\n",
    "stock_prices.head()"
   ]
  },
  {
   "cell_type": "markdown",
   "metadata": {},
   "source": [
    "Se elimina el multindex para poder manupular los datos mejor y se llenan los NaN con 0."
   ]
  },
  {
   "cell_type": "code",
   "execution_count": 105,
   "metadata": {
    "scrolled": false
   },
   "outputs": [
    {
     "data": {
      "text/html": [
       "<div>\n",
       "<style scoped>\n",
       "    .dataframe tbody tr th:only-of-type {\n",
       "        vertical-align: middle;\n",
       "    }\n",
       "\n",
       "    .dataframe tbody tr th {\n",
       "        vertical-align: top;\n",
       "    }\n",
       "\n",
       "    .dataframe thead th {\n",
       "        text-align: right;\n",
       "    }\n",
       "</style>\n",
       "<table border=\"1\" class=\"dataframe\">\n",
       "  <thead>\n",
       "    <tr style=\"text-align: right;\">\n",
       "      <th>ticker</th>\n",
       "      <th>A</th>\n",
       "      <th>AAL</th>\n",
       "      <th>AAP</th>\n",
       "      <th>ABC</th>\n",
       "      <th>ABT</th>\n",
       "      <th>ACN</th>\n",
       "      <th>ADM</th>\n",
       "      <th>ADS</th>\n",
       "      <th>ADSK</th>\n",
       "      <th>AEE</th>\n",
       "      <th>...</th>\n",
       "      <th>XL</th>\n",
       "      <th>XLNX</th>\n",
       "      <th>XOM</th>\n",
       "      <th>XRAY</th>\n",
       "      <th>XRX</th>\n",
       "      <th>XYL</th>\n",
       "      <th>YHOO</th>\n",
       "      <th>YUM</th>\n",
       "      <th>ZBH</th>\n",
       "      <th>ZION</th>\n",
       "    </tr>\n",
       "    <tr>\n",
       "      <th>date</th>\n",
       "      <th></th>\n",
       "      <th></th>\n",
       "      <th></th>\n",
       "      <th></th>\n",
       "      <th></th>\n",
       "      <th></th>\n",
       "      <th></th>\n",
       "      <th></th>\n",
       "      <th></th>\n",
       "      <th></th>\n",
       "      <th></th>\n",
       "      <th></th>\n",
       "      <th></th>\n",
       "      <th></th>\n",
       "      <th></th>\n",
       "      <th></th>\n",
       "      <th></th>\n",
       "      <th></th>\n",
       "      <th></th>\n",
       "      <th></th>\n",
       "      <th></th>\n",
       "    </tr>\n",
       "  </thead>\n",
       "  <tbody>\n",
       "    <tr>\n",
       "      <th>2017-03-01</th>\n",
       "      <td>52.040000</td>\n",
       "      <td>47.090000</td>\n",
       "      <td>156.680000</td>\n",
       "      <td>92.230000</td>\n",
       "      <td>45.590000</td>\n",
       "      <td>124.070000</td>\n",
       "      <td>46.510000</td>\n",
       "      <td>247.620000</td>\n",
       "      <td>88.930000</td>\n",
       "      <td>54.760000</td>\n",
       "      <td>...</td>\n",
       "      <td>41.120000</td>\n",
       "      <td>59.680000</td>\n",
       "      <td>83.020000</td>\n",
       "      <td>64.500000</td>\n",
       "      <td>7.390000</td>\n",
       "      <td>49.550000</td>\n",
       "      <td>46.240000</td>\n",
       "      <td>65.570000</td>\n",
       "      <td>118.890000</td>\n",
       "      <td>46.530000</td>\n",
       "    </tr>\n",
       "    <tr>\n",
       "      <th>2017-03-02</th>\n",
       "      <td>51.380000</td>\n",
       "      <td>45.720000</td>\n",
       "      <td>157.360000</td>\n",
       "      <td>91.940000</td>\n",
       "      <td>45.690000</td>\n",
       "      <td>124.350000</td>\n",
       "      <td>45.480000</td>\n",
       "      <td>243.940000</td>\n",
       "      <td>87.320000</td>\n",
       "      <td>55.120000</td>\n",
       "      <td>...</td>\n",
       "      <td>40.610000</td>\n",
       "      <td>59.350000</td>\n",
       "      <td>83.300000</td>\n",
       "      <td>63.650000</td>\n",
       "      <td>7.290000</td>\n",
       "      <td>48.890000</td>\n",
       "      <td>45.940000</td>\n",
       "      <td>65.210000</td>\n",
       "      <td>118.020000</td>\n",
       "      <td>44.960000</td>\n",
       "    </tr>\n",
       "    <tr>\n",
       "      <th>2017-03-03</th>\n",
       "      <td>51.980000</td>\n",
       "      <td>46.820000</td>\n",
       "      <td>155.350000</td>\n",
       "      <td>92.230000</td>\n",
       "      <td>45.250000</td>\n",
       "      <td>123.640000</td>\n",
       "      <td>45.200000</td>\n",
       "      <td>244.630000</td>\n",
       "      <td>85.320000</td>\n",
       "      <td>54.890000</td>\n",
       "      <td>...</td>\n",
       "      <td>40.360000</td>\n",
       "      <td>58.740000</td>\n",
       "      <td>82.460000</td>\n",
       "      <td>63.360000</td>\n",
       "      <td>7.360000</td>\n",
       "      <td>48.730000</td>\n",
       "      <td>45.910000</td>\n",
       "      <td>65.030000</td>\n",
       "      <td>118.280000</td>\n",
       "      <td>45.360000</td>\n",
       "    </tr>\n",
       "    <tr>\n",
       "      <th>2017-03-06</th>\n",
       "      <td>51.250000</td>\n",
       "      <td>45.310000</td>\n",
       "      <td>154.250000</td>\n",
       "      <td>89.990000</td>\n",
       "      <td>45.130000</td>\n",
       "      <td>123.240000</td>\n",
       "      <td>44.760000</td>\n",
       "      <td>245.450000</td>\n",
       "      <td>82.940000</td>\n",
       "      <td>54.890000</td>\n",
       "      <td>...</td>\n",
       "      <td>39.900000</td>\n",
       "      <td>58.810000</td>\n",
       "      <td>82.830000</td>\n",
       "      <td>62.750000</td>\n",
       "      <td>7.450000</td>\n",
       "      <td>48.530000</td>\n",
       "      <td>45.640000</td>\n",
       "      <td>64.500000</td>\n",
       "      <td>117.220000</td>\n",
       "      <td>45.330000</td>\n",
       "    </tr>\n",
       "    <tr>\n",
       "      <th>2017-03-07</th>\n",
       "      <td>51.210000</td>\n",
       "      <td>44.840000</td>\n",
       "      <td>151.990000</td>\n",
       "      <td>88.480000</td>\n",
       "      <td>45.000000</td>\n",
       "      <td>124.140000</td>\n",
       "      <td>44.460000</td>\n",
       "      <td>245.050000</td>\n",
       "      <td>82.070000</td>\n",
       "      <td>54.820000</td>\n",
       "      <td>...</td>\n",
       "      <td>40.130000</td>\n",
       "      <td>58.750000</td>\n",
       "      <td>82.520000</td>\n",
       "      <td>62.550000</td>\n",
       "      <td>7.360000</td>\n",
       "      <td>48.780000</td>\n",
       "      <td>45.730000</td>\n",
       "      <td>64.020000</td>\n",
       "      <td>117.070000</td>\n",
       "      <td>45.280000</td>\n",
       "    </tr>\n",
       "  </tbody>\n",
       "</table>\n",
       "<p>5 rows × 450 columns</p>\n",
       "</div>"
      ],
      "text/plain": [
       "ticker             A       AAL        AAP       ABC       ABT        ACN  \\\n",
       "date                                                                       \n",
       "2017-03-01 52.040000 47.090000 156.680000 92.230000 45.590000 124.070000   \n",
       "2017-03-02 51.380000 45.720000 157.360000 91.940000 45.690000 124.350000   \n",
       "2017-03-03 51.980000 46.820000 155.350000 92.230000 45.250000 123.640000   \n",
       "2017-03-06 51.250000 45.310000 154.250000 89.990000 45.130000 123.240000   \n",
       "2017-03-07 51.210000 44.840000 151.990000 88.480000 45.000000 124.140000   \n",
       "\n",
       "ticker           ADM        ADS      ADSK       AEE    ...           XL  \\\n",
       "date                                                   ...                \n",
       "2017-03-01 46.510000 247.620000 88.930000 54.760000    ...    41.120000   \n",
       "2017-03-02 45.480000 243.940000 87.320000 55.120000    ...    40.610000   \n",
       "2017-03-03 45.200000 244.630000 85.320000 54.890000    ...    40.360000   \n",
       "2017-03-06 44.760000 245.450000 82.940000 54.890000    ...    39.900000   \n",
       "2017-03-07 44.460000 245.050000 82.070000 54.820000    ...    40.130000   \n",
       "\n",
       "ticker          XLNX       XOM      XRAY      XRX       XYL      YHOO  \\\n",
       "date                                                                    \n",
       "2017-03-01 59.680000 83.020000 64.500000 7.390000 49.550000 46.240000   \n",
       "2017-03-02 59.350000 83.300000 63.650000 7.290000 48.890000 45.940000   \n",
       "2017-03-03 58.740000 82.460000 63.360000 7.360000 48.730000 45.910000   \n",
       "2017-03-06 58.810000 82.830000 62.750000 7.450000 48.530000 45.640000   \n",
       "2017-03-07 58.750000 82.520000 62.550000 7.360000 48.780000 45.730000   \n",
       "\n",
       "ticker           YUM        ZBH      ZION  \n",
       "date                                       \n",
       "2017-03-01 65.570000 118.890000 46.530000  \n",
       "2017-03-02 65.210000 118.020000 44.960000  \n",
       "2017-03-03 65.030000 118.280000 45.360000  \n",
       "2017-03-06 64.500000 117.220000 45.330000  \n",
       "2017-03-07 64.020000 117.070000 45.280000  \n",
       "\n",
       "[5 rows x 450 columns]"
      ]
     },
     "execution_count": 105,
     "metadata": {},
     "output_type": "execute_result"
    }
   ],
   "source": [
    "stock_prices.columns = stock_prices.columns.droplevel(0) #Se elimina el header principal para evitar el multindex\n",
    "stock_prices = stock_prices.fillna(0) #NaN se rellenan con 0\n",
    "stock_prices.head()"
   ]
  },
  {
   "cell_type": "markdown",
   "metadata": {},
   "source": [
    "Para tener los pesos de las acciones presentes en Quandl es necesario hacer match entre los tickers del etf y los de la fuente de precios."
   ]
  },
  {
   "cell_type": "code",
   "execution_count": 106,
   "metadata": {},
   "outputs": [],
   "source": [
    "tickers_quandl = [stock_prices.columns[i] for i in range(len(stock_prices.columns))] #Extraemos los tickers disponibles de quandl"
   ]
  },
  {
   "cell_type": "code",
   "execution_count": 107,
   "metadata": {},
   "outputs": [],
   "source": [
    "df_w = pd.DataFrame(tickers_quandl, columns=['Ticker']) # Tickers se hacen un dataframe\n",
    "# Se unen todos los datos de los dataframes con los tickers originales\n",
    "all_df_etf = [df_w.set_index('Ticker').join(data_etf[i].set_index('Ticker'), on='Ticker') for i in range(len(data_etf))]\n",
    "# Limpiando los dataframes para eliminar activos que no fueron necesarios en cada mes\n",
    "final_etf_data = [all_df_etf[i].dropna() for i in range(len(all_df_etf))]"
   ]
  },
  {
   "cell_type": "markdown",
   "metadata": {},
   "source": [
    "## ¿Cómo se calcula el NAV (Net Asset Value) de un ETF?"
   ]
  },
  {
   "cell_type": "markdown",
   "metadata": {},
   "source": [
    "Se suma el valor total de cada uno de los instrumentos que componen el ETF, y se divide entre el numero de certificados que el ETF emitió. \n",
    "\n",
    "$$ NAV = \\frac{\\sum (Títulos\\,de\\,cada\\,acción * precio)}{Acciones\\,en\\,circulación\\,del\\,etf}$$"
   ]
  },
  {
   "cell_type": "markdown",
   "metadata": {},
   "source": [
    "### Cálculo del NAV "
   ]
  },
  {
   "cell_type": "markdown",
   "metadata": {},
   "source": [
    "#### NAV y rendimientos mensuales de los archivos de iShares"
   ]
  },
  {
   "cell_type": "markdown",
   "metadata": {},
   "source": [
    "Se calculan los rendimientos mensuales del etf, tomando en cuenta el market value $(acciones*precio)$."
   ]
  },
  {
   "cell_type": "code",
   "execution_count": 108,
   "metadata": {},
   "outputs": [],
   "source": [
    "nav_mensual = [sum([s2f(final_etf_data[i].iloc[j,5]) for j in range(len(final_etf_data[i]))])/etf_shares[i] \n",
    "                      for i in range(len(final_etf_data))] #Se calcula el nav de los archivos originales\n",
    "\n",
    "rend_etf_mensual = [((nav_mensual[i]/nav_mensual[i-1])-1) for i in (np.arange(1,len(nav_mensual)))] #Rendimiento mensual"
   ]
  },
  {
   "cell_type": "code",
   "execution_count": 109,
   "metadata": {
    "scrolled": true
   },
   "outputs": [
    {
     "data": {
      "application/vnd.plotly.v1+json": {
       "config": {
        "plotlyServerURL": "https://plot.ly"
       },
       "data": [
        {
         "type": "scatter",
         "uid": "ea09cbae-44c3-452e-b006-32f3b08c9af4",
         "x": [
          "Mar-17",
          "Abr-17",
          "May-17",
          "Jun-17",
          "Jul-17",
          "Ago-17",
          "Sept-17",
          "Oct-17",
          "Nov-17",
          "Dic-17",
          "Ene-18",
          "Feb-18",
          "Mar-18"
         ],
         "y": [
          100.26147445371994,
          100.07596454136085,
          98.30307095617718,
          101.17725403913722,
          102.41455900650979,
          100.90740925252057,
          103.6387123514539,
          104.73627362798173,
          108.14036142358731,
          109.95018018331456,
          114.34799803808816,
          107.76191585885918,
          105.19172162528041
         ]
        }
       ],
       "layout": {
        "template": {
         "data": {
          "bar": [
           {
            "error_x": {
             "color": "#2a3f5f"
            },
            "error_y": {
             "color": "#2a3f5f"
            },
            "marker": {
             "line": {
              "color": "#E5ECF6",
              "width": 0.5
             }
            },
            "type": "bar"
           }
          ],
          "barpolar": [
           {
            "marker": {
             "line": {
              "color": "#E5ECF6",
              "width": 0.5
             }
            },
            "type": "barpolar"
           }
          ],
          "carpet": [
           {
            "aaxis": {
             "endlinecolor": "#2a3f5f",
             "gridcolor": "white",
             "linecolor": "white",
             "minorgridcolor": "white",
             "startlinecolor": "#2a3f5f"
            },
            "baxis": {
             "endlinecolor": "#2a3f5f",
             "gridcolor": "white",
             "linecolor": "white",
             "minorgridcolor": "white",
             "startlinecolor": "#2a3f5f"
            },
            "type": "carpet"
           }
          ],
          "choropleth": [
           {
            "colorbar": {
             "outlinewidth": 0,
             "ticks": ""
            },
            "type": "choropleth"
           }
          ],
          "contour": [
           {
            "colorbar": {
             "outlinewidth": 0,
             "ticks": ""
            },
            "colorscale": [
             [
              0,
              "#0d0887"
             ],
             [
              0.1111111111111111,
              "#46039f"
             ],
             [
              0.2222222222222222,
              "#7201a8"
             ],
             [
              0.3333333333333333,
              "#9c179e"
             ],
             [
              0.4444444444444444,
              "#bd3786"
             ],
             [
              0.5555555555555556,
              "#d8576b"
             ],
             [
              0.6666666666666666,
              "#ed7953"
             ],
             [
              0.7777777777777778,
              "#fb9f3a"
             ],
             [
              0.8888888888888888,
              "#fdca26"
             ],
             [
              1,
              "#f0f921"
             ]
            ],
            "type": "contour"
           }
          ],
          "contourcarpet": [
           {
            "colorbar": {
             "outlinewidth": 0,
             "ticks": ""
            },
            "type": "contourcarpet"
           }
          ],
          "heatmap": [
           {
            "colorbar": {
             "outlinewidth": 0,
             "ticks": ""
            },
            "colorscale": [
             [
              0,
              "#0d0887"
             ],
             [
              0.1111111111111111,
              "#46039f"
             ],
             [
              0.2222222222222222,
              "#7201a8"
             ],
             [
              0.3333333333333333,
              "#9c179e"
             ],
             [
              0.4444444444444444,
              "#bd3786"
             ],
             [
              0.5555555555555556,
              "#d8576b"
             ],
             [
              0.6666666666666666,
              "#ed7953"
             ],
             [
              0.7777777777777778,
              "#fb9f3a"
             ],
             [
              0.8888888888888888,
              "#fdca26"
             ],
             [
              1,
              "#f0f921"
             ]
            ],
            "type": "heatmap"
           }
          ],
          "heatmapgl": [
           {
            "colorbar": {
             "outlinewidth": 0,
             "ticks": ""
            },
            "colorscale": [
             [
              0,
              "#0d0887"
             ],
             [
              0.1111111111111111,
              "#46039f"
             ],
             [
              0.2222222222222222,
              "#7201a8"
             ],
             [
              0.3333333333333333,
              "#9c179e"
             ],
             [
              0.4444444444444444,
              "#bd3786"
             ],
             [
              0.5555555555555556,
              "#d8576b"
             ],
             [
              0.6666666666666666,
              "#ed7953"
             ],
             [
              0.7777777777777778,
              "#fb9f3a"
             ],
             [
              0.8888888888888888,
              "#fdca26"
             ],
             [
              1,
              "#f0f921"
             ]
            ],
            "type": "heatmapgl"
           }
          ],
          "histogram": [
           {
            "marker": {
             "colorbar": {
              "outlinewidth": 0,
              "ticks": ""
             }
            },
            "type": "histogram"
           }
          ],
          "histogram2d": [
           {
            "colorbar": {
             "outlinewidth": 0,
             "ticks": ""
            },
            "colorscale": [
             [
              0,
              "#0d0887"
             ],
             [
              0.1111111111111111,
              "#46039f"
             ],
             [
              0.2222222222222222,
              "#7201a8"
             ],
             [
              0.3333333333333333,
              "#9c179e"
             ],
             [
              0.4444444444444444,
              "#bd3786"
             ],
             [
              0.5555555555555556,
              "#d8576b"
             ],
             [
              0.6666666666666666,
              "#ed7953"
             ],
             [
              0.7777777777777778,
              "#fb9f3a"
             ],
             [
              0.8888888888888888,
              "#fdca26"
             ],
             [
              1,
              "#f0f921"
             ]
            ],
            "type": "histogram2d"
           }
          ],
          "histogram2dcontour": [
           {
            "colorbar": {
             "outlinewidth": 0,
             "ticks": ""
            },
            "colorscale": [
             [
              0,
              "#0d0887"
             ],
             [
              0.1111111111111111,
              "#46039f"
             ],
             [
              0.2222222222222222,
              "#7201a8"
             ],
             [
              0.3333333333333333,
              "#9c179e"
             ],
             [
              0.4444444444444444,
              "#bd3786"
             ],
             [
              0.5555555555555556,
              "#d8576b"
             ],
             [
              0.6666666666666666,
              "#ed7953"
             ],
             [
              0.7777777777777778,
              "#fb9f3a"
             ],
             [
              0.8888888888888888,
              "#fdca26"
             ],
             [
              1,
              "#f0f921"
             ]
            ],
            "type": "histogram2dcontour"
           }
          ],
          "mesh3d": [
           {
            "colorbar": {
             "outlinewidth": 0,
             "ticks": ""
            },
            "type": "mesh3d"
           }
          ],
          "parcoords": [
           {
            "line": {
             "colorbar": {
              "outlinewidth": 0,
              "ticks": ""
             }
            },
            "type": "parcoords"
           }
          ],
          "scatter": [
           {
            "marker": {
             "colorbar": {
              "outlinewidth": 0,
              "ticks": ""
             }
            },
            "type": "scatter"
           }
          ],
          "scatter3d": [
           {
            "line": {
             "colorbar": {
              "outlinewidth": 0,
              "ticks": ""
             }
            },
            "marker": {
             "colorbar": {
              "outlinewidth": 0,
              "ticks": ""
             }
            },
            "type": "scatter3d"
           }
          ],
          "scattercarpet": [
           {
            "marker": {
             "colorbar": {
              "outlinewidth": 0,
              "ticks": ""
             }
            },
            "type": "scattercarpet"
           }
          ],
          "scattergeo": [
           {
            "marker": {
             "colorbar": {
              "outlinewidth": 0,
              "ticks": ""
             }
            },
            "type": "scattergeo"
           }
          ],
          "scattergl": [
           {
            "marker": {
             "colorbar": {
              "outlinewidth": 0,
              "ticks": ""
             }
            },
            "type": "scattergl"
           }
          ],
          "scattermapbox": [
           {
            "marker": {
             "colorbar": {
              "outlinewidth": 0,
              "ticks": ""
             }
            },
            "type": "scattermapbox"
           }
          ],
          "scatterpolar": [
           {
            "marker": {
             "colorbar": {
              "outlinewidth": 0,
              "ticks": ""
             }
            },
            "type": "scatterpolar"
           }
          ],
          "scatterpolargl": [
           {
            "marker": {
             "colorbar": {
              "outlinewidth": 0,
              "ticks": ""
             }
            },
            "type": "scatterpolargl"
           }
          ],
          "scatterternary": [
           {
            "marker": {
             "colorbar": {
              "outlinewidth": 0,
              "ticks": ""
             }
            },
            "type": "scatterternary"
           }
          ],
          "surface": [
           {
            "colorbar": {
             "outlinewidth": 0,
             "ticks": ""
            },
            "colorscale": [
             [
              0,
              "#0d0887"
             ],
             [
              0.1111111111111111,
              "#46039f"
             ],
             [
              0.2222222222222222,
              "#7201a8"
             ],
             [
              0.3333333333333333,
              "#9c179e"
             ],
             [
              0.4444444444444444,
              "#bd3786"
             ],
             [
              0.5555555555555556,
              "#d8576b"
             ],
             [
              0.6666666666666666,
              "#ed7953"
             ],
             [
              0.7777777777777778,
              "#fb9f3a"
             ],
             [
              0.8888888888888888,
              "#fdca26"
             ],
             [
              1,
              "#f0f921"
             ]
            ],
            "type": "surface"
           }
          ],
          "table": [
           {
            "cells": {
             "fill": {
              "color": "#EBF0F8"
             },
             "line": {
              "color": "white"
             }
            },
            "header": {
             "fill": {
              "color": "#C8D4E3"
             },
             "line": {
              "color": "white"
             }
            },
            "type": "table"
           }
          ]
         },
         "layout": {
          "annotationdefaults": {
           "arrowcolor": "#2a3f5f",
           "arrowhead": 0,
           "arrowwidth": 1
          },
          "colorscale": {
           "diverging": [
            [
             0,
             "#8e0152"
            ],
            [
             0.1,
             "#c51b7d"
            ],
            [
             0.2,
             "#de77ae"
            ],
            [
             0.3,
             "#f1b6da"
            ],
            [
             0.4,
             "#fde0ef"
            ],
            [
             0.5,
             "#f7f7f7"
            ],
            [
             0.6,
             "#e6f5d0"
            ],
            [
             0.7,
             "#b8e186"
            ],
            [
             0.8,
             "#7fbc41"
            ],
            [
             0.9,
             "#4d9221"
            ],
            [
             1,
             "#276419"
            ]
           ],
           "sequential": [
            [
             0,
             "#0d0887"
            ],
            [
             0.1111111111111111,
             "#46039f"
            ],
            [
             0.2222222222222222,
             "#7201a8"
            ],
            [
             0.3333333333333333,
             "#9c179e"
            ],
            [
             0.4444444444444444,
             "#bd3786"
            ],
            [
             0.5555555555555556,
             "#d8576b"
            ],
            [
             0.6666666666666666,
             "#ed7953"
            ],
            [
             0.7777777777777778,
             "#fb9f3a"
            ],
            [
             0.8888888888888888,
             "#fdca26"
            ],
            [
             1,
             "#f0f921"
            ]
           ],
           "sequentialminus": [
            [
             0,
             "#0d0887"
            ],
            [
             0.1111111111111111,
             "#46039f"
            ],
            [
             0.2222222222222222,
             "#7201a8"
            ],
            [
             0.3333333333333333,
             "#9c179e"
            ],
            [
             0.4444444444444444,
             "#bd3786"
            ],
            [
             0.5555555555555556,
             "#d8576b"
            ],
            [
             0.6666666666666666,
             "#ed7953"
            ],
            [
             0.7777777777777778,
             "#fb9f3a"
            ],
            [
             0.8888888888888888,
             "#fdca26"
            ],
            [
             1,
             "#f0f921"
            ]
           ]
          },
          "colorway": [
           "#636efa",
           "#EF553B",
           "#00cc96",
           "#ab63fa",
           "#FFA15A",
           "#19d3f3",
           "#FF6692",
           "#B6E880",
           "#FF97FF",
           "#FECB52"
          ],
          "font": {
           "color": "#2a3f5f"
          },
          "geo": {
           "bgcolor": "white",
           "lakecolor": "white",
           "landcolor": "#E5ECF6",
           "showlakes": true,
           "showland": true,
           "subunitcolor": "white"
          },
          "hoverlabel": {
           "align": "left"
          },
          "hovermode": "closest",
          "mapbox": {
           "style": "light"
          },
          "paper_bgcolor": "white",
          "plot_bgcolor": "#E5ECF6",
          "polar": {
           "angularaxis": {
            "gridcolor": "white",
            "linecolor": "white",
            "ticks": ""
           },
           "bgcolor": "#E5ECF6",
           "radialaxis": {
            "gridcolor": "white",
            "linecolor": "white",
            "ticks": ""
           }
          },
          "scene": {
           "xaxis": {
            "backgroundcolor": "#E5ECF6",
            "gridcolor": "white",
            "gridwidth": 2,
            "linecolor": "white",
            "showbackground": true,
            "ticks": "",
            "zerolinecolor": "white"
           },
           "yaxis": {
            "backgroundcolor": "#E5ECF6",
            "gridcolor": "white",
            "gridwidth": 2,
            "linecolor": "white",
            "showbackground": true,
            "ticks": "",
            "zerolinecolor": "white"
           },
           "zaxis": {
            "backgroundcolor": "#E5ECF6",
            "gridcolor": "white",
            "gridwidth": 2,
            "linecolor": "white",
            "showbackground": true,
            "ticks": "",
            "zerolinecolor": "white"
           }
          },
          "shapedefaults": {
           "line": {
            "color": "#2a3f5f"
           }
          },
          "ternary": {
           "aaxis": {
            "gridcolor": "white",
            "linecolor": "white",
            "ticks": ""
           },
           "baxis": {
            "gridcolor": "white",
            "linecolor": "white",
            "ticks": ""
           },
           "bgcolor": "#E5ECF6",
           "caxis": {
            "gridcolor": "white",
            "linecolor": "white",
            "ticks": ""
           }
          },
          "title": {
           "x": 0.05
          },
          "xaxis": {
           "automargin": true,
           "gridcolor": "white",
           "linecolor": "white",
           "ticks": "",
           "zerolinecolor": "white",
           "zerolinewidth": 2
          },
          "yaxis": {
           "automargin": true,
           "gridcolor": "white",
           "linecolor": "white",
           "ticks": "",
           "zerolinecolor": "white",
           "zerolinewidth": 2
          }
         }
        },
        "title": {
         "text": "NAV mensual IVE Etf"
        },
        "xaxis": {
         "title": {
          "text": "Meses"
         }
        },
        "yaxis": {
         "title": {
          "text": "Precios"
         }
        }
       }
      },
      "text/html": [
       "<div>\n",
       "        \n",
       "        \n",
       "            <div id=\"f77c32bc-bc73-4210-b0fb-ac574e747efc\" class=\"plotly-graph-div\" style=\"height:525px; width:100%;\"></div>\n",
       "            <script type=\"text/javascript\">\n",
       "                require([\"plotly\"], function(Plotly) {\n",
       "                    window.PLOTLYENV=window.PLOTLYENV || {};\n",
       "                    \n",
       "                if (document.getElementById(\"f77c32bc-bc73-4210-b0fb-ac574e747efc\")) {\n",
       "                    Plotly.newPlot(\n",
       "                        'f77c32bc-bc73-4210-b0fb-ac574e747efc',\n",
       "                        [{\"type\": \"scatter\", \"uid\": \"ea09cbae-44c3-452e-b006-32f3b08c9af4\", \"x\": [\"Mar-17\", \"Abr-17\", \"May-17\", \"Jun-17\", \"Jul-17\", \"Ago-17\", \"Sept-17\", \"Oct-17\", \"Nov-17\", \"Dic-17\", \"Ene-18\", \"Feb-18\", \"Mar-18\"], \"y\": [100.26147445371994, 100.07596454136085, 98.30307095617718, 101.17725403913722, 102.41455900650979, 100.90740925252057, 103.6387123514539, 104.73627362798173, 108.14036142358731, 109.95018018331456, 114.34799803808816, 107.76191585885918, 105.19172162528041]}],\n",
       "                        {\"template\": {\"data\": {\"bar\": [{\"error_x\": {\"color\": \"#2a3f5f\"}, \"error_y\": {\"color\": \"#2a3f5f\"}, \"marker\": {\"line\": {\"color\": \"#E5ECF6\", \"width\": 0.5}}, \"type\": \"bar\"}], \"barpolar\": [{\"marker\": {\"line\": {\"color\": \"#E5ECF6\", \"width\": 0.5}}, \"type\": \"barpolar\"}], \"carpet\": [{\"aaxis\": {\"endlinecolor\": \"#2a3f5f\", \"gridcolor\": \"white\", \"linecolor\": \"white\", \"minorgridcolor\": \"white\", \"startlinecolor\": \"#2a3f5f\"}, \"baxis\": {\"endlinecolor\": \"#2a3f5f\", \"gridcolor\": \"white\", \"linecolor\": \"white\", \"minorgridcolor\": \"white\", \"startlinecolor\": \"#2a3f5f\"}, \"type\": \"carpet\"}], \"choropleth\": [{\"colorbar\": {\"outlinewidth\": 0, \"ticks\": \"\"}, \"type\": \"choropleth\"}], \"contour\": [{\"colorbar\": {\"outlinewidth\": 0, \"ticks\": \"\"}, \"colorscale\": [[0.0, \"#0d0887\"], [0.1111111111111111, \"#46039f\"], [0.2222222222222222, \"#7201a8\"], [0.3333333333333333, \"#9c179e\"], [0.4444444444444444, \"#bd3786\"], [0.5555555555555556, \"#d8576b\"], [0.6666666666666666, \"#ed7953\"], [0.7777777777777778, \"#fb9f3a\"], [0.8888888888888888, \"#fdca26\"], [1.0, \"#f0f921\"]], \"type\": \"contour\"}], \"contourcarpet\": [{\"colorbar\": {\"outlinewidth\": 0, \"ticks\": \"\"}, \"type\": \"contourcarpet\"}], \"heatmap\": [{\"colorbar\": {\"outlinewidth\": 0, \"ticks\": \"\"}, \"colorscale\": [[0.0, \"#0d0887\"], [0.1111111111111111, \"#46039f\"], [0.2222222222222222, \"#7201a8\"], [0.3333333333333333, \"#9c179e\"], [0.4444444444444444, \"#bd3786\"], [0.5555555555555556, \"#d8576b\"], [0.6666666666666666, \"#ed7953\"], [0.7777777777777778, \"#fb9f3a\"], [0.8888888888888888, \"#fdca26\"], [1.0, \"#f0f921\"]], \"type\": \"heatmap\"}], \"heatmapgl\": [{\"colorbar\": {\"outlinewidth\": 0, \"ticks\": \"\"}, \"colorscale\": [[0.0, \"#0d0887\"], [0.1111111111111111, \"#46039f\"], [0.2222222222222222, \"#7201a8\"], [0.3333333333333333, \"#9c179e\"], [0.4444444444444444, \"#bd3786\"], [0.5555555555555556, \"#d8576b\"], [0.6666666666666666, \"#ed7953\"], [0.7777777777777778, \"#fb9f3a\"], [0.8888888888888888, \"#fdca26\"], [1.0, \"#f0f921\"]], \"type\": \"heatmapgl\"}], \"histogram\": [{\"marker\": {\"colorbar\": {\"outlinewidth\": 0, \"ticks\": \"\"}}, \"type\": \"histogram\"}], \"histogram2d\": [{\"colorbar\": {\"outlinewidth\": 0, \"ticks\": \"\"}, \"colorscale\": [[0.0, \"#0d0887\"], [0.1111111111111111, \"#46039f\"], [0.2222222222222222, \"#7201a8\"], [0.3333333333333333, \"#9c179e\"], [0.4444444444444444, \"#bd3786\"], [0.5555555555555556, \"#d8576b\"], [0.6666666666666666, \"#ed7953\"], [0.7777777777777778, \"#fb9f3a\"], [0.8888888888888888, \"#fdca26\"], [1.0, \"#f0f921\"]], \"type\": \"histogram2d\"}], \"histogram2dcontour\": [{\"colorbar\": {\"outlinewidth\": 0, \"ticks\": \"\"}, \"colorscale\": [[0.0, \"#0d0887\"], [0.1111111111111111, \"#46039f\"], [0.2222222222222222, \"#7201a8\"], [0.3333333333333333, \"#9c179e\"], [0.4444444444444444, \"#bd3786\"], [0.5555555555555556, \"#d8576b\"], [0.6666666666666666, \"#ed7953\"], [0.7777777777777778, \"#fb9f3a\"], [0.8888888888888888, \"#fdca26\"], [1.0, \"#f0f921\"]], \"type\": \"histogram2dcontour\"}], \"mesh3d\": [{\"colorbar\": {\"outlinewidth\": 0, \"ticks\": \"\"}, \"type\": \"mesh3d\"}], \"parcoords\": [{\"line\": {\"colorbar\": {\"outlinewidth\": 0, \"ticks\": \"\"}}, \"type\": \"parcoords\"}], \"scatter\": [{\"marker\": {\"colorbar\": {\"outlinewidth\": 0, \"ticks\": \"\"}}, \"type\": \"scatter\"}], \"scatter3d\": [{\"line\": {\"colorbar\": {\"outlinewidth\": 0, \"ticks\": \"\"}}, \"marker\": {\"colorbar\": {\"outlinewidth\": 0, \"ticks\": \"\"}}, \"type\": \"scatter3d\"}], \"scattercarpet\": [{\"marker\": {\"colorbar\": {\"outlinewidth\": 0, \"ticks\": \"\"}}, \"type\": \"scattercarpet\"}], \"scattergeo\": [{\"marker\": {\"colorbar\": {\"outlinewidth\": 0, \"ticks\": \"\"}}, \"type\": \"scattergeo\"}], \"scattergl\": [{\"marker\": {\"colorbar\": {\"outlinewidth\": 0, \"ticks\": \"\"}}, \"type\": \"scattergl\"}], \"scattermapbox\": [{\"marker\": {\"colorbar\": {\"outlinewidth\": 0, \"ticks\": \"\"}}, \"type\": \"scattermapbox\"}], \"scatterpolar\": [{\"marker\": {\"colorbar\": {\"outlinewidth\": 0, \"ticks\": \"\"}}, \"type\": \"scatterpolar\"}], \"scatterpolargl\": [{\"marker\": {\"colorbar\": {\"outlinewidth\": 0, \"ticks\": \"\"}}, \"type\": \"scatterpolargl\"}], \"scatterternary\": [{\"marker\": {\"colorbar\": {\"outlinewidth\": 0, \"ticks\": \"\"}}, \"type\": \"scatterternary\"}], \"surface\": [{\"colorbar\": {\"outlinewidth\": 0, \"ticks\": \"\"}, \"colorscale\": [[0.0, \"#0d0887\"], [0.1111111111111111, \"#46039f\"], [0.2222222222222222, \"#7201a8\"], [0.3333333333333333, \"#9c179e\"], [0.4444444444444444, \"#bd3786\"], [0.5555555555555556, \"#d8576b\"], [0.6666666666666666, \"#ed7953\"], [0.7777777777777778, \"#fb9f3a\"], [0.8888888888888888, \"#fdca26\"], [1.0, \"#f0f921\"]], \"type\": \"surface\"}], \"table\": [{\"cells\": {\"fill\": {\"color\": \"#EBF0F8\"}, \"line\": {\"color\": \"white\"}}, \"header\": {\"fill\": {\"color\": \"#C8D4E3\"}, \"line\": {\"color\": \"white\"}}, \"type\": \"table\"}]}, \"layout\": {\"annotationdefaults\": {\"arrowcolor\": \"#2a3f5f\", \"arrowhead\": 0, \"arrowwidth\": 1}, \"colorscale\": {\"diverging\": [[0, \"#8e0152\"], [0.1, \"#c51b7d\"], [0.2, \"#de77ae\"], [0.3, \"#f1b6da\"], [0.4, \"#fde0ef\"], [0.5, \"#f7f7f7\"], [0.6, \"#e6f5d0\"], [0.7, \"#b8e186\"], [0.8, \"#7fbc41\"], [0.9, \"#4d9221\"], [1, \"#276419\"]], \"sequential\": [[0.0, \"#0d0887\"], [0.1111111111111111, \"#46039f\"], [0.2222222222222222, \"#7201a8\"], [0.3333333333333333, \"#9c179e\"], [0.4444444444444444, \"#bd3786\"], [0.5555555555555556, \"#d8576b\"], [0.6666666666666666, \"#ed7953\"], [0.7777777777777778, \"#fb9f3a\"], [0.8888888888888888, \"#fdca26\"], [1.0, \"#f0f921\"]], \"sequentialminus\": [[0.0, \"#0d0887\"], [0.1111111111111111, \"#46039f\"], [0.2222222222222222, \"#7201a8\"], [0.3333333333333333, \"#9c179e\"], [0.4444444444444444, \"#bd3786\"], [0.5555555555555556, \"#d8576b\"], [0.6666666666666666, \"#ed7953\"], [0.7777777777777778, \"#fb9f3a\"], [0.8888888888888888, \"#fdca26\"], [1.0, \"#f0f921\"]]}, \"colorway\": [\"#636efa\", \"#EF553B\", \"#00cc96\", \"#ab63fa\", \"#FFA15A\", \"#19d3f3\", \"#FF6692\", \"#B6E880\", \"#FF97FF\", \"#FECB52\"], \"font\": {\"color\": \"#2a3f5f\"}, \"geo\": {\"bgcolor\": \"white\", \"lakecolor\": \"white\", \"landcolor\": \"#E5ECF6\", \"showlakes\": true, \"showland\": true, \"subunitcolor\": \"white\"}, \"hoverlabel\": {\"align\": \"left\"}, \"hovermode\": \"closest\", \"mapbox\": {\"style\": \"light\"}, \"paper_bgcolor\": \"white\", \"plot_bgcolor\": \"#E5ECF6\", \"polar\": {\"angularaxis\": {\"gridcolor\": \"white\", \"linecolor\": \"white\", \"ticks\": \"\"}, \"bgcolor\": \"#E5ECF6\", \"radialaxis\": {\"gridcolor\": \"white\", \"linecolor\": \"white\", \"ticks\": \"\"}}, \"scene\": {\"xaxis\": {\"backgroundcolor\": \"#E5ECF6\", \"gridcolor\": \"white\", \"gridwidth\": 2, \"linecolor\": \"white\", \"showbackground\": true, \"ticks\": \"\", \"zerolinecolor\": \"white\"}, \"yaxis\": {\"backgroundcolor\": \"#E5ECF6\", \"gridcolor\": \"white\", \"gridwidth\": 2, \"linecolor\": \"white\", \"showbackground\": true, \"ticks\": \"\", \"zerolinecolor\": \"white\"}, \"zaxis\": {\"backgroundcolor\": \"#E5ECF6\", \"gridcolor\": \"white\", \"gridwidth\": 2, \"linecolor\": \"white\", \"showbackground\": true, \"ticks\": \"\", \"zerolinecolor\": \"white\"}}, \"shapedefaults\": {\"line\": {\"color\": \"#2a3f5f\"}}, \"ternary\": {\"aaxis\": {\"gridcolor\": \"white\", \"linecolor\": \"white\", \"ticks\": \"\"}, \"baxis\": {\"gridcolor\": \"white\", \"linecolor\": \"white\", \"ticks\": \"\"}, \"bgcolor\": \"#E5ECF6\", \"caxis\": {\"gridcolor\": \"white\", \"linecolor\": \"white\", \"ticks\": \"\"}}, \"title\": {\"x\": 0.05}, \"xaxis\": {\"automargin\": true, \"gridcolor\": \"white\", \"linecolor\": \"white\", \"ticks\": \"\", \"zerolinecolor\": \"white\", \"zerolinewidth\": 2}, \"yaxis\": {\"automargin\": true, \"gridcolor\": \"white\", \"linecolor\": \"white\", \"ticks\": \"\", \"zerolinecolor\": \"white\", \"zerolinewidth\": 2}}}, \"title\": {\"text\": \"NAV mensual IVE Etf\"}, \"xaxis\": {\"title\": {\"text\": \"Meses\"}}, \"yaxis\": {\"title\": {\"text\": \"Precios\"}}},\n",
       "                        {\"responsive\": true}\n",
       "                    ).then(function(){\n",
       "                            \n",
       "var gd = document.getElementById('f77c32bc-bc73-4210-b0fb-ac574e747efc');\n",
       "var x = new MutationObserver(function (mutations, observer) {{\n",
       "        var display = window.getComputedStyle(gd).display;\n",
       "        if (!display || display === 'none') {{\n",
       "            console.log([gd, 'removed!']);\n",
       "            Plotly.purge(gd);\n",
       "            observer.disconnect();\n",
       "        }}\n",
       "}});\n",
       "\n",
       "// Listen for the removal of the full notebook cells\n",
       "var notebookContainer = gd.closest('#notebook-container');\n",
       "if (notebookContainer) {{\n",
       "    x.observe(notebookContainer, {childList: true});\n",
       "}}\n",
       "\n",
       "// Listen for the clearing of the current output cell\n",
       "var outputEl = gd.closest('.output');\n",
       "if (outputEl) {{\n",
       "    x.observe(outputEl, {childList: true});\n",
       "}}\n",
       "\n",
       "                        })\n",
       "                };\n",
       "                });\n",
       "            </script>\n",
       "        </div>"
      ]
     },
     "metadata": {},
     "output_type": "display_data"
    }
   ],
   "source": [
    "fig = go.FigureWidget() #Se crea la figura \n",
    "fig.add_scatter(x=['Mar-17','Abr-17','May-17','Jun-17','Jul-17','Ago-17','Sept-17','Oct-17','Nov-17',\n",
    "                              'Dic-17','Ene-18','Feb-18','Mar-18'] ,y=nav_mensual)\n",
    "fig.layout.title = 'NAV mensual IVE Etf'\n",
    "fig.update_layout(xaxis=go.layout.XAxis(title=go.layout.xaxis.Title(text=\"Meses\")), #Títulos a los ejes\n",
    "                 yaxis=go.layout.YAxis(title=go.layout.yaxis.Title(text=\"Precios\")))\n",
    "fig.show()"
   ]
  },
  {
   "cell_type": "code",
   "execution_count": 110,
   "metadata": {
    "scrolled": true
   },
   "outputs": [
    {
     "data": {
      "application/vnd.plotly.v1+json": {
       "config": {
        "plotlyServerURL": "https://plot.ly"
       },
       "data": [
        {
         "type": "scatter",
         "uid": "ff3aeb95-62fe-43f6-8a79-1489a66e495e",
         "x": [
          "Abr-17",
          "May-17",
          "Jun-17",
          "Jul-17",
          "Ago-17",
          "Sept-17",
          "Oct-17",
          "Nov-17",
          "Dic-17",
          "Ene-18",
          "Feb-18",
          "Mar-18"
         ],
         "y": [
          -0.0018502611633217647,
          -0.017715478369943027,
          0.029237978579950363,
          0.012229082308301775,
          -0.014716167004082181,
          0.02706741872738272,
          0.010590263537874067,
          0.032501517169655436,
          0.016735830506781513,
          0.039998277833118046,
          -0.05759682978476999,
          -0.023850673153816948
         ]
        }
       ],
       "layout": {
        "template": {
         "data": {
          "bar": [
           {
            "error_x": {
             "color": "#2a3f5f"
            },
            "error_y": {
             "color": "#2a3f5f"
            },
            "marker": {
             "line": {
              "color": "#E5ECF6",
              "width": 0.5
             }
            },
            "type": "bar"
           }
          ],
          "barpolar": [
           {
            "marker": {
             "line": {
              "color": "#E5ECF6",
              "width": 0.5
             }
            },
            "type": "barpolar"
           }
          ],
          "carpet": [
           {
            "aaxis": {
             "endlinecolor": "#2a3f5f",
             "gridcolor": "white",
             "linecolor": "white",
             "minorgridcolor": "white",
             "startlinecolor": "#2a3f5f"
            },
            "baxis": {
             "endlinecolor": "#2a3f5f",
             "gridcolor": "white",
             "linecolor": "white",
             "minorgridcolor": "white",
             "startlinecolor": "#2a3f5f"
            },
            "type": "carpet"
           }
          ],
          "choropleth": [
           {
            "colorbar": {
             "outlinewidth": 0,
             "ticks": ""
            },
            "type": "choropleth"
           }
          ],
          "contour": [
           {
            "colorbar": {
             "outlinewidth": 0,
             "ticks": ""
            },
            "colorscale": [
             [
              0,
              "#0d0887"
             ],
             [
              0.1111111111111111,
              "#46039f"
             ],
             [
              0.2222222222222222,
              "#7201a8"
             ],
             [
              0.3333333333333333,
              "#9c179e"
             ],
             [
              0.4444444444444444,
              "#bd3786"
             ],
             [
              0.5555555555555556,
              "#d8576b"
             ],
             [
              0.6666666666666666,
              "#ed7953"
             ],
             [
              0.7777777777777778,
              "#fb9f3a"
             ],
             [
              0.8888888888888888,
              "#fdca26"
             ],
             [
              1,
              "#f0f921"
             ]
            ],
            "type": "contour"
           }
          ],
          "contourcarpet": [
           {
            "colorbar": {
             "outlinewidth": 0,
             "ticks": ""
            },
            "type": "contourcarpet"
           }
          ],
          "heatmap": [
           {
            "colorbar": {
             "outlinewidth": 0,
             "ticks": ""
            },
            "colorscale": [
             [
              0,
              "#0d0887"
             ],
             [
              0.1111111111111111,
              "#46039f"
             ],
             [
              0.2222222222222222,
              "#7201a8"
             ],
             [
              0.3333333333333333,
              "#9c179e"
             ],
             [
              0.4444444444444444,
              "#bd3786"
             ],
             [
              0.5555555555555556,
              "#d8576b"
             ],
             [
              0.6666666666666666,
              "#ed7953"
             ],
             [
              0.7777777777777778,
              "#fb9f3a"
             ],
             [
              0.8888888888888888,
              "#fdca26"
             ],
             [
              1,
              "#f0f921"
             ]
            ],
            "type": "heatmap"
           }
          ],
          "heatmapgl": [
           {
            "colorbar": {
             "outlinewidth": 0,
             "ticks": ""
            },
            "colorscale": [
             [
              0,
              "#0d0887"
             ],
             [
              0.1111111111111111,
              "#46039f"
             ],
             [
              0.2222222222222222,
              "#7201a8"
             ],
             [
              0.3333333333333333,
              "#9c179e"
             ],
             [
              0.4444444444444444,
              "#bd3786"
             ],
             [
              0.5555555555555556,
              "#d8576b"
             ],
             [
              0.6666666666666666,
              "#ed7953"
             ],
             [
              0.7777777777777778,
              "#fb9f3a"
             ],
             [
              0.8888888888888888,
              "#fdca26"
             ],
             [
              1,
              "#f0f921"
             ]
            ],
            "type": "heatmapgl"
           }
          ],
          "histogram": [
           {
            "marker": {
             "colorbar": {
              "outlinewidth": 0,
              "ticks": ""
             }
            },
            "type": "histogram"
           }
          ],
          "histogram2d": [
           {
            "colorbar": {
             "outlinewidth": 0,
             "ticks": ""
            },
            "colorscale": [
             [
              0,
              "#0d0887"
             ],
             [
              0.1111111111111111,
              "#46039f"
             ],
             [
              0.2222222222222222,
              "#7201a8"
             ],
             [
              0.3333333333333333,
              "#9c179e"
             ],
             [
              0.4444444444444444,
              "#bd3786"
             ],
             [
              0.5555555555555556,
              "#d8576b"
             ],
             [
              0.6666666666666666,
              "#ed7953"
             ],
             [
              0.7777777777777778,
              "#fb9f3a"
             ],
             [
              0.8888888888888888,
              "#fdca26"
             ],
             [
              1,
              "#f0f921"
             ]
            ],
            "type": "histogram2d"
           }
          ],
          "histogram2dcontour": [
           {
            "colorbar": {
             "outlinewidth": 0,
             "ticks": ""
            },
            "colorscale": [
             [
              0,
              "#0d0887"
             ],
             [
              0.1111111111111111,
              "#46039f"
             ],
             [
              0.2222222222222222,
              "#7201a8"
             ],
             [
              0.3333333333333333,
              "#9c179e"
             ],
             [
              0.4444444444444444,
              "#bd3786"
             ],
             [
              0.5555555555555556,
              "#d8576b"
             ],
             [
              0.6666666666666666,
              "#ed7953"
             ],
             [
              0.7777777777777778,
              "#fb9f3a"
             ],
             [
              0.8888888888888888,
              "#fdca26"
             ],
             [
              1,
              "#f0f921"
             ]
            ],
            "type": "histogram2dcontour"
           }
          ],
          "mesh3d": [
           {
            "colorbar": {
             "outlinewidth": 0,
             "ticks": ""
            },
            "type": "mesh3d"
           }
          ],
          "parcoords": [
           {
            "line": {
             "colorbar": {
              "outlinewidth": 0,
              "ticks": ""
             }
            },
            "type": "parcoords"
           }
          ],
          "scatter": [
           {
            "marker": {
             "colorbar": {
              "outlinewidth": 0,
              "ticks": ""
             }
            },
            "type": "scatter"
           }
          ],
          "scatter3d": [
           {
            "line": {
             "colorbar": {
              "outlinewidth": 0,
              "ticks": ""
             }
            },
            "marker": {
             "colorbar": {
              "outlinewidth": 0,
              "ticks": ""
             }
            },
            "type": "scatter3d"
           }
          ],
          "scattercarpet": [
           {
            "marker": {
             "colorbar": {
              "outlinewidth": 0,
              "ticks": ""
             }
            },
            "type": "scattercarpet"
           }
          ],
          "scattergeo": [
           {
            "marker": {
             "colorbar": {
              "outlinewidth": 0,
              "ticks": ""
             }
            },
            "type": "scattergeo"
           }
          ],
          "scattergl": [
           {
            "marker": {
             "colorbar": {
              "outlinewidth": 0,
              "ticks": ""
             }
            },
            "type": "scattergl"
           }
          ],
          "scattermapbox": [
           {
            "marker": {
             "colorbar": {
              "outlinewidth": 0,
              "ticks": ""
             }
            },
            "type": "scattermapbox"
           }
          ],
          "scatterpolar": [
           {
            "marker": {
             "colorbar": {
              "outlinewidth": 0,
              "ticks": ""
             }
            },
            "type": "scatterpolar"
           }
          ],
          "scatterpolargl": [
           {
            "marker": {
             "colorbar": {
              "outlinewidth": 0,
              "ticks": ""
             }
            },
            "type": "scatterpolargl"
           }
          ],
          "scatterternary": [
           {
            "marker": {
             "colorbar": {
              "outlinewidth": 0,
              "ticks": ""
             }
            },
            "type": "scatterternary"
           }
          ],
          "surface": [
           {
            "colorbar": {
             "outlinewidth": 0,
             "ticks": ""
            },
            "colorscale": [
             [
              0,
              "#0d0887"
             ],
             [
              0.1111111111111111,
              "#46039f"
             ],
             [
              0.2222222222222222,
              "#7201a8"
             ],
             [
              0.3333333333333333,
              "#9c179e"
             ],
             [
              0.4444444444444444,
              "#bd3786"
             ],
             [
              0.5555555555555556,
              "#d8576b"
             ],
             [
              0.6666666666666666,
              "#ed7953"
             ],
             [
              0.7777777777777778,
              "#fb9f3a"
             ],
             [
              0.8888888888888888,
              "#fdca26"
             ],
             [
              1,
              "#f0f921"
             ]
            ],
            "type": "surface"
           }
          ],
          "table": [
           {
            "cells": {
             "fill": {
              "color": "#EBF0F8"
             },
             "line": {
              "color": "white"
             }
            },
            "header": {
             "fill": {
              "color": "#C8D4E3"
             },
             "line": {
              "color": "white"
             }
            },
            "type": "table"
           }
          ]
         },
         "layout": {
          "annotationdefaults": {
           "arrowcolor": "#2a3f5f",
           "arrowhead": 0,
           "arrowwidth": 1
          },
          "colorscale": {
           "diverging": [
            [
             0,
             "#8e0152"
            ],
            [
             0.1,
             "#c51b7d"
            ],
            [
             0.2,
             "#de77ae"
            ],
            [
             0.3,
             "#f1b6da"
            ],
            [
             0.4,
             "#fde0ef"
            ],
            [
             0.5,
             "#f7f7f7"
            ],
            [
             0.6,
             "#e6f5d0"
            ],
            [
             0.7,
             "#b8e186"
            ],
            [
             0.8,
             "#7fbc41"
            ],
            [
             0.9,
             "#4d9221"
            ],
            [
             1,
             "#276419"
            ]
           ],
           "sequential": [
            [
             0,
             "#0d0887"
            ],
            [
             0.1111111111111111,
             "#46039f"
            ],
            [
             0.2222222222222222,
             "#7201a8"
            ],
            [
             0.3333333333333333,
             "#9c179e"
            ],
            [
             0.4444444444444444,
             "#bd3786"
            ],
            [
             0.5555555555555556,
             "#d8576b"
            ],
            [
             0.6666666666666666,
             "#ed7953"
            ],
            [
             0.7777777777777778,
             "#fb9f3a"
            ],
            [
             0.8888888888888888,
             "#fdca26"
            ],
            [
             1,
             "#f0f921"
            ]
           ],
           "sequentialminus": [
            [
             0,
             "#0d0887"
            ],
            [
             0.1111111111111111,
             "#46039f"
            ],
            [
             0.2222222222222222,
             "#7201a8"
            ],
            [
             0.3333333333333333,
             "#9c179e"
            ],
            [
             0.4444444444444444,
             "#bd3786"
            ],
            [
             0.5555555555555556,
             "#d8576b"
            ],
            [
             0.6666666666666666,
             "#ed7953"
            ],
            [
             0.7777777777777778,
             "#fb9f3a"
            ],
            [
             0.8888888888888888,
             "#fdca26"
            ],
            [
             1,
             "#f0f921"
            ]
           ]
          },
          "colorway": [
           "#636efa",
           "#EF553B",
           "#00cc96",
           "#ab63fa",
           "#FFA15A",
           "#19d3f3",
           "#FF6692",
           "#B6E880",
           "#FF97FF",
           "#FECB52"
          ],
          "font": {
           "color": "#2a3f5f"
          },
          "geo": {
           "bgcolor": "white",
           "lakecolor": "white",
           "landcolor": "#E5ECF6",
           "showlakes": true,
           "showland": true,
           "subunitcolor": "white"
          },
          "hoverlabel": {
           "align": "left"
          },
          "hovermode": "closest",
          "mapbox": {
           "style": "light"
          },
          "paper_bgcolor": "white",
          "plot_bgcolor": "#E5ECF6",
          "polar": {
           "angularaxis": {
            "gridcolor": "white",
            "linecolor": "white",
            "ticks": ""
           },
           "bgcolor": "#E5ECF6",
           "radialaxis": {
            "gridcolor": "white",
            "linecolor": "white",
            "ticks": ""
           }
          },
          "scene": {
           "xaxis": {
            "backgroundcolor": "#E5ECF6",
            "gridcolor": "white",
            "gridwidth": 2,
            "linecolor": "white",
            "showbackground": true,
            "ticks": "",
            "zerolinecolor": "white"
           },
           "yaxis": {
            "backgroundcolor": "#E5ECF6",
            "gridcolor": "white",
            "gridwidth": 2,
            "linecolor": "white",
            "showbackground": true,
            "ticks": "",
            "zerolinecolor": "white"
           },
           "zaxis": {
            "backgroundcolor": "#E5ECF6",
            "gridcolor": "white",
            "gridwidth": 2,
            "linecolor": "white",
            "showbackground": true,
            "ticks": "",
            "zerolinecolor": "white"
           }
          },
          "shapedefaults": {
           "line": {
            "color": "#2a3f5f"
           }
          },
          "ternary": {
           "aaxis": {
            "gridcolor": "white",
            "linecolor": "white",
            "ticks": ""
           },
           "baxis": {
            "gridcolor": "white",
            "linecolor": "white",
            "ticks": ""
           },
           "bgcolor": "#E5ECF6",
           "caxis": {
            "gridcolor": "white",
            "linecolor": "white",
            "ticks": ""
           }
          },
          "title": {
           "x": 0.05
          },
          "xaxis": {
           "automargin": true,
           "gridcolor": "white",
           "linecolor": "white",
           "ticks": "",
           "zerolinecolor": "white",
           "zerolinewidth": 2
          },
          "yaxis": {
           "automargin": true,
           "gridcolor": "white",
           "linecolor": "white",
           "ticks": "",
           "zerolinecolor": "white",
           "zerolinewidth": 2
          }
         }
        },
        "title": {
         "text": "Rendimiento mensual IVE Etf"
        },
        "xaxis": {
         "title": {
          "text": "Meses"
         }
        },
        "yaxis": {
         "title": {
          "text": "Rendimiento en decimal"
         }
        }
       }
      },
      "text/html": [
       "<div>\n",
       "        \n",
       "        \n",
       "            <div id=\"9b8e3a77-b62e-47d7-9004-656c1ad27e48\" class=\"plotly-graph-div\" style=\"height:525px; width:100%;\"></div>\n",
       "            <script type=\"text/javascript\">\n",
       "                require([\"plotly\"], function(Plotly) {\n",
       "                    window.PLOTLYENV=window.PLOTLYENV || {};\n",
       "                    \n",
       "                if (document.getElementById(\"9b8e3a77-b62e-47d7-9004-656c1ad27e48\")) {\n",
       "                    Plotly.newPlot(\n",
       "                        '9b8e3a77-b62e-47d7-9004-656c1ad27e48',\n",
       "                        [{\"type\": \"scatter\", \"uid\": \"ff3aeb95-62fe-43f6-8a79-1489a66e495e\", \"x\": [\"Abr-17\", \"May-17\", \"Jun-17\", \"Jul-17\", \"Ago-17\", \"Sept-17\", \"Oct-17\", \"Nov-17\", \"Dic-17\", \"Ene-18\", \"Feb-18\", \"Mar-18\"], \"y\": [-0.0018502611633217647, -0.017715478369943027, 0.029237978579950363, 0.012229082308301775, -0.014716167004082181, 0.02706741872738272, 0.010590263537874067, 0.032501517169655436, 0.016735830506781513, 0.039998277833118046, -0.05759682978476999, -0.023850673153816948]}],\n",
       "                        {\"template\": {\"data\": {\"bar\": [{\"error_x\": {\"color\": \"#2a3f5f\"}, \"error_y\": {\"color\": \"#2a3f5f\"}, \"marker\": {\"line\": {\"color\": \"#E5ECF6\", \"width\": 0.5}}, \"type\": \"bar\"}], \"barpolar\": [{\"marker\": {\"line\": {\"color\": \"#E5ECF6\", \"width\": 0.5}}, \"type\": \"barpolar\"}], \"carpet\": [{\"aaxis\": {\"endlinecolor\": \"#2a3f5f\", \"gridcolor\": \"white\", \"linecolor\": \"white\", \"minorgridcolor\": \"white\", \"startlinecolor\": \"#2a3f5f\"}, \"baxis\": {\"endlinecolor\": \"#2a3f5f\", \"gridcolor\": \"white\", \"linecolor\": \"white\", \"minorgridcolor\": \"white\", \"startlinecolor\": \"#2a3f5f\"}, \"type\": \"carpet\"}], \"choropleth\": [{\"colorbar\": {\"outlinewidth\": 0, \"ticks\": \"\"}, \"type\": \"choropleth\"}], \"contour\": [{\"colorbar\": {\"outlinewidth\": 0, \"ticks\": \"\"}, \"colorscale\": [[0.0, \"#0d0887\"], [0.1111111111111111, \"#46039f\"], [0.2222222222222222, \"#7201a8\"], [0.3333333333333333, \"#9c179e\"], [0.4444444444444444, \"#bd3786\"], [0.5555555555555556, \"#d8576b\"], [0.6666666666666666, \"#ed7953\"], [0.7777777777777778, \"#fb9f3a\"], [0.8888888888888888, \"#fdca26\"], [1.0, \"#f0f921\"]], \"type\": \"contour\"}], \"contourcarpet\": [{\"colorbar\": {\"outlinewidth\": 0, \"ticks\": \"\"}, \"type\": \"contourcarpet\"}], \"heatmap\": [{\"colorbar\": {\"outlinewidth\": 0, \"ticks\": \"\"}, \"colorscale\": [[0.0, \"#0d0887\"], [0.1111111111111111, \"#46039f\"], [0.2222222222222222, \"#7201a8\"], [0.3333333333333333, \"#9c179e\"], [0.4444444444444444, \"#bd3786\"], [0.5555555555555556, \"#d8576b\"], [0.6666666666666666, \"#ed7953\"], [0.7777777777777778, \"#fb9f3a\"], [0.8888888888888888, \"#fdca26\"], [1.0, \"#f0f921\"]], \"type\": \"heatmap\"}], \"heatmapgl\": [{\"colorbar\": {\"outlinewidth\": 0, \"ticks\": \"\"}, \"colorscale\": [[0.0, \"#0d0887\"], [0.1111111111111111, \"#46039f\"], [0.2222222222222222, \"#7201a8\"], [0.3333333333333333, \"#9c179e\"], [0.4444444444444444, \"#bd3786\"], [0.5555555555555556, \"#d8576b\"], [0.6666666666666666, \"#ed7953\"], [0.7777777777777778, \"#fb9f3a\"], [0.8888888888888888, \"#fdca26\"], [1.0, \"#f0f921\"]], \"type\": \"heatmapgl\"}], \"histogram\": [{\"marker\": {\"colorbar\": {\"outlinewidth\": 0, \"ticks\": \"\"}}, \"type\": \"histogram\"}], \"histogram2d\": [{\"colorbar\": {\"outlinewidth\": 0, \"ticks\": \"\"}, \"colorscale\": [[0.0, \"#0d0887\"], [0.1111111111111111, \"#46039f\"], [0.2222222222222222, \"#7201a8\"], [0.3333333333333333, \"#9c179e\"], [0.4444444444444444, \"#bd3786\"], [0.5555555555555556, \"#d8576b\"], [0.6666666666666666, \"#ed7953\"], [0.7777777777777778, \"#fb9f3a\"], [0.8888888888888888, \"#fdca26\"], [1.0, \"#f0f921\"]], \"type\": \"histogram2d\"}], \"histogram2dcontour\": [{\"colorbar\": {\"outlinewidth\": 0, \"ticks\": \"\"}, \"colorscale\": [[0.0, \"#0d0887\"], [0.1111111111111111, \"#46039f\"], [0.2222222222222222, \"#7201a8\"], [0.3333333333333333, \"#9c179e\"], [0.4444444444444444, \"#bd3786\"], [0.5555555555555556, \"#d8576b\"], [0.6666666666666666, \"#ed7953\"], [0.7777777777777778, \"#fb9f3a\"], [0.8888888888888888, \"#fdca26\"], [1.0, \"#f0f921\"]], \"type\": \"histogram2dcontour\"}], \"mesh3d\": [{\"colorbar\": {\"outlinewidth\": 0, \"ticks\": \"\"}, \"type\": \"mesh3d\"}], \"parcoords\": [{\"line\": {\"colorbar\": {\"outlinewidth\": 0, \"ticks\": \"\"}}, \"type\": \"parcoords\"}], \"scatter\": [{\"marker\": {\"colorbar\": {\"outlinewidth\": 0, \"ticks\": \"\"}}, \"type\": \"scatter\"}], \"scatter3d\": [{\"line\": {\"colorbar\": {\"outlinewidth\": 0, \"ticks\": \"\"}}, \"marker\": {\"colorbar\": {\"outlinewidth\": 0, \"ticks\": \"\"}}, \"type\": \"scatter3d\"}], \"scattercarpet\": [{\"marker\": {\"colorbar\": {\"outlinewidth\": 0, \"ticks\": \"\"}}, \"type\": \"scattercarpet\"}], \"scattergeo\": [{\"marker\": {\"colorbar\": {\"outlinewidth\": 0, \"ticks\": \"\"}}, \"type\": \"scattergeo\"}], \"scattergl\": [{\"marker\": {\"colorbar\": {\"outlinewidth\": 0, \"ticks\": \"\"}}, \"type\": \"scattergl\"}], \"scattermapbox\": [{\"marker\": {\"colorbar\": {\"outlinewidth\": 0, \"ticks\": \"\"}}, \"type\": \"scattermapbox\"}], \"scatterpolar\": [{\"marker\": {\"colorbar\": {\"outlinewidth\": 0, \"ticks\": \"\"}}, \"type\": \"scatterpolar\"}], \"scatterpolargl\": [{\"marker\": {\"colorbar\": {\"outlinewidth\": 0, \"ticks\": \"\"}}, \"type\": \"scatterpolargl\"}], \"scatterternary\": [{\"marker\": {\"colorbar\": {\"outlinewidth\": 0, \"ticks\": \"\"}}, \"type\": \"scatterternary\"}], \"surface\": [{\"colorbar\": {\"outlinewidth\": 0, \"ticks\": \"\"}, \"colorscale\": [[0.0, \"#0d0887\"], [0.1111111111111111, \"#46039f\"], [0.2222222222222222, \"#7201a8\"], [0.3333333333333333, \"#9c179e\"], [0.4444444444444444, \"#bd3786\"], [0.5555555555555556, \"#d8576b\"], [0.6666666666666666, \"#ed7953\"], [0.7777777777777778, \"#fb9f3a\"], [0.8888888888888888, \"#fdca26\"], [1.0, \"#f0f921\"]], \"type\": \"surface\"}], \"table\": [{\"cells\": {\"fill\": {\"color\": \"#EBF0F8\"}, \"line\": {\"color\": \"white\"}}, \"header\": {\"fill\": {\"color\": \"#C8D4E3\"}, \"line\": {\"color\": \"white\"}}, \"type\": \"table\"}]}, \"layout\": {\"annotationdefaults\": {\"arrowcolor\": \"#2a3f5f\", \"arrowhead\": 0, \"arrowwidth\": 1}, \"colorscale\": {\"diverging\": [[0, \"#8e0152\"], [0.1, \"#c51b7d\"], [0.2, \"#de77ae\"], [0.3, \"#f1b6da\"], [0.4, \"#fde0ef\"], [0.5, \"#f7f7f7\"], [0.6, \"#e6f5d0\"], [0.7, \"#b8e186\"], [0.8, \"#7fbc41\"], [0.9, \"#4d9221\"], [1, \"#276419\"]], \"sequential\": [[0.0, \"#0d0887\"], [0.1111111111111111, \"#46039f\"], [0.2222222222222222, \"#7201a8\"], [0.3333333333333333, \"#9c179e\"], [0.4444444444444444, \"#bd3786\"], [0.5555555555555556, \"#d8576b\"], [0.6666666666666666, \"#ed7953\"], [0.7777777777777778, \"#fb9f3a\"], [0.8888888888888888, \"#fdca26\"], [1.0, \"#f0f921\"]], \"sequentialminus\": [[0.0, \"#0d0887\"], [0.1111111111111111, \"#46039f\"], [0.2222222222222222, \"#7201a8\"], [0.3333333333333333, \"#9c179e\"], [0.4444444444444444, \"#bd3786\"], [0.5555555555555556, \"#d8576b\"], [0.6666666666666666, \"#ed7953\"], [0.7777777777777778, \"#fb9f3a\"], [0.8888888888888888, \"#fdca26\"], [1.0, \"#f0f921\"]]}, \"colorway\": [\"#636efa\", \"#EF553B\", \"#00cc96\", \"#ab63fa\", \"#FFA15A\", \"#19d3f3\", \"#FF6692\", \"#B6E880\", \"#FF97FF\", \"#FECB52\"], \"font\": {\"color\": \"#2a3f5f\"}, \"geo\": {\"bgcolor\": \"white\", \"lakecolor\": \"white\", \"landcolor\": \"#E5ECF6\", \"showlakes\": true, \"showland\": true, \"subunitcolor\": \"white\"}, \"hoverlabel\": {\"align\": \"left\"}, \"hovermode\": \"closest\", \"mapbox\": {\"style\": \"light\"}, \"paper_bgcolor\": \"white\", \"plot_bgcolor\": \"#E5ECF6\", \"polar\": {\"angularaxis\": {\"gridcolor\": \"white\", \"linecolor\": \"white\", \"ticks\": \"\"}, \"bgcolor\": \"#E5ECF6\", \"radialaxis\": {\"gridcolor\": \"white\", \"linecolor\": \"white\", \"ticks\": \"\"}}, \"scene\": {\"xaxis\": {\"backgroundcolor\": \"#E5ECF6\", \"gridcolor\": \"white\", \"gridwidth\": 2, \"linecolor\": \"white\", \"showbackground\": true, \"ticks\": \"\", \"zerolinecolor\": \"white\"}, \"yaxis\": {\"backgroundcolor\": \"#E5ECF6\", \"gridcolor\": \"white\", \"gridwidth\": 2, \"linecolor\": \"white\", \"showbackground\": true, \"ticks\": \"\", \"zerolinecolor\": \"white\"}, \"zaxis\": {\"backgroundcolor\": \"#E5ECF6\", \"gridcolor\": \"white\", \"gridwidth\": 2, \"linecolor\": \"white\", \"showbackground\": true, \"ticks\": \"\", \"zerolinecolor\": \"white\"}}, \"shapedefaults\": {\"line\": {\"color\": \"#2a3f5f\"}}, \"ternary\": {\"aaxis\": {\"gridcolor\": \"white\", \"linecolor\": \"white\", \"ticks\": \"\"}, \"baxis\": {\"gridcolor\": \"white\", \"linecolor\": \"white\", \"ticks\": \"\"}, \"bgcolor\": \"#E5ECF6\", \"caxis\": {\"gridcolor\": \"white\", \"linecolor\": \"white\", \"ticks\": \"\"}}, \"title\": {\"x\": 0.05}, \"xaxis\": {\"automargin\": true, \"gridcolor\": \"white\", \"linecolor\": \"white\", \"ticks\": \"\", \"zerolinecolor\": \"white\", \"zerolinewidth\": 2}, \"yaxis\": {\"automargin\": true, \"gridcolor\": \"white\", \"linecolor\": \"white\", \"ticks\": \"\", \"zerolinecolor\": \"white\", \"zerolinewidth\": 2}}}, \"title\": {\"text\": \"Rendimiento mensual IVE Etf\"}, \"xaxis\": {\"title\": {\"text\": \"Meses\"}}, \"yaxis\": {\"title\": {\"text\": \"Rendimiento en decimal\"}}},\n",
       "                        {\"responsive\": true}\n",
       "                    ).then(function(){\n",
       "                            \n",
       "var gd = document.getElementById('9b8e3a77-b62e-47d7-9004-656c1ad27e48');\n",
       "var x = new MutationObserver(function (mutations, observer) {{\n",
       "        var display = window.getComputedStyle(gd).display;\n",
       "        if (!display || display === 'none') {{\n",
       "            console.log([gd, 'removed!']);\n",
       "            Plotly.purge(gd);\n",
       "            observer.disconnect();\n",
       "        }}\n",
       "}});\n",
       "\n",
       "// Listen for the removal of the full notebook cells\n",
       "var notebookContainer = gd.closest('#notebook-container');\n",
       "if (notebookContainer) {{\n",
       "    x.observe(notebookContainer, {childList: true});\n",
       "}}\n",
       "\n",
       "// Listen for the clearing of the current output cell\n",
       "var outputEl = gd.closest('.output');\n",
       "if (outputEl) {{\n",
       "    x.observe(outputEl, {childList: true});\n",
       "}}\n",
       "\n",
       "                        })\n",
       "                };\n",
       "                });\n",
       "            </script>\n",
       "        </div>"
      ]
     },
     "metadata": {},
     "output_type": "display_data"
    }
   ],
   "source": [
    "fig = go.FigureWidget()\n",
    "fig.add_scatter(x=['Abr-17','May-17','Jun-17','Jul-17','Ago-17','Sept-17','Oct-17','Nov-17',\n",
    "                              'Dic-17','Ene-18','Feb-18','Mar-18'] ,y=rend_etf_mensual)\n",
    "fig.layout.title = 'Rendimiento mensual IVE Etf'\n",
    "fig.update_layout(xaxis=go.layout.XAxis(title=go.layout.xaxis.Title(text=\"Meses\")),\n",
    "                 yaxis=go.layout.YAxis(title=go.layout.yaxis.Title(text=\"Rendimiento en decimal\")))\n",
    "fig.show()"
   ]
  },
  {
   "cell_type": "markdown",
   "metadata": {},
   "source": [
    "#### Cálculo del NAV diario con distintos escenarios"
   ]
  },
  {
   "cell_type": "markdown",
   "metadata": {},
   "source": [
    "Se analizan diferentes escenarios del etf:\n",
    "\n",
    " * No hay rebalanceos, el etf inicial es el que tendremos hasta fin de año, sólo se ve afectado por los precios.\n",
    " * Sí hay rebalanceos, se parte desde el mes inicial y posteriormente se hace un rebalanceo por año; así con los 12 meses:\n",
    "     * Combinaciones: [1,2], [1,3], [1,4]..."
   ]
  },
  {
   "cell_type": "markdown",
   "metadata": {},
   "source": [
    "Fechas a tomar en cuenta:"
   ]
  },
  {
   "cell_type": "code",
   "execution_count": 111,
   "metadata": {},
   "outputs": [],
   "source": [
    "dates = ['2017-04','2017-05','2017-06','2017-07','2017-08','2017-09','2017-10','2017-11','2017-12','2018-01',\n",
    "         '2018-02','2018-03','2018-04'] #Fechas de interés para el NAV diario de quandl"
   ]
  },
  {
   "cell_type": "markdown",
   "metadata": {},
   "source": [
    "Función para calcular el rendimiento mensual y la desviación estándar del etf por mes."
   ]
  },
  {
   "cell_type": "code",
   "execution_count": 112,
   "metadata": {},
   "outputs": [],
   "source": [
    "# La variable tickers_Nmes debe ser ingresada como una lista.\n",
    "# La variable meses debe ser ingresada como una lista anidada, la principal deberá ser de la longitud de la variable tickers_Nmes\n",
    "def nav_quandl(tickers_Nmes, meses):\n",
    "    monthly_shares_df = [] #Acciones mensuales de cada mes\n",
    "    nav_diario = [] #Nav diaro por mes\n",
    "    desv_est = [] #Desv std mensual\n",
    "    rend_mensual = [] #Rend mensual\n",
    "    etf_data = [] #Etf de ishares para extraer los tickers\n",
    "    shares_out = [] #acciones en circulación de cada activo\n",
    "    for i in (tickers_Nmes):\n",
    "        shares = [s2f(final_etf_data[i].iloc[j,4]) for j in range(len(final_etf_data[i].iloc[:,4]))]\n",
    "        shares_df = pd.DataFrame(shares,columns=['shares'])\n",
    "        monthly_shares_df.append(shares_df)\n",
    "        etf_data.append(final_etf_data[i])\n",
    "        shares_out.append(etf_shares[i])\n",
    "    for i in range(len(tickers_Nmes)):\n",
    "        for j in range(len(meses[i])-1):\n",
    "            nav_diario = np.dot(stock_prices.loc[:,etf_data[i].index.values] #Se filtra df por mes de interés y se calcula el NAV\n",
    "                                [np.logical_and(stock_prices.index >= np.datetime64(meses[i][j]), #multiplicacion vectorial\n",
    "                                                stock_prices.index < np.datetime64(meses[i][j+1]))],monthly_shares_df[i])/shares_out[i]\n",
    "            desv_est.append(np.std(nav_diario))\n",
    "            rend_mensual.append(float(((nav_diario[-1]/nav_diario[0])-1))) #rend mensual último dato del mes y primero\n",
    "    return rend_mensual, desv_est"
   ]
  },
  {
   "cell_type": "markdown",
   "metadata": {},
   "source": [
    "Obteniendo las combinaciones posibles."
   ]
  },
  {
   "cell_type": "code",
   "execution_count": 113,
   "metadata": {},
   "outputs": [],
   "source": [
    "rend = []\n",
    "desv_std = []\n",
    "for i in range(2,len(dates)): #Escenario 2-12\n",
    "    x,y = nav_quandl([1,i],[dates[:i],dates[i-1::]])\n",
    "    rend.append(x)\n",
    "    desv_std.append(y)\n",
    "\n",
    "r1, s1 = nav_quandl([1],[dates]) #Se calcula primer escenario, sin rebalanceo\n",
    "rend.insert(0,r1)\n",
    "desv_std.insert(0,s1)"
   ]
  },
  {
   "cell_type": "markdown",
   "metadata": {},
   "source": [
    "Lo que nos interesa del siguiente bloque es calcular la desviación estándar/riesgo del etf original."
   ]
  },
  {
   "cell_type": "code",
   "execution_count": 114,
   "metadata": {},
   "outputs": [],
   "source": [
    "ignore, desv_original_etf = nav_quandl(list(np.arange(1,13)),[['2017-04','2017-05'],['2017-05','2017-06'],['2017-06','2017-07'],\n",
    "                                                          ['2017-07','2017-08'],['2017-08','2017-09'],['2017-09','2017-10'],\n",
    "                                                          ['2017-10','2017-11'],['2017-11','2017-12'],['2017-12','2018-01'],\n",
    "                                                          ['2018-01','2018-02'],['2018-02','2018-03'],['2018-03','2018-04']])\n",
    "# Desv estandar de cada etf original iShares"
   ]
  },
  {
   "cell_type": "markdown",
   "metadata": {},
   "source": [
    "### Rebalanceo propuesto"
   ]
  },
  {
   "cell_type": "markdown",
   "metadata": {},
   "source": [
    "Se cuenta con un presupuesto de 1'000,000.00 USD para comprar acciones y armar el rebalanceo del ETF. EL criterio consiste en lo siguiente:\n",
    "* Escoger inicialmente el top 5 de acciones con mayor rendimiento por mes.\n",
    "    * Las proporciones del dinero a invertir se repartirán de la siguiente manera: 30% el activo con mayor rendimiento, 25% el segundo, 20% el tercero, 15% el cuarto y 10% el último."
   ]
  },
  {
   "cell_type": "markdown",
   "metadata": {},
   "source": [
    "Presupuesto para acciones:"
   ]
  },
  {
   "cell_type": "code",
   "execution_count": 115,
   "metadata": {},
   "outputs": [],
   "source": [
    "cap = 1000000\n",
    "money = [cap*.30, cap*.25, cap*.20, cap*.15, cap*.10] #proporciones de capital"
   ]
  },
  {
   "cell_type": "code",
   "execution_count": 116,
   "metadata": {},
   "outputs": [],
   "source": [
    "dates2 = ['2017-03','2017-04','2017-05','2017-06','2017-07','2017-08','2017-09','2017-10','2017-11','2017-12','2018-01',\n",
    "         '2018-02','2018-03']\n",
    "shares_out_n = 1000000 #acciones en circulacion del etf propuesto"
   ]
  },
  {
   "cell_type": "code",
   "execution_count": 117,
   "metadata": {},
   "outputs": [],
   "source": [
    "n_shares= []\n",
    "for i in range(len(dates2)-1):\n",
    "    prices = stock_prices[np.logical_and(stock_prices.index >= np.datetime64(dates2[i]),stock_prices.index < \n",
    "                                         np.datetime64(dates2[i+1]))]\n",
    "    m_rend = [((prices.iloc[-1,:]/prices.iloc[0,:])-1).nlargest()][0] #nlargest extrae el top 5 de rendimientos\n",
    "    n_shares.append(m_rend)"
   ]
  },
  {
   "cell_type": "code",
   "execution_count": 118,
   "metadata": {
    "scrolled": false
   },
   "outputs": [],
   "source": [
    "shares_per_c  = []\n",
    "for i in range(len(n_shares)):\n",
    "    shares_etf_n = np.ceil(money/stock_prices.loc[:,n_shares[i].index.values] #Se calculan las acciones a comprar por ticker\n",
    "                           [np.logical_and(stock_prices.index >= np.datetime64(dates2[i]),\n",
    "                                           stock_prices.index < np.datetime64(dates2[i+1]))].iloc[0,:]) #Valor al inicio de c/mes\n",
    "    for j in range(len(shares_etf_n)):\n",
    "        if shares_etf_n[j] == np.inf:\n",
    "            shares_etf_n[j] = 1000 #Reemplazamos infinitos por 1000 numero estandar\n",
    "    shares_per_c.append(shares_etf_n)"
   ]
  },
  {
   "cell_type": "code",
   "execution_count": 119,
   "metadata": {},
   "outputs": [],
   "source": [
    "desv_est_n = []\n",
    "rend_mensual_n = []\n",
    "dates_n_etef = [['2017-04','2017-05'],['2017-05','2017-06'],['2017-06','2017-07'],\n",
    "                                                          ['2017-07','2017-08'],['2017-08','2017-09'],['2017-09','2017-10'],\n",
    "                                                          ['2017-10','2017-11'],['2017-11','2017-12'],['2017-12','2018-01'],\n",
    "                                                          ['2018-01','2018-02'],['2018-02','2018-03'],['2018-03','2018-04']]\n",
    "for i in range(len(shares_per_c)):\n",
    "    for j in range(len(dates_n_etef[i])-1):\n",
    "                nav_etf_p = np.dot(stock_prices.loc[:,shares_per_c[i].index.values]\n",
    "                                    [np.logical_and(stock_prices.index >= np.datetime64(dates_n_etef[i][j]),\n",
    "                                                    stock_prices.index < np.datetime64(dates_n_etef[i][j+1]))],\n",
    "                                    shares_per_c[i])/shares_out_n\n",
    "                desv_est_n.append(np.std(nav_etf_p))\n",
    "                rend_mensual_n.append(float(((nav_etf_p[-1]/nav_etf_p[0])-1)))"
   ]
  },
  {
   "cell_type": "markdown",
   "metadata": {},
   "source": [
    "## Medidas del desempeño"
   ]
  },
  {
   "cell_type": "markdown",
   "metadata": {},
   "source": [
    "### Comparación de rendimientos"
   ]
  },
  {
   "cell_type": "code",
   "execution_count": 120,
   "metadata": {
    "scrolled": false
   },
   "outputs": [
    {
     "data": {
      "text/html": [
       "<div>\n",
       "<style scoped>\n",
       "    .dataframe tbody tr th:only-of-type {\n",
       "        vertical-align: middle;\n",
       "    }\n",
       "\n",
       "    .dataframe tbody tr th {\n",
       "        vertical-align: top;\n",
       "    }\n",
       "\n",
       "    .dataframe thead th {\n",
       "        text-align: right;\n",
       "    }\n",
       "</style>\n",
       "<table border=\"1\" class=\"dataframe\">\n",
       "  <thead>\n",
       "    <tr style=\"text-align: right;\">\n",
       "      <th></th>\n",
       "      <th>Original iShares</th>\n",
       "      <th>Caso 1</th>\n",
       "      <th>Caso 2</th>\n",
       "      <th>Caso 3</th>\n",
       "      <th>Caso 4</th>\n",
       "      <th>Caso 5</th>\n",
       "      <th>Caso 6</th>\n",
       "      <th>Caso 7</th>\n",
       "      <th>Caso 8</th>\n",
       "      <th>Caso 9</th>\n",
       "      <th>Caso 10</th>\n",
       "      <th>Caso 11</th>\n",
       "      <th>Caso 12</th>\n",
       "      <th>Proposal</th>\n",
       "    </tr>\n",
       "  </thead>\n",
       "  <tbody>\n",
       "    <tr>\n",
       "      <th>2017-04</th>\n",
       "      <td>-0.001850</td>\n",
       "      <td>0.000572</td>\n",
       "      <td>0.000572</td>\n",
       "      <td>0.000572</td>\n",
       "      <td>0.000572</td>\n",
       "      <td>0.000572</td>\n",
       "      <td>0.000572</td>\n",
       "      <td>0.000572</td>\n",
       "      <td>0.000572</td>\n",
       "      <td>0.000572</td>\n",
       "      <td>0.000572</td>\n",
       "      <td>0.000572</td>\n",
       "      <td>0.000572</td>\n",
       "      <td>0.047096</td>\n",
       "    </tr>\n",
       "    <tr>\n",
       "      <th>2017-05</th>\n",
       "      <td>-0.017715</td>\n",
       "      <td>-0.006936</td>\n",
       "      <td>-0.007641</td>\n",
       "      <td>-0.006936</td>\n",
       "      <td>-0.006936</td>\n",
       "      <td>-0.006936</td>\n",
       "      <td>-0.006936</td>\n",
       "      <td>-0.006936</td>\n",
       "      <td>-0.006936</td>\n",
       "      <td>-0.006936</td>\n",
       "      <td>-0.006936</td>\n",
       "      <td>-0.006936</td>\n",
       "      <td>-0.006936</td>\n",
       "      <td>-0.007952</td>\n",
       "    </tr>\n",
       "    <tr>\n",
       "      <th>2017-06</th>\n",
       "      <td>0.029238</td>\n",
       "      <td>0.002359</td>\n",
       "      <td>0.002378</td>\n",
       "      <td>0.009276</td>\n",
       "      <td>0.002359</td>\n",
       "      <td>0.002359</td>\n",
       "      <td>0.002359</td>\n",
       "      <td>0.002359</td>\n",
       "      <td>0.002359</td>\n",
       "      <td>0.002359</td>\n",
       "      <td>0.002359</td>\n",
       "      <td>0.002359</td>\n",
       "      <td>0.002359</td>\n",
       "      <td>-0.049223</td>\n",
       "    </tr>\n",
       "    <tr>\n",
       "      <th>2017-07</th>\n",
       "      <td>0.012229</td>\n",
       "      <td>0.001410</td>\n",
       "      <td>0.001383</td>\n",
       "      <td>0.001350</td>\n",
       "      <td>0.004816</td>\n",
       "      <td>0.001410</td>\n",
       "      <td>0.001410</td>\n",
       "      <td>0.001410</td>\n",
       "      <td>0.001410</td>\n",
       "      <td>0.001410</td>\n",
       "      <td>0.001410</td>\n",
       "      <td>0.001410</td>\n",
       "      <td>0.001410</td>\n",
       "      <td>0.057951</td>\n",
       "    </tr>\n",
       "    <tr>\n",
       "      <th>2017-08</th>\n",
       "      <td>-0.014716</td>\n",
       "      <td>-0.021721</td>\n",
       "      <td>-0.021724</td>\n",
       "      <td>-0.021774</td>\n",
       "      <td>-0.021724</td>\n",
       "      <td>-0.017452</td>\n",
       "      <td>-0.021721</td>\n",
       "      <td>-0.021721</td>\n",
       "      <td>-0.021721</td>\n",
       "      <td>-0.021721</td>\n",
       "      <td>-0.021721</td>\n",
       "      <td>-0.021721</td>\n",
       "      <td>-0.021721</td>\n",
       "      <td>0.000705</td>\n",
       "    </tr>\n",
       "    <tr>\n",
       "      <th>2017-09</th>\n",
       "      <td>0.027067</td>\n",
       "      <td>0.026588</td>\n",
       "      <td>0.026597</td>\n",
       "      <td>0.026372</td>\n",
       "      <td>0.026419</td>\n",
       "      <td>0.026372</td>\n",
       "      <td>0.026232</td>\n",
       "      <td>0.026588</td>\n",
       "      <td>0.026588</td>\n",
       "      <td>0.026588</td>\n",
       "      <td>0.026588</td>\n",
       "      <td>0.026588</td>\n",
       "      <td>0.026588</td>\n",
       "      <td>0.019081</td>\n",
       "    </tr>\n",
       "    <tr>\n",
       "      <th>2017-10</th>\n",
       "      <td>0.010590</td>\n",
       "      <td>0.002691</td>\n",
       "      <td>0.002712</td>\n",
       "      <td>0.002949</td>\n",
       "      <td>0.002940</td>\n",
       "      <td>0.003025</td>\n",
       "      <td>0.003419</td>\n",
       "      <td>0.004659</td>\n",
       "      <td>0.002691</td>\n",
       "      <td>0.002691</td>\n",
       "      <td>0.002691</td>\n",
       "      <td>0.002691</td>\n",
       "      <td>0.002691</td>\n",
       "      <td>0.003039</td>\n",
       "    </tr>\n",
       "    <tr>\n",
       "      <th>2017-11</th>\n",
       "      <td>0.032502</td>\n",
       "      <td>0.023639</td>\n",
       "      <td>0.023592</td>\n",
       "      <td>0.023571</td>\n",
       "      <td>0.023655</td>\n",
       "      <td>0.023547</td>\n",
       "      <td>0.022639</td>\n",
       "      <td>0.022537</td>\n",
       "      <td>0.022432</td>\n",
       "      <td>0.023639</td>\n",
       "      <td>0.023639</td>\n",
       "      <td>0.023639</td>\n",
       "      <td>0.023639</td>\n",
       "      <td>0.003087</td>\n",
       "    </tr>\n",
       "    <tr>\n",
       "      <th>2017-12</th>\n",
       "      <td>0.016736</td>\n",
       "      <td>0.011326</td>\n",
       "      <td>0.011298</td>\n",
       "      <td>0.011323</td>\n",
       "      <td>0.011312</td>\n",
       "      <td>0.011428</td>\n",
       "      <td>0.011109</td>\n",
       "      <td>0.011193</td>\n",
       "      <td>0.011221</td>\n",
       "      <td>0.015239</td>\n",
       "      <td>0.011326</td>\n",
       "      <td>0.011326</td>\n",
       "      <td>0.011326</td>\n",
       "      <td>0.009929</td>\n",
       "    </tr>\n",
       "    <tr>\n",
       "      <th>2018-01</th>\n",
       "      <td>0.039998</td>\n",
       "      <td>0.035522</td>\n",
       "      <td>0.035485</td>\n",
       "      <td>0.035258</td>\n",
       "      <td>0.035387</td>\n",
       "      <td>0.035287</td>\n",
       "      <td>0.035498</td>\n",
       "      <td>0.035521</td>\n",
       "      <td>0.035519</td>\n",
       "      <td>0.031262</td>\n",
       "      <td>0.031276</td>\n",
       "      <td>0.035522</td>\n",
       "      <td>0.035522</td>\n",
       "      <td>0.016275</td>\n",
       "    </tr>\n",
       "    <tr>\n",
       "      <th>2018-02</th>\n",
       "      <td>-0.057597</td>\n",
       "      <td>-0.053194</td>\n",
       "      <td>-0.053109</td>\n",
       "      <td>-0.053006</td>\n",
       "      <td>-0.053113</td>\n",
       "      <td>-0.053378</td>\n",
       "      <td>-0.053201</td>\n",
       "      <td>-0.053110</td>\n",
       "      <td>-0.053083</td>\n",
       "      <td>-0.061035</td>\n",
       "      <td>-0.060986</td>\n",
       "      <td>-0.059185</td>\n",
       "      <td>-0.053194</td>\n",
       "      <td>-0.033001</td>\n",
       "    </tr>\n",
       "    <tr>\n",
       "      <th>2018-03</th>\n",
       "      <td>-0.023851</td>\n",
       "      <td>-0.033284</td>\n",
       "      <td>-0.033256</td>\n",
       "      <td>-0.031738</td>\n",
       "      <td>-0.030851</td>\n",
       "      <td>-0.030249</td>\n",
       "      <td>-0.030888</td>\n",
       "      <td>-0.030854</td>\n",
       "      <td>-0.030861</td>\n",
       "      <td>-0.024882</td>\n",
       "      <td>-0.024876</td>\n",
       "      <td>-0.022980</td>\n",
       "      <td>-0.023779</td>\n",
       "      <td>0.041650</td>\n",
       "    </tr>\n",
       "  </tbody>\n",
       "</table>\n",
       "</div>"
      ],
      "text/plain": [
       "         Original iShares    Caso 1    Caso 2    Caso 3    Caso 4    Caso 5  \\\n",
       "2017-04         -0.001850  0.000572  0.000572  0.000572  0.000572  0.000572   \n",
       "2017-05         -0.017715 -0.006936 -0.007641 -0.006936 -0.006936 -0.006936   \n",
       "2017-06          0.029238  0.002359  0.002378  0.009276  0.002359  0.002359   \n",
       "2017-07          0.012229  0.001410  0.001383  0.001350  0.004816  0.001410   \n",
       "2017-08         -0.014716 -0.021721 -0.021724 -0.021774 -0.021724 -0.017452   \n",
       "2017-09          0.027067  0.026588  0.026597  0.026372  0.026419  0.026372   \n",
       "2017-10          0.010590  0.002691  0.002712  0.002949  0.002940  0.003025   \n",
       "2017-11          0.032502  0.023639  0.023592  0.023571  0.023655  0.023547   \n",
       "2017-12          0.016736  0.011326  0.011298  0.011323  0.011312  0.011428   \n",
       "2018-01          0.039998  0.035522  0.035485  0.035258  0.035387  0.035287   \n",
       "2018-02         -0.057597 -0.053194 -0.053109 -0.053006 -0.053113 -0.053378   \n",
       "2018-03         -0.023851 -0.033284 -0.033256 -0.031738 -0.030851 -0.030249   \n",
       "\n",
       "           Caso 6    Caso 7    Caso 8    Caso 9   Caso 10   Caso 11   Caso 12  \\\n",
       "2017-04  0.000572  0.000572  0.000572  0.000572  0.000572  0.000572  0.000572   \n",
       "2017-05 -0.006936 -0.006936 -0.006936 -0.006936 -0.006936 -0.006936 -0.006936   \n",
       "2017-06  0.002359  0.002359  0.002359  0.002359  0.002359  0.002359  0.002359   \n",
       "2017-07  0.001410  0.001410  0.001410  0.001410  0.001410  0.001410  0.001410   \n",
       "2017-08 -0.021721 -0.021721 -0.021721 -0.021721 -0.021721 -0.021721 -0.021721   \n",
       "2017-09  0.026232  0.026588  0.026588  0.026588  0.026588  0.026588  0.026588   \n",
       "2017-10  0.003419  0.004659  0.002691  0.002691  0.002691  0.002691  0.002691   \n",
       "2017-11  0.022639  0.022537  0.022432  0.023639  0.023639  0.023639  0.023639   \n",
       "2017-12  0.011109  0.011193  0.011221  0.015239  0.011326  0.011326  0.011326   \n",
       "2018-01  0.035498  0.035521  0.035519  0.031262  0.031276  0.035522  0.035522   \n",
       "2018-02 -0.053201 -0.053110 -0.053083 -0.061035 -0.060986 -0.059185 -0.053194   \n",
       "2018-03 -0.030888 -0.030854 -0.030861 -0.024882 -0.024876 -0.022980 -0.023779   \n",
       "\n",
       "         Proposal  \n",
       "2017-04  0.047096  \n",
       "2017-05 -0.007952  \n",
       "2017-06 -0.049223  \n",
       "2017-07  0.057951  \n",
       "2017-08  0.000705  \n",
       "2017-09  0.019081  \n",
       "2017-10  0.003039  \n",
       "2017-11  0.003087  \n",
       "2017-12  0.009929  \n",
       "2018-01  0.016275  \n",
       "2018-02 -0.033001  \n",
       "2018-03  0.041650  "
      ]
     },
     "execution_count": 120,
     "metadata": {},
     "output_type": "execute_result"
    }
   ],
   "source": [
    "r_dates = dates[:-1]\n",
    "colmns = ['Caso '+str(i) for i in range(1,len(rend)+1)] #Generacion de columnas df\n",
    "colmns.insert(0, \"Original iShares\")\n",
    "rend_table = pd.DataFrame(index=r_dates, columns=colmns)\n",
    "rend_table['Original iShares'] = rend_etf_mensual\n",
    "for i in colmns[1::]:\n",
    "    case = colmns[1::].index(i) #Se extrae el numero de la columna para buscarlo en los rendimientos mensuales de quandl\n",
    "    rend_table[i] = rend[case] #Columna se le asigna el caso correspondiente\n",
    "pd.set_option('precision', 4)\n",
    "rend_table['Proposal'] = rend_mensual_n\n",
    "rend_table"
   ]
  },
  {
   "cell_type": "markdown",
   "metadata": {},
   "source": [
    "### Comparación de volatilidad"
   ]
  },
  {
   "cell_type": "code",
   "execution_count": 121,
   "metadata": {
    "scrolled": true
   },
   "outputs": [
    {
     "data": {
      "text/html": [
       "<div>\n",
       "<style scoped>\n",
       "    .dataframe tbody tr th:only-of-type {\n",
       "        vertical-align: middle;\n",
       "    }\n",
       "\n",
       "    .dataframe tbody tr th {\n",
       "        vertical-align: top;\n",
       "    }\n",
       "\n",
       "    .dataframe thead th {\n",
       "        text-align: right;\n",
       "    }\n",
       "</style>\n",
       "<table border=\"1\" class=\"dataframe\">\n",
       "  <thead>\n",
       "    <tr style=\"text-align: right;\">\n",
       "      <th></th>\n",
       "      <th>Original iShares</th>\n",
       "      <th>Caso 1</th>\n",
       "      <th>Caso 2</th>\n",
       "      <th>Caso 3</th>\n",
       "      <th>Caso 4</th>\n",
       "      <th>Caso 5</th>\n",
       "      <th>Caso 6</th>\n",
       "      <th>Caso 7</th>\n",
       "      <th>Caso 8</th>\n",
       "      <th>Caso 9</th>\n",
       "      <th>Caso 10</th>\n",
       "      <th>Caso 11</th>\n",
       "      <th>Caso 12</th>\n",
       "      <th>Proposal</th>\n",
       "    </tr>\n",
       "  </thead>\n",
       "  <tbody>\n",
       "    <tr>\n",
       "      <th>2017-04</th>\n",
       "      <td>21.685445</td>\n",
       "      <td>21.685445</td>\n",
       "      <td>21.685445</td>\n",
       "      <td>21.685445</td>\n",
       "      <td>21.685445</td>\n",
       "      <td>21.685445</td>\n",
       "      <td>21.685445</td>\n",
       "      <td>21.685445</td>\n",
       "      <td>21.685445</td>\n",
       "      <td>21.685445</td>\n",
       "      <td>21.685445</td>\n",
       "      <td>21.685445</td>\n",
       "      <td>21.685445</td>\n",
       "      <td>0.262218</td>\n",
       "    </tr>\n",
       "    <tr>\n",
       "      <th>2017-05</th>\n",
       "      <td>0.648849</td>\n",
       "      <td>0.628055</td>\n",
       "      <td>0.648849</td>\n",
       "      <td>0.628055</td>\n",
       "      <td>0.628055</td>\n",
       "      <td>0.628055</td>\n",
       "      <td>0.628055</td>\n",
       "      <td>0.628055</td>\n",
       "      <td>0.628055</td>\n",
       "      <td>0.628055</td>\n",
       "      <td>0.628055</td>\n",
       "      <td>0.628055</td>\n",
       "      <td>0.628055</td>\n",
       "      <td>0.015826</td>\n",
       "    </tr>\n",
       "    <tr>\n",
       "      <th>2017-06</th>\n",
       "      <td>0.573561</td>\n",
       "      <td>0.578208</td>\n",
       "      <td>0.571615</td>\n",
       "      <td>0.573561</td>\n",
       "      <td>0.578208</td>\n",
       "      <td>0.578208</td>\n",
       "      <td>0.578208</td>\n",
       "      <td>0.578208</td>\n",
       "      <td>0.578208</td>\n",
       "      <td>0.578208</td>\n",
       "      <td>0.578208</td>\n",
       "      <td>0.578208</td>\n",
       "      <td>0.578208</td>\n",
       "      <td>0.021125</td>\n",
       "    </tr>\n",
       "    <tr>\n",
       "      <th>2017-07</th>\n",
       "      <td>0.466445</td>\n",
       "      <td>0.459677</td>\n",
       "      <td>0.454686</td>\n",
       "      <td>0.461206</td>\n",
       "      <td>0.466445</td>\n",
       "      <td>0.459677</td>\n",
       "      <td>0.459677</td>\n",
       "      <td>0.459677</td>\n",
       "      <td>0.459677</td>\n",
       "      <td>0.459677</td>\n",
       "      <td>0.459677</td>\n",
       "      <td>0.459677</td>\n",
       "      <td>0.459677</td>\n",
       "      <td>0.028800</td>\n",
       "    </tr>\n",
       "    <tr>\n",
       "      <th>2017-08</th>\n",
       "      <td>0.940602</td>\n",
       "      <td>0.995355</td>\n",
       "      <td>0.984848</td>\n",
       "      <td>1.000717</td>\n",
       "      <td>1.003503</td>\n",
       "      <td>0.940602</td>\n",
       "      <td>0.995355</td>\n",
       "      <td>0.995355</td>\n",
       "      <td>0.995355</td>\n",
       "      <td>0.995355</td>\n",
       "      <td>0.995355</td>\n",
       "      <td>0.995355</td>\n",
       "      <td>0.995355</td>\n",
       "      <td>0.007554</td>\n",
       "    </tr>\n",
       "    <tr>\n",
       "      <th>2017-09</th>\n",
       "      <td>1.138475</td>\n",
       "      <td>1.103494</td>\n",
       "      <td>1.092121</td>\n",
       "      <td>1.101508</td>\n",
       "      <td>1.105368</td>\n",
       "      <td>1.107672</td>\n",
       "      <td>1.138475</td>\n",
       "      <td>1.103494</td>\n",
       "      <td>1.103494</td>\n",
       "      <td>1.103494</td>\n",
       "      <td>1.103494</td>\n",
       "      <td>1.103494</td>\n",
       "      <td>1.103494</td>\n",
       "      <td>0.006585</td>\n",
       "    </tr>\n",
       "    <tr>\n",
       "      <th>2017-10</th>\n",
       "      <td>0.368382</td>\n",
       "      <td>0.366058</td>\n",
       "      <td>0.362257</td>\n",
       "      <td>0.366824</td>\n",
       "      <td>0.366563</td>\n",
       "      <td>0.367374</td>\n",
       "      <td>0.372179</td>\n",
       "      <td>0.368382</td>\n",
       "      <td>0.366058</td>\n",
       "      <td>0.366058</td>\n",
       "      <td>0.366058</td>\n",
       "      <td>0.366058</td>\n",
       "      <td>0.366058</td>\n",
       "      <td>0.012407</td>\n",
       "    </tr>\n",
       "    <tr>\n",
       "      <th>2017-11</th>\n",
       "      <td>0.954586</td>\n",
       "      <td>0.942103</td>\n",
       "      <td>0.931886</td>\n",
       "      <td>0.942519</td>\n",
       "      <td>0.943578</td>\n",
       "      <td>0.943855</td>\n",
       "      <td>0.953532</td>\n",
       "      <td>0.953373</td>\n",
       "      <td>0.954586</td>\n",
       "      <td>0.942103</td>\n",
       "      <td>0.942103</td>\n",
       "      <td>0.942103</td>\n",
       "      <td>0.942103</td>\n",
       "      <td>0.004027</td>\n",
       "    </tr>\n",
       "    <tr>\n",
       "      <th>2017-12</th>\n",
       "      <td>0.790828</td>\n",
       "      <td>0.669874</td>\n",
       "      <td>0.661114</td>\n",
       "      <td>0.671639</td>\n",
       "      <td>0.673983</td>\n",
       "      <td>0.676507</td>\n",
       "      <td>0.676422</td>\n",
       "      <td>0.681203</td>\n",
       "      <td>0.684373</td>\n",
       "      <td>0.790828</td>\n",
       "      <td>0.669874</td>\n",
       "      <td>0.669874</td>\n",
       "      <td>0.669874</td>\n",
       "      <td>0.019811</td>\n",
       "    </tr>\n",
       "    <tr>\n",
       "      <th>2018-01</th>\n",
       "      <td>1.591860</td>\n",
       "      <td>1.686322</td>\n",
       "      <td>1.667662</td>\n",
       "      <td>1.689202</td>\n",
       "      <td>1.698290</td>\n",
       "      <td>1.699415</td>\n",
       "      <td>1.716301</td>\n",
       "      <td>1.720099</td>\n",
       "      <td>1.723843</td>\n",
       "      <td>1.589028</td>\n",
       "      <td>1.591860</td>\n",
       "      <td>1.686322</td>\n",
       "      <td>1.686322</td>\n",
       "      <td>0.014302</td>\n",
       "    </tr>\n",
       "    <tr>\n",
       "      <th>2018-02</th>\n",
       "      <td>2.090026</td>\n",
       "      <td>2.069744</td>\n",
       "      <td>2.047644</td>\n",
       "      <td>2.079668</td>\n",
       "      <td>2.088569</td>\n",
       "      <td>2.091904</td>\n",
       "      <td>2.113158</td>\n",
       "      <td>2.115269</td>\n",
       "      <td>2.121342</td>\n",
       "      <td>2.093670</td>\n",
       "      <td>2.096797</td>\n",
       "      <td>2.090026</td>\n",
       "      <td>2.069744</td>\n",
       "      <td>0.028617</td>\n",
       "    </tr>\n",
       "    <tr>\n",
       "      <th>2018-03</th>\n",
       "      <td>1.986809</td>\n",
       "      <td>2.010406</td>\n",
       "      <td>1.989658</td>\n",
       "      <td>2.002496</td>\n",
       "      <td>1.998864</td>\n",
       "      <td>1.992045</td>\n",
       "      <td>2.047347</td>\n",
       "      <td>2.050213</td>\n",
       "      <td>2.056089</td>\n",
       "      <td>1.945071</td>\n",
       "      <td>1.947516</td>\n",
       "      <td>1.942434</td>\n",
       "      <td>1.986809</td>\n",
       "      <td>0.025019</td>\n",
       "    </tr>\n",
       "  </tbody>\n",
       "</table>\n",
       "</div>"
      ],
      "text/plain": [
       "         Original iShares    Caso 1    Caso 2    Caso 3    Caso 4    Caso 5  \\\n",
       "2017-04         21.685445 21.685445 21.685445 21.685445 21.685445 21.685445   \n",
       "2017-05          0.648849  0.628055  0.648849  0.628055  0.628055  0.628055   \n",
       "2017-06          0.573561  0.578208  0.571615  0.573561  0.578208  0.578208   \n",
       "2017-07          0.466445  0.459677  0.454686  0.461206  0.466445  0.459677   \n",
       "2017-08          0.940602  0.995355  0.984848  1.000717  1.003503  0.940602   \n",
       "2017-09          1.138475  1.103494  1.092121  1.101508  1.105368  1.107672   \n",
       "2017-10          0.368382  0.366058  0.362257  0.366824  0.366563  0.367374   \n",
       "2017-11          0.954586  0.942103  0.931886  0.942519  0.943578  0.943855   \n",
       "2017-12          0.790828  0.669874  0.661114  0.671639  0.673983  0.676507   \n",
       "2018-01          1.591860  1.686322  1.667662  1.689202  1.698290  1.699415   \n",
       "2018-02          2.090026  2.069744  2.047644  2.079668  2.088569  2.091904   \n",
       "2018-03          1.986809  2.010406  1.989658  2.002496  1.998864  1.992045   \n",
       "\n",
       "           Caso 6    Caso 7    Caso 8    Caso 9   Caso 10   Caso 11   Caso 12  \\\n",
       "2017-04 21.685445 21.685445 21.685445 21.685445 21.685445 21.685445 21.685445   \n",
       "2017-05  0.628055  0.628055  0.628055  0.628055  0.628055  0.628055  0.628055   \n",
       "2017-06  0.578208  0.578208  0.578208  0.578208  0.578208  0.578208  0.578208   \n",
       "2017-07  0.459677  0.459677  0.459677  0.459677  0.459677  0.459677  0.459677   \n",
       "2017-08  0.995355  0.995355  0.995355  0.995355  0.995355  0.995355  0.995355   \n",
       "2017-09  1.138475  1.103494  1.103494  1.103494  1.103494  1.103494  1.103494   \n",
       "2017-10  0.372179  0.368382  0.366058  0.366058  0.366058  0.366058  0.366058   \n",
       "2017-11  0.953532  0.953373  0.954586  0.942103  0.942103  0.942103  0.942103   \n",
       "2017-12  0.676422  0.681203  0.684373  0.790828  0.669874  0.669874  0.669874   \n",
       "2018-01  1.716301  1.720099  1.723843  1.589028  1.591860  1.686322  1.686322   \n",
       "2018-02  2.113158  2.115269  2.121342  2.093670  2.096797  2.090026  2.069744   \n",
       "2018-03  2.047347  2.050213  2.056089  1.945071  1.947516  1.942434  1.986809   \n",
       "\n",
       "         Proposal  \n",
       "2017-04  0.262218  \n",
       "2017-05  0.015826  \n",
       "2017-06  0.021125  \n",
       "2017-07  0.028800  \n",
       "2017-08  0.007554  \n",
       "2017-09  0.006585  \n",
       "2017-10  0.012407  \n",
       "2017-11  0.004027  \n",
       "2017-12  0.019811  \n",
       "2018-01  0.014302  \n",
       "2018-02  0.028617  \n",
       "2018-03  0.025019  "
      ]
     },
     "execution_count": 121,
     "metadata": {},
     "output_type": "execute_result"
    }
   ],
   "source": [
    "r_dates = dates[:-1]\n",
    "colmns = ['Caso '+str(i) for i in range(1,len(rend)+1)]\n",
    "colmns.insert(0, \"Original iShares\")\n",
    "desv_table = pd.DataFrame(index=r_dates, columns=colmns)\n",
    "desv_table['Original iShares'] = desv_original_etf\n",
    "for i in colmns[1::]:\n",
    "    case = colmns[1::].index(i) #Se extrae el numero de la columna para buscarlo en los rendimientos mensuales de quandl\n",
    "    desv_table[i] = desv_std[case] #Columna se le asigna el caso correspondiente\n",
    "pd.set_option('precision', 4)\n",
    "desv_table['Proposal'] = desv_est_n\n",
    "desv_table"
   ]
  },
  {
   "cell_type": "markdown",
   "metadata": {},
   "source": [
    "### Comparación Sharpe Ratio"
   ]
  },
  {
   "cell_type": "markdown",
   "metadata": {},
   "source": [
    "Extrayendo tasa libre de riesgo de Estados Unidos."
   ]
  },
  {
   "cell_type": "code",
   "execution_count": 122,
   "metadata": {
    "scrolled": true
   },
   "outputs": [],
   "source": [
    "treasury = 'Treasury Yield.xlsx' # Archivo de tasas\n",
    "start_date = '03-01-2017'\n",
    "end_date = '04-01-2018'\n",
    "t_yield = pd.read_excel(treasury, header = 0) #se lee archivo de tasas\n",
    "t_yield['Date'] = pd.to_datetime(t_yield['Date']) #Fechas se convierten a datetime para filtar\n",
    "t_y = t_yield[(t_yield['Date'] > start_date) & (t_yield['Date'] <= end_date)] #Se filtra dataframe por fecha\n",
    "t_y = t_y.sort_values(by=['Date']) #Se ordena en base a fechas\n",
    "rf_rates = [t_y[(t_y['Date'] > dates[i]) & (t_y['Date'] < dates[i+1])].iloc[-1,1] for i in range(len(dates)-1)] #Se extrae el último dato de cada mes"
   ]
  },
  {
   "cell_type": "code",
   "execution_count": 123,
   "metadata": {
    "scrolled": true
   },
   "outputs": [
    {
     "data": {
      "text/html": [
       "<div>\n",
       "<style scoped>\n",
       "    .dataframe tbody tr th:only-of-type {\n",
       "        vertical-align: middle;\n",
       "    }\n",
       "\n",
       "    .dataframe tbody tr th {\n",
       "        vertical-align: top;\n",
       "    }\n",
       "\n",
       "    .dataframe thead th {\n",
       "        text-align: right;\n",
       "    }\n",
       "</style>\n",
       "<table border=\"1\" class=\"dataframe\">\n",
       "  <thead>\n",
       "    <tr style=\"text-align: right;\">\n",
       "      <th></th>\n",
       "      <th>Original iShares</th>\n",
       "      <th>Caso 1</th>\n",
       "      <th>Caso 2</th>\n",
       "      <th>Caso 3</th>\n",
       "      <th>Caso 4</th>\n",
       "      <th>Caso 5</th>\n",
       "      <th>Caso 6</th>\n",
       "      <th>Caso 7</th>\n",
       "      <th>Caso 8</th>\n",
       "      <th>Caso 9</th>\n",
       "      <th>Caso 10</th>\n",
       "      <th>Caso 11</th>\n",
       "      <th>Caso 12</th>\n",
       "      <th>Proposal</th>\n",
       "    </tr>\n",
       "  </thead>\n",
       "  <tbody>\n",
       "    <tr>\n",
       "      <th>2017-04</th>\n",
       "      <td>-0.000111</td>\n",
       "      <td>0.000000</td>\n",
       "      <td>0.000000</td>\n",
       "      <td>0.000000</td>\n",
       "      <td>0.000000</td>\n",
       "      <td>0.000000</td>\n",
       "      <td>0.000000</td>\n",
       "      <td>0.000000</td>\n",
       "      <td>0.000000</td>\n",
       "      <td>0.000000</td>\n",
       "      <td>0.000000</td>\n",
       "      <td>0.000000</td>\n",
       "      <td>0.000000</td>\n",
       "      <td>0.177444</td>\n",
       "    </tr>\n",
       "    <tr>\n",
       "      <th>2017-05</th>\n",
       "      <td>-0.028407</td>\n",
       "      <td>-0.012184</td>\n",
       "      <td>-0.012881</td>\n",
       "      <td>-0.012184</td>\n",
       "      <td>-0.012184</td>\n",
       "      <td>-0.012184</td>\n",
       "      <td>-0.012184</td>\n",
       "      <td>-0.012184</td>\n",
       "      <td>-0.012184</td>\n",
       "      <td>-0.012184</td>\n",
       "      <td>-0.012184</td>\n",
       "      <td>-0.012184</td>\n",
       "      <td>-0.012184</td>\n",
       "      <td>-0.547726</td>\n",
       "    </tr>\n",
       "    <tr>\n",
       "      <th>2017-06</th>\n",
       "      <td>0.049756</td>\n",
       "      <td>0.002870</td>\n",
       "      <td>0.002935</td>\n",
       "      <td>0.014952</td>\n",
       "      <td>0.002870</td>\n",
       "      <td>0.002870</td>\n",
       "      <td>0.002870</td>\n",
       "      <td>0.002870</td>\n",
       "      <td>0.002870</td>\n",
       "      <td>0.002870</td>\n",
       "      <td>0.002870</td>\n",
       "      <td>0.002870</td>\n",
       "      <td>0.002870</td>\n",
       "      <td>-2.363187</td>\n",
       "    </tr>\n",
       "    <tr>\n",
       "      <th>2017-07</th>\n",
       "      <td>0.024431</td>\n",
       "      <td>0.001255</td>\n",
       "      <td>0.001208</td>\n",
       "      <td>0.001119</td>\n",
       "      <td>0.008538</td>\n",
       "      <td>0.001255</td>\n",
       "      <td>0.001255</td>\n",
       "      <td>0.001255</td>\n",
       "      <td>0.001255</td>\n",
       "      <td>0.001255</td>\n",
       "      <td>0.001255</td>\n",
       "      <td>0.001255</td>\n",
       "      <td>0.001255</td>\n",
       "      <td>1.983271</td>\n",
       "    </tr>\n",
       "    <tr>\n",
       "      <th>2017-08</th>\n",
       "      <td>-0.016487</td>\n",
       "      <td>-0.022617</td>\n",
       "      <td>-0.022862</td>\n",
       "      <td>-0.022549</td>\n",
       "      <td>-0.022437</td>\n",
       "      <td>-0.019396</td>\n",
       "      <td>-0.022617</td>\n",
       "      <td>-0.022617</td>\n",
       "      <td>-0.022617</td>\n",
       "      <td>-0.022617</td>\n",
       "      <td>-0.022617</td>\n",
       "      <td>-0.022617</td>\n",
       "      <td>-0.022617</td>\n",
       "      <td>-0.011522</td>\n",
       "    </tr>\n",
       "    <tr>\n",
       "      <th>2017-09</th>\n",
       "      <td>0.023072</td>\n",
       "      <td>0.023369</td>\n",
       "      <td>0.023621</td>\n",
       "      <td>0.023215</td>\n",
       "      <td>0.023177</td>\n",
       "      <td>0.023086</td>\n",
       "      <td>0.022339</td>\n",
       "      <td>0.023369</td>\n",
       "      <td>0.023369</td>\n",
       "      <td>0.023369</td>\n",
       "      <td>0.023369</td>\n",
       "      <td>0.023369</td>\n",
       "      <td>0.023369</td>\n",
       "      <td>2.776211</td>\n",
       "    </tr>\n",
       "    <tr>\n",
       "      <th>2017-10</th>\n",
       "      <td>0.026509</td>\n",
       "      <td>0.005096</td>\n",
       "      <td>0.005208</td>\n",
       "      <td>0.005789</td>\n",
       "      <td>0.005771</td>\n",
       "      <td>0.005990</td>\n",
       "      <td>0.006969</td>\n",
       "      <td>0.010408</td>\n",
       "      <td>0.005096</td>\n",
       "      <td>0.005096</td>\n",
       "      <td>0.005096</td>\n",
       "      <td>0.005096</td>\n",
       "      <td>0.005096</td>\n",
       "      <td>0.178461</td>\n",
       "    </tr>\n",
       "    <tr>\n",
       "      <th>2017-11</th>\n",
       "      <td>0.033053</td>\n",
       "      <td>0.024083</td>\n",
       "      <td>0.024297</td>\n",
       "      <td>0.024001</td>\n",
       "      <td>0.024063</td>\n",
       "      <td>0.023942</td>\n",
       "      <td>0.022746</td>\n",
       "      <td>0.022643</td>\n",
       "      <td>0.022504</td>\n",
       "      <td>0.024083</td>\n",
       "      <td>0.024083</td>\n",
       "      <td>0.024083</td>\n",
       "      <td>0.024083</td>\n",
       "      <td>0.530819</td>\n",
       "    </tr>\n",
       "    <tr>\n",
       "      <th>2017-12</th>\n",
       "      <td>0.019814</td>\n",
       "      <td>0.015315</td>\n",
       "      <td>0.015476</td>\n",
       "      <td>0.015271</td>\n",
       "      <td>0.015201</td>\n",
       "      <td>0.015316</td>\n",
       "      <td>0.014846</td>\n",
       "      <td>0.014865</td>\n",
       "      <td>0.014837</td>\n",
       "      <td>0.017921</td>\n",
       "      <td>0.015315</td>\n",
       "      <td>0.015315</td>\n",
       "      <td>0.015315</td>\n",
       "      <td>0.447361</td>\n",
       "    </tr>\n",
       "    <tr>\n",
       "      <th>2018-01</th>\n",
       "      <td>0.024378</td>\n",
       "      <td>0.020358</td>\n",
       "      <td>0.020564</td>\n",
       "      <td>0.020167</td>\n",
       "      <td>0.020135</td>\n",
       "      <td>0.020063</td>\n",
       "      <td>0.019989</td>\n",
       "      <td>0.019958</td>\n",
       "      <td>0.019913</td>\n",
       "      <td>0.018924</td>\n",
       "      <td>0.018899</td>\n",
       "      <td>0.020358</td>\n",
       "      <td>0.020358</td>\n",
       "      <td>1.054689</td>\n",
       "    </tr>\n",
       "    <tr>\n",
       "      <th>2018-02</th>\n",
       "      <td>-0.028156</td>\n",
       "      <td>-0.026305</td>\n",
       "      <td>-0.026547</td>\n",
       "      <td>-0.026089</td>\n",
       "      <td>-0.026029</td>\n",
       "      <td>-0.026114</td>\n",
       "      <td>-0.025768</td>\n",
       "      <td>-0.025699</td>\n",
       "      <td>-0.025612</td>\n",
       "      <td>-0.029749</td>\n",
       "      <td>-0.029682</td>\n",
       "      <td>-0.028916</td>\n",
       "      <td>-0.026305</td>\n",
       "      <td>-1.196888</td>\n",
       "    </tr>\n",
       "    <tr>\n",
       "      <th>2018-03</th>\n",
       "      <td>-0.012688</td>\n",
       "      <td>-0.017231</td>\n",
       "      <td>-0.017397</td>\n",
       "      <td>-0.016528</td>\n",
       "      <td>-0.016114</td>\n",
       "      <td>-0.015867</td>\n",
       "      <td>-0.015750</td>\n",
       "      <td>-0.015712</td>\n",
       "      <td>-0.015670</td>\n",
       "      <td>-0.013491</td>\n",
       "      <td>-0.013471</td>\n",
       "      <td>-0.012530</td>\n",
       "      <td>-0.012652</td>\n",
       "      <td>1.610461</td>\n",
       "    </tr>\n",
       "  </tbody>\n",
       "</table>\n",
       "</div>"
      ],
      "text/plain": [
       "         Original iShares    Caso 1    Caso 2    Caso 3    Caso 4    Caso 5  \\\n",
       "2017-04         -0.000111  0.000000  0.000000  0.000000  0.000000  0.000000   \n",
       "2017-05         -0.028407 -0.012184 -0.012881 -0.012184 -0.012184 -0.012184   \n",
       "2017-06          0.049756  0.002870  0.002935  0.014952  0.002870  0.002870   \n",
       "2017-07          0.024431  0.001255  0.001208  0.001119  0.008538  0.001255   \n",
       "2017-08         -0.016487 -0.022617 -0.022862 -0.022549 -0.022437 -0.019396   \n",
       "2017-09          0.023072  0.023369  0.023621  0.023215  0.023177  0.023086   \n",
       "2017-10          0.026509  0.005096  0.005208  0.005789  0.005771  0.005990   \n",
       "2017-11          0.033053  0.024083  0.024297  0.024001  0.024063  0.023942   \n",
       "2017-12          0.019814  0.015315  0.015476  0.015271  0.015201  0.015316   \n",
       "2018-01          0.024378  0.020358  0.020564  0.020167  0.020135  0.020063   \n",
       "2018-02         -0.028156 -0.026305 -0.026547 -0.026089 -0.026029 -0.026114   \n",
       "2018-03         -0.012688 -0.017231 -0.017397 -0.016528 -0.016114 -0.015867   \n",
       "\n",
       "           Caso 6    Caso 7    Caso 8    Caso 9   Caso 10   Caso 11   Caso 12  \\\n",
       "2017-04  0.000000  0.000000  0.000000  0.000000  0.000000  0.000000  0.000000   \n",
       "2017-05 -0.012184 -0.012184 -0.012184 -0.012184 -0.012184 -0.012184 -0.012184   \n",
       "2017-06  0.002870  0.002870  0.002870  0.002870  0.002870  0.002870  0.002870   \n",
       "2017-07  0.001255  0.001255  0.001255  0.001255  0.001255  0.001255  0.001255   \n",
       "2017-08 -0.022617 -0.022617 -0.022617 -0.022617 -0.022617 -0.022617 -0.022617   \n",
       "2017-09  0.022339  0.023369  0.023369  0.023369  0.023369  0.023369  0.023369   \n",
       "2017-10  0.006969  0.010408  0.005096  0.005096  0.005096  0.005096  0.005096   \n",
       "2017-11  0.022746  0.022643  0.022504  0.024083  0.024083  0.024083  0.024083   \n",
       "2017-12  0.014846  0.014865  0.014837  0.017921  0.015315  0.015315  0.015315   \n",
       "2018-01  0.019989  0.019958  0.019913  0.018924  0.018899  0.020358  0.020358   \n",
       "2018-02 -0.025768 -0.025699 -0.025612 -0.029749 -0.029682 -0.028916 -0.026305   \n",
       "2018-03 -0.015750 -0.015712 -0.015670 -0.013491 -0.013471 -0.012530 -0.012652   \n",
       "\n",
       "         Proposal  \n",
       "2017-04  0.177444  \n",
       "2017-05 -0.547726  \n",
       "2017-06 -2.363187  \n",
       "2017-07  1.983271  \n",
       "2017-08 -0.011522  \n",
       "2017-09  2.776211  \n",
       "2017-10  0.178461  \n",
       "2017-11  0.530819  \n",
       "2017-12  0.447361  \n",
       "2018-01  1.054689  \n",
       "2018-02 -1.196888  \n",
       "2018-03  1.610461  "
      ]
     },
     "execution_count": 123,
     "metadata": {},
     "output_type": "execute_result"
    }
   ],
   "source": [
    "sharpe = rend_table.copy()\n",
    "for i in range(len(sharpe.iloc[:,0])):\n",
    "    for j in range(len(sharpe.iloc[0,:])):\n",
    "        sharpe.iat[i,j] = (rend_table.iat[i,j]-(rf_rates[i]/12/100))/desv_table.iat[i,j] #se saca el sharpe por coordenada\n",
    "pd.set_option('display.float_format', lambda x: '%.6f' % x)      #formato de 6 decimales\n",
    "sharpe"
   ]
  },
  {
   "cell_type": "markdown",
   "metadata": {},
   "source": [
    "## Conclusiones"
   ]
  },
  {
   "cell_type": "markdown",
   "metadata": {},
   "source": [
    "A lo largo del laboratorio nos encontramos con distintos problemas para trabajar los archivos debido a que contenían mucha información y debiamos analizar todo, el hecho de que usaramos compresión de listas nos permitio eficientar el tiempo en el que se ejecutaban las operaciones.\n",
    "\n",
    "Con medidas descriptivas tales como rendimiento, volatilidad y Sharpe evaluamos 12 escenarios diferentes del ETF que contemplaban rebalanceo en diferentes periodos de tiempo; el interés sobre esto fue para generar nosotros un criterio de rebalanceo para nuestra replica del ETF con posiciones en directo y fue comparado con los escenarios previamente calculados.\n",
    "\n",
    "Con esta herramienta tan poderosa como es el Python, pudimos replicar un ETF con nuestro propio criterio de rebalanceo sin necesidad de contratar un gestor, con esto nos ahorramos comisiones.\n",
    "Al crear muchas alternativas o caminos diferentes podemos darnos cuenta de cual sería el más cercano al rendimiento óptimo y así decidir si nos quedamos pasivamente con el ETF o si mejor le dedicamos tiempo y le damos una gestión activa, esto dependerá de los beneficios extra que nos traiga modificar nuestras posiciones con el ETF."
   ]
  },
  {
   "cell_type": "markdown",
   "metadata": {},
   "source": [
    "## Notas"
   ]
  },
  {
   "cell_type": "markdown",
   "metadata": {},
   "source": [
    "> Para los cálculos solo se están usando los activos de \"Equity\".\n",
    "\n",
    "> En total tenemos 453 activos diferentes en el etf, quandl sólo permitió extraer 449; algunos en algún periodo de tiempo ya tenían NaN, se rellenaron con 0.\n",
    "\n",
    "> Las ponderaciones mensuales no van a dar 100%, debido a la ausencia de algunos activos."
   ]
  }
 ],
 "metadata": {
  "kernelspec": {
   "display_name": "Python 3",
   "language": "python",
   "name": "python3"
  },
  "language_info": {
   "codemirror_mode": {
    "name": "ipython",
    "version": 3
   },
   "file_extension": ".py",
   "mimetype": "text/x-python",
   "name": "python",
   "nbconvert_exporter": "python",
   "pygments_lexer": "ipython3",
   "version": "3.7.1"
  }
 },
 "nbformat": 4,
 "nbformat_minor": 2
}
