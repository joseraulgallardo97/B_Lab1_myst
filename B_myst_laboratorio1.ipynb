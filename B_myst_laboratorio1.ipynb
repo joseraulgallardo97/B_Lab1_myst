{
 "cells": [
  {
   "cell_type": "markdown",
   "metadata": {},
   "source": [
    "<img style=\"float: right; margin: 0px 0px 15px 15px;\" src=\"https://www.carrerasenlinea.mx/logos/original/logo-instituto-tecnologico-y-de-estudios-superiores-de-occidente.png\" width=\"150px\" height=\"100px\" /> \n",
    "\n",
    "\n",
    "&nbsp;\n",
    "# Administración activa Vs Administración pasiva del capital\n",
    "## Equipo B\n",
    "\n",
    "***Emilio de la Torre***\n",
    "\n",
    "\n",
    "***José Raúl Gallardo***\n",
    "\n",
    "\n",
    "***Adrian Garcia*** \n"
   ]
  },
  {
   "cell_type": "markdown",
   "metadata": {},
   "source": [
    "La idea es replicar un ETF con posiciones en directo. Te han asignado la tarea de hacer un ejercicio simple de replicar la construcción de un portafolio de inversión y un criterio de rebalanceo lo más parecido a un ETF de ishares que tu selecciones. Esto con la finalidad de comparar los resultados de haber rebalanceado periódicamente el portafolio, ó, no haberlo hecho y continuar todo un año con las mismas posiciones."
   ]
  },
  {
   "cell_type": "markdown",
   "metadata": {},
   "source": [
    "## Limpieza y extracción de datos"
   ]
  },
  {
   "cell_type": "markdown",
   "metadata": {},
   "source": [
    "### Importando librerías a utilizar"
   ]
  },
  {
   "cell_type": "code",
   "execution_count": 1,
   "metadata": {},
   "outputs": [],
   "source": [
    "import numpy as np\n",
    "import pandas as pd\n",
    "import matplotlib.pyplot as plt\n",
    "import datetime as dt"
   ]
  },
  {
   "cell_type": "markdown",
   "metadata": {},
   "source": [
    "### Importando los datos del ETF"
   ]
  },
  {
   "cell_type": "code",
   "execution_count": 2,
   "metadata": {},
   "outputs": [],
   "source": [
    "#etf_file = 'IVEetf.xlsx' # Dirección del archivo que contiene información del etf\n",
    "#data_etf = pd.read_excel(etf_file, sheet_name=0, header=0, sep=',', index_col=None, parse_dates=False, skip_blank_lines=True) \n",
    "# Importando los datos desde el excel\n",
    "#data_etf.head()"
   ]
  },
  {
   "cell_type": "code",
   "execution_count": 2,
   "metadata": {},
   "outputs": [],
   "source": [
    "# Función para convertir datos string a flotante\n",
    "def s2f(to_convert):\n",
    "    f = float(to_convert.replace(',',''))\n",
    "    return f"
   ]
  },
  {
   "cell_type": "code",
   "execution_count": 3,
   "metadata": {},
   "outputs": [],
   "source": [
    "# Función para extraer información de los etfs (csv) y los tickers de cada uno\n",
    "def get_data(nFiles, file_title):\n",
    "    df = []\n",
    "    dr = np.arange(1,nFiles+1)\n",
    "    df = [pd.read_csv(file_title+str(dr[i])+'.csv', header=1, index_col=None, parse_dates=False, skip_blank_lines=True, skiprows=9) for i in range(len(dr))]\n",
    "    data = [df[i][(df[i]['Asset Class'] == 'Equity')] for i in range(len(df))]\n",
    "    tickers = [list(data[i].iloc[:,0]) for i in range(len(data))]\n",
    "    return data, tickers"
   ]
  },
  {
   "cell_type": "code",
   "execution_count": 26,
   "metadata": {},
   "outputs": [],
   "source": [
    "# Función para sacar todos los tickers (valores únicos) de todos los archivos juntos\n",
    "def unique_tickers(tickers): \n",
    "    nFiles = len(tickers)\n",
    "    ticker = []\n",
    "    for i in range(nFiles):\n",
    "        ticker = ticker + tickers[i]\n",
    "    df = pd.DataFrame(ticker)\n",
    "    unique_tickers = df.iloc[:,0].unique()\n",
    "    return unique_tickers"
   ]
  },
  {
   "cell_type": "code",
   "execution_count": 27,
   "metadata": {},
   "outputs": [],
   "source": [
    "# Función para extraer el número de acciones en circulación de los etf's de ishares.\n",
    "def n_shares(nFiles, file_title):\n",
    "    dr = np.arange(1,nFiles+1)\n",
    "    df = [pd.read_csv(file_title+str(dr[i])+'.csv', index_col=None, parse_dates=False, skip_blank_lines=True, nrows=6) for i in range(len(dr))]\n",
    "    all_shares = [df[i].iloc[3,0] for i in range(len(df))]\n",
    "    all_shares_int = [int(float(all_shares[i].replace(',',''))) for i in range(len(all_shares))]\n",
    "    return all_shares_int"
   ]
  },
  {
   "cell_type": "code",
   "execution_count": 15,
   "metadata": {},
   "outputs": [],
   "source": [
    "# Esta función saca los precios de WIKI\n",
    "def get_quandl_prices(tickers):\n",
    "    d_quandl = quandl.get_table('WIKI/PRICES', ticker = [all_tickers], qopts = {'columns': ['ticker', 'date', 'close']}, \n",
    "                        date = {'gte': '2017-03-01', 'lte': '2018-03-31'}, paginate=True)\n",
    "    prices = d_quandl.set_index('date')\n",
    "    prices = prices.pivot(columns='ticker')\n",
    "    return prices"
   ]
  },
  {
   "cell_type": "code",
   "execution_count": 18,
   "metadata": {},
   "outputs": [],
   "source": [
    "#Función para filtrar los precios por fechas de interes\n",
    "def final_prices(df_number,initial_date,final_date):\n",
    "    prices = quandl_prices[df_number][np.logical_and(quandl_prices[df_number].index >= np.datetime64(initial_date), \n",
    "                                            quandl_prices[0].index < np.datetime64(final_date))]\n",
    "    return prices"
   ]
  },
  {
   "cell_type": "code",
   "execution_count": 28,
   "metadata": {
    "scrolled": true
   },
   "outputs": [],
   "source": [
    "etf_shares = n_shares(13, 'IVE_Holdings')"
   ]
  },
  {
   "cell_type": "code",
   "execution_count": 29,
   "metadata": {},
   "outputs": [],
   "source": [
    "data_etf, tickers = get_data(13, 'IVE_Holdings')"
   ]
  },
  {
   "cell_type": "code",
   "execution_count": 30,
   "metadata": {},
   "outputs": [
    {
     "data": {
      "text/plain": [
       "453"
      ]
     },
     "execution_count": 30,
     "metadata": {},
     "output_type": "execute_result"
    }
   ],
   "source": [
    "all_tickers = unique_tickers(tickers)\n",
    "len(all_tickers)"
   ]
  },
  {
   "cell_type": "markdown",
   "metadata": {},
   "source": [
    "### Extracción de precios de Quandl"
   ]
  },
  {
   "cell_type": "code",
   "execution_count": 9,
   "metadata": {},
   "outputs": [],
   "source": [
    "import quandl\n",
    "quandl.ApiConfig.api_key = \"JyBxQPPNx_LTemwn-VbD\" # Api para acceso a Quandl"
   ]
  },
  {
   "cell_type": "code",
   "execution_count": 242,
   "metadata": {},
   "outputs": [
    {
     "data": {
      "text/html": [
       "<div>\n",
       "<style scoped>\n",
       "    .dataframe tbody tr th:only-of-type {\n",
       "        vertical-align: middle;\n",
       "    }\n",
       "\n",
       "    .dataframe tbody tr th {\n",
       "        vertical-align: top;\n",
       "    }\n",
       "\n",
       "    .dataframe thead th {\n",
       "        text-align: right;\n",
       "    }\n",
       "</style>\n",
       "<table border=\"1\" class=\"dataframe\">\n",
       "  <thead>\n",
       "    <tr style=\"text-align: right;\">\n",
       "      <th></th>\n",
       "      <th>ticker</th>\n",
       "      <th>date</th>\n",
       "      <th>close</th>\n",
       "    </tr>\n",
       "    <tr>\n",
       "      <th>None</th>\n",
       "      <th></th>\n",
       "      <th></th>\n",
       "      <th></th>\n",
       "    </tr>\n",
       "  </thead>\n",
       "  <tbody>\n",
       "    <tr>\n",
       "      <th>0</th>\n",
       "      <td>ZION</td>\n",
       "      <td>2018-03-27</td>\n",
       "      <td>52.02</td>\n",
       "    </tr>\n",
       "    <tr>\n",
       "      <th>1</th>\n",
       "      <td>ZION</td>\n",
       "      <td>2018-03-26</td>\n",
       "      <td>53.24</td>\n",
       "    </tr>\n",
       "    <tr>\n",
       "      <th>2</th>\n",
       "      <td>ZION</td>\n",
       "      <td>2018-03-23</td>\n",
       "      <td>51.23</td>\n",
       "    </tr>\n",
       "    <tr>\n",
       "      <th>3</th>\n",
       "      <td>ZION</td>\n",
       "      <td>2018-03-22</td>\n",
       "      <td>53.07</td>\n",
       "    </tr>\n",
       "    <tr>\n",
       "      <th>4</th>\n",
       "      <td>ZION</td>\n",
       "      <td>2018-03-21</td>\n",
       "      <td>55.10</td>\n",
       "    </tr>\n",
       "  </tbody>\n",
       "</table>\n",
       "</div>"
      ],
      "text/plain": [
       "     ticker       date  close\n",
       "None                         \n",
       "0      ZION 2018-03-27  52.02\n",
       "1      ZION 2018-03-26  53.24\n",
       "2      ZION 2018-03-23  51.23\n",
       "3      ZION 2018-03-22  53.07\n",
       "4      ZION 2018-03-21  55.10"
      ]
     },
     "execution_count": 242,
     "metadata": {},
     "output_type": "execute_result"
    }
   ],
   "source": [
    "d_quandl = quandl.get_table('WIKI/PRICES', ticker = [all_tickers], qopts = {'columns': ['ticker', 'date', 'close']}, \n",
    "                        date = {'gte': '2017-03-01', 'lte': '2018-03-31'}, paginate=True)\n",
    "        #De la línea anterior se obtinen los precios de las acciones en un DataFrame.\n",
    "d_quandl.head()"
   ]
  },
  {
   "cell_type": "code",
   "execution_count": 243,
   "metadata": {
    "scrolled": false
   },
   "outputs": [
    {
     "data": {
      "text/html": [
       "<div>\n",
       "<style scoped>\n",
       "    .dataframe tbody tr th:only-of-type {\n",
       "        vertical-align: middle;\n",
       "    }\n",
       "\n",
       "    .dataframe tbody tr th {\n",
       "        vertical-align: top;\n",
       "    }\n",
       "\n",
       "    .dataframe thead tr th {\n",
       "        text-align: left;\n",
       "    }\n",
       "\n",
       "    .dataframe thead tr:last-of-type th {\n",
       "        text-align: right;\n",
       "    }\n",
       "</style>\n",
       "<table border=\"1\" class=\"dataframe\">\n",
       "  <thead>\n",
       "    <tr>\n",
       "      <th></th>\n",
       "      <th colspan=\"21\" halign=\"left\">close</th>\n",
       "    </tr>\n",
       "    <tr>\n",
       "      <th>ticker</th>\n",
       "      <th>A</th>\n",
       "      <th>AAL</th>\n",
       "      <th>AAP</th>\n",
       "      <th>ABC</th>\n",
       "      <th>ABT</th>\n",
       "      <th>ACN</th>\n",
       "      <th>ADM</th>\n",
       "      <th>ADS</th>\n",
       "      <th>ADSK</th>\n",
       "      <th>AEE</th>\n",
       "      <th>...</th>\n",
       "      <th>XL</th>\n",
       "      <th>XLNX</th>\n",
       "      <th>XOM</th>\n",
       "      <th>XRAY</th>\n",
       "      <th>XRX</th>\n",
       "      <th>XYL</th>\n",
       "      <th>YHOO</th>\n",
       "      <th>YUM</th>\n",
       "      <th>ZBH</th>\n",
       "      <th>ZION</th>\n",
       "    </tr>\n",
       "    <tr>\n",
       "      <th>date</th>\n",
       "      <th></th>\n",
       "      <th></th>\n",
       "      <th></th>\n",
       "      <th></th>\n",
       "      <th></th>\n",
       "      <th></th>\n",
       "      <th></th>\n",
       "      <th></th>\n",
       "      <th></th>\n",
       "      <th></th>\n",
       "      <th></th>\n",
       "      <th></th>\n",
       "      <th></th>\n",
       "      <th></th>\n",
       "      <th></th>\n",
       "      <th></th>\n",
       "      <th></th>\n",
       "      <th></th>\n",
       "      <th></th>\n",
       "      <th></th>\n",
       "      <th></th>\n",
       "    </tr>\n",
       "  </thead>\n",
       "  <tbody>\n",
       "    <tr>\n",
       "      <th>2017-03-01</th>\n",
       "      <td>52.04</td>\n",
       "      <td>47.09</td>\n",
       "      <td>156.68</td>\n",
       "      <td>92.23</td>\n",
       "      <td>45.59</td>\n",
       "      <td>124.07</td>\n",
       "      <td>46.51</td>\n",
       "      <td>247.62</td>\n",
       "      <td>88.93</td>\n",
       "      <td>54.76</td>\n",
       "      <td>...</td>\n",
       "      <td>41.12</td>\n",
       "      <td>59.68</td>\n",
       "      <td>83.02</td>\n",
       "      <td>64.50</td>\n",
       "      <td>7.39</td>\n",
       "      <td>49.55</td>\n",
       "      <td>46.24</td>\n",
       "      <td>65.57</td>\n",
       "      <td>118.89</td>\n",
       "      <td>46.53</td>\n",
       "    </tr>\n",
       "    <tr>\n",
       "      <th>2017-03-02</th>\n",
       "      <td>51.38</td>\n",
       "      <td>45.72</td>\n",
       "      <td>157.36</td>\n",
       "      <td>91.94</td>\n",
       "      <td>45.69</td>\n",
       "      <td>124.35</td>\n",
       "      <td>45.48</td>\n",
       "      <td>243.94</td>\n",
       "      <td>87.32</td>\n",
       "      <td>55.12</td>\n",
       "      <td>...</td>\n",
       "      <td>40.61</td>\n",
       "      <td>59.35</td>\n",
       "      <td>83.30</td>\n",
       "      <td>63.65</td>\n",
       "      <td>7.29</td>\n",
       "      <td>48.89</td>\n",
       "      <td>45.94</td>\n",
       "      <td>65.21</td>\n",
       "      <td>118.02</td>\n",
       "      <td>44.96</td>\n",
       "    </tr>\n",
       "    <tr>\n",
       "      <th>2017-03-03</th>\n",
       "      <td>51.98</td>\n",
       "      <td>46.82</td>\n",
       "      <td>155.35</td>\n",
       "      <td>92.23</td>\n",
       "      <td>45.25</td>\n",
       "      <td>123.64</td>\n",
       "      <td>45.20</td>\n",
       "      <td>244.63</td>\n",
       "      <td>85.32</td>\n",
       "      <td>54.89</td>\n",
       "      <td>...</td>\n",
       "      <td>40.36</td>\n",
       "      <td>58.74</td>\n",
       "      <td>82.46</td>\n",
       "      <td>63.36</td>\n",
       "      <td>7.36</td>\n",
       "      <td>48.73</td>\n",
       "      <td>45.91</td>\n",
       "      <td>65.03</td>\n",
       "      <td>118.28</td>\n",
       "      <td>45.36</td>\n",
       "    </tr>\n",
       "    <tr>\n",
       "      <th>2017-03-06</th>\n",
       "      <td>51.25</td>\n",
       "      <td>45.31</td>\n",
       "      <td>154.25</td>\n",
       "      <td>89.99</td>\n",
       "      <td>45.13</td>\n",
       "      <td>123.24</td>\n",
       "      <td>44.76</td>\n",
       "      <td>245.45</td>\n",
       "      <td>82.94</td>\n",
       "      <td>54.89</td>\n",
       "      <td>...</td>\n",
       "      <td>39.90</td>\n",
       "      <td>58.81</td>\n",
       "      <td>82.83</td>\n",
       "      <td>62.75</td>\n",
       "      <td>7.45</td>\n",
       "      <td>48.53</td>\n",
       "      <td>45.64</td>\n",
       "      <td>64.50</td>\n",
       "      <td>117.22</td>\n",
       "      <td>45.33</td>\n",
       "    </tr>\n",
       "    <tr>\n",
       "      <th>2017-03-07</th>\n",
       "      <td>51.21</td>\n",
       "      <td>44.84</td>\n",
       "      <td>151.99</td>\n",
       "      <td>88.48</td>\n",
       "      <td>45.00</td>\n",
       "      <td>124.14</td>\n",
       "      <td>44.46</td>\n",
       "      <td>245.05</td>\n",
       "      <td>82.07</td>\n",
       "      <td>54.82</td>\n",
       "      <td>...</td>\n",
       "      <td>40.13</td>\n",
       "      <td>58.75</td>\n",
       "      <td>82.52</td>\n",
       "      <td>62.55</td>\n",
       "      <td>7.36</td>\n",
       "      <td>48.78</td>\n",
       "      <td>45.73</td>\n",
       "      <td>64.02</td>\n",
       "      <td>117.07</td>\n",
       "      <td>45.28</td>\n",
       "    </tr>\n",
       "  </tbody>\n",
       "</table>\n",
       "<p>5 rows × 450 columns</p>\n",
       "</div>"
      ],
      "text/plain": [
       "            close                                                             \\\n",
       "ticker          A    AAL     AAP    ABC    ABT     ACN    ADM     ADS   ADSK   \n",
       "date                                                                           \n",
       "2017-03-01  52.04  47.09  156.68  92.23  45.59  124.07  46.51  247.62  88.93   \n",
       "2017-03-02  51.38  45.72  157.36  91.94  45.69  124.35  45.48  243.94  87.32   \n",
       "2017-03-03  51.98  46.82  155.35  92.23  45.25  123.64  45.20  244.63  85.32   \n",
       "2017-03-06  51.25  45.31  154.25  89.99  45.13  123.24  44.76  245.45  82.94   \n",
       "2017-03-07  51.21  44.84  151.99  88.48  45.00  124.14  44.46  245.05  82.07   \n",
       "\n",
       "                   ...                                                    \\\n",
       "ticker        AEE  ...       XL   XLNX    XOM   XRAY   XRX    XYL   YHOO   \n",
       "date               ...                                                     \n",
       "2017-03-01  54.76  ...    41.12  59.68  83.02  64.50  7.39  49.55  46.24   \n",
       "2017-03-02  55.12  ...    40.61  59.35  83.30  63.65  7.29  48.89  45.94   \n",
       "2017-03-03  54.89  ...    40.36  58.74  82.46  63.36  7.36  48.73  45.91   \n",
       "2017-03-06  54.89  ...    39.90  58.81  82.83  62.75  7.45  48.53  45.64   \n",
       "2017-03-07  54.82  ...    40.13  58.75  82.52  62.55  7.36  48.78  45.73   \n",
       "\n",
       "                                  \n",
       "ticker        YUM     ZBH   ZION  \n",
       "date                              \n",
       "2017-03-01  65.57  118.89  46.53  \n",
       "2017-03-02  65.21  118.02  44.96  \n",
       "2017-03-03  65.03  118.28  45.36  \n",
       "2017-03-06  64.50  117.22  45.33  \n",
       "2017-03-07  64.02  117.07  45.28  \n",
       "\n",
       "[5 rows x 450 columns]"
      ]
     },
     "execution_count": 243,
     "metadata": {},
     "output_type": "execute_result"
    }
   ],
   "source": [
    "#A continuación se ordena el dataframe para tener los precios de los tickers en columnas\n",
    "stock_prices = d_quandl.set_index('date')\n",
    "stock_prices = stock_prices.pivot(columns='ticker')\n",
    "stock_prices.head()"
   ]
  },
  {
   "cell_type": "code",
   "execution_count": 244,
   "metadata": {
    "scrolled": false
   },
   "outputs": [
    {
     "data": {
      "text/html": [
       "<div>\n",
       "<style scoped>\n",
       "    .dataframe tbody tr th:only-of-type {\n",
       "        vertical-align: middle;\n",
       "    }\n",
       "\n",
       "    .dataframe tbody tr th {\n",
       "        vertical-align: top;\n",
       "    }\n",
       "\n",
       "    .dataframe thead th {\n",
       "        text-align: right;\n",
       "    }\n",
       "</style>\n",
       "<table border=\"1\" class=\"dataframe\">\n",
       "  <thead>\n",
       "    <tr style=\"text-align: right;\">\n",
       "      <th>ticker</th>\n",
       "      <th>A</th>\n",
       "      <th>AAL</th>\n",
       "      <th>AAP</th>\n",
       "      <th>ABC</th>\n",
       "      <th>ABT</th>\n",
       "      <th>ACN</th>\n",
       "      <th>ADM</th>\n",
       "      <th>ADS</th>\n",
       "      <th>ADSK</th>\n",
       "      <th>AEE</th>\n",
       "      <th>...</th>\n",
       "      <th>XL</th>\n",
       "      <th>XLNX</th>\n",
       "      <th>XOM</th>\n",
       "      <th>XRAY</th>\n",
       "      <th>XRX</th>\n",
       "      <th>XYL</th>\n",
       "      <th>YHOO</th>\n",
       "      <th>YUM</th>\n",
       "      <th>ZBH</th>\n",
       "      <th>ZION</th>\n",
       "    </tr>\n",
       "    <tr>\n",
       "      <th>date</th>\n",
       "      <th></th>\n",
       "      <th></th>\n",
       "      <th></th>\n",
       "      <th></th>\n",
       "      <th></th>\n",
       "      <th></th>\n",
       "      <th></th>\n",
       "      <th></th>\n",
       "      <th></th>\n",
       "      <th></th>\n",
       "      <th></th>\n",
       "      <th></th>\n",
       "      <th></th>\n",
       "      <th></th>\n",
       "      <th></th>\n",
       "      <th></th>\n",
       "      <th></th>\n",
       "      <th></th>\n",
       "      <th></th>\n",
       "      <th></th>\n",
       "      <th></th>\n",
       "    </tr>\n",
       "  </thead>\n",
       "  <tbody>\n",
       "    <tr>\n",
       "      <th>2017-03-01</th>\n",
       "      <td>52.04</td>\n",
       "      <td>47.09</td>\n",
       "      <td>156.68</td>\n",
       "      <td>92.23</td>\n",
       "      <td>45.59</td>\n",
       "      <td>124.07</td>\n",
       "      <td>46.51</td>\n",
       "      <td>247.62</td>\n",
       "      <td>88.93</td>\n",
       "      <td>54.76</td>\n",
       "      <td>...</td>\n",
       "      <td>41.12</td>\n",
       "      <td>59.68</td>\n",
       "      <td>83.02</td>\n",
       "      <td>64.50</td>\n",
       "      <td>7.39</td>\n",
       "      <td>49.55</td>\n",
       "      <td>46.24</td>\n",
       "      <td>65.57</td>\n",
       "      <td>118.89</td>\n",
       "      <td>46.53</td>\n",
       "    </tr>\n",
       "    <tr>\n",
       "      <th>2017-03-02</th>\n",
       "      <td>51.38</td>\n",
       "      <td>45.72</td>\n",
       "      <td>157.36</td>\n",
       "      <td>91.94</td>\n",
       "      <td>45.69</td>\n",
       "      <td>124.35</td>\n",
       "      <td>45.48</td>\n",
       "      <td>243.94</td>\n",
       "      <td>87.32</td>\n",
       "      <td>55.12</td>\n",
       "      <td>...</td>\n",
       "      <td>40.61</td>\n",
       "      <td>59.35</td>\n",
       "      <td>83.30</td>\n",
       "      <td>63.65</td>\n",
       "      <td>7.29</td>\n",
       "      <td>48.89</td>\n",
       "      <td>45.94</td>\n",
       "      <td>65.21</td>\n",
       "      <td>118.02</td>\n",
       "      <td>44.96</td>\n",
       "    </tr>\n",
       "    <tr>\n",
       "      <th>2017-03-03</th>\n",
       "      <td>51.98</td>\n",
       "      <td>46.82</td>\n",
       "      <td>155.35</td>\n",
       "      <td>92.23</td>\n",
       "      <td>45.25</td>\n",
       "      <td>123.64</td>\n",
       "      <td>45.20</td>\n",
       "      <td>244.63</td>\n",
       "      <td>85.32</td>\n",
       "      <td>54.89</td>\n",
       "      <td>...</td>\n",
       "      <td>40.36</td>\n",
       "      <td>58.74</td>\n",
       "      <td>82.46</td>\n",
       "      <td>63.36</td>\n",
       "      <td>7.36</td>\n",
       "      <td>48.73</td>\n",
       "      <td>45.91</td>\n",
       "      <td>65.03</td>\n",
       "      <td>118.28</td>\n",
       "      <td>45.36</td>\n",
       "    </tr>\n",
       "    <tr>\n",
       "      <th>2017-03-06</th>\n",
       "      <td>51.25</td>\n",
       "      <td>45.31</td>\n",
       "      <td>154.25</td>\n",
       "      <td>89.99</td>\n",
       "      <td>45.13</td>\n",
       "      <td>123.24</td>\n",
       "      <td>44.76</td>\n",
       "      <td>245.45</td>\n",
       "      <td>82.94</td>\n",
       "      <td>54.89</td>\n",
       "      <td>...</td>\n",
       "      <td>39.90</td>\n",
       "      <td>58.81</td>\n",
       "      <td>82.83</td>\n",
       "      <td>62.75</td>\n",
       "      <td>7.45</td>\n",
       "      <td>48.53</td>\n",
       "      <td>45.64</td>\n",
       "      <td>64.50</td>\n",
       "      <td>117.22</td>\n",
       "      <td>45.33</td>\n",
       "    </tr>\n",
       "    <tr>\n",
       "      <th>2017-03-07</th>\n",
       "      <td>51.21</td>\n",
       "      <td>44.84</td>\n",
       "      <td>151.99</td>\n",
       "      <td>88.48</td>\n",
       "      <td>45.00</td>\n",
       "      <td>124.14</td>\n",
       "      <td>44.46</td>\n",
       "      <td>245.05</td>\n",
       "      <td>82.07</td>\n",
       "      <td>54.82</td>\n",
       "      <td>...</td>\n",
       "      <td>40.13</td>\n",
       "      <td>58.75</td>\n",
       "      <td>82.52</td>\n",
       "      <td>62.55</td>\n",
       "      <td>7.36</td>\n",
       "      <td>48.78</td>\n",
       "      <td>45.73</td>\n",
       "      <td>64.02</td>\n",
       "      <td>117.07</td>\n",
       "      <td>45.28</td>\n",
       "    </tr>\n",
       "  </tbody>\n",
       "</table>\n",
       "<p>5 rows × 450 columns</p>\n",
       "</div>"
      ],
      "text/plain": [
       "ticker          A    AAL     AAP    ABC    ABT     ACN    ADM     ADS   ADSK  \\\n",
       "date                                                                           \n",
       "2017-03-01  52.04  47.09  156.68  92.23  45.59  124.07  46.51  247.62  88.93   \n",
       "2017-03-02  51.38  45.72  157.36  91.94  45.69  124.35  45.48  243.94  87.32   \n",
       "2017-03-03  51.98  46.82  155.35  92.23  45.25  123.64  45.20  244.63  85.32   \n",
       "2017-03-06  51.25  45.31  154.25  89.99  45.13  123.24  44.76  245.45  82.94   \n",
       "2017-03-07  51.21  44.84  151.99  88.48  45.00  124.14  44.46  245.05  82.07   \n",
       "\n",
       "ticker        AEE  ...       XL   XLNX    XOM   XRAY   XRX    XYL   YHOO  \\\n",
       "date               ...                                                     \n",
       "2017-03-01  54.76  ...    41.12  59.68  83.02  64.50  7.39  49.55  46.24   \n",
       "2017-03-02  55.12  ...    40.61  59.35  83.30  63.65  7.29  48.89  45.94   \n",
       "2017-03-03  54.89  ...    40.36  58.74  82.46  63.36  7.36  48.73  45.91   \n",
       "2017-03-06  54.89  ...    39.90  58.81  82.83  62.75  7.45  48.53  45.64   \n",
       "2017-03-07  54.82  ...    40.13  58.75  82.52  62.55  7.36  48.78  45.73   \n",
       "\n",
       "ticker        YUM     ZBH   ZION  \n",
       "date                              \n",
       "2017-03-01  65.57  118.89  46.53  \n",
       "2017-03-02  65.21  118.02  44.96  \n",
       "2017-03-03  65.03  118.28  45.36  \n",
       "2017-03-06  64.50  117.22  45.33  \n",
       "2017-03-07  64.02  117.07  45.28  \n",
       "\n",
       "[5 rows x 450 columns]"
      ]
     },
     "execution_count": 244,
     "metadata": {},
     "output_type": "execute_result"
    }
   ],
   "source": [
    "stock_prices.columns = stock_prices.columns.droplevel(0)\n",
    "stock_prices = stock_prices.fillna(0)\n",
    "stock_prices.head()"
   ]
  },
  {
   "cell_type": "markdown",
   "metadata": {},
   "source": [
    "Para tener los pesos de las acciones presentes en Quandl es necesario hacer match entre los tickers del etf y los de la fuente de precios."
   ]
  },
  {
   "cell_type": "code",
   "execution_count": 245,
   "metadata": {},
   "outputs": [],
   "source": [
    "#Extraemos los tickers de Quandl.\n",
    "tickers_quandl = [stock_prices.columns[i] for i in range(len(stock_prices.columns))]"
   ]
  },
  {
   "cell_type": "code",
   "execution_count": 246,
   "metadata": {},
   "outputs": [],
   "source": [
    "df_w = pd.DataFrame(tickers_quandl, columns=['Ticker']) # Tickers se hacen un dataframe\n",
    "# Se unen todos los datos de los dataframes con los tickers\n",
    "all_df_etf = [df_w.set_index('Ticker').join(data_etf[i].set_index('Ticker'), on='Ticker') for i in range(len(data_etf))]\n",
    "# Limpiando los dataframes para eliminar activos que no fueron necesarios en cada mes\n",
    "final_etf_data = [all_df_etf[i].dropna() for i in range(len(all_df_etf))]"
   ]
  },
  {
   "cell_type": "markdown",
   "metadata": {},
   "source": [
    "## ¿Cómo se calcula el NAV (Net Asset Value) de un ETF?"
   ]
  },
  {
   "cell_type": "markdown",
   "metadata": {},
   "source": [
    "Se suma el valor total de cada uno de los instrumentos que componen el ETF, y se divide entre el numero de certificados que el ETF emitió. \n",
    "\n",
    "$$ NAV = \\frac{\\sum (Títulos\\,de\\,cada\\,acción * precio)}{Acciones\\,en\\,circulación\\,del\\,etf}$$"
   ]
  },
  {
   "cell_type": "code",
   "execution_count": 247,
   "metadata": {},
   "outputs": [],
   "source": [
    "# quandl_prices[0][np.logical_and(quandl_prices[0].index >= np.datetime64('2017-03'), quandl_prices[0].index < np.datetime64('2017-04'))]"
   ]
  },
  {
   "cell_type": "markdown",
   "metadata": {},
   "source": [
    "### Cálculo del NAV "
   ]
  },
  {
   "cell_type": "markdown",
   "metadata": {},
   "source": [
    "#### NAV y rendimientos mensuales de los archivos de iShares"
   ]
  },
  {
   "cell_type": "code",
   "execution_count": 248,
   "metadata": {},
   "outputs": [],
   "source": [
    "# Convirtiendo el Market Value (acciones * precio) en número para poder hacer cálculos\n",
    "nav_mensual = [sum([s2f(final_etf_data[i].iloc[j,5]) for j in range(len(final_etf_data[i]))])/etf_shares[i] \n",
    "                      for i in range(len(final_etf_data))]\n",
    "# Estos precios son calculados al fin de cada mes.\n",
    "\n",
    "rend_etf_mensual = [((nav_mensual[i]/nav_mensual[i-1])-1)*100 for i in (np.arange(1,len(nav_mensual)))]\n",
    "# Rendimientos mensuales del etf"
   ]
  },
  {
   "cell_type": "code",
   "execution_count": 249,
   "metadata": {},
   "outputs": [
    {
     "data": {
      "image/png": "[encoded data removed]",
      "text/plain": [
       "<Figure size 1152x288 with 1 Axes>"
      ]
     },
     "metadata": {
      "needs_background": "light"
     },
     "output_type": "display_data"
    }
   ],
   "source": [
    "plt.figure(figsize=(16, 4))\n",
    "plt.subplot(111)\n",
    "plt.plot(nav_mensual) \n",
    "plt.xticks(np.arange(0, 13), ('Mar-17','Abr-17','May-17','Jun-17','Jul-17','Ago-17','Sept-17','Oct-17','Nov-17',\n",
    "                              'Dic-17','Ene-18','Feb-18','Mar-18'))\n",
    "plt.ylabel('Precio USD')\n",
    "plt.xlabel('Mes') \n",
    "plt.title('NAV mensual IVE Etf')\n",
    "plt.show()"
   ]
  },
  {
   "cell_type": "code",
   "execution_count": 250,
   "metadata": {
    "scrolled": true
   },
   "outputs": [
    {
     "data": {
      "image/png": "[encoded data removed]",
      "text/plain": [
       "<Figure size 1152x288 with 1 Axes>"
      ]
     },
     "metadata": {
      "needs_background": "light"
     },
     "output_type": "display_data"
    }
   ],
   "source": [
    "plt.figure(figsize=(16, 4))\n",
    "plt.subplot(111)\n",
    "plt.plot(rend_etf_mensual) \n",
    "plt.xticks(np.arange(0, 12), ('Abr-17','May-17','Jun-17','Jul-17','Ago-17','Sept-17','Oct-17','Nov-17','Dic-17',\n",
    "                              'Ene-18','Feb-18','Mar-18'))\n",
    "plt.ylabel('Rendimiento %')\n",
    "plt.xlabel('Mes') \n",
    "plt.title('Rendimiento IVE Etf')\n",
    "plt.show()"
   ]
  },
  {
   "cell_type": "markdown",
   "metadata": {},
   "source": [
    "#### Cálculo del NAV diario con distintos escenarios"
   ]
  },
  {
   "cell_type": "code",
   "execution_count": 251,
   "metadata": {},
   "outputs": [],
   "source": [
    "shares = [s2f(final_etf_data[0].iloc[i,4]) for i in range(len(final_etf_data[0].iloc[:,4]))]\n",
    "shares_df = pd.DataFrame(shares,columns=['shares'])"
   ]
  },
  {
   "cell_type": "code",
   "execution_count": 259,
   "metadata": {},
   "outputs": [],
   "source": [
    "mes_1 = np.dot(stock_prices.loc[:,final_etf_data[0].index.values][np.logical_and(stock_prices.index >= np.datetime64('2017-03'), \n",
    "                                                                  stock_prices.index < np.datetime64('2017-04'))],shares_df)\n",
    "x = mes_1/etf_shares[0]"
   ]
  },
  {
   "cell_type": "code",
   "execution_count": 282,
   "metadata": {},
   "outputs": [
    {
     "data": {
      "text/plain": [
       "[array([-2.67631328]),\n",
       " array([0.02599899]),\n",
       " array([-0.69557472]),\n",
       " array([0.23805236]),\n",
       " array([0.1378666]),\n",
       " array([-2.18591892]),\n",
       " array([2.66208134]),\n",
       " array([0.26065172]),\n",
       " array([2.36084183]),\n",
       " array([1.13463484]),\n",
       " array([3.5511839]),\n",
       " array([-5.33134345]),\n",
       " array([-3.34391771])]"
      ]
     },
     "execution_count": 282,
     "metadata": {},
     "output_type": "execute_result"
    }
   ],
   "source": [
    "dates = ['2017-03','2017-04','2017-05','2017-06','2017-07','2017-08','2017-09','2017-10','2017-11','2017-12','2018-01',\n",
    "         '2018-02','2018-03','2018-04']\n",
    "test = [np.dot(stock_prices.loc[:,final_etf_data[0].index.values][np.logical_and(stock_prices.index >= np.datetime64(dates[j]),\n",
    "                                                                              stock_prices.index < np.datetime64(dates[j+1]))],\n",
    "            shares_df)/etf_shares[0] for j in range(len(dates)-1)]\n",
    "test_m = [((test[i][-1]/test[i][0])-1)*100 for i in range(len(test))]\n",
    "test_m"
   ]
  },
  {
   "cell_type": "code",
   "execution_count": 275,
   "metadata": {},
   "outputs": [],
   "source": [
    "# La variable tickers_Nmes debe ser ingresada como una lista.\n",
    "# La variable meses debe ser ingresada como una lista anidada, la principal deberá ser de la longitud de la variable tickers_Nmes\n",
    "def nav_quandl(tickers_Nmes, meses):\n",
    "    monthly_shares_df = []\n",
    "    nav_diario = []\n",
    "    desv_est = []\n",
    "    rend_mensual = []\n",
    "    for i in range(len(tickers_Nmes)):\n",
    "        shares = [s2f(final_etf_data[i].iloc[j,4]) for j in range(len(final_etf_data[i].iloc[:,4]))]\n",
    "        shares_df = pd.DataFrame(shares,columns=['shares'])\n",
    "        monthly_shares_df.append(shares_df)\n",
    "    for i in range(len(tickers_Nmes)):\n",
    "        for j in range(len(meses[i])-1):\n",
    "            nav_diario = np.dot(stock_prices.loc[:,final_etf_data[0].index.values]\n",
    "                                [np.logical_and(stock_prices.index >= np.datetime64(meses[i][j]),\n",
    "                                                stock_prices.index < np.datetime64(meses[i][j+1]))],shares_df)/etf_shares[i]\n",
    "            desv_est.append(np.std(nav_diario))\n",
    "            rend_mensual.append(((nav_diario[-1]/nav_diario[0])-1)*100)\n",
    "    return rend_mensual, desv_est\n",
    "            "
   ]
  },
  {
   "cell_type": "markdown",
   "metadata": {},
   "source": [
    "## Medidas del desempeño"
   ]
  },
  {
   "cell_type": "code",
   "execution_count": 23,
   "metadata": {},
   "outputs": [],
   "source": [
    "# Extrayendo tasa libre de riesgo de Estados Unidos\n",
    "treasury = 'Treasury Yield.xlsx' # Archivo de tasas\n",
    "start_date = '03-01-2017'\n",
    "end_date = '04-01-2018'\n",
    "t_yield = pd.read_excel(treasury, header = 0)\n",
    "t_yield['Date'] = pd.to_datetime(t_yield['Date'])\n",
    "t_y = t_yield[(t_yield['Date'] > start_date) & (t_yield['Date'] <= end_date)] # Filtrando datos de un año"
   ]
  },
  {
   "cell_type": "code",
   "execution_count": 24,
   "metadata": {},
   "outputs": [],
   "source": [
    "month = ['04', '05', '06', '07','08','09','10','11','12']\n",
    "month2 = ['01', '02', '03']\n",
    "x = [t_yield['1 mo'][t_yield['Date'] == '01-'+str(month[i]+'-2017')] for i in range(len(month))]\n",
    "x1 = [t_yield['1 mo'][t_yield['Date'] == '01-'+str(month2[i]+'-2018')] for i in range(len(month2))]"
   ]
  },
  {
   "cell_type": "code",
   "execution_count": 25,
   "metadata": {},
   "outputs": [
    {
     "data": {
      "text/plain": [
       "Series([], Name: 1 mo, dtype: float64)"
      ]
     },
     "execution_count": 25,
     "metadata": {},
     "output_type": "execute_result"
    }
   ],
   "source": [
    "list(x)[0]"
   ]
  },
  {
   "cell_type": "markdown",
   "metadata": {},
   "source": [
    "## Notas"
   ]
  },
  {
   "cell_type": "markdown",
   "metadata": {},
   "source": [
    "> Para los cálculos solo se están usando los activos de \"Equity\".\n",
    "\n",
    "> En total tenemos 453 activos diferentes en el etf, quandl sólo permitió extraer 449.\n",
    "\n",
    "> Las ponderaciones mensuales no van a dar 100%, debido a la ausencia de algunos activos."
   ]
  }
 ],
 "metadata": {
  "kernelspec": {
   "display_name": "Python 3",
   "language": "python",
   "name": "python3"
  },
  "language_info": {
   "codemirror_mode": {
    "name": "ipython",
    "version": 3
   },
   "file_extension": ".py",
   "mimetype": "text/x-python",
   "name": "python",
   "nbconvert_exporter": "python",
   "pygments_lexer": "ipython3",
   "version": "3.7.1"
  }
 },
 "nbformat": 4,
 "nbformat_minor": 2
}
