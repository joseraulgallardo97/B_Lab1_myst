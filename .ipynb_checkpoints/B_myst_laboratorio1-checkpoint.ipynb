{
 "cells": [
  {
   "cell_type": "markdown",
   "metadata": {},
   "source": [
    "<img style=\"float: right; margin: 0px 0px 15px 15px;\" src=\"https://www.carrerasenlinea.mx/logos/original/logo-instituto-tecnologico-y-de-estudios-superiores-de-occidente.png\" width=\"150px\" height=\"100px\" /> \n",
    "\n",
    "\n",
    "&nbsp;\n",
    "# Administración activa Vs Administración pasiva del capital\n",
    "## Equipo B\n",
    "\n",
    "***Emilio de la Torre***\n",
    "\n",
    "\n",
    "***José Raúl Gallardo***\n",
    "\n",
    "\n",
    "***Adrian Garcia*** \n"
   ]
  },
  {
   "cell_type": "markdown",
   "metadata": {},
   "source": [
    "La idea es replicar un ETF con posiciones en directo. Te han asignado la tarea de hacer un ejercicio simple de replicar la construcción de un portafolio de inversión y un criterio de rebalanceo lo más parecido a un ETF de ishares que tu selecciones. Esto con la finalidad de comparar los resultados de haber rebalanceado periódicamente el portafolio, ó, no haberlo hecho y continuar todo un año con las mismas posiciones."
   ]
  },
  {
   "cell_type": "markdown",
   "metadata": {},
   "source": [
    "## Limpieza y extracción de datos"
   ]
  },
  {
   "cell_type": "markdown",
   "metadata": {},
   "source": [
    "### Importando librerías a utilizar"
   ]
  },
  {
   "cell_type": "code",
   "execution_count": 347,
   "metadata": {},
   "outputs": [],
   "source": [
    "import numpy as np\n",
    "import pandas as pd\n",
    "import matplotlib.pyplot as plt\n",
    "import datetime as dt\n",
    "import plotly.graph_objs as go #Esta librería necesita ser instalada desde terminal 'pip install plotly'\n",
    "#Instalar quandl 'pip install quandl'"
   ]
  },
  {
   "cell_type": "markdown",
   "metadata": {},
   "source": [
    "### Importando los datos del ETF"
   ]
  },
  {
   "cell_type": "markdown",
   "metadata": {},
   "source": [
    "Función para convertir datos string a float."
   ]
  },
  {
   "cell_type": "code",
   "execution_count": 348,
   "metadata": {},
   "outputs": [],
   "source": [
    "def s2f(to_convert):\n",
    "    f = float(to_convert.replace(',',''))\n",
    "    return f"
   ]
  },
  {
   "cell_type": "markdown",
   "metadata": {},
   "source": [
    "Función para extraer información de los etfs (csv) y los tickers de cada uno."
   ]
  },
  {
   "cell_type": "code",
   "execution_count": 349,
   "metadata": {},
   "outputs": [],
   "source": [
    "def get_data(nFiles, file_title):\n",
    "    df = []\n",
    "    dr = np.arange(1,nFiles+1)\n",
    "    df = [pd.read_csv(file_title+str(dr[i])+'.csv', header=1, index_col=None, parse_dates=False, skip_blank_lines=True, skiprows=9) for i in range(len(dr))]\n",
    "    data = [df[i][(df[i]['Asset Class'] == 'Equity')] for i in range(len(df))] #filtramos solo con equity (acciones)\n",
    "    tickers = [list(data[i].iloc[:,0]) for i in range(len(data))] #extracción de tickers de cada mes\n",
    "    return data, tickers"
   ]
  },
  {
   "cell_type": "code",
   "execution_count": 350,
   "metadata": {},
   "outputs": [],
   "source": [
    "data_etf, tickers = get_data(13, 'IVE_Holdings')"
   ]
  },
  {
   "cell_type": "markdown",
   "metadata": {},
   "source": [
    "Función para sacar todos los tickers (valores únicos) de todos los archivos juntos."
   ]
  },
  {
   "cell_type": "code",
   "execution_count": 351,
   "metadata": {},
   "outputs": [],
   "source": [
    "#Función depende de la anterior\n",
    "def unique_tickers(tickers): \n",
    "    nFiles = len(tickers) #archivos que tenemos\n",
    "    ticker = [] \n",
    "    for i in range(nFiles):\n",
    "        ticker = ticker + tickers[i] #Anexando los tickers de cada archivo en una sola lista\n",
    "    df = pd.DataFrame(ticker) #Se convierte en dataframe para poder sacar valores únicos\n",
    "    unique_tickers = df.iloc[:,0].unique() #.unique() regresa los valores únicos\n",
    "    return unique_tickers #Todos los tickers que se van a necesitar de quandl"
   ]
  },
  {
   "cell_type": "code",
   "execution_count": 352,
   "metadata": {},
   "outputs": [
    {
     "data": {
      "text/plain": [
       "453"
      ]
     },
     "execution_count": 352,
     "metadata": {},
     "output_type": "execute_result"
    }
   ],
   "source": [
    "all_tickers = unique_tickers(tickers)\n",
    "len(all_tickers)"
   ]
  },
  {
   "cell_type": "markdown",
   "metadata": {},
   "source": [
    "Función para extraer el número de acciones en circulación de los etf's de ishares."
   ]
  },
  {
   "cell_type": "code",
   "execution_count": 353,
   "metadata": {},
   "outputs": [],
   "source": [
    "def n_shares(nFiles, file_title):\n",
    "    dr = np.arange(1,nFiles+1)\n",
    "    df = [pd.read_csv(file_title+str(dr[i])+'.csv', index_col=None, parse_dates=False, skip_blank_lines=True, nrows=6) for i in range(len(dr))]\n",
    "    all_shares = [df[i].iloc[3,0] for i in range(len(df))]\n",
    "    all_shares_int = [int(float(all_shares[i].replace(',',''))) for i in range(len(all_shares))]\n",
    "    return all_shares_int"
   ]
  },
  {
   "cell_type": "code",
   "execution_count": 354,
   "metadata": {
    "scrolled": true
   },
   "outputs": [],
   "source": [
    "etf_shares = n_shares(13, 'IVE_Holdings')"
   ]
  },
  {
   "cell_type": "markdown",
   "metadata": {},
   "source": [
    "### Extracción de precios de Quandl"
   ]
  },
  {
   "cell_type": "code",
   "execution_count": 355,
   "metadata": {},
   "outputs": [],
   "source": [
    "import quandl\n",
    "quandl.ApiConfig.api_key = \"JyBxQPPNx_LTemwn-VbD\" # Api para acceso a Quandl"
   ]
  },
  {
   "cell_type": "markdown",
   "metadata": {},
   "source": [
    "Obteniendo acceso a los precios de Quandl/WikiPrices."
   ]
  },
  {
   "cell_type": "code",
   "execution_count": 356,
   "metadata": {
    "scrolled": true
   },
   "outputs": [
    {
     "data": {
      "text/html": [
       "<div>\n",
       "<style scoped>\n",
       "    .dataframe tbody tr th:only-of-type {\n",
       "        vertical-align: middle;\n",
       "    }\n",
       "\n",
       "    .dataframe tbody tr th {\n",
       "        vertical-align: top;\n",
       "    }\n",
       "\n",
       "    .dataframe thead th {\n",
       "        text-align: right;\n",
       "    }\n",
       "</style>\n",
       "<table border=\"1\" class=\"dataframe\">\n",
       "  <thead>\n",
       "    <tr style=\"text-align: right;\">\n",
       "      <th></th>\n",
       "      <th>ticker</th>\n",
       "      <th>date</th>\n",
       "      <th>close</th>\n",
       "    </tr>\n",
       "    <tr>\n",
       "      <th>None</th>\n",
       "      <th></th>\n",
       "      <th></th>\n",
       "      <th></th>\n",
       "    </tr>\n",
       "  </thead>\n",
       "  <tbody>\n",
       "    <tr>\n",
       "      <th>0</th>\n",
       "      <td>ZION</td>\n",
       "      <td>2018-03-27</td>\n",
       "      <td>52.020000</td>\n",
       "    </tr>\n",
       "    <tr>\n",
       "      <th>1</th>\n",
       "      <td>ZION</td>\n",
       "      <td>2018-03-26</td>\n",
       "      <td>53.240000</td>\n",
       "    </tr>\n",
       "    <tr>\n",
       "      <th>2</th>\n",
       "      <td>ZION</td>\n",
       "      <td>2018-03-23</td>\n",
       "      <td>51.230000</td>\n",
       "    </tr>\n",
       "    <tr>\n",
       "      <th>3</th>\n",
       "      <td>ZION</td>\n",
       "      <td>2018-03-22</td>\n",
       "      <td>53.070000</td>\n",
       "    </tr>\n",
       "    <tr>\n",
       "      <th>4</th>\n",
       "      <td>ZION</td>\n",
       "      <td>2018-03-21</td>\n",
       "      <td>55.100000</td>\n",
       "    </tr>\n",
       "  </tbody>\n",
       "</table>\n",
       "</div>"
      ],
      "text/plain": [
       "     ticker       date     close\n",
       "None                            \n",
       "0      ZION 2018-03-27 52.020000\n",
       "1      ZION 2018-03-26 53.240000\n",
       "2      ZION 2018-03-23 51.230000\n",
       "3      ZION 2018-03-22 53.070000\n",
       "4      ZION 2018-03-21 55.100000"
      ]
     },
     "execution_count": 356,
     "metadata": {},
     "output_type": "execute_result"
    }
   ],
   "source": [
    "d_quandl = quandl.get_table('WIKI/PRICES', ticker = [all_tickers], qopts = {'columns': ['ticker', 'date', 'close']},\n",
    "                        date = {'gte': '2017-03-01', 'lte': '2018-04-01'}, paginate=True)\n",
    "d_quandl.head()"
   ]
  },
  {
   "cell_type": "markdown",
   "metadata": {},
   "source": [
    "A continuación se ordena el dataframe para tener los precios de los tickers en columnas"
   ]
  },
  {
   "cell_type": "code",
   "execution_count": 357,
   "metadata": {
    "scrolled": true
   },
   "outputs": [
    {
     "data": {
      "text/html": [
       "<div>\n",
       "<style scoped>\n",
       "    .dataframe tbody tr th:only-of-type {\n",
       "        vertical-align: middle;\n",
       "    }\n",
       "\n",
       "    .dataframe tbody tr th {\n",
       "        vertical-align: top;\n",
       "    }\n",
       "\n",
       "    .dataframe thead tr th {\n",
       "        text-align: left;\n",
       "    }\n",
       "\n",
       "    .dataframe thead tr:last-of-type th {\n",
       "        text-align: right;\n",
       "    }\n",
       "</style>\n",
       "<table border=\"1\" class=\"dataframe\">\n",
       "  <thead>\n",
       "    <tr>\n",
       "      <th></th>\n",
       "      <th colspan=\"21\" halign=\"left\">close</th>\n",
       "    </tr>\n",
       "    <tr>\n",
       "      <th>ticker</th>\n",
       "      <th>A</th>\n",
       "      <th>AAL</th>\n",
       "      <th>AAP</th>\n",
       "      <th>ABC</th>\n",
       "      <th>ABT</th>\n",
       "      <th>ACN</th>\n",
       "      <th>ADM</th>\n",
       "      <th>ADS</th>\n",
       "      <th>ADSK</th>\n",
       "      <th>AEE</th>\n",
       "      <th>...</th>\n",
       "      <th>XL</th>\n",
       "      <th>XLNX</th>\n",
       "      <th>XOM</th>\n",
       "      <th>XRAY</th>\n",
       "      <th>XRX</th>\n",
       "      <th>XYL</th>\n",
       "      <th>YHOO</th>\n",
       "      <th>YUM</th>\n",
       "      <th>ZBH</th>\n",
       "      <th>ZION</th>\n",
       "    </tr>\n",
       "    <tr>\n",
       "      <th>date</th>\n",
       "      <th></th>\n",
       "      <th></th>\n",
       "      <th></th>\n",
       "      <th></th>\n",
       "      <th></th>\n",
       "      <th></th>\n",
       "      <th></th>\n",
       "      <th></th>\n",
       "      <th></th>\n",
       "      <th></th>\n",
       "      <th></th>\n",
       "      <th></th>\n",
       "      <th></th>\n",
       "      <th></th>\n",
       "      <th></th>\n",
       "      <th></th>\n",
       "      <th></th>\n",
       "      <th></th>\n",
       "      <th></th>\n",
       "      <th></th>\n",
       "      <th></th>\n",
       "    </tr>\n",
       "  </thead>\n",
       "  <tbody>\n",
       "    <tr>\n",
       "      <th>2017-03-01</th>\n",
       "      <td>52.040000</td>\n",
       "      <td>47.090000</td>\n",
       "      <td>156.680000</td>\n",
       "      <td>92.230000</td>\n",
       "      <td>45.590000</td>\n",
       "      <td>124.070000</td>\n",
       "      <td>46.510000</td>\n",
       "      <td>247.620000</td>\n",
       "      <td>88.930000</td>\n",
       "      <td>54.760000</td>\n",
       "      <td>...</td>\n",
       "      <td>41.120000</td>\n",
       "      <td>59.680000</td>\n",
       "      <td>83.020000</td>\n",
       "      <td>64.500000</td>\n",
       "      <td>7.390000</td>\n",
       "      <td>49.550000</td>\n",
       "      <td>46.240000</td>\n",
       "      <td>65.570000</td>\n",
       "      <td>118.890000</td>\n",
       "      <td>46.530000</td>\n",
       "    </tr>\n",
       "    <tr>\n",
       "      <th>2017-03-02</th>\n",
       "      <td>51.380000</td>\n",
       "      <td>45.720000</td>\n",
       "      <td>157.360000</td>\n",
       "      <td>91.940000</td>\n",
       "      <td>45.690000</td>\n",
       "      <td>124.350000</td>\n",
       "      <td>45.480000</td>\n",
       "      <td>243.940000</td>\n",
       "      <td>87.320000</td>\n",
       "      <td>55.120000</td>\n",
       "      <td>...</td>\n",
       "      <td>40.610000</td>\n",
       "      <td>59.350000</td>\n",
       "      <td>83.300000</td>\n",
       "      <td>63.650000</td>\n",
       "      <td>7.290000</td>\n",
       "      <td>48.890000</td>\n",
       "      <td>45.940000</td>\n",
       "      <td>65.210000</td>\n",
       "      <td>118.020000</td>\n",
       "      <td>44.960000</td>\n",
       "    </tr>\n",
       "    <tr>\n",
       "      <th>2017-03-03</th>\n",
       "      <td>51.980000</td>\n",
       "      <td>46.820000</td>\n",
       "      <td>155.350000</td>\n",
       "      <td>92.230000</td>\n",
       "      <td>45.250000</td>\n",
       "      <td>123.640000</td>\n",
       "      <td>45.200000</td>\n",
       "      <td>244.630000</td>\n",
       "      <td>85.320000</td>\n",
       "      <td>54.890000</td>\n",
       "      <td>...</td>\n",
       "      <td>40.360000</td>\n",
       "      <td>58.740000</td>\n",
       "      <td>82.460000</td>\n",
       "      <td>63.360000</td>\n",
       "      <td>7.360000</td>\n",
       "      <td>48.730000</td>\n",
       "      <td>45.910000</td>\n",
       "      <td>65.030000</td>\n",
       "      <td>118.280000</td>\n",
       "      <td>45.360000</td>\n",
       "    </tr>\n",
       "    <tr>\n",
       "      <th>2017-03-06</th>\n",
       "      <td>51.250000</td>\n",
       "      <td>45.310000</td>\n",
       "      <td>154.250000</td>\n",
       "      <td>89.990000</td>\n",
       "      <td>45.130000</td>\n",
       "      <td>123.240000</td>\n",
       "      <td>44.760000</td>\n",
       "      <td>245.450000</td>\n",
       "      <td>82.940000</td>\n",
       "      <td>54.890000</td>\n",
       "      <td>...</td>\n",
       "      <td>39.900000</td>\n",
       "      <td>58.810000</td>\n",
       "      <td>82.830000</td>\n",
       "      <td>62.750000</td>\n",
       "      <td>7.450000</td>\n",
       "      <td>48.530000</td>\n",
       "      <td>45.640000</td>\n",
       "      <td>64.500000</td>\n",
       "      <td>117.220000</td>\n",
       "      <td>45.330000</td>\n",
       "    </tr>\n",
       "    <tr>\n",
       "      <th>2017-03-07</th>\n",
       "      <td>51.210000</td>\n",
       "      <td>44.840000</td>\n",
       "      <td>151.990000</td>\n",
       "      <td>88.480000</td>\n",
       "      <td>45.000000</td>\n",
       "      <td>124.140000</td>\n",
       "      <td>44.460000</td>\n",
       "      <td>245.050000</td>\n",
       "      <td>82.070000</td>\n",
       "      <td>54.820000</td>\n",
       "      <td>...</td>\n",
       "      <td>40.130000</td>\n",
       "      <td>58.750000</td>\n",
       "      <td>82.520000</td>\n",
       "      <td>62.550000</td>\n",
       "      <td>7.360000</td>\n",
       "      <td>48.780000</td>\n",
       "      <td>45.730000</td>\n",
       "      <td>64.020000</td>\n",
       "      <td>117.070000</td>\n",
       "      <td>45.280000</td>\n",
       "    </tr>\n",
       "  </tbody>\n",
       "</table>\n",
       "<p>5 rows × 450 columns</p>\n",
       "</div>"
      ],
      "text/plain": [
       "               close                                                      \\\n",
       "ticker             A       AAL        AAP       ABC       ABT        ACN   \n",
       "date                                                                       \n",
       "2017-03-01 52.040000 47.090000 156.680000 92.230000 45.590000 124.070000   \n",
       "2017-03-02 51.380000 45.720000 157.360000 91.940000 45.690000 124.350000   \n",
       "2017-03-03 51.980000 46.820000 155.350000 92.230000 45.250000 123.640000   \n",
       "2017-03-06 51.250000 45.310000 154.250000 89.990000 45.130000 123.240000   \n",
       "2017-03-07 51.210000 44.840000 151.990000 88.480000 45.000000 124.140000   \n",
       "\n",
       "                                                       ...               \\\n",
       "ticker           ADM        ADS      ADSK       AEE    ...           XL   \n",
       "date                                                   ...                \n",
       "2017-03-01 46.510000 247.620000 88.930000 54.760000    ...    41.120000   \n",
       "2017-03-02 45.480000 243.940000 87.320000 55.120000    ...    40.610000   \n",
       "2017-03-03 45.200000 244.630000 85.320000 54.890000    ...    40.360000   \n",
       "2017-03-06 44.760000 245.450000 82.940000 54.890000    ...    39.900000   \n",
       "2017-03-07 44.460000 245.050000 82.070000 54.820000    ...    40.130000   \n",
       "\n",
       "                                                                       \\\n",
       "ticker          XLNX       XOM      XRAY      XRX       XYL      YHOO   \n",
       "date                                                                    \n",
       "2017-03-01 59.680000 83.020000 64.500000 7.390000 49.550000 46.240000   \n",
       "2017-03-02 59.350000 83.300000 63.650000 7.290000 48.890000 45.940000   \n",
       "2017-03-03 58.740000 82.460000 63.360000 7.360000 48.730000 45.910000   \n",
       "2017-03-06 58.810000 82.830000 62.750000 7.450000 48.530000 45.640000   \n",
       "2017-03-07 58.750000 82.520000 62.550000 7.360000 48.780000 45.730000   \n",
       "\n",
       "                                           \n",
       "ticker           YUM        ZBH      ZION  \n",
       "date                                       \n",
       "2017-03-01 65.570000 118.890000 46.530000  \n",
       "2017-03-02 65.210000 118.020000 44.960000  \n",
       "2017-03-03 65.030000 118.280000 45.360000  \n",
       "2017-03-06 64.500000 117.220000 45.330000  \n",
       "2017-03-07 64.020000 117.070000 45.280000  \n",
       "\n",
       "[5 rows x 450 columns]"
      ]
     },
     "execution_count": 357,
     "metadata": {},
     "output_type": "execute_result"
    }
   ],
   "source": [
    "stock_prices = d_quandl.set_index('date')\n",
    "stock_prices = stock_prices.pivot(columns='ticker') #Pivotear el df para tener los tickers como columnas\n",
    "stock_prices.head()"
   ]
  },
  {
   "cell_type": "markdown",
   "metadata": {},
   "source": [
    "Se elimina el multindex para poder manupular los datos mejor y se llenan los NaN con 0."
   ]
  },
  {
   "cell_type": "code",
   "execution_count": 358,
   "metadata": {
    "scrolled": false
   },
   "outputs": [
    {
     "data": {
      "text/html": [
       "<div>\n",
       "<style scoped>\n",
       "    .dataframe tbody tr th:only-of-type {\n",
       "        vertical-align: middle;\n",
       "    }\n",
       "\n",
       "    .dataframe tbody tr th {\n",
       "        vertical-align: top;\n",
       "    }\n",
       "\n",
       "    .dataframe thead th {\n",
       "        text-align: right;\n",
       "    }\n",
       "</style>\n",
       "<table border=\"1\" class=\"dataframe\">\n",
       "  <thead>\n",
       "    <tr style=\"text-align: right;\">\n",
       "      <th>ticker</th>\n",
       "      <th>A</th>\n",
       "      <th>AAL</th>\n",
       "      <th>AAP</th>\n",
       "      <th>ABC</th>\n",
       "      <th>ABT</th>\n",
       "      <th>ACN</th>\n",
       "      <th>ADM</th>\n",
       "      <th>ADS</th>\n",
       "      <th>ADSK</th>\n",
       "      <th>AEE</th>\n",
       "      <th>...</th>\n",
       "      <th>XL</th>\n",
       "      <th>XLNX</th>\n",
       "      <th>XOM</th>\n",
       "      <th>XRAY</th>\n",
       "      <th>XRX</th>\n",
       "      <th>XYL</th>\n",
       "      <th>YHOO</th>\n",
       "      <th>YUM</th>\n",
       "      <th>ZBH</th>\n",
       "      <th>ZION</th>\n",
       "    </tr>\n",
       "    <tr>\n",
       "      <th>date</th>\n",
       "      <th></th>\n",
       "      <th></th>\n",
       "      <th></th>\n",
       "      <th></th>\n",
       "      <th></th>\n",
       "      <th></th>\n",
       "      <th></th>\n",
       "      <th></th>\n",
       "      <th></th>\n",
       "      <th></th>\n",
       "      <th></th>\n",
       "      <th></th>\n",
       "      <th></th>\n",
       "      <th></th>\n",
       "      <th></th>\n",
       "      <th></th>\n",
       "      <th></th>\n",
       "      <th></th>\n",
       "      <th></th>\n",
       "      <th></th>\n",
       "      <th></th>\n",
       "    </tr>\n",
       "  </thead>\n",
       "  <tbody>\n",
       "    <tr>\n",
       "      <th>2017-03-01</th>\n",
       "      <td>52.040000</td>\n",
       "      <td>47.090000</td>\n",
       "      <td>156.680000</td>\n",
       "      <td>92.230000</td>\n",
       "      <td>45.590000</td>\n",
       "      <td>124.070000</td>\n",
       "      <td>46.510000</td>\n",
       "      <td>247.620000</td>\n",
       "      <td>88.930000</td>\n",
       "      <td>54.760000</td>\n",
       "      <td>...</td>\n",
       "      <td>41.120000</td>\n",
       "      <td>59.680000</td>\n",
       "      <td>83.020000</td>\n",
       "      <td>64.500000</td>\n",
       "      <td>7.390000</td>\n",
       "      <td>49.550000</td>\n",
       "      <td>46.240000</td>\n",
       "      <td>65.570000</td>\n",
       "      <td>118.890000</td>\n",
       "      <td>46.530000</td>\n",
       "    </tr>\n",
       "    <tr>\n",
       "      <th>2017-03-02</th>\n",
       "      <td>51.380000</td>\n",
       "      <td>45.720000</td>\n",
       "      <td>157.360000</td>\n",
       "      <td>91.940000</td>\n",
       "      <td>45.690000</td>\n",
       "      <td>124.350000</td>\n",
       "      <td>45.480000</td>\n",
       "      <td>243.940000</td>\n",
       "      <td>87.320000</td>\n",
       "      <td>55.120000</td>\n",
       "      <td>...</td>\n",
       "      <td>40.610000</td>\n",
       "      <td>59.350000</td>\n",
       "      <td>83.300000</td>\n",
       "      <td>63.650000</td>\n",
       "      <td>7.290000</td>\n",
       "      <td>48.890000</td>\n",
       "      <td>45.940000</td>\n",
       "      <td>65.210000</td>\n",
       "      <td>118.020000</td>\n",
       "      <td>44.960000</td>\n",
       "    </tr>\n",
       "    <tr>\n",
       "      <th>2017-03-03</th>\n",
       "      <td>51.980000</td>\n",
       "      <td>46.820000</td>\n",
       "      <td>155.350000</td>\n",
       "      <td>92.230000</td>\n",
       "      <td>45.250000</td>\n",
       "      <td>123.640000</td>\n",
       "      <td>45.200000</td>\n",
       "      <td>244.630000</td>\n",
       "      <td>85.320000</td>\n",
       "      <td>54.890000</td>\n",
       "      <td>...</td>\n",
       "      <td>40.360000</td>\n",
       "      <td>58.740000</td>\n",
       "      <td>82.460000</td>\n",
       "      <td>63.360000</td>\n",
       "      <td>7.360000</td>\n",
       "      <td>48.730000</td>\n",
       "      <td>45.910000</td>\n",
       "      <td>65.030000</td>\n",
       "      <td>118.280000</td>\n",
       "      <td>45.360000</td>\n",
       "    </tr>\n",
       "    <tr>\n",
       "      <th>2017-03-06</th>\n",
       "      <td>51.250000</td>\n",
       "      <td>45.310000</td>\n",
       "      <td>154.250000</td>\n",
       "      <td>89.990000</td>\n",
       "      <td>45.130000</td>\n",
       "      <td>123.240000</td>\n",
       "      <td>44.760000</td>\n",
       "      <td>245.450000</td>\n",
       "      <td>82.940000</td>\n",
       "      <td>54.890000</td>\n",
       "      <td>...</td>\n",
       "      <td>39.900000</td>\n",
       "      <td>58.810000</td>\n",
       "      <td>82.830000</td>\n",
       "      <td>62.750000</td>\n",
       "      <td>7.450000</td>\n",
       "      <td>48.530000</td>\n",
       "      <td>45.640000</td>\n",
       "      <td>64.500000</td>\n",
       "      <td>117.220000</td>\n",
       "      <td>45.330000</td>\n",
       "    </tr>\n",
       "    <tr>\n",
       "      <th>2017-03-07</th>\n",
       "      <td>51.210000</td>\n",
       "      <td>44.840000</td>\n",
       "      <td>151.990000</td>\n",
       "      <td>88.480000</td>\n",
       "      <td>45.000000</td>\n",
       "      <td>124.140000</td>\n",
       "      <td>44.460000</td>\n",
       "      <td>245.050000</td>\n",
       "      <td>82.070000</td>\n",
       "      <td>54.820000</td>\n",
       "      <td>...</td>\n",
       "      <td>40.130000</td>\n",
       "      <td>58.750000</td>\n",
       "      <td>82.520000</td>\n",
       "      <td>62.550000</td>\n",
       "      <td>7.360000</td>\n",
       "      <td>48.780000</td>\n",
       "      <td>45.730000</td>\n",
       "      <td>64.020000</td>\n",
       "      <td>117.070000</td>\n",
       "      <td>45.280000</td>\n",
       "    </tr>\n",
       "  </tbody>\n",
       "</table>\n",
       "<p>5 rows × 450 columns</p>\n",
       "</div>"
      ],
      "text/plain": [
       "ticker             A       AAL        AAP       ABC       ABT        ACN  \\\n",
       "date                                                                       \n",
       "2017-03-01 52.040000 47.090000 156.680000 92.230000 45.590000 124.070000   \n",
       "2017-03-02 51.380000 45.720000 157.360000 91.940000 45.690000 124.350000   \n",
       "2017-03-03 51.980000 46.820000 155.350000 92.230000 45.250000 123.640000   \n",
       "2017-03-06 51.250000 45.310000 154.250000 89.990000 45.130000 123.240000   \n",
       "2017-03-07 51.210000 44.840000 151.990000 88.480000 45.000000 124.140000   \n",
       "\n",
       "ticker           ADM        ADS      ADSK       AEE    ...           XL  \\\n",
       "date                                                   ...                \n",
       "2017-03-01 46.510000 247.620000 88.930000 54.760000    ...    41.120000   \n",
       "2017-03-02 45.480000 243.940000 87.320000 55.120000    ...    40.610000   \n",
       "2017-03-03 45.200000 244.630000 85.320000 54.890000    ...    40.360000   \n",
       "2017-03-06 44.760000 245.450000 82.940000 54.890000    ...    39.900000   \n",
       "2017-03-07 44.460000 245.050000 82.070000 54.820000    ...    40.130000   \n",
       "\n",
       "ticker          XLNX       XOM      XRAY      XRX       XYL      YHOO  \\\n",
       "date                                                                    \n",
       "2017-03-01 59.680000 83.020000 64.500000 7.390000 49.550000 46.240000   \n",
       "2017-03-02 59.350000 83.300000 63.650000 7.290000 48.890000 45.940000   \n",
       "2017-03-03 58.740000 82.460000 63.360000 7.360000 48.730000 45.910000   \n",
       "2017-03-06 58.810000 82.830000 62.750000 7.450000 48.530000 45.640000   \n",
       "2017-03-07 58.750000 82.520000 62.550000 7.360000 48.780000 45.730000   \n",
       "\n",
       "ticker           YUM        ZBH      ZION  \n",
       "date                                       \n",
       "2017-03-01 65.570000 118.890000 46.530000  \n",
       "2017-03-02 65.210000 118.020000 44.960000  \n",
       "2017-03-03 65.030000 118.280000 45.360000  \n",
       "2017-03-06 64.500000 117.220000 45.330000  \n",
       "2017-03-07 64.020000 117.070000 45.280000  \n",
       "\n",
       "[5 rows x 450 columns]"
      ]
     },
     "execution_count": 358,
     "metadata": {},
     "output_type": "execute_result"
    }
   ],
   "source": [
    "stock_prices.columns = stock_prices.columns.droplevel(0) #Se elimina el header principal para evitar el multindex\n",
    "stock_prices = stock_prices.fillna(0) #NaN se rellenan con 0\n",
    "stock_prices.head()"
   ]
  },
  {
   "cell_type": "markdown",
   "metadata": {},
   "source": [
    "Para tener los pesos de las acciones presentes en Quandl es necesario hacer match entre los tickers del etf y los de la fuente de precios."
   ]
  },
  {
   "cell_type": "code",
   "execution_count": 359,
   "metadata": {},
   "outputs": [],
   "source": [
    "tickers_quandl = [stock_prices.columns[i] for i in range(len(stock_prices.columns))] #Extraemos los tickers disponibles de quandl"
   ]
  },
  {
   "cell_type": "code",
   "execution_count": 360,
   "metadata": {},
   "outputs": [],
   "source": [
    "df_w = pd.DataFrame(tickers_quandl, columns=['Ticker']) # Tickers se hacen un dataframe\n",
    "# Se unen todos los datos de los dataframes con los tickers originales\n",
    "all_df_etf = [df_w.set_index('Ticker').join(data_etf[i].set_index('Ticker'), on='Ticker') for i in range(len(data_etf))]\n",
    "# Limpiando los dataframes para eliminar activos que no fueron necesarios en cada mes\n",
    "final_etf_data = [all_df_etf[i].dropna() for i in range(len(all_df_etf))]"
   ]
  },
  {
   "cell_type": "markdown",
   "metadata": {},
   "source": [
    "## ¿Cómo se calcula el NAV (Net Asset Value) de un ETF?"
   ]
  },
  {
   "cell_type": "markdown",
   "metadata": {},
   "source": [
    "Se suma el valor total de cada uno de los instrumentos que componen el ETF, y se divide entre el numero de certificados que el ETF emitió. \n",
    "\n",
    "$$ NAV = \\frac{\\sum (Títulos\\,de\\,cada\\,acción * precio)}{Acciones\\,en\\,circulación\\,del\\,etf}$$"
   ]
  },
  {
   "cell_type": "markdown",
   "metadata": {},
   "source": [
    "### Cálculo del NAV "
   ]
  },
  {
   "cell_type": "markdown",
   "metadata": {},
   "source": [
    "#### NAV y rendimientos mensuales de los archivos de iShares"
   ]
  },
  {
   "cell_type": "markdown",
   "metadata": {},
   "source": [
    "Se calculan los rendimientos mensuales del etf, tomando en cuenta el market value $(acciones*precio)$."
   ]
  },
  {
   "cell_type": "code",
   "execution_count": 361,
   "metadata": {},
   "outputs": [],
   "source": [
    "nav_mensual = [sum([s2f(final_etf_data[i].iloc[j,5]) for j in range(len(final_etf_data[i]))])/etf_shares[i] \n",
    "                      for i in range(len(final_etf_data))] #Se calcula el nav de los archivos originales\n",
    "\n",
    "rend_etf_mensual = [((nav_mensual[i]/nav_mensual[i-1])-1) for i in (np.arange(1,len(nav_mensual)))] #Rendimiento mensual"
   ]
  },
  {
   "cell_type": "code",
   "execution_count": 362,
   "metadata": {
    "scrolled": true
   },
   "outputs": [
    {
     "data": {
      "application/vnd.plotly.v1+json": {
       "config": {
        "plotlyServerURL": "https://plot.ly"
       },
       "data": [
        {
         "type": "scatter",
         "uid": "acc561d0-12c2-4a16-9dfc-d1e3fe29d472",
         "x": [
          "Mar-17",
          "Abr-17",
          "May-17",
          "Jun-17",
          "Jul-17",
          "Ago-17",
          "Sept-17",
          "Oct-17",
          "Nov-17",
          "Dic-17",
          "Ene-18",
          "Feb-18",
          "Mar-18"
         ],
         "y": [
          100.26147445371994,
          100.07596454136085,
          98.30307095617718,
          101.17725403913722,
          102.41455900650979,
          100.90740925252057,
          103.6387123514539,
          104.73627362798173,
          108.14036142358731,
          109.95018018331456,
          114.34799803808816,
          107.76191585885918,
          105.19172162528041
         ]
        }
       ],
       "layout": {
        "template": {
         "data": {
          "bar": [
           {
            "error_x": {
             "color": "#2a3f5f"
            },
            "error_y": {
             "color": "#2a3f5f"
            },
            "marker": {
             "line": {
              "color": "#E5ECF6",
              "width": 0.5
             }
            },
            "type": "bar"
           }
          ],
          "barpolar": [
           {
            "marker": {
             "line": {
              "color": "#E5ECF6",
              "width": 0.5
             }
            },
            "type": "barpolar"
           }
          ],
          "carpet": [
           {
            "aaxis": {
             "endlinecolor": "#2a3f5f",
             "gridcolor": "white",
             "linecolor": "white",
             "minorgridcolor": "white",
             "startlinecolor": "#2a3f5f"
            },
            "baxis": {
             "endlinecolor": "#2a3f5f",
             "gridcolor": "white",
             "linecolor": "white",
             "minorgridcolor": "white",
             "startlinecolor": "#2a3f5f"
            },
            "type": "carpet"
           }
          ],
          "choropleth": [
           {
            "colorbar": {
             "outlinewidth": 0,
             "ticks": ""
            },
            "type": "choropleth"
           }
          ],
          "contour": [
           {
            "colorbar": {
             "outlinewidth": 0,
             "ticks": ""
            },
            "colorscale": [
             [
              0,
              "#0d0887"
             ],
             [
              0.1111111111111111,
              "#46039f"
             ],
             [
              0.2222222222222222,
              "#7201a8"
             ],
             [
              0.3333333333333333,
              "#9c179e"
             ],
             [
              0.4444444444444444,
              "#bd3786"
             ],
             [
              0.5555555555555556,
              "#d8576b"
             ],
             [
              0.6666666666666666,
              "#ed7953"
             ],
             [
              0.7777777777777778,
              "#fb9f3a"
             ],
             [
              0.8888888888888888,
              "#fdca26"
             ],
             [
              1,
              "#f0f921"
             ]
            ],
            "type": "contour"
           }
          ],
          "contourcarpet": [
           {
            "colorbar": {
             "outlinewidth": 0,
             "ticks": ""
            },
            "type": "contourcarpet"
           }
          ],
          "heatmap": [
           {
            "colorbar": {
             "outlinewidth": 0,
             "ticks": ""
            },
            "colorscale": [
             [
              0,
              "#0d0887"
             ],
             [
              0.1111111111111111,
              "#46039f"
             ],
             [
              0.2222222222222222,
              "#7201a8"
             ],
             [
              0.3333333333333333,
              "#9c179e"
             ],
             [
              0.4444444444444444,
              "#bd3786"
             ],
             [
              0.5555555555555556,
              "#d8576b"
             ],
             [
              0.6666666666666666,
              "#ed7953"
             ],
             [
              0.7777777777777778,
              "#fb9f3a"
             ],
             [
              0.8888888888888888,
              "#fdca26"
             ],
             [
              1,
              "#f0f921"
             ]
            ],
            "type": "heatmap"
           }
          ],
          "heatmapgl": [
           {
            "colorbar": {
             "outlinewidth": 0,
             "ticks": ""
            },
            "colorscale": [
             [
              0,
              "#0d0887"
             ],
             [
              0.1111111111111111,
              "#46039f"
             ],
             [
              0.2222222222222222,
              "#7201a8"
             ],
             [
              0.3333333333333333,
              "#9c179e"
             ],
             [
              0.4444444444444444,
              "#bd3786"
             ],
             [
              0.5555555555555556,
              "#d8576b"
             ],
             [
              0.6666666666666666,
              "#ed7953"
             ],
             [
              0.7777777777777778,
              "#fb9f3a"
             ],
             [
              0.8888888888888888,
              "#fdca26"
             ],
             [
              1,
              "#f0f921"
             ]
            ],
            "type": "heatmapgl"
           }
          ],
          "histogram": [
           {
            "marker": {
             "colorbar": {
              "outlinewidth": 0,
              "ticks": ""
             }
            },
            "type": "histogram"
           }
          ],
          "histogram2d": [
           {
            "colorbar": {
             "outlinewidth": 0,
             "ticks": ""
            },
            "colorscale": [
             [
              0,
              "#0d0887"
             ],
             [
              0.1111111111111111,
              "#46039f"
             ],
             [
              0.2222222222222222,
              "#7201a8"
             ],
             [
              0.3333333333333333,
              "#9c179e"
             ],
             [
              0.4444444444444444,
              "#bd3786"
             ],
             [
              0.5555555555555556,
              "#d8576b"
             ],
             [
              0.6666666666666666,
              "#ed7953"
             ],
             [
              0.7777777777777778,
              "#fb9f3a"
             ],
             [
              0.8888888888888888,
              "#fdca26"
             ],
             [
              1,
              "#f0f921"
             ]
            ],
            "type": "histogram2d"
           }
          ],
          "histogram2dcontour": [
           {
            "colorbar": {
             "outlinewidth": 0,
             "ticks": ""
            },
            "colorscale": [
             [
              0,
              "#0d0887"
             ],
             [
              0.1111111111111111,
              "#46039f"
             ],
             [
              0.2222222222222222,
              "#7201a8"
             ],
             [
              0.3333333333333333,
              "#9c179e"
             ],
             [
              0.4444444444444444,
              "#bd3786"
             ],
             [
              0.5555555555555556,
              "#d8576b"
             ],
             [
              0.6666666666666666,
              "#ed7953"
             ],
             [
              0.7777777777777778,
              "#fb9f3a"
             ],
             [
              0.8888888888888888,
              "#fdca26"
             ],
             [
              1,
              "#f0f921"
             ]
            ],
            "type": "histogram2dcontour"
           }
          ],
          "mesh3d": [
           {
            "colorbar": {
             "outlinewidth": 0,
             "ticks": ""
            },
            "type": "mesh3d"
           }
          ],
          "parcoords": [
           {
            "line": {
             "colorbar": {
              "outlinewidth": 0,
              "ticks": ""
             }
            },
            "type": "parcoords"
           }
          ],
          "scatter": [
           {
            "marker": {
             "colorbar": {
              "outlinewidth": 0,
              "ticks": ""
             }
            },
            "type": "scatter"
           }
          ],
          "scatter3d": [
           {
            "line": {
             "colorbar": {
              "outlinewidth": 0,
              "ticks": ""
             }
            },
            "marker": {
             "colorbar": {
              "outlinewidth": 0,
              "ticks": ""
             }
            },
            "type": "scatter3d"
           }
          ],
          "scattercarpet": [
           {
            "marker": {
             "colorbar": {
              "outlinewidth": 0,
              "ticks": ""
             }
            },
            "type": "scattercarpet"
           }
          ],
          "scattergeo": [
           {
            "marker": {
             "colorbar": {
              "outlinewidth": 0,
              "ticks": ""
             }
            },
            "type": "scattergeo"
           }
          ],
          "scattergl": [
           {
            "marker": {
             "colorbar": {
              "outlinewidth": 0,
              "ticks": ""
             }
            },
            "type": "scattergl"
           }
          ],
          "scattermapbox": [
           {
            "marker": {
             "colorbar": {
              "outlinewidth": 0,
              "ticks": ""
             }
            },
            "type": "scattermapbox"
           }
          ],
          "scatterpolar": [
           {
            "marker": {
             "colorbar": {
              "outlinewidth": 0,
              "ticks": ""
             }
            },
            "type": "scatterpolar"
           }
          ],
          "scatterpolargl": [
           {
            "marker": {
             "colorbar": {
              "outlinewidth": 0,
              "ticks": ""
             }
            },
            "type": "scatterpolargl"
           }
          ],
          "scatterternary": [
           {
            "marker": {
             "colorbar": {
              "outlinewidth": 0,
              "ticks": ""
             }
            },
            "type": "scatterternary"
           }
          ],
          "surface": [
           {
            "colorbar": {
             "outlinewidth": 0,
             "ticks": ""
            },
            "colorscale": [
             [
              0,
              "#0d0887"
             ],
             [
              0.1111111111111111,
              "#46039f"
             ],
             [
              0.2222222222222222,
              "#7201a8"
             ],
             [
              0.3333333333333333,
              "#9c179e"
             ],
             [
              0.4444444444444444,
              "#bd3786"
             ],
             [
              0.5555555555555556,
              "#d8576b"
             ],
             [
              0.6666666666666666,
              "#ed7953"
             ],
             [
              0.7777777777777778,
              "#fb9f3a"
             ],
             [
              0.8888888888888888,
              "#fdca26"
             ],
             [
              1,
              "#f0f921"
             ]
            ],
            "type": "surface"
           }
          ],
          "table": [
           {
            "cells": {
             "fill": {
              "color": "#EBF0F8"
             },
             "line": {
              "color": "white"
             }
            },
            "header": {
             "fill": {
              "color": "#C8D4E3"
             },
             "line": {
              "color": "white"
             }
            },
            "type": "table"
           }
          ]
         },
         "layout": {
          "annotationdefaults": {
           "arrowcolor": "#2a3f5f",
           "arrowhead": 0,
           "arrowwidth": 1
          },
          "colorscale": {
           "diverging": [
            [
             0,
             "#8e0152"
            ],
            [
             0.1,
             "#c51b7d"
            ],
            [
             0.2,
             "#de77ae"
            ],
            [
             0.3,
             "#f1b6da"
            ],
            [
             0.4,
             "#fde0ef"
            ],
            [
             0.5,
             "#f7f7f7"
            ],
            [
             0.6,
             "#e6f5d0"
            ],
            [
             0.7,
             "#b8e186"
            ],
            [
             0.8,
             "#7fbc41"
            ],
            [
             0.9,
             "#4d9221"
            ],
            [
             1,
             "#276419"
            ]
           ],
           "sequential": [
            [
             0,
             "#0d0887"
            ],
            [
             0.1111111111111111,
             "#46039f"
            ],
            [
             0.2222222222222222,
             "#7201a8"
            ],
            [
             0.3333333333333333,
             "#9c179e"
            ],
            [
             0.4444444444444444,
             "#bd3786"
            ],
            [
             0.5555555555555556,
             "#d8576b"
            ],
            [
             0.6666666666666666,
             "#ed7953"
            ],
            [
             0.7777777777777778,
             "#fb9f3a"
            ],
            [
             0.8888888888888888,
             "#fdca26"
            ],
            [
             1,
             "#f0f921"
            ]
           ],
           "sequentialminus": [
            [
             0,
             "#0d0887"
            ],
            [
             0.1111111111111111,
             "#46039f"
            ],
            [
             0.2222222222222222,
             "#7201a8"
            ],
            [
             0.3333333333333333,
             "#9c179e"
            ],
            [
             0.4444444444444444,
             "#bd3786"
            ],
            [
             0.5555555555555556,
             "#d8576b"
            ],
            [
             0.6666666666666666,
             "#ed7953"
            ],
            [
             0.7777777777777778,
             "#fb9f3a"
            ],
            [
             0.8888888888888888,
             "#fdca26"
            ],
            [
             1,
             "#f0f921"
            ]
           ]
          },
          "colorway": [
           "#636efa",
           "#EF553B",
           "#00cc96",
           "#ab63fa",
           "#FFA15A",
           "#19d3f3",
           "#FF6692",
           "#B6E880",
           "#FF97FF",
           "#FECB52"
          ],
          "font": {
           "color": "#2a3f5f"
          },
          "geo": {
           "bgcolor": "white",
           "lakecolor": "white",
           "landcolor": "#E5ECF6",
           "showlakes": true,
           "showland": true,
           "subunitcolor": "white"
          },
          "hoverlabel": {
           "align": "left"
          },
          "hovermode": "closest",
          "mapbox": {
           "style": "light"
          },
          "paper_bgcolor": "white",
          "plot_bgcolor": "#E5ECF6",
          "polar": {
           "angularaxis": {
            "gridcolor": "white",
            "linecolor": "white",
            "ticks": ""
           },
           "bgcolor": "#E5ECF6",
           "radialaxis": {
            "gridcolor": "white",
            "linecolor": "white",
            "ticks": ""
           }
          },
          "scene": {
           "xaxis": {
            "backgroundcolor": "#E5ECF6",
            "gridcolor": "white",
            "gridwidth": 2,
            "linecolor": "white",
            "showbackground": true,
            "ticks": "",
            "zerolinecolor": "white"
           },
           "yaxis": {
            "backgroundcolor": "#E5ECF6",
            "gridcolor": "white",
            "gridwidth": 2,
            "linecolor": "white",
            "showbackground": true,
            "ticks": "",
            "zerolinecolor": "white"
           },
           "zaxis": {
            "backgroundcolor": "#E5ECF6",
            "gridcolor": "white",
            "gridwidth": 2,
            "linecolor": "white",
            "showbackground": true,
            "ticks": "",
            "zerolinecolor": "white"
           }
          },
          "shapedefaults": {
           "line": {
            "color": "#2a3f5f"
           }
          },
          "ternary": {
           "aaxis": {
            "gridcolor": "white",
            "linecolor": "white",
            "ticks": ""
           },
           "baxis": {
            "gridcolor": "white",
            "linecolor": "white",
            "ticks": ""
           },
           "bgcolor": "#E5ECF6",
           "caxis": {
            "gridcolor": "white",
            "linecolor": "white",
            "ticks": ""
           }
          },
          "title": {
           "x": 0.05
          },
          "xaxis": {
           "automargin": true,
           "gridcolor": "white",
           "linecolor": "white",
           "ticks": "",
           "zerolinecolor": "white",
           "zerolinewidth": 2
          },
          "yaxis": {
           "automargin": true,
           "gridcolor": "white",
           "linecolor": "white",
           "ticks": "",
           "zerolinecolor": "white",
           "zerolinewidth": 2
          }
         }
        },
        "title": {
         "text": "NAV mensual IVE Etf"
        },
        "xaxis": {
         "title": {
          "text": "Meses"
         }
        },
        "yaxis": {
         "title": {
          "text": "Precios"
         }
        }
       }
      },
      "text/html": [
       "<div>\n",
       "        \n",
       "        \n",
       "            <div id=\"7f69ae49-ff5f-4d51-a2aa-321878c90eb3\" class=\"plotly-graph-div\" style=\"height:525px; width:100%;\"></div>\n",
       "            <script type=\"text/javascript\">\n",
       "                require([\"plotly\"], function(Plotly) {\n",
       "                    window.PLOTLYENV=window.PLOTLYENV || {};\n",
       "                    \n",
       "                if (document.getElementById(\"7f69ae49-ff5f-4d51-a2aa-321878c90eb3\")) {\n",
       "                    Plotly.newPlot(\n",
       "                        '7f69ae49-ff5f-4d51-a2aa-321878c90eb3',\n",
       "                        [{\"type\": \"scatter\", \"uid\": \"acc561d0-12c2-4a16-9dfc-d1e3fe29d472\", \"x\": [\"Mar-17\", \"Abr-17\", \"May-17\", \"Jun-17\", \"Jul-17\", \"Ago-17\", \"Sept-17\", \"Oct-17\", \"Nov-17\", \"Dic-17\", \"Ene-18\", \"Feb-18\", \"Mar-18\"], \"y\": [100.26147445371994, 100.07596454136085, 98.30307095617718, 101.17725403913722, 102.41455900650979, 100.90740925252057, 103.6387123514539, 104.73627362798173, 108.14036142358731, 109.95018018331456, 114.34799803808816, 107.76191585885918, 105.19172162528041]}],\n",
       "                        {\"template\": {\"data\": {\"bar\": [{\"error_x\": {\"color\": \"#2a3f5f\"}, \"error_y\": {\"color\": \"#2a3f5f\"}, \"marker\": {\"line\": {\"color\": \"#E5ECF6\", \"width\": 0.5}}, \"type\": \"bar\"}], \"barpolar\": [{\"marker\": {\"line\": {\"color\": \"#E5ECF6\", \"width\": 0.5}}, \"type\": \"barpolar\"}], \"carpet\": [{\"aaxis\": {\"endlinecolor\": \"#2a3f5f\", \"gridcolor\": \"white\", \"linecolor\": \"white\", \"minorgridcolor\": \"white\", \"startlinecolor\": \"#2a3f5f\"}, \"baxis\": {\"endlinecolor\": \"#2a3f5f\", \"gridcolor\": \"white\", \"linecolor\": \"white\", \"minorgridcolor\": \"white\", \"startlinecolor\": \"#2a3f5f\"}, \"type\": \"carpet\"}], \"choropleth\": [{\"colorbar\": {\"outlinewidth\": 0, \"ticks\": \"\"}, \"type\": \"choropleth\"}], \"contour\": [{\"colorbar\": {\"outlinewidth\": 0, \"ticks\": \"\"}, \"colorscale\": [[0.0, \"#0d0887\"], [0.1111111111111111, \"#46039f\"], [0.2222222222222222, \"#7201a8\"], [0.3333333333333333, \"#9c179e\"], [0.4444444444444444, \"#bd3786\"], [0.5555555555555556, \"#d8576b\"], [0.6666666666666666, \"#ed7953\"], [0.7777777777777778, \"#fb9f3a\"], [0.8888888888888888, \"#fdca26\"], [1.0, \"#f0f921\"]], \"type\": \"contour\"}], \"contourcarpet\": [{\"colorbar\": {\"outlinewidth\": 0, \"ticks\": \"\"}, \"type\": \"contourcarpet\"}], \"heatmap\": [{\"colorbar\": {\"outlinewidth\": 0, \"ticks\": \"\"}, \"colorscale\": [[0.0, \"#0d0887\"], [0.1111111111111111, \"#46039f\"], [0.2222222222222222, \"#7201a8\"], [0.3333333333333333, \"#9c179e\"], [0.4444444444444444, \"#bd3786\"], [0.5555555555555556, \"#d8576b\"], [0.6666666666666666, \"#ed7953\"], [0.7777777777777778, \"#fb9f3a\"], [0.8888888888888888, \"#fdca26\"], [1.0, \"#f0f921\"]], \"type\": \"heatmap\"}], \"heatmapgl\": [{\"colorbar\": {\"outlinewidth\": 0, \"ticks\": \"\"}, \"colorscale\": [[0.0, \"#0d0887\"], [0.1111111111111111, \"#46039f\"], [0.2222222222222222, \"#7201a8\"], [0.3333333333333333, \"#9c179e\"], [0.4444444444444444, \"#bd3786\"], [0.5555555555555556, \"#d8576b\"], [0.6666666666666666, \"#ed7953\"], [0.7777777777777778, \"#fb9f3a\"], [0.8888888888888888, \"#fdca26\"], [1.0, \"#f0f921\"]], \"type\": \"heatmapgl\"}], \"histogram\": [{\"marker\": {\"colorbar\": {\"outlinewidth\": 0, \"ticks\": \"\"}}, \"type\": \"histogram\"}], \"histogram2d\": [{\"colorbar\": {\"outlinewidth\": 0, \"ticks\": \"\"}, \"colorscale\": [[0.0, \"#0d0887\"], [0.1111111111111111, \"#46039f\"], [0.2222222222222222, \"#7201a8\"], [0.3333333333333333, \"#9c179e\"], [0.4444444444444444, \"#bd3786\"], [0.5555555555555556, \"#d8576b\"], [0.6666666666666666, \"#ed7953\"], [0.7777777777777778, \"#fb9f3a\"], [0.8888888888888888, \"#fdca26\"], [1.0, \"#f0f921\"]], \"type\": \"histogram2d\"}], \"histogram2dcontour\": [{\"colorbar\": {\"outlinewidth\": 0, \"ticks\": \"\"}, \"colorscale\": [[0.0, \"#0d0887\"], [0.1111111111111111, \"#46039f\"], [0.2222222222222222, \"#7201a8\"], [0.3333333333333333, \"#9c179e\"], [0.4444444444444444, \"#bd3786\"], [0.5555555555555556, \"#d8576b\"], [0.6666666666666666, \"#ed7953\"], [0.7777777777777778, \"#fb9f3a\"], [0.8888888888888888, \"#fdca26\"], [1.0, \"#f0f921\"]], \"type\": \"histogram2dcontour\"}], \"mesh3d\": [{\"colorbar\": {\"outlinewidth\": 0, \"ticks\": \"\"}, \"type\": \"mesh3d\"}], \"parcoords\": [{\"line\": {\"colorbar\": {\"outlinewidth\": 0, \"ticks\": \"\"}}, \"type\": \"parcoords\"}], \"scatter\": [{\"marker\": {\"colorbar\": {\"outlinewidth\": 0, \"ticks\": \"\"}}, \"type\": \"scatter\"}], \"scatter3d\": [{\"line\": {\"colorbar\": {\"outlinewidth\": 0, \"ticks\": \"\"}}, \"marker\": {\"colorbar\": {\"outlinewidth\": 0, \"ticks\": \"\"}}, \"type\": \"scatter3d\"}], \"scattercarpet\": [{\"marker\": {\"colorbar\": {\"outlinewidth\": 0, \"ticks\": \"\"}}, \"type\": \"scattercarpet\"}], \"scattergeo\": [{\"marker\": {\"colorbar\": {\"outlinewidth\": 0, \"ticks\": \"\"}}, \"type\": \"scattergeo\"}], \"scattergl\": [{\"marker\": {\"colorbar\": {\"outlinewidth\": 0, \"ticks\": \"\"}}, \"type\": \"scattergl\"}], \"scattermapbox\": [{\"marker\": {\"colorbar\": {\"outlinewidth\": 0, \"ticks\": \"\"}}, \"type\": \"scattermapbox\"}], \"scatterpolar\": [{\"marker\": {\"colorbar\": {\"outlinewidth\": 0, \"ticks\": \"\"}}, \"type\": \"scatterpolar\"}], \"scatterpolargl\": [{\"marker\": {\"colorbar\": {\"outlinewidth\": 0, \"ticks\": \"\"}}, \"type\": \"scatterpolargl\"}], \"scatterternary\": [{\"marker\": {\"colorbar\": {\"outlinewidth\": 0, \"ticks\": \"\"}}, \"type\": \"scatterternary\"}], \"surface\": [{\"colorbar\": {\"outlinewidth\": 0, \"ticks\": \"\"}, \"colorscale\": [[0.0, \"#0d0887\"], [0.1111111111111111, \"#46039f\"], [0.2222222222222222, \"#7201a8\"], [0.3333333333333333, \"#9c179e\"], [0.4444444444444444, \"#bd3786\"], [0.5555555555555556, \"#d8576b\"], [0.6666666666666666, \"#ed7953\"], [0.7777777777777778, \"#fb9f3a\"], [0.8888888888888888, \"#fdca26\"], [1.0, \"#f0f921\"]], \"type\": \"surface\"}], \"table\": [{\"cells\": {\"fill\": {\"color\": \"#EBF0F8\"}, \"line\": {\"color\": \"white\"}}, \"header\": {\"fill\": {\"color\": \"#C8D4E3\"}, \"line\": {\"color\": \"white\"}}, \"type\": \"table\"}]}, \"layout\": {\"annotationdefaults\": {\"arrowcolor\": \"#2a3f5f\", \"arrowhead\": 0, \"arrowwidth\": 1}, \"colorscale\": {\"diverging\": [[0, \"#8e0152\"], [0.1, \"#c51b7d\"], [0.2, \"#de77ae\"], [0.3, \"#f1b6da\"], [0.4, \"#fde0ef\"], [0.5, \"#f7f7f7\"], [0.6, \"#e6f5d0\"], [0.7, \"#b8e186\"], [0.8, \"#7fbc41\"], [0.9, \"#4d9221\"], [1, \"#276419\"]], \"sequential\": [[0.0, \"#0d0887\"], [0.1111111111111111, \"#46039f\"], [0.2222222222222222, \"#7201a8\"], [0.3333333333333333, \"#9c179e\"], [0.4444444444444444, \"#bd3786\"], [0.5555555555555556, \"#d8576b\"], [0.6666666666666666, \"#ed7953\"], [0.7777777777777778, \"#fb9f3a\"], [0.8888888888888888, \"#fdca26\"], [1.0, \"#f0f921\"]], \"sequentialminus\": [[0.0, \"#0d0887\"], [0.1111111111111111, \"#46039f\"], [0.2222222222222222, \"#7201a8\"], [0.3333333333333333, \"#9c179e\"], [0.4444444444444444, \"#bd3786\"], [0.5555555555555556, \"#d8576b\"], [0.6666666666666666, \"#ed7953\"], [0.7777777777777778, \"#fb9f3a\"], [0.8888888888888888, \"#fdca26\"], [1.0, \"#f0f921\"]]}, \"colorway\": [\"#636efa\", \"#EF553B\", \"#00cc96\", \"#ab63fa\", \"#FFA15A\", \"#19d3f3\", \"#FF6692\", \"#B6E880\", \"#FF97FF\", \"#FECB52\"], \"font\": {\"color\": \"#2a3f5f\"}, \"geo\": {\"bgcolor\": \"white\", \"lakecolor\": \"white\", \"landcolor\": \"#E5ECF6\", \"showlakes\": true, \"showland\": true, \"subunitcolor\": \"white\"}, \"hoverlabel\": {\"align\": \"left\"}, \"hovermode\": \"closest\", \"mapbox\": {\"style\": \"light\"}, \"paper_bgcolor\": \"white\", \"plot_bgcolor\": \"#E5ECF6\", \"polar\": {\"angularaxis\": {\"gridcolor\": \"white\", \"linecolor\": \"white\", \"ticks\": \"\"}, \"bgcolor\": \"#E5ECF6\", \"radialaxis\": {\"gridcolor\": \"white\", \"linecolor\": \"white\", \"ticks\": \"\"}}, \"scene\": {\"xaxis\": {\"backgroundcolor\": \"#E5ECF6\", \"gridcolor\": \"white\", \"gridwidth\": 2, \"linecolor\": \"white\", \"showbackground\": true, \"ticks\": \"\", \"zerolinecolor\": \"white\"}, \"yaxis\": {\"backgroundcolor\": \"#E5ECF6\", \"gridcolor\": \"white\", \"gridwidth\": 2, \"linecolor\": \"white\", \"showbackground\": true, \"ticks\": \"\", \"zerolinecolor\": \"white\"}, \"zaxis\": {\"backgroundcolor\": \"#E5ECF6\", \"gridcolor\": \"white\", \"gridwidth\": 2, \"linecolor\": \"white\", \"showbackground\": true, \"ticks\": \"\", \"zerolinecolor\": \"white\"}}, \"shapedefaults\": {\"line\": {\"color\": \"#2a3f5f\"}}, \"ternary\": {\"aaxis\": {\"gridcolor\": \"white\", \"linecolor\": \"white\", \"ticks\": \"\"}, \"baxis\": {\"gridcolor\": \"white\", \"linecolor\": \"white\", \"ticks\": \"\"}, \"bgcolor\": \"#E5ECF6\", \"caxis\": {\"gridcolor\": \"white\", \"linecolor\": \"white\", \"ticks\": \"\"}}, \"title\": {\"x\": 0.05}, \"xaxis\": {\"automargin\": true, \"gridcolor\": \"white\", \"linecolor\": \"white\", \"ticks\": \"\", \"zerolinecolor\": \"white\", \"zerolinewidth\": 2}, \"yaxis\": {\"automargin\": true, \"gridcolor\": \"white\", \"linecolor\": \"white\", \"ticks\": \"\", \"zerolinecolor\": \"white\", \"zerolinewidth\": 2}}}, \"title\": {\"text\": \"NAV mensual IVE Etf\"}, \"xaxis\": {\"title\": {\"text\": \"Meses\"}}, \"yaxis\": {\"title\": {\"text\": \"Precios\"}}},\n",
       "                        {\"responsive\": true}\n",
       "                    ).then(function(){\n",
       "                            \n",
       "var gd = document.getElementById('7f69ae49-ff5f-4d51-a2aa-321878c90eb3');\n",
       "var x = new MutationObserver(function (mutations, observer) {{\n",
       "        var display = window.getComputedStyle(gd).display;\n",
       "        if (!display || display === 'none') {{\n",
       "            console.log([gd, 'removed!']);\n",
       "            Plotly.purge(gd);\n",
       "            observer.disconnect();\n",
       "        }}\n",
       "}});\n",
       "\n",
       "// Listen for the removal of the full notebook cells\n",
       "var notebookContainer = gd.closest('#notebook-container');\n",
       "if (notebookContainer) {{\n",
       "    x.observe(notebookContainer, {childList: true});\n",
       "}}\n",
       "\n",
       "// Listen for the clearing of the current output cell\n",
       "var outputEl = gd.closest('.output');\n",
       "if (outputEl) {{\n",
       "    x.observe(outputEl, {childList: true});\n",
       "}}\n",
       "\n",
       "                        })\n",
       "                };\n",
       "                });\n",
       "            </script>\n",
       "        </div>"
      ]
     },
     "metadata": {},
     "output_type": "display_data"
    }
   ],
   "source": [
    "fig = go.FigureWidget() #Se crea la figura \n",
    "fig.add_scatter(x=['Mar-17','Abr-17','May-17','Jun-17','Jul-17','Ago-17','Sept-17','Oct-17','Nov-17',\n",
    "                              'Dic-17','Ene-18','Feb-18','Mar-18'] ,y=nav_mensual)\n",
    "fig.layout.title = 'NAV mensual IVE Etf'\n",
    "fig.update_layout(xaxis=go.layout.XAxis(title=go.layout.xaxis.Title(text=\"Meses\")), #Títulos a los ejes\n",
    "                 yaxis=go.layout.YAxis(title=go.layout.yaxis.Title(text=\"Precios\")))\n",
    "fig.show()"
   ]
  },
  {
   "cell_type": "code",
   "execution_count": 363,
   "metadata": {
    "scrolled": true
   },
   "outputs": [
    {
     "data": {
      "application/vnd.plotly.v1+json": {
       "config": {
        "plotlyServerURL": "https://plot.ly"
       },
       "data": [
        {
         "type": "scatter",
         "uid": "797b4899-b9c2-41cd-bf5c-d7399bb1a58b",
         "x": [
          "Abr-17",
          "May-17",
          "Jun-17",
          "Jul-17",
          "Ago-17",
          "Sept-17",
          "Oct-17",
          "Nov-17",
          "Dic-17",
          "Ene-18",
          "Feb-18",
          "Mar-18"
         ],
         "y": [
          -0.0018502611633217647,
          -0.017715478369943027,
          0.029237978579950363,
          0.012229082308301775,
          -0.014716167004082181,
          0.02706741872738272,
          0.010590263537874067,
          0.032501517169655436,
          0.016735830506781513,
          0.039998277833118046,
          -0.05759682978476999,
          -0.023850673153816948
         ]
        }
       ],
       "layout": {
        "template": {
         "data": {
          "bar": [
           {
            "error_x": {
             "color": "#2a3f5f"
            },
            "error_y": {
             "color": "#2a3f5f"
            },
            "marker": {
             "line": {
              "color": "#E5ECF6",
              "width": 0.5
             }
            },
            "type": "bar"
           }
          ],
          "barpolar": [
           {
            "marker": {
             "line": {
              "color": "#E5ECF6",
              "width": 0.5
             }
            },
            "type": "barpolar"
           }
          ],
          "carpet": [
           {
            "aaxis": {
             "endlinecolor": "#2a3f5f",
             "gridcolor": "white",
             "linecolor": "white",
             "minorgridcolor": "white",
             "startlinecolor": "#2a3f5f"
            },
            "baxis": {
             "endlinecolor": "#2a3f5f",
             "gridcolor": "white",
             "linecolor": "white",
             "minorgridcolor": "white",
             "startlinecolor": "#2a3f5f"
            },
            "type": "carpet"
           }
          ],
          "choropleth": [
           {
            "colorbar": {
             "outlinewidth": 0,
             "ticks": ""
            },
            "type": "choropleth"
           }
          ],
          "contour": [
           {
            "colorbar": {
             "outlinewidth": 0,
             "ticks": ""
            },
            "colorscale": [
             [
              0,
              "#0d0887"
             ],
             [
              0.1111111111111111,
              "#46039f"
             ],
             [
              0.2222222222222222,
              "#7201a8"
             ],
             [
              0.3333333333333333,
              "#9c179e"
             ],
             [
              0.4444444444444444,
              "#bd3786"
             ],
             [
              0.5555555555555556,
              "#d8576b"
             ],
             [
              0.6666666666666666,
              "#ed7953"
             ],
             [
              0.7777777777777778,
              "#fb9f3a"
             ],
             [
              0.8888888888888888,
              "#fdca26"
             ],
             [
              1,
              "#f0f921"
             ]
            ],
            "type": "contour"
           }
          ],
          "contourcarpet": [
           {
            "colorbar": {
             "outlinewidth": 0,
             "ticks": ""
            },
            "type": "contourcarpet"
           }
          ],
          "heatmap": [
           {
            "colorbar": {
             "outlinewidth": 0,
             "ticks": ""
            },
            "colorscale": [
             [
              0,
              "#0d0887"
             ],
             [
              0.1111111111111111,
              "#46039f"
             ],
             [
              0.2222222222222222,
              "#7201a8"
             ],
             [
              0.3333333333333333,
              "#9c179e"
             ],
             [
              0.4444444444444444,
              "#bd3786"
             ],
             [
              0.5555555555555556,
              "#d8576b"
             ],
             [
              0.6666666666666666,
              "#ed7953"
             ],
             [
              0.7777777777777778,
              "#fb9f3a"
             ],
             [
              0.8888888888888888,
              "#fdca26"
             ],
             [
              1,
              "#f0f921"
             ]
            ],
            "type": "heatmap"
           }
          ],
          "heatmapgl": [
           {
            "colorbar": {
             "outlinewidth": 0,
             "ticks": ""
            },
            "colorscale": [
             [
              0,
              "#0d0887"
             ],
             [
              0.1111111111111111,
              "#46039f"
             ],
             [
              0.2222222222222222,
              "#7201a8"
             ],
             [
              0.3333333333333333,
              "#9c179e"
             ],
             [
              0.4444444444444444,
              "#bd3786"
             ],
             [
              0.5555555555555556,
              "#d8576b"
             ],
             [
              0.6666666666666666,
              "#ed7953"
             ],
             [
              0.7777777777777778,
              "#fb9f3a"
             ],
             [
              0.8888888888888888,
              "#fdca26"
             ],
             [
              1,
              "#f0f921"
             ]
            ],
            "type": "heatmapgl"
           }
          ],
          "histogram": [
           {
            "marker": {
             "colorbar": {
              "outlinewidth": 0,
              "ticks": ""
             }
            },
            "type": "histogram"
           }
          ],
          "histogram2d": [
           {
            "colorbar": {
             "outlinewidth": 0,
             "ticks": ""
            },
            "colorscale": [
             [
              0,
              "#0d0887"
             ],
             [
              0.1111111111111111,
              "#46039f"
             ],
             [
              0.2222222222222222,
              "#7201a8"
             ],
             [
              0.3333333333333333,
              "#9c179e"
             ],
             [
              0.4444444444444444,
              "#bd3786"
             ],
             [
              0.5555555555555556,
              "#d8576b"
             ],
             [
              0.6666666666666666,
              "#ed7953"
             ],
             [
              0.7777777777777778,
              "#fb9f3a"
             ],
             [
              0.8888888888888888,
              "#fdca26"
             ],
             [
              1,
              "#f0f921"
             ]
            ],
            "type": "histogram2d"
           }
          ],
          "histogram2dcontour": [
           {
            "colorbar": {
             "outlinewidth": 0,
             "ticks": ""
            },
            "colorscale": [
             [
              0,
              "#0d0887"
             ],
             [
              0.1111111111111111,
              "#46039f"
             ],
             [
              0.2222222222222222,
              "#7201a8"
             ],
             [
              0.3333333333333333,
              "#9c179e"
             ],
             [
              0.4444444444444444,
              "#bd3786"
             ],
             [
              0.5555555555555556,
              "#d8576b"
             ],
             [
              0.6666666666666666,
              "#ed7953"
             ],
             [
              0.7777777777777778,
              "#fb9f3a"
             ],
             [
              0.8888888888888888,
              "#fdca26"
             ],
             [
              1,
              "#f0f921"
             ]
            ],
            "type": "histogram2dcontour"
           }
          ],
          "mesh3d": [
           {
            "colorbar": {
             "outlinewidth": 0,
             "ticks": ""
            },
            "type": "mesh3d"
           }
          ],
          "parcoords": [
           {
            "line": {
             "colorbar": {
              "outlinewidth": 0,
              "ticks": ""
             }
            },
            "type": "parcoords"
           }
          ],
          "scatter": [
           {
            "marker": {
             "colorbar": {
              "outlinewidth": 0,
              "ticks": ""
             }
            },
            "type": "scatter"
           }
          ],
          "scatter3d": [
           {
            "line": {
             "colorbar": {
              "outlinewidth": 0,
              "ticks": ""
             }
            },
            "marker": {
             "colorbar": {
              "outlinewidth": 0,
              "ticks": ""
             }
            },
            "type": "scatter3d"
           }
          ],
          "scattercarpet": [
           {
            "marker": {
             "colorbar": {
              "outlinewidth": 0,
              "ticks": ""
             }
            },
            "type": "scattercarpet"
           }
          ],
          "scattergeo": [
           {
            "marker": {
             "colorbar": {
              "outlinewidth": 0,
              "ticks": ""
             }
            },
            "type": "scattergeo"
           }
          ],
          "scattergl": [
           {
            "marker": {
             "colorbar": {
              "outlinewidth": 0,
              "ticks": ""
             }
            },
            "type": "scattergl"
           }
          ],
          "scattermapbox": [
           {
            "marker": {
             "colorbar": {
              "outlinewidth": 0,
              "ticks": ""
             }
            },
            "type": "scattermapbox"
           }
          ],
          "scatterpolar": [
           {
            "marker": {
             "colorbar": {
              "outlinewidth": 0,
              "ticks": ""
             }
            },
            "type": "scatterpolar"
           }
          ],
          "scatterpolargl": [
           {
            "marker": {
             "colorbar": {
              "outlinewidth": 0,
              "ticks": ""
             }
            },
            "type": "scatterpolargl"
           }
          ],
          "scatterternary": [
           {
            "marker": {
             "colorbar": {
              "outlinewidth": 0,
              "ticks": ""
             }
            },
            "type": "scatterternary"
           }
          ],
          "surface": [
           {
            "colorbar": {
             "outlinewidth": 0,
             "ticks": ""
            },
            "colorscale": [
             [
              0,
              "#0d0887"
             ],
             [
              0.1111111111111111,
              "#46039f"
             ],
             [
              0.2222222222222222,
              "#7201a8"
             ],
             [
              0.3333333333333333,
              "#9c179e"
             ],
             [
              0.4444444444444444,
              "#bd3786"
             ],
             [
              0.5555555555555556,
              "#d8576b"
             ],
             [
              0.6666666666666666,
              "#ed7953"
             ],
             [
              0.7777777777777778,
              "#fb9f3a"
             ],
             [
              0.8888888888888888,
              "#fdca26"
             ],
             [
              1,
              "#f0f921"
             ]
            ],
            "type": "surface"
           }
          ],
          "table": [
           {
            "cells": {
             "fill": {
              "color": "#EBF0F8"
             },
             "line": {
              "color": "white"
             }
            },
            "header": {
             "fill": {
              "color": "#C8D4E3"
             },
             "line": {
              "color": "white"
             }
            },
            "type": "table"
           }
          ]
         },
         "layout": {
          "annotationdefaults": {
           "arrowcolor": "#2a3f5f",
           "arrowhead": 0,
           "arrowwidth": 1
          },
          "colorscale": {
           "diverging": [
            [
             0,
             "#8e0152"
            ],
            [
             0.1,
             "#c51b7d"
            ],
            [
             0.2,
             "#de77ae"
            ],
            [
             0.3,
             "#f1b6da"
            ],
            [
             0.4,
             "#fde0ef"
            ],
            [
             0.5,
             "#f7f7f7"
            ],
            [
             0.6,
             "#e6f5d0"
            ],
            [
             0.7,
             "#b8e186"
            ],
            [
             0.8,
             "#7fbc41"
            ],
            [
             0.9,
             "#4d9221"
            ],
            [
             1,
             "#276419"
            ]
           ],
           "sequential": [
            [
             0,
             "#0d0887"
            ],
            [
             0.1111111111111111,
             "#46039f"
            ],
            [
             0.2222222222222222,
             "#7201a8"
            ],
            [
             0.3333333333333333,
             "#9c179e"
            ],
            [
             0.4444444444444444,
             "#bd3786"
            ],
            [
             0.5555555555555556,
             "#d8576b"
            ],
            [
             0.6666666666666666,
             "#ed7953"
            ],
            [
             0.7777777777777778,
             "#fb9f3a"
            ],
            [
             0.8888888888888888,
             "#fdca26"
            ],
            [
             1,
             "#f0f921"
            ]
           ],
           "sequentialminus": [
            [
             0,
             "#0d0887"
            ],
            [
             0.1111111111111111,
             "#46039f"
            ],
            [
             0.2222222222222222,
             "#7201a8"
            ],
            [
             0.3333333333333333,
             "#9c179e"
            ],
            [
             0.4444444444444444,
             "#bd3786"
            ],
            [
             0.5555555555555556,
             "#d8576b"
            ],
            [
             0.6666666666666666,
             "#ed7953"
            ],
            [
             0.7777777777777778,
             "#fb9f3a"
            ],
            [
             0.8888888888888888,
             "#fdca26"
            ],
            [
             1,
             "#f0f921"
            ]
           ]
          },
          "colorway": [
           "#636efa",
           "#EF553B",
           "#00cc96",
           "#ab63fa",
           "#FFA15A",
           "#19d3f3",
           "#FF6692",
           "#B6E880",
           "#FF97FF",
           "#FECB52"
          ],
          "font": {
           "color": "#2a3f5f"
          },
          "geo": {
           "bgcolor": "white",
           "lakecolor": "white",
           "landcolor": "#E5ECF6",
           "showlakes": true,
           "showland": true,
           "subunitcolor": "white"
          },
          "hoverlabel": {
           "align": "left"
          },
          "hovermode": "closest",
          "mapbox": {
           "style": "light"
          },
          "paper_bgcolor": "white",
          "plot_bgcolor": "#E5ECF6",
          "polar": {
           "angularaxis": {
            "gridcolor": "white",
            "linecolor": "white",
            "ticks": ""
           },
           "bgcolor": "#E5ECF6",
           "radialaxis": {
            "gridcolor": "white",
            "linecolor": "white",
            "ticks": ""
           }
          },
          "scene": {
           "xaxis": {
            "backgroundcolor": "#E5ECF6",
            "gridcolor": "white",
            "gridwidth": 2,
            "linecolor": "white",
            "showbackground": true,
            "ticks": "",
            "zerolinecolor": "white"
           },
           "yaxis": {
            "backgroundcolor": "#E5ECF6",
            "gridcolor": "white",
            "gridwidth": 2,
            "linecolor": "white",
            "showbackground": true,
            "ticks": "",
            "zerolinecolor": "white"
           },
           "zaxis": {
            "backgroundcolor": "#E5ECF6",
            "gridcolor": "white",
            "gridwidth": 2,
            "linecolor": "white",
            "showbackground": true,
            "ticks": "",
            "zerolinecolor": "white"
           }
          },
          "shapedefaults": {
           "line": {
            "color": "#2a3f5f"
           }
          },
          "ternary": {
           "aaxis": {
            "gridcolor": "white",
            "linecolor": "white",
            "ticks": ""
           },
           "baxis": {
            "gridcolor": "white",
            "linecolor": "white",
            "ticks": ""
           },
           "bgcolor": "#E5ECF6",
           "caxis": {
            "gridcolor": "white",
            "linecolor": "white",
            "ticks": ""
           }
          },
          "title": {
           "x": 0.05
          },
          "xaxis": {
           "automargin": true,
           "gridcolor": "white",
           "linecolor": "white",
           "ticks": "",
           "zerolinecolor": "white",
           "zerolinewidth": 2
          },
          "yaxis": {
           "automargin": true,
           "gridcolor": "white",
           "linecolor": "white",
           "ticks": "",
           "zerolinecolor": "white",
           "zerolinewidth": 2
          }
         }
        },
        "title": {
         "text": "Rendimiento mensual IVE Etf"
        },
        "xaxis": {
         "title": {
          "text": "Meses"
         }
        },
        "yaxis": {
         "title": {
          "text": "Rendimiento en decimal"
         }
        }
       }
      },
      "text/html": [
       "<div>\n",
       "        \n",
       "        \n",
       "            <div id=\"f26a3cab-8cb3-4c6f-b918-197e1a93b6fd\" class=\"plotly-graph-div\" style=\"height:525px; width:100%;\"></div>\n",
       "            <script type=\"text/javascript\">\n",
       "                require([\"plotly\"], function(Plotly) {\n",
       "                    window.PLOTLYENV=window.PLOTLYENV || {};\n",
       "                    \n",
       "                if (document.getElementById(\"f26a3cab-8cb3-4c6f-b918-197e1a93b6fd\")) {\n",
       "                    Plotly.newPlot(\n",
       "                        'f26a3cab-8cb3-4c6f-b918-197e1a93b6fd',\n",
       "                        [{\"type\": \"scatter\", \"uid\": \"797b4899-b9c2-41cd-bf5c-d7399bb1a58b\", \"x\": [\"Abr-17\", \"May-17\", \"Jun-17\", \"Jul-17\", \"Ago-17\", \"Sept-17\", \"Oct-17\", \"Nov-17\", \"Dic-17\", \"Ene-18\", \"Feb-18\", \"Mar-18\"], \"y\": [-0.0018502611633217647, -0.017715478369943027, 0.029237978579950363, 0.012229082308301775, -0.014716167004082181, 0.02706741872738272, 0.010590263537874067, 0.032501517169655436, 0.016735830506781513, 0.039998277833118046, -0.05759682978476999, -0.023850673153816948]}],\n",
       "                        {\"template\": {\"data\": {\"bar\": [{\"error_x\": {\"color\": \"#2a3f5f\"}, \"error_y\": {\"color\": \"#2a3f5f\"}, \"marker\": {\"line\": {\"color\": \"#E5ECF6\", \"width\": 0.5}}, \"type\": \"bar\"}], \"barpolar\": [{\"marker\": {\"line\": {\"color\": \"#E5ECF6\", \"width\": 0.5}}, \"type\": \"barpolar\"}], \"carpet\": [{\"aaxis\": {\"endlinecolor\": \"#2a3f5f\", \"gridcolor\": \"white\", \"linecolor\": \"white\", \"minorgridcolor\": \"white\", \"startlinecolor\": \"#2a3f5f\"}, \"baxis\": {\"endlinecolor\": \"#2a3f5f\", \"gridcolor\": \"white\", \"linecolor\": \"white\", \"minorgridcolor\": \"white\", \"startlinecolor\": \"#2a3f5f\"}, \"type\": \"carpet\"}], \"choropleth\": [{\"colorbar\": {\"outlinewidth\": 0, \"ticks\": \"\"}, \"type\": \"choropleth\"}], \"contour\": [{\"colorbar\": {\"outlinewidth\": 0, \"ticks\": \"\"}, \"colorscale\": [[0.0, \"#0d0887\"], [0.1111111111111111, \"#46039f\"], [0.2222222222222222, \"#7201a8\"], [0.3333333333333333, \"#9c179e\"], [0.4444444444444444, \"#bd3786\"], [0.5555555555555556, \"#d8576b\"], [0.6666666666666666, \"#ed7953\"], [0.7777777777777778, \"#fb9f3a\"], [0.8888888888888888, \"#fdca26\"], [1.0, \"#f0f921\"]], \"type\": \"contour\"}], \"contourcarpet\": [{\"colorbar\": {\"outlinewidth\": 0, \"ticks\": \"\"}, \"type\": \"contourcarpet\"}], \"heatmap\": [{\"colorbar\": {\"outlinewidth\": 0, \"ticks\": \"\"}, \"colorscale\": [[0.0, \"#0d0887\"], [0.1111111111111111, \"#46039f\"], [0.2222222222222222, \"#7201a8\"], [0.3333333333333333, \"#9c179e\"], [0.4444444444444444, \"#bd3786\"], [0.5555555555555556, \"#d8576b\"], [0.6666666666666666, \"#ed7953\"], [0.7777777777777778, \"#fb9f3a\"], [0.8888888888888888, \"#fdca26\"], [1.0, \"#f0f921\"]], \"type\": \"heatmap\"}], \"heatmapgl\": [{\"colorbar\": {\"outlinewidth\": 0, \"ticks\": \"\"}, \"colorscale\": [[0.0, \"#0d0887\"], [0.1111111111111111, \"#46039f\"], [0.2222222222222222, \"#7201a8\"], [0.3333333333333333, \"#9c179e\"], [0.4444444444444444, \"#bd3786\"], [0.5555555555555556, \"#d8576b\"], [0.6666666666666666, \"#ed7953\"], [0.7777777777777778, \"#fb9f3a\"], [0.8888888888888888, \"#fdca26\"], [1.0, \"#f0f921\"]], \"type\": \"heatmapgl\"}], \"histogram\": [{\"marker\": {\"colorbar\": {\"outlinewidth\": 0, \"ticks\": \"\"}}, \"type\": \"histogram\"}], \"histogram2d\": [{\"colorbar\": {\"outlinewidth\": 0, \"ticks\": \"\"}, \"colorscale\": [[0.0, \"#0d0887\"], [0.1111111111111111, \"#46039f\"], [0.2222222222222222, \"#7201a8\"], [0.3333333333333333, \"#9c179e\"], [0.4444444444444444, \"#bd3786\"], [0.5555555555555556, \"#d8576b\"], [0.6666666666666666, \"#ed7953\"], [0.7777777777777778, \"#fb9f3a\"], [0.8888888888888888, \"#fdca26\"], [1.0, \"#f0f921\"]], \"type\": \"histogram2d\"}], \"histogram2dcontour\": [{\"colorbar\": {\"outlinewidth\": 0, \"ticks\": \"\"}, \"colorscale\": [[0.0, \"#0d0887\"], [0.1111111111111111, \"#46039f\"], [0.2222222222222222, \"#7201a8\"], [0.3333333333333333, \"#9c179e\"], [0.4444444444444444, \"#bd3786\"], [0.5555555555555556, \"#d8576b\"], [0.6666666666666666, \"#ed7953\"], [0.7777777777777778, \"#fb9f3a\"], [0.8888888888888888, \"#fdca26\"], [1.0, \"#f0f921\"]], \"type\": \"histogram2dcontour\"}], \"mesh3d\": [{\"colorbar\": {\"outlinewidth\": 0, \"ticks\": \"\"}, \"type\": \"mesh3d\"}], \"parcoords\": [{\"line\": {\"colorbar\": {\"outlinewidth\": 0, \"ticks\": \"\"}}, \"type\": \"parcoords\"}], \"scatter\": [{\"marker\": {\"colorbar\": {\"outlinewidth\": 0, \"ticks\": \"\"}}, \"type\": \"scatter\"}], \"scatter3d\": [{\"line\": {\"colorbar\": {\"outlinewidth\": 0, \"ticks\": \"\"}}, \"marker\": {\"colorbar\": {\"outlinewidth\": 0, \"ticks\": \"\"}}, \"type\": \"scatter3d\"}], \"scattercarpet\": [{\"marker\": {\"colorbar\": {\"outlinewidth\": 0, \"ticks\": \"\"}}, \"type\": \"scattercarpet\"}], \"scattergeo\": [{\"marker\": {\"colorbar\": {\"outlinewidth\": 0, \"ticks\": \"\"}}, \"type\": \"scattergeo\"}], \"scattergl\": [{\"marker\": {\"colorbar\": {\"outlinewidth\": 0, \"ticks\": \"\"}}, \"type\": \"scattergl\"}], \"scattermapbox\": [{\"marker\": {\"colorbar\": {\"outlinewidth\": 0, \"ticks\": \"\"}}, \"type\": \"scattermapbox\"}], \"scatterpolar\": [{\"marker\": {\"colorbar\": {\"outlinewidth\": 0, \"ticks\": \"\"}}, \"type\": \"scatterpolar\"}], \"scatterpolargl\": [{\"marker\": {\"colorbar\": {\"outlinewidth\": 0, \"ticks\": \"\"}}, \"type\": \"scatterpolargl\"}], \"scatterternary\": [{\"marker\": {\"colorbar\": {\"outlinewidth\": 0, \"ticks\": \"\"}}, \"type\": \"scatterternary\"}], \"surface\": [{\"colorbar\": {\"outlinewidth\": 0, \"ticks\": \"\"}, \"colorscale\": [[0.0, \"#0d0887\"], [0.1111111111111111, \"#46039f\"], [0.2222222222222222, \"#7201a8\"], [0.3333333333333333, \"#9c179e\"], [0.4444444444444444, \"#bd3786\"], [0.5555555555555556, \"#d8576b\"], [0.6666666666666666, \"#ed7953\"], [0.7777777777777778, \"#fb9f3a\"], [0.8888888888888888, \"#fdca26\"], [1.0, \"#f0f921\"]], \"type\": \"surface\"}], \"table\": [{\"cells\": {\"fill\": {\"color\": \"#EBF0F8\"}, \"line\": {\"color\": \"white\"}}, \"header\": {\"fill\": {\"color\": \"#C8D4E3\"}, \"line\": {\"color\": \"white\"}}, \"type\": \"table\"}]}, \"layout\": {\"annotationdefaults\": {\"arrowcolor\": \"#2a3f5f\", \"arrowhead\": 0, \"arrowwidth\": 1}, \"colorscale\": {\"diverging\": [[0, \"#8e0152\"], [0.1, \"#c51b7d\"], [0.2, \"#de77ae\"], [0.3, \"#f1b6da\"], [0.4, \"#fde0ef\"], [0.5, \"#f7f7f7\"], [0.6, \"#e6f5d0\"], [0.7, \"#b8e186\"], [0.8, \"#7fbc41\"], [0.9, \"#4d9221\"], [1, \"#276419\"]], \"sequential\": [[0.0, \"#0d0887\"], [0.1111111111111111, \"#46039f\"], [0.2222222222222222, \"#7201a8\"], [0.3333333333333333, \"#9c179e\"], [0.4444444444444444, \"#bd3786\"], [0.5555555555555556, \"#d8576b\"], [0.6666666666666666, \"#ed7953\"], [0.7777777777777778, \"#fb9f3a\"], [0.8888888888888888, \"#fdca26\"], [1.0, \"#f0f921\"]], \"sequentialminus\": [[0.0, \"#0d0887\"], [0.1111111111111111, \"#46039f\"], [0.2222222222222222, \"#7201a8\"], [0.3333333333333333, \"#9c179e\"], [0.4444444444444444, \"#bd3786\"], [0.5555555555555556, \"#d8576b\"], [0.6666666666666666, \"#ed7953\"], [0.7777777777777778, \"#fb9f3a\"], [0.8888888888888888, \"#fdca26\"], [1.0, \"#f0f921\"]]}, \"colorway\": [\"#636efa\", \"#EF553B\", \"#00cc96\", \"#ab63fa\", \"#FFA15A\", \"#19d3f3\", \"#FF6692\", \"#B6E880\", \"#FF97FF\", \"#FECB52\"], \"font\": {\"color\": \"#2a3f5f\"}, \"geo\": {\"bgcolor\": \"white\", \"lakecolor\": \"white\", \"landcolor\": \"#E5ECF6\", \"showlakes\": true, \"showland\": true, \"subunitcolor\": \"white\"}, \"hoverlabel\": {\"align\": \"left\"}, \"hovermode\": \"closest\", \"mapbox\": {\"style\": \"light\"}, \"paper_bgcolor\": \"white\", \"plot_bgcolor\": \"#E5ECF6\", \"polar\": {\"angularaxis\": {\"gridcolor\": \"white\", \"linecolor\": \"white\", \"ticks\": \"\"}, \"bgcolor\": \"#E5ECF6\", \"radialaxis\": {\"gridcolor\": \"white\", \"linecolor\": \"white\", \"ticks\": \"\"}}, \"scene\": {\"xaxis\": {\"backgroundcolor\": \"#E5ECF6\", \"gridcolor\": \"white\", \"gridwidth\": 2, \"linecolor\": \"white\", \"showbackground\": true, \"ticks\": \"\", \"zerolinecolor\": \"white\"}, \"yaxis\": {\"backgroundcolor\": \"#E5ECF6\", \"gridcolor\": \"white\", \"gridwidth\": 2, \"linecolor\": \"white\", \"showbackground\": true, \"ticks\": \"\", \"zerolinecolor\": \"white\"}, \"zaxis\": {\"backgroundcolor\": \"#E5ECF6\", \"gridcolor\": \"white\", \"gridwidth\": 2, \"linecolor\": \"white\", \"showbackground\": true, \"ticks\": \"\", \"zerolinecolor\": \"white\"}}, \"shapedefaults\": {\"line\": {\"color\": \"#2a3f5f\"}}, \"ternary\": {\"aaxis\": {\"gridcolor\": \"white\", \"linecolor\": \"white\", \"ticks\": \"\"}, \"baxis\": {\"gridcolor\": \"white\", \"linecolor\": \"white\", \"ticks\": \"\"}, \"bgcolor\": \"#E5ECF6\", \"caxis\": {\"gridcolor\": \"white\", \"linecolor\": \"white\", \"ticks\": \"\"}}, \"title\": {\"x\": 0.05}, \"xaxis\": {\"automargin\": true, \"gridcolor\": \"white\", \"linecolor\": \"white\", \"ticks\": \"\", \"zerolinecolor\": \"white\", \"zerolinewidth\": 2}, \"yaxis\": {\"automargin\": true, \"gridcolor\": \"white\", \"linecolor\": \"white\", \"ticks\": \"\", \"zerolinecolor\": \"white\", \"zerolinewidth\": 2}}}, \"title\": {\"text\": \"Rendimiento mensual IVE Etf\"}, \"xaxis\": {\"title\": {\"text\": \"Meses\"}}, \"yaxis\": {\"title\": {\"text\": \"Rendimiento en decimal\"}}},\n",
       "                        {\"responsive\": true}\n",
       "                    ).then(function(){\n",
       "                            \n",
       "var gd = document.getElementById('f26a3cab-8cb3-4c6f-b918-197e1a93b6fd');\n",
       "var x = new MutationObserver(function (mutations, observer) {{\n",
       "        var display = window.getComputedStyle(gd).display;\n",
       "        if (!display || display === 'none') {{\n",
       "            console.log([gd, 'removed!']);\n",
       "            Plotly.purge(gd);\n",
       "            observer.disconnect();\n",
       "        }}\n",
       "}});\n",
       "\n",
       "// Listen for the removal of the full notebook cells\n",
       "var notebookContainer = gd.closest('#notebook-container');\n",
       "if (notebookContainer) {{\n",
       "    x.observe(notebookContainer, {childList: true});\n",
       "}}\n",
       "\n",
       "// Listen for the clearing of the current output cell\n",
       "var outputEl = gd.closest('.output');\n",
       "if (outputEl) {{\n",
       "    x.observe(outputEl, {childList: true});\n",
       "}}\n",
       "\n",
       "                        })\n",
       "                };\n",
       "                });\n",
       "            </script>\n",
       "        </div>"
      ]
     },
     "metadata": {},
     "output_type": "display_data"
    }
   ],
   "source": [
    "fig = go.FigureWidget()\n",
    "fig.add_scatter(x=['Abr-17','May-17','Jun-17','Jul-17','Ago-17','Sept-17','Oct-17','Nov-17',\n",
    "                              'Dic-17','Ene-18','Feb-18','Mar-18'] ,y=rend_etf_mensual)\n",
    "fig.layout.title = 'Rendimiento mensual IVE Etf'\n",
    "fig.update_layout(xaxis=go.layout.XAxis(title=go.layout.xaxis.Title(text=\"Meses\")),\n",
    "                 yaxis=go.layout.YAxis(title=go.layout.yaxis.Title(text=\"Rendimiento en decimal\")))\n",
    "fig.show()"
   ]
  },
  {
   "cell_type": "markdown",
   "metadata": {},
   "source": [
    "#### Cálculo del NAV diario con distintos escenarios"
   ]
  },
  {
   "cell_type": "markdown",
   "metadata": {},
   "source": [
    "Se analizan diferentes escenarios del etf:\n",
    "\n",
    " * No hay rebalanceos, el etf inicial es el que tendremos hasta fin de año, sólo se ve afectado por los precios.\n",
    " * Sí hay rebalanceos, se parte desde el mes inicial y posteriormente se hace un rebalanceo por año; así con los 12 meses:\n",
    "     * Combinaciones: [1,2], [1,3], [1,4]..."
   ]
  },
  {
   "cell_type": "markdown",
   "metadata": {},
   "source": [
    "Fechas a tomar en cuenta:"
   ]
  },
  {
   "cell_type": "code",
   "execution_count": 364,
   "metadata": {},
   "outputs": [],
   "source": [
    "dates = ['2017-04','2017-05','2017-06','2017-07','2017-08','2017-09','2017-10','2017-11','2017-12','2018-01',\n",
    "         '2018-02','2018-03','2018-04'] #Fechas de interés para el NAV diario de quandl"
   ]
  },
  {
   "cell_type": "markdown",
   "metadata": {},
   "source": [
    "Función para calcular el rendimiento mensual y la desviación estándar del etf por mes."
   ]
  },
  {
   "cell_type": "code",
   "execution_count": 365,
   "metadata": {},
   "outputs": [],
   "source": [
    "# La variable tickers_Nmes debe ser ingresada como una lista.\n",
    "# La variable meses debe ser ingresada como una lista anidada, la principal deberá ser de la longitud de la variable tickers_Nmes\n",
    "def nav_quandl(tickers_Nmes, meses):\n",
    "    monthly_shares_df = [] #Acciones mensuales de cada mes\n",
    "    nav_diario_all = [] #Nav diaro por mes\n",
    "    desv_est = [] #Desv std mensual\n",
    "    rend_mensual = [] #Rend mensual\n",
    "    etf_data = [] #Etf de ishares para extraer los tickers\n",
    "    shares_out = [] #acciones en circulación de cada activo\n",
    "    for i in (tickers_Nmes):\n",
    "        shares = [s2f(final_etf_data[i].iloc[j,4]) for j in range(len(final_etf_data[i].iloc[:,4]))]\n",
    "        shares_df = pd.DataFrame(shares,columns=['shares'])\n",
    "        monthly_shares_df.append(shares_df)\n",
    "        etf_data.append(final_etf_data[i])\n",
    "        shares_out.append(etf_shares[i])\n",
    "    for i in range(len(tickers_Nmes)):\n",
    "        for j in range(len(meses[i])-1):\n",
    "            nav_diario = np.dot(stock_prices.loc[:,etf_data[i].index.values] #Se filtra df por mes de interés y se calcula el NAV\n",
    "                                [np.logical_and(stock_prices.index >= np.datetime64(meses[i][j]), #multiplicacion vectorial\n",
    "                                                stock_prices.index < np.datetime64(meses[i][j+1]))],monthly_shares_df[i])/shares_out[i]\n",
    "            nav_diario_all.append(nav_diario)\n",
    "            desv_est.append(np.std(nav_diario))\n",
    "            rend_mensual.append(float(((nav_diario[-1]/nav_diario[0])-1))) #rend mensual último dato del mes y primero\n",
    "    return rend_mensual, desv_est, nav_diario_all"
   ]
  },
  {
   "cell_type": "markdown",
   "metadata": {},
   "source": [
    "Obteniendo las combinaciones posibles."
   ]
  },
  {
   "cell_type": "code",
   "execution_count": 366,
   "metadata": {},
   "outputs": [],
   "source": [
    "rend = []\n",
    "desv_std = []\n",
    "nav_all = []\n",
    "for i in range(2,len(dates)): #Escenario 2-12\n",
    "    x,y, nav = nav_quandl([1,i],[dates[:i],dates[i-1::]])\n",
    "    rend.append(x)\n",
    "    desv_std.append(y)\n",
    "    nav_all.append(nav)\n",
    "\n",
    "r1, s1, n1 = nav_quandl([1],[dates]) #Se calcula primer escenario, sin rebalanceo\n",
    "rend.insert(0,r1)\n",
    "desv_std.insert(0,s1)"
   ]
  },
  {
   "cell_type": "code",
   "execution_count": 367,
   "metadata": {},
   "outputs": [],
   "source": [
    "nav_t = []\n",
    "for i in range(len(nav_all)):\n",
    "    temp = np.concatenate([nav_all[i][j] for j in range(len(nav_all[i]))]) #juntando los meses en una sola lista\n",
    "    nav_t.append(temp) #Almacenando cada caso en una lista\n",
    "\n",
    "#escenario 1\n",
    "temp = np.concatenate([n1[j] for j in range(len(n1))])\n",
    "nav_t.insert(0,temp)\n",
    "nav_t = np.reshape(nav_t,(12,248))"
   ]
  },
  {
   "cell_type": "markdown",
   "metadata": {},
   "source": [
    "Lo que nos interesa del siguiente bloque es calcular la desviación estándar/riesgo del etf original."
   ]
  },
  {
   "cell_type": "code",
   "execution_count": 368,
   "metadata": {},
   "outputs": [],
   "source": [
    "ignore, desv_original_etf, nav_or = nav_quandl(list(np.arange(1,13)),[['2017-04','2017-05'],['2017-05','2017-06'],['2017-06','2017-07'],\n",
    "                                                          ['2017-07','2017-08'],['2017-08','2017-09'],['2017-09','2017-10'],\n",
    "                                                          ['2017-10','2017-11'],['2017-11','2017-12'],['2017-12','2018-01'],\n",
    "                                                          ['2018-01','2018-02'],['2018-02','2018-03'],['2018-03','2018-04']])\n",
    "nav_original = np.concatenate([nav_or[j] for j in range(len(nav_or))])\n",
    "nav_original = np.reshape(nav_original,(248,))"
   ]
  },
  {
   "cell_type": "markdown",
   "metadata": {},
   "source": [
    "### Rebalanceo propuesto"
   ]
  },
  {
   "cell_type": "markdown",
   "metadata": {},
   "source": [
    "Se cuenta con un presupuesto de 1'000,000.00 USD para comprar acciones y armar el rebalanceo del ETF. EL criterio consiste en lo siguiente:\n",
    "* Escoger inicialmente el top 5 de acciones con mayor rendimiento por mes.\n",
    "    * Las proporciones del dinero a invertir se repartirán de la siguiente manera: 30% el activo con mayor rendimiento, 25% el segundo, 20% el tercero, 15% el cuarto y 10% el último."
   ]
  },
  {
   "cell_type": "markdown",
   "metadata": {},
   "source": [
    "Presupuesto para acciones:"
   ]
  },
  {
   "cell_type": "code",
   "execution_count": 369,
   "metadata": {},
   "outputs": [],
   "source": [
    "cap = 1000000\n",
    "money = [cap*.30, cap*.25, cap*.20, cap*.15, cap*.10] #proporciones de capital"
   ]
  },
  {
   "cell_type": "code",
   "execution_count": 370,
   "metadata": {},
   "outputs": [],
   "source": [
    "dates2 = ['2017-03','2017-04','2017-05','2017-06','2017-07','2017-08','2017-09','2017-10','2017-11','2017-12','2018-01',\n",
    "         '2018-02','2018-03']\n",
    "shares_out_n = 1000000 #acciones en circulacion del etf propuesto"
   ]
  },
  {
   "cell_type": "code",
   "execution_count": 371,
   "metadata": {},
   "outputs": [],
   "source": [
    "n_shares= []\n",
    "for i in range(len(dates2)-1):\n",
    "    prices = stock_prices[np.logical_and(stock_prices.index >= np.datetime64(dates2[i]),stock_prices.index < \n",
    "                                         np.datetime64(dates2[i+1]))]\n",
    "    m_rend = [((prices.iloc[-1,:]/prices.iloc[0,:])-1).nlargest()][0] #nlargest extrae el top 5 de rendimientos\n",
    "    n_shares.append(m_rend)"
   ]
  },
  {
   "cell_type": "code",
   "execution_count": 372,
   "metadata": {
    "scrolled": false
   },
   "outputs": [],
   "source": [
    "shares_per_c  = []\n",
    "for i in range(len(n_shares)):\n",
    "    shares_etf_n = np.ceil(money/stock_prices.loc[:,n_shares[i].index.values] #Se calculan las acciones a comprar por ticker\n",
    "                           [np.logical_and(stock_prices.index >= np.datetime64(dates2[i]),\n",
    "                                           stock_prices.index < np.datetime64(dates2[i+1]))].iloc[0,:]) #Valor al inicio de c/mes\n",
    "    for j in range(len(shares_etf_n)):\n",
    "        if shares_etf_n[j] == np.inf:\n",
    "            shares_etf_n[j] = 1000 #Reemplazamos infinitos por 1000 numero estandar\n",
    "    shares_per_c.append(shares_etf_n)"
   ]
  },
  {
   "cell_type": "code",
   "execution_count": 373,
   "metadata": {},
   "outputs": [],
   "source": [
    "desv_est_n = []\n",
    "rend_mensual_n = []\n",
    "nav_etf_p_t = []\n",
    "dates_n_etef = [['2017-04','2017-05'],['2017-05','2017-06'],['2017-06','2017-07'],\n",
    "                                                          ['2017-07','2017-08'],['2017-08','2017-09'],['2017-09','2017-10'],\n",
    "                                                          ['2017-10','2017-11'],['2017-11','2017-12'],['2017-12','2018-01'],\n",
    "                                                          ['2018-01','2018-02'],['2018-02','2018-03'],['2018-03','2018-04']]\n",
    "for i in range(len(shares_per_c)):\n",
    "    for j in range(len(dates_n_etef[i])-1):\n",
    "                nav_etf_p = np.dot(stock_prices.loc[:,shares_per_c[i].index.values]\n",
    "                                    [np.logical_and(stock_prices.index >= np.datetime64(dates_n_etef[i][j]),\n",
    "                                                    stock_prices.index < np.datetime64(dates_n_etef[i][j+1]))],\n",
    "                                    shares_per_c[i])/shares_out_n\n",
    "                desv_est_n.append(np.std(nav_etf_p))\n",
    "                nav_etf_p_t.append(nav_etf_p)\n",
    "                rend_mensual_n.append(float(((nav_etf_p[-1]/nav_etf_p[0])-1)))\n",
    "\n",
    "nav_proposal = np.concatenate([nav_etf_p_t[j] for j in range(len(nav_etf_p_t))])\n",
    "nav_proposal = np.reshape(nav_original,(248,))"
   ]
  },
  {
   "cell_type": "markdown",
   "metadata": {},
   "source": [
    "## Medidas del desempeño"
   ]
  },
  {
   "cell_type": "markdown",
   "metadata": {},
   "source": [
    "Antes de pasar a los resultados, es importante mencionar que se hicieron 14 escenarios de rebalanceo:\n",
    "* Original iShares.\n",
    "* Del 2 al 13 consisten en cortes, cómo se hubiera comportado el ETF si rebalanceo determinado mes y lo dejo así hasta el final del año.\n",
    "* Propuesta (proposal) consiste en tomar el top 5 de acciones que tuvieron mayor rendimiento el mes anterior.\n",
    "\n",
    "**** El rebalanceo es el ajuste de los activos que conforman el ETF debido a variaciones de los mercados, buscando así mayores rendimientos. Entendamos por ajuste la selección de activos y el peso determinado para la construcción del ETF.** **"
   ]
  },
  {
   "cell_type": "code",
   "execution_count": 374,
   "metadata": {},
   "outputs": [
    {
     "data": {
      "application/vnd.plotly.v1+json": {
       "config": {
        "plotlyServerURL": "https://plot.ly"
       },
       "data": [
        {
         "name": "Caso 1",
         "type": "scatter",
         "xaxis": "x",
         "y": [
          100.0171189708715,
          100.0713339649848,
          99.69412201689602,
          99.98488636559637,
          99.83783825955659,
          99.95237674816516,
          99.85988241299694,
          99.47919445993887,
          98.6193853598623,
          0.2827103839449541,
          99.44589086995403,
          99.03873610321105,
          98.73195456888385,
          99.47471344166667,
          98.98253810259932,
          100.1249326344037,
          100.6754860909731,
          100.66305894625381,
          100.49066760856263,
          100.07437000716358,
          100.01547039017588,
          99.96731608516829,
          100.03869705524924,
          100.02921351968656,
          100.46444641559623,
          100.36692218107795,
          100.06924065596323,
          100.19558694969415,
          99.9238532834864,
          99.55067039671246,
          100.09798948757494,
          99.88893641559629,
          98.00372736536696,
          98.09561998535929,
          98.85082152037455,
          99.18054410107038,
          99.51636098455661,
          99.6006957664373,
          99.72945987048931,
          99.74672531926609,
          99.48395285654742,
          99.32179331911318,
          100.27036840282882,
          100.19142161009174,
          100.03430174824155,
          99.76128795856279,
          99.87734465837146,
          100.07664484694193,
          101.05063942423538,
          101.2516716610092,
          101.53583166494641,
          101.45596641911322,
          101.34421209479892,
          101.31161066318269,
          101.29023878639144,
          100.57667003287462,
          100.09477783462538,
          99.994680006776,
          100.00969712297398,
          100.36159064151384,
          99.93484808738528,
          100.70493757591737,
          100.34489335152907,
          100.50693053004582,
          101.24946679755355,
          100.87708973058105,
          99.88945646247552,
          100.27419651857791,
          100.14977184984716,
          100.00716165703363,
          100.48833512538226,
          100.70434933872329,
          100.98655759862386,
          100.92501253012233,
          100.63856679931196,
          101.14758501811929,
          101.15186097041286,
          101.01677596483178,
          100.84567976521414,
          101.47559322400609,
          101.21573635359326,
          101.3448493364297,
          101.19399937224773,
          101.39226806659025,
          101.55578821987761,
          101.44837027759948,
          101.20004350105123,
          101.3876504350917,
          99.58484242041288,
          101.10821423035169,
          100.94036821632264,
          99.65749021825303,
          99.4923514764525,
          100.3272145867737,
          100.26471125504582,
          100.26932632484709,
          98.73567478291277,
          98.52009170180122,
          98.55510665351683,
          99.33846517828742,
          99.11040793256657,
          98.89215748111614,
          99.19588566368505,
          99.06430193027522,
          98.79924078883793,
          98.97468127775228,
          99.34993427844036,
          98.43290421120027,
          97.57588947805812,
          97.96087541659011,
          97.58368624900615,
          97.63262761781345,
          98.80370513711779,
          99.33404095474008,
          99.43636774376914,
          99.39044683318036,
          99.57750338892284,
          99.88278917992284,
          100.03508882851673,
          100.22039605917433,
          100.07846104824162,
          100.22741896659022,
          100.5073091560015,
          100.4594803442661,
          100.72822654151383,
          100.83843716567277,
          101.05002843922024,
          101.60801463853214,
          101.84556302385322,
          101.93449396689607,
          102.40003850814222,
          102.06374584212543,
          101.65895169258417,
          102.11762668593266,
          102.12568385986246,
          101.72093946192659,
          101.68545191972476,
          101.89328192675839,
          101.82662086498472,
          101.95634289564217,
          102.17812381452603,
          102.87179676766061,
          102.62411138937316,
          102.87381937010709,
          102.3345919175833,
          102.49985503745187,
          102.36757412759941,
          101.84633407026006,
          101.8813916577217,
          102.11063958769115,
          102.15263328165138,
          102.12081566077977,
          101.04456807133033,
          101.8772054373089,
          101.69332706475531,
          101.06449023478598,
          101.12742662614676,
          100.9191288190367,
          101.0341933478592,
          101.26007589694194,
          101.63313520680435,
          101.78422692316512,
          102.15767023432721,
          101.61018559128439,
          101.64663822209475,
          101.97376960405204,
          103.46664348493883,
          103.85245036659016,
          104.52440036850149,
          104.4727322974305,
          105.07095218088678,
          104.79045350711004,
          103.99936904686541,
          104.14413228665903,
          104.65728705665136,
          104.89090299273695,
          105.2242012384556,
          104.98927157194198,
          104.38840475168199,
          105.30792597484708,
          105.89723895496937,
          105.58748479717126,
          105.62028471620795,
          106.05620278211015,
          106.01626981399083,
          105.99525577905192,
          105.97479129797398,
          106.1951240535168,
          105.6559446506881,
          106.3612742607033,
          106.7618236637614,
          107.23013348600911,
          107.69141245481653,
          107.83819681257647,
          107.94262385573394,
          107.92903225901382,
          108.78256557626165,
          109.53878719648313,
          109.04421352431194,
          109.91203572729367,
          109.67340969373089,
          110.14478275569576,
          111.0369885481651,
          111.02847793960234,
          111.26603669074929,
          111.3051301218654,
          112.3633687499235,
          111.69486968375378,
          110.25207487045105,
          110.13940548769112,
          110.42058242607041,
          107.96806485703362,
          103.45852917216973,
          104.71687660726306,
          104.52509034782112,
          100.86359621983945,
          102.0392261842889,
          103.31832994105511,
          103.60110961223236,
          104.98716395932732,
          105.93679176055049,
          106.0693826334099,
          105.0636604788227,
          104.43774979564226,
          104.46513904151384,
          106.09844876724013,
          107.25848306880737,
          105.85969279755352,
          104.54685173379208,
          104.14822581433495,
          104.55256674648315,
          105.84776628302747,
          106.05226614212538,
          105.71830114166663,
          105.11608495955656,
          106.84741225932726,
          106.6478352691896,
          106.11421394816516,
          105.28378791964835,
          105.14261056681961,
          105.51882071643729,
          104.08727687064224,
          103.98087734334861,
          104.10417457270641,
          101.57120714969427,
          99.47418833119266,
          101.82044993826452,
          100.68179411743121
         ],
         "yaxis": "y"
        },
        {
         "name": "Caso 2",
         "type": "scatter",
         "xaxis": "x2",
         "y": [
          100.0171189708715,
          100.0713339649848,
          99.69412201689602,
          99.98488636559637,
          99.83783825955659,
          99.95237674816516,
          99.85988241299694,
          99.47919445993887,
          98.6193853598623,
          0.2827103839449541,
          99.44589086995403,
          99.03873610321105,
          98.73195456888385,
          99.47471344166667,
          98.98253810259932,
          100.1249326344037,
          100.6754860909731,
          100.66305894625381,
          100.49066760856263,
          100.07437000716358,
          99.06001722148413,
          99.01232487218348,
          99.08190195181972,
          99.08016541829835,
          99.50984328236198,
          99.41299101538463,
          99.11862676814292,
          99.24506458422685,
          98.97569760590531,
          98.6077805456099,
          99.14954892933025,
          98.94268429098675,
          96.99841744763012,
          97.08895737630145,
          97.8368088050893,
          98.16319210776999,
          98.49498925602178,
          98.57854721336433,
          98.70634840473964,
          98.72313434172507,
          98.463134102505,
          98.30306413566437,
          99.24215012952604,
          99.16390240940169,
          99.00833989836826,
          98.73810262191152,
          98.85251572653452,
          99.04899186771569,
          100.0117491801088,
          100.21100939409483,
          100.49338032816631,
          100.41452476130547,
          100.3036273549114,
          100.27178910340093,
          100.25159939471634,
          99.54582792292149,
          99.06933105059443,
          98.97009240280727,
          98.98568716118874,
          99.33404358360536,
          98.91142778477075,
          99.67379470240861,
          99.31683135003885,
          99.4781429281274,
          100.21269771095575,
          99.84421059914531,
          98.86596862216788,
          99.24695432548559,
          99.12369157008557,
          98.9817751905983,
          99.45818843799532,
          99.67081826923078,
          99.95083167583526,
          99.89067410784772,
          99.60738920031088,
          100.11092134607621,
          100.11503129184155,
          99.98246365959594,
          99.8124618869465,
          100.43474543783994,
          100.17781758616931,
          100.30512609549339,
          100.15516478585855,
          100.35126615275831,
          100.51343052960371,
          100.40677591173274,
          100.1585998595571,
          100.34465983613057,
          98.56265685551676,
          100.06968631907537,
          99.90232887195025,
          98.63340006109163,
          98.47032635726501,
          99.29704740947932,
          99.23458854040396,
          99.24017243457652,
          97.7227277102564,
          97.50943489779017,
          97.54311434071487,
          98.31841046130529,
          98.09239259784161,
          97.87642757373733,
          98.1768146006217,
          98.04633217008549,
          97.78352958943285,
          97.95791727171714,
          98.3298699564879,
          97.42257909063713,
          96.5751504825952,
          96.9562104505827,
          96.5844103542346,
          96.63200628508156,
          97.79131383562557,
          98.31499139141414,
          98.41588843632479,
          98.37110176923078,
          98.55670541302335,
          98.85931480508083,
          99.00966975679877,
          99.19294263465433,
          99.05235511965806,
          99.20000386087801,
          99.47630823581969,
          99.42962490069927,
          99.69500531297595,
          99.8049641927739,
          100.01376942012436,
          100.56561002470869,
          100.80116688640251,
          100.88962491499606,
          101.35050030322458,
          101.0176177477078,
          100.61757431452996,
          101.07233652952603,
          101.07994191002338,
          100.67901112556332,
          100.64367798282827,
          100.84838126262629,
          100.78227010800315,
          100.9109571329448,
          101.12928691969704,
          101.81633866697749,
          101.57260124918417,
          101.81974233550898,
          101.2855385748446,
          101.44947046817174,
          101.31879655314692,
          100.80294328834499,
          100.83830910955704,
          101.06490752501938,
          101.10462852758349,
          101.074808945066,
          100.00949001631705,
          100.83242318127425,
          100.64874511693864,
          100.02558121919196,
          100.08845072432015,
          99.88219990380726,
          99.99545174390046,
          100.2211802581974,
          100.58966197086248,
          100.73878098236204,
          101.10807413589747,
          100.56608325268064,
          100.60313203605277,
          100.92748530971252,
          102.40280171973583,
          102.78349746239311,
          103.44920985679876,
          103.39782364690298,
          103.99172388624706,
          103.71520815718722,
          102.93193515959594,
          103.07548789584305,
          103.58118580901318,
          103.8122840433567,
          104.14043424677537,
          103.9082345280498,
          103.31373261806526,
          104.22498217614607,
          104.80616189044281,
          104.49899914669773,
          104.53079417024085,
          104.96119143908318,
          104.9228087694638,
          104.90127345462311,
          104.8809265214452,
          105.09931879797978,
          104.56605242362092,
          105.26537852439785,
          105.66098638554777,
          106.12363892591294,
          106.58022900341886,
          106.72589604786327,
          106.82879278508162,
          106.81406010936279,
          107.65945346010109,
          108.40682195104888,
          107.91858895446784,
          108.77836990637154,
          108.54171773240098,
          109.00785220780885,
          109.8890355942501,
          109.88123584032631,
          110.11585894576532,
          110.15512400054388,
          111.19989624522137,
          110.5378763600621,
          109.11087708395492,
          109.00073782226109,
          109.27877710905211,
          106.8513971836053,
          102.38965284262542,
          103.63550726923089,
          103.45034713951053,
          99.82748704250194,
          100.9884132252136,
          102.25357983923861,
          102.53412481779336,
          103.90596777257198,
          104.84755676425804,
          104.97953578438232,
          103.98332276697751,
          103.36390953123544,
          103.39198152688428,
          105.00817906550124,
          106.1570327187257,
          104.77372967125095,
          103.47509982136746,
          103.08005341573433,
          103.47972613527577,
          104.7613365276612,
          104.96452851351985,
          104.63484529269618,
          104.04058060178714,
          105.75475069028752,
          105.55693802937054,
          105.0293382789433,
          104.20718807498058,
          104.06769300209794,
          104.43951569005432,
          103.02246428127438,
          102.916149828749,
          103.0378237565656,
          100.53122681313135,
          98.45671502393165,
          100.77846507148408,
          99.65204541188811
         ],
         "yaxis": "y2"
        },
        {
         "name": "Caso 3",
         "type": "scatter",
         "xaxis": "x3",
         "y": [
          100.0171189708715,
          100.0713339649848,
          99.69412201689602,
          99.98488636559637,
          99.83783825955659,
          99.95237674816516,
          99.85988241299694,
          99.47919445993887,
          98.6193853598623,
          0.2827103839449541,
          99.44589086995403,
          99.03873610321105,
          98.73195456888385,
          99.47471344166667,
          98.98253810259932,
          100.1249326344037,
          100.6754860909731,
          100.66305894625381,
          100.49066760856263,
          100.07437000716358,
          100.01547039017588,
          99.96731608516829,
          100.03869705524924,
          100.02921351968656,
          100.46444641559623,
          100.36692218107795,
          100.06924065596323,
          100.19558694969415,
          99.9238532834864,
          99.55067039671246,
          100.09798948757494,
          99.88893641559629,
          98.00372736536696,
          98.09561998535929,
          98.85082152037455,
          99.18054410107038,
          99.51636098455661,
          99.6006957664373,
          99.72945987048931,
          99.74672531926609,
          99.48395285654742,
          99.32179331911318,
          100.24740659835292,
          100.32642700815686,
          100.1696369339608,
          99.8974660572549,
          100.01115404094116,
          100.15813055278433,
          101.15302559764704,
          101.36361759266671,
          101.66096054278441,
          101.57324789105883,
          101.3986937256118,
          101.36867809957259,
          101.97930721999998,
          101.26016795466664,
          100.77926208943134,
          100.67780008510202,
          100.69105812364707,
          101.03852646462745,
          100.60561752580391,
          101.37688234407847,
          101.01084589396076,
          101.17729053639212,
          101.92695169992164,
          101.55323520149017,
          100.55959028145097,
          100.94598193741179,
          100.82074324313736,
          100.6766870087059,
          101.16351287458822,
          101.377566845902,
          101.66317873996081,
          101.60382662031374,
          101.31846039215681,
          101.83183452232164,
          101.83588272901949,
          101.70168266839215,
          101.52152159835286,
          102.14658442925496,
          101.88693390243138,
          102.01715814492078,
          101.8654642985098,
          102.0645175938039,
          102.17975207858825,
          102.06929431886282,
          101.81799842211765,
          102.00368232796079,
          100.19360758231376,
          101.71924264960784,
          101.55133552580389,
          100.26828837311767,
          100.10035698062747,
          100.93889962886276,
          100.87449151474503,
          100.88116872972547,
          99.33859288572549,
          99.12535771248946,
          99.16231980266666,
          99.95138424337254,
          99.71866125677808,
          99.49600027090202,
          99.80136750698036,
          99.66512011466669,
          99.39743215372552,
          99.57479075325486,
          99.95492019490197,
          99.02003184890197,
          98.1582403612549,
          98.54526952992168,
          98.16334998423525,
          98.22035937780396,
          99.3992270863922,
          99.9266237806666,
          100.02688979290193,
          99.97851011325493,
          100.16595715009727,
          100.47362481365731,
          100.62443143984314,
          100.80758093364696,
          100.66418859356861,
          100.8135987227843,
          101.09395868682357,
          101.03045296054903,
          101.29757368643145,
          101.41238677505874,
          101.63135770682358,
          102.19039961184312,
          102.43189518031376,
          102.5242142883137,
          102.98977556203934,
          102.65135874792158,
          102.24984019454895,
          102.70965272698034,
          102.71610164282347,
          102.31183983647061,
          102.28038266290203,
          102.4875031763137,
          102.42137352533331,
          102.54803496541169,
          102.76840369149028,
          103.46404537584313,
          103.21632611435284,
          103.46465703552941,
          102.9215157689655,
          103.10814561462342,
          102.97953110909803,
          102.45713529952934,
          102.49171802329408,
          102.72036707043138,
          102.76613829749022,
          102.74084293725487,
          101.6562616657255,
          102.50245412533337,
          102.31256198031379,
          101.67664571419608,
          101.74745790243136,
          101.53832812831374,
          101.65384294541177,
          101.8753362832157,
          102.25169138580394,
          102.40188403380397,
          102.77685452549021,
          102.22433165105888,
          102.26241501592153,
          102.59666263576477,
          104.08990640070591,
          104.46721513105875,
          105.14161374627452,
          105.08868995819218,
          105.6872853481569,
          105.40872586807842,
          104.61086337035285,
          104.75859678980392,
          105.27314924149029,
          105.50984729678426,
          105.84118560399996,
          105.60643483686276,
          105.00348702647058,
          105.92991025717649,
          106.51333718243139,
          106.20135220988242,
          106.23357655498043,
          106.67311755529404,
          106.63608047784308,
          106.61491722909807,
          106.59460218909801,
          106.81873404407838,
          106.27861851733338,
          106.98789033976472,
          107.39444456227446,
          107.86323962003922,
          108.32489733858816,
          108.47205091058815,
          108.57607150250975,
          108.55842496174118,
          109.41009594129409,
          110.16385180180387,
          109.67031388494108,
          110.54842604329401,
          110.3094072541961,
          110.78351330066658,
          111.67521063654908,
          111.66893480086263,
          111.9091431888627,
          111.94737428941183,
          113.00471426556868,
          112.3275288652941,
          110.87997791419612,
          110.76001750599995,
          111.05451388309801,
          108.59002931870587,
          104.05164882562273,
          105.32594943945098,
          105.13261882623533,
          101.45698211784313,
          102.63793706388228,
          103.92456619898049,
          104.21411161137245,
          105.60656701168634,
          106.55810924345094,
          106.69374957349024,
          105.68371116592162,
          105.05454933686275,
          105.08469701662747,
          106.72603595227454,
          107.89007164219603,
          106.48860172399992,
          105.16796257631368,
          104.63398684423531,
          105.04275289882357,
          106.34905741286266,
          106.5582547664314,
          106.22646022635286,
          105.7582909602353,
          107.50341464243135,
          107.30594332031377,
          106.75824555545097,
          105.92684060909794,
          105.78402082847056,
          106.16187737349021,
          104.73170759615684,
          104.61869101333339,
          104.74351444227447,
          102.20031099780385,
          100.09518037066663,
          102.45208067349017,
          101.31308057850983
         ],
         "yaxis": "y3"
        },
        {
         "name": "Caso 4",
         "type": "scatter",
         "xaxis": "x4",
         "y": [
          100.0171189708715,
          100.0713339649848,
          99.69412201689602,
          99.98488636559637,
          99.83783825955659,
          99.95237674816516,
          99.85988241299694,
          99.47919445993887,
          98.6193853598623,
          0.2827103839449541,
          99.44589086995403,
          99.03873610321105,
          98.73195456888385,
          99.47471344166667,
          98.98253810259932,
          100.1249326344037,
          100.6754860909731,
          100.66305894625381,
          100.49066760856263,
          100.07437000716358,
          100.01547039017588,
          99.96731608516829,
          100.03869705524924,
          100.02921351968656,
          100.46444641559623,
          100.36692218107795,
          100.06924065596323,
          100.19558694969415,
          99.9238532834864,
          99.55067039671246,
          100.09798948757494,
          99.88893641559629,
          98.00372736536696,
          98.09561998535929,
          98.85082152037455,
          99.18054410107038,
          99.51636098455661,
          99.6006957664373,
          99.72945987048931,
          99.74672531926609,
          99.48395285654742,
          99.32179331911318,
          100.27036840282882,
          100.19142161009174,
          100.03430174824155,
          99.76128795856279,
          99.87734465837146,
          100.07664484694193,
          101.05063942423538,
          101.2516716610092,
          101.53583166494641,
          101.45596641911322,
          101.34421209479892,
          101.31161066318269,
          101.29023878639144,
          100.57667003287462,
          100.09477783462538,
          99.994680006776,
          100.00969712297398,
          100.36159064151384,
          99.93484808738528,
          100.70493757591737,
          100.34489335152907,
          100.50693053004582,
          101.92347675152935,
          101.7095336370196,
          100.81890126219609,
          101.21119817050983,
          101.08620611898043,
          100.94123040870595,
          101.4292438755295,
          101.63981184678424,
          101.92777630070591,
          101.86706129419612,
          101.58203336070589,
          102.09342683631374,
          102.09274682909799,
          101.95704632509795,
          101.77938825615686,
          102.407156663451,
          102.13662803576476,
          102.36496041948854,
          102.21587867239217,
          102.41432409811763,
          102.52636342956868,
          102.41231956643134,
          102.1622415193138,
          102.35029444094117,
          100.53529039137265,
          102.0666276027059,
          101.8990466461568,
          100.61081292307841,
          100.44223093560785,
          101.28473216792165,
          101.22114044298053,
          101.22575269858814,
          99.67566186803911,
          99.46257323941649,
          99.5002845923922,
          100.29174660141183,
          100.05856140514426,
          99.83427498313729,
          100.14125095411767,
          100.0051303444705,
          99.738931128549,
          99.9161995192157,
          100.2990543942745,
          99.36363920164706,
          98.50724284368621,
          98.89590743498043,
          98.51586076305888,
          98.57082149474502,
          99.75351399913734,
          100.28258250411763,
          100.38330927054902,
          100.33566271788233,
          100.52513973360387,
          100.83487591181257,
          100.98718225576474,
          101.1715971411765,
          101.02373418917645,
          101.17227526725485,
          101.45391129027453,
          101.38952670596078,
          101.65664324054904,
          101.77091195035301,
          101.98872355231376,
          102.5442822281569,
          102.78673306313725,
          102.88003429482352,
          103.34798490317655,
          103.00857628360781,
          102.60415510258815,
          103.06150492964706,
          103.06769443215677,
          102.66150970784314,
          102.6302856364706,
          102.83867178831375,
          102.77446265780384,
          102.9016750600784,
          103.1203266119215,
          103.81944868729406,
          103.56833572972548,
          103.81503040431363,
          103.26813317238978,
          103.45500459419611,
          103.33438610227452,
          102.80975272101958,
          102.84579554282365,
          103.0752346800784,
          103.1197045803921,
          103.09488765239207,
          102.01734679725489,
          102.87523910705887,
          102.68353175513722,
          102.04773317035298,
          102.11638241309798,
          101.9029765787451,
          102.01878583349017,
          102.23906300643134,
          102.61807278368619,
          102.76837794329415,
          103.14626777215683,
          102.59284141576471,
          102.63221961741182,
          102.96465909513734,
          104.45919028517652,
          104.8371189195295,
          105.51349840227456,
          105.46212186882052,
          106.06399929223532,
          105.78298423050978,
          104.98187573207849,
          105.13046253694118,
          105.64475202133337,
          105.8824583301178,
          106.21257216901957,
          105.97642255066674,
          105.37258122286279,
          106.30029530454895,
          106.88681885380396,
          106.5770305279216,
          106.61190008745096,
          107.05149825105886,
          107.01374396470598,
          106.99224800564701,
          106.97296692560784,
          107.19648973929411,
          106.65512840078439,
          107.36664786219602,
          107.77753418454905,
          108.25088168909807,
          108.71450891262744,
          108.8614386428627,
          108.9679888994511,
          108.95122606545883,
          109.8089970350981,
          110.56558214674504,
          110.07132715564704,
          110.95358066721573,
          110.7096978156078,
          111.1857625472549,
          112.08182792925487,
          112.08335623129419,
          112.32016906603933,
          112.35324987278429,
          113.41495964933326,
          112.73544327725493,
          111.28579461078432,
          111.16598463525486,
          111.46178784741178,
          108.98584909956853,
          104.43127037775376,
          105.70806117717642,
          105.51182922082357,
          101.82251495666668,
          103.00331967494122,
          104.29306811019599,
          104.58110079576466,
          105.98069249223526,
          106.93426799450982,
          107.06994054815678,
          106.05782771623518,
          105.42838150509806,
          105.46338128768633,
          107.11019947898042,
          108.2758073617255,
          106.86471328007842,
          105.5417648254118,
          104.9302541693333,
          105.33917705647058,
          106.64791855584318,
          106.86084954384317,
          106.53302235482353,
          106.14622135584308,
          107.89973613427455,
          107.70358384031373,
          107.15185947835296,
          106.31948793278431,
          106.17386904015686,
          106.55556340658828,
          105.12236050368617,
          105.00945027090198,
          105.13639941803925,
          102.58176172580386,
          100.46877521694118,
          102.83672935258828,
          101.6930582618823
         ],
         "yaxis": "y4"
        },
        {
         "name": "Caso 5",
         "type": "scatter",
         "xaxis": "x5",
         "y": [
          100.0171189708715,
          100.0713339649848,
          99.69412201689602,
          99.98488636559637,
          99.83783825955659,
          99.95237674816516,
          99.85988241299694,
          99.47919445993887,
          98.6193853598623,
          0.2827103839449541,
          99.44589086995403,
          99.03873610321105,
          98.73195456888385,
          99.47471344166667,
          98.98253810259932,
          100.1249326344037,
          100.6754860909731,
          100.66305894625381,
          100.49066760856263,
          100.07437000716358,
          100.01547039017588,
          99.96731608516829,
          100.03869705524924,
          100.02921351968656,
          100.46444641559623,
          100.36692218107795,
          100.06924065596323,
          100.19558694969415,
          99.9238532834864,
          99.55067039671246,
          100.09798948757494,
          99.88893641559629,
          98.00372736536696,
          98.09561998535929,
          98.85082152037455,
          99.18054410107038,
          99.51636098455661,
          99.6006957664373,
          99.72945987048931,
          99.74672531926609,
          99.48395285654742,
          99.32179331911318,
          100.27036840282882,
          100.19142161009174,
          100.03430174824155,
          99.76128795856279,
          99.87734465837146,
          100.07664484694193,
          101.05063942423538,
          101.2516716610092,
          101.53583166494641,
          101.45596641911322,
          101.34421209479892,
          101.31161066318269,
          101.29023878639144,
          100.57667003287462,
          100.09477783462538,
          99.994680006776,
          100.00969712297398,
          100.36159064151384,
          99.93484808738528,
          100.70493757591737,
          100.34489335152907,
          100.50693053004582,
          101.24946679755355,
          100.87708973058105,
          99.88945646247552,
          100.27419651857791,
          100.14977184984716,
          100.00716165703363,
          100.48833512538226,
          100.70434933872329,
          100.98655759862386,
          100.92501253012233,
          100.63856679931196,
          101.14758501811929,
          101.15186097041286,
          101.01677596483178,
          100.84567976521414,
          101.47559322400609,
          101.21573635359326,
          101.3448493364297,
          101.19399937224773,
          101.39226806659025,
          102.69975410660415,
          102.58578055212968,
          102.49738157137551,
          102.68985203309883,
          100.87311456725286,
          102.4902624209066,
          102.32300856787809,
          101.03284907639703,
          100.86586965877298,
          101.70942958319662,
          101.64775147456034,
          101.65213553645953,
          100.09550164200868,
          99.88593179914344,
          99.9261096495507,
          100.72475878155532,
          100.49116641533638,
          100.26553808987882,
          100.57561502305589,
          100.4455191665494,
          100.32819049378656,
          100.51456376983201,
          100.90743695920287,
          99.55545840926142,
          98.69151326783891,
          99.07885381926533,
          98.70110099077763,
          98.75857839335677,
          99.94201033634229,
          100.47274037065253,
          100.57288236025795,
          100.52262521352085,
          100.71486764117705,
          101.02634073472214,
          101.17882717827274,
          101.36247641336462,
          101.21482834427516,
          101.3636017418132,
          101.64719661215327,
          101.58265596201633,
          101.84817987940599,
          101.96167348706516,
          102.18090378264951,
          102.73675551637355,
          102.98015093653771,
          103.07430434450971,
          103.54340463489645,
          103.20592998225871,
          102.8021378893708,
          103.25861339867132,
          103.26645791387256,
          102.8594050695584,
          102.82729055529505,
          103.03207480211017,
          102.96931833169198,
          103.095923254787,
          103.31604262504887,
          104.01824609503713,
          103.76570493849171,
          104.01453335044944,
          103.46385674366071,
          103.65142604490043,
          103.53314545595924,
          103.00737178538492,
          103.04757994005466,
          103.2802746697147,
          103.32350525423986,
          103.29734511246578,
          102.2251553972645,
          103.082229017585,
          102.88440500664323,
          102.24976552754983,
          102.31456491449788,
          102.09996334497849,
          102.21186620156305,
          102.43410838108645,
          102.8140358411098,
          102.96373120164125,
          103.34392151832743,
          102.78927482078929,
          102.82938098304027,
          103.1617413567018,
          104.65852410910513,
          105.0366784727628,
          105.7122544940211,
          105.65858531851352,
          106.26217969112939,
          105.98256288323569,
          105.18335139984369,
          105.33431637940595,
          105.85293147690504,
          106.09029935803052,
          106.41901272465802,
          106.17976116232897,
          105.57602210379056,
          106.50627719718634,
          107.09264511637363,
          106.77891791481048,
          106.81455230293092,
          107.2565584372021,
          107.22061676357946,
          107.20289930668224,
          107.18455510922236,
          107.40913681000391,
          106.8660649109808,
          107.57574833028522,
          107.99069838132081,
          108.46365500687764,
          108.92897357327084,
          109.07509108546296,
          109.18311021992972,
          109.16873087531069,
          110.02765024364976,
          110.7861341319734,
          110.29121600418134,
          111.17780451762415,
          110.92819794794842,
          111.40619365365379,
          112.30390603670189,
          112.30516129996096,
          112.53812760101589,
          112.56927726604141,
          113.62993971223128,
          112.94635175404458,
          111.49217181606093,
          111.37174931985146,
          111.66485744896434,
          109.18282285470885,
          104.6206964736788,
          105.90175569949191,
          105.70174941508397,
          102.00355538561949,
          103.18556957913238,
          104.47598185720983,
          104.75940316311058,
          106.16191952434554,
          107.1172336851895,
          107.24917936303237,
          106.23583488096925,
          105.60377691379448,
          105.63654067182497,
          107.28599703962482,
          108.4510585109809,
          107.0360789017585,
          105.70444318233675,
          105.05735881860106,
          105.46486354333715,
          106.77797203931219,
          106.99359264814376,
          106.66712456303237,
          106.3263468856585,
          108.08402277311448,
          107.88496549011346,
          107.33136276240717,
          106.50032124595553,
          106.35069428573668,
          106.73750706354043,
          105.3032669254396,
          105.19447439476343,
          105.32365409480278,
          102.76802513630331,
          100.65498461797578,
          103.0286366794842,
          101.87944865720986
         ],
         "yaxis": "y5"
        },
        {
         "name": "Caso 6",
         "type": "scatter",
         "xaxis": "x6",
         "y": [
          100.0171189708715,
          100.0713339649848,
          99.69412201689602,
          99.98488636559637,
          99.83783825955659,
          99.95237674816516,
          99.85988241299694,
          99.47919445993887,
          98.6193853598623,
          0.2827103839449541,
          99.44589086995403,
          99.03873610321105,
          98.73195456888385,
          99.47471344166667,
          98.98253810259932,
          100.1249326344037,
          100.6754860909731,
          100.66305894625381,
          100.49066760856263,
          100.07437000716358,
          100.01547039017588,
          99.96731608516829,
          100.03869705524924,
          100.02921351968656,
          100.46444641559623,
          100.36692218107795,
          100.06924065596323,
          100.19558694969415,
          99.9238532834864,
          99.55067039671246,
          100.09798948757494,
          99.88893641559629,
          98.00372736536696,
          98.09561998535929,
          98.85082152037455,
          99.18054410107038,
          99.51636098455661,
          99.6006957664373,
          99.72945987048931,
          99.74672531926609,
          99.48395285654742,
          99.32179331911318,
          100.27036840282882,
          100.19142161009174,
          100.03430174824155,
          99.76128795856279,
          99.87734465837146,
          100.07664484694193,
          101.05063942423538,
          101.2516716610092,
          101.53583166494641,
          101.45596641911322,
          101.34421209479892,
          101.31161066318269,
          101.29023878639144,
          100.57667003287462,
          100.09477783462538,
          99.994680006776,
          100.00969712297398,
          100.36159064151384,
          99.93484808738528,
          100.70493757591737,
          100.34489335152907,
          100.50693053004582,
          101.24946679755355,
          100.87708973058105,
          99.88945646247552,
          100.27419651857791,
          100.14977184984716,
          100.00716165703363,
          100.48833512538226,
          100.70434933872329,
          100.98655759862386,
          100.92501253012233,
          100.63856679931196,
          101.14758501811929,
          101.15186097041286,
          101.01677596483178,
          100.84567976521414,
          101.47559322400609,
          101.21573635359326,
          101.3448493364297,
          101.19399937224773,
          101.39226806659025,
          101.55578821987761,
          101.44837027759948,
          101.20004350105123,
          101.3876504350917,
          99.58484242041288,
          101.10821423035169,
          100.94036821632264,
          99.65749021825303,
          99.4923514764525,
          100.3272145867737,
          100.26471125504582,
          100.26932632484709,
          98.73567478291277,
          98.52009170180122,
          98.55510665351683,
          99.33846517828742,
          99.11040793256657,
          98.89215748111614,
          99.19588566368505,
          99.06430193027522,
          98.79924078883793,
          98.97468127775228,
          99.34993427844036,
          100.98940930538967,
          100.07793242411788,
          100.45963405471117,
          100.08263770461424,
          100.14514095944162,
          101.37442496533538,
          101.94248744641331,
          102.13407774637454,
          102.09150502605654,
          102.20644164968759,
          102.51192109529109,
          102.66861707266376,
          102.85856353152383,
          102.70522681644049,
          102.84375949305932,
          103.13570234079106,
          103.04148022062809,
          103.29387707134549,
          103.41236461046918,
          103.63861367956557,
          104.22074353997682,
          104.45659326971698,
          104.55669287072509,
          105.03659329445522,
          104.70306179596743,
          104.31374982380765,
          104.76220470841406,
          104.77162489825514,
          104.36204157340055,
          104.32858653702984,
          104.52179232849943,
          104.45964074967038,
          104.58245458526565,
          104.8068391704925,
          105.51253837875147,
          105.27157278262897,
          105.52345705963549,
          104.95914176319896,
          105.19483459375348,
          105.05902063598286,
          104.51763675703754,
          104.57705922683218,
          104.83157179100422,
          104.83655122659937,
          104.7892483968204,
          103.68784044908884,
          104.57599264559904,
          104.35657469367966,
          103.71895618472266,
          103.79735036719661,
          103.5366593951919,
          103.65602987204332,
          103.92037554967042,
          104.3001769289647,
          104.44972515292739,
          104.84275880814272,
          104.27679602272202,
          104.33337215013576,
          104.63677985095006,
          106.14845695215216,
          106.52895903939506,
          107.20487234718888,
          107.12809825365105,
          107.74989528670031,
          107.45678958891031,
          106.64721855385805,
          106.80340534086857,
          107.3035174732842,
          107.54478528639014,
          107.86753350189991,
          107.627325323769,
          107.01971887165566,
          107.93820213951143,
          108.5560703271035,
          108.2455128797984,
          108.27528278061264,
          108.72064253850327,
          108.6957029309809,
          108.65862510484685,
          108.64127596289272,
          108.86618641039162,
          108.31818463722375,
          109.04713732725877,
          109.49315636355179,
          109.99763112373006,
          110.48633454842965,
          110.62949004718888,
          110.73704472896466,
          110.68996048565332,
          111.56981687987586,
          112.32732734290805,
          111.82439984761537,
          112.72918890601005,
          112.48528059154705,
          112.96110458034128,
          113.8589632085149,
          113.86080354982553,
          114.092482876774,
          114.14459626537426,
          115.21129312997289,
          114.49932592194658,
          113.02841251221405,
          112.91809127522295,
          113.15213820488562,
          110.61244858949203,
          105.99336635806432,
          107.3741955745638,
          107.1347261150446,
          103.3914214889105,
          104.60403706107019,
          105.95117648049629,
          106.19848106909654,
          107.60714985599074,
          108.57553516207835,
          108.71299839503678,
          107.69723450585494,
          107.04700551694458,
          107.10540515339281,
          108.78455773008915,
          109.96462044606443,
          108.5101929561846,
          107.13234316797201,
          106.44739731256303,
          106.84906161659556,
          108.1919787046917,
          108.4375120069019,
          108.09896318301668,
          107.76946614656855,
          109.56213143718496,
          109.34511217316786,
          108.77320132307099,
          107.9073584968593,
          107.72777414905003,
          108.11541136556805,
          106.64717763094231,
          106.53098498115544,
          106.68686351981388,
          104.09866342822802,
          101.92475410616514,
          104.32503450469173,
          103.1594115527724
         ],
         "yaxis": "y6"
        },
        {
         "name": "Caso 7",
         "type": "scatter",
         "xaxis": "x7",
         "y": [
          100.0171189708715,
          100.0713339649848,
          99.69412201689602,
          99.98488636559637,
          99.83783825955659,
          99.95237674816516,
          99.85988241299694,
          99.47919445993887,
          98.6193853598623,
          0.2827103839449541,
          99.44589086995403,
          99.03873610321105,
          98.73195456888385,
          99.47471344166667,
          98.98253810259932,
          100.1249326344037,
          100.6754860909731,
          100.66305894625381,
          100.49066760856263,
          100.07437000716358,
          100.01547039017588,
          99.96731608516829,
          100.03869705524924,
          100.02921351968656,
          100.46444641559623,
          100.36692218107795,
          100.06924065596323,
          100.19558694969415,
          99.9238532834864,
          99.55067039671246,
          100.09798948757494,
          99.88893641559629,
          98.00372736536696,
          98.09561998535929,
          98.85082152037455,
          99.18054410107038,
          99.51636098455661,
          99.6006957664373,
          99.72945987048931,
          99.74672531926609,
          99.48395285654742,
          99.32179331911318,
          100.27036840282882,
          100.19142161009174,
          100.03430174824155,
          99.76128795856279,
          99.87734465837146,
          100.07664484694193,
          101.05063942423538,
          101.2516716610092,
          101.53583166494641,
          101.45596641911322,
          101.34421209479892,
          101.31161066318269,
          101.29023878639144,
          100.57667003287462,
          100.09477783462538,
          99.994680006776,
          100.00969712297398,
          100.36159064151384,
          99.93484808738528,
          100.70493757591737,
          100.34489335152907,
          100.50693053004582,
          101.24946679755355,
          100.87708973058105,
          99.88945646247552,
          100.27419651857791,
          100.14977184984716,
          100.00716165703363,
          100.48833512538226,
          100.70434933872329,
          100.98655759862386,
          100.92501253012233,
          100.63856679931196,
          101.14758501811929,
          101.15186097041286,
          101.01677596483178,
          100.84567976521414,
          101.47559322400609,
          101.21573635359326,
          101.3448493364297,
          101.19399937224773,
          101.39226806659025,
          101.55578821987761,
          101.44837027759948,
          101.20004350105123,
          101.3876504350917,
          99.58484242041288,
          101.10821423035169,
          100.94036821632264,
          99.65749021825303,
          99.4923514764525,
          100.3272145867737,
          100.26471125504582,
          100.26932632484709,
          98.73567478291277,
          98.52009170180122,
          98.55510665351683,
          99.33846517828742,
          99.11040793256657,
          98.89215748111614,
          99.19588566368505,
          99.06430193027522,
          98.79924078883793,
          98.97468127775228,
          99.34993427844036,
          98.43290421120027,
          97.57588947805812,
          97.96087541659011,
          97.58368624900615,
          97.63262761781345,
          98.80370513711779,
          99.33404095474008,
          99.43636774376914,
          99.39044683318036,
          99.57750338892284,
          99.88278917992284,
          100.03508882851673,
          100.22039605917433,
          100.07846104824162,
          100.22741896659022,
          100.5073091560015,
          100.4594803442661,
          100.72822654151383,
          100.83843716567277,
          101.05002843922024,
          104.25057385810403,
          104.49030381750771,
          104.591349137003,
          105.07245913138381,
          104.73919852958717,
          104.35052623581805,
          104.7992221305811,
          104.81006792928139,
          104.39993681750772,
          104.36575876735478,
          104.55818116162094,
          104.4932484179664,
          104.61466578333341,
          104.83649921521408,
          105.5421580126911,
          105.30040767484701,
          105.55197794999997,
          104.98737283874398,
          105.22280476475149,
          105.08488921681959,
          104.54608555191129,
          104.73627362798173,
          104.98629423738532,
          104.99179232652908,
          104.94139859319566,
          103.84155340917432,
          104.72910184724775,
          104.50563429227837,
          103.86798546880735,
          103.94524192255356,
          103.68139302645264,
          103.80187593692656,
          104.06679609373099,
          104.44833429327213,
          104.5984560889908,
          104.98991211368497,
          104.42302113142208,
          104.47821107607028,
          104.78051068211003,
          106.29250592056569,
          106.67658022178898,
          107.35240751330275,
          107.27499019579214,
          107.89876904885324,
          107.6036755229358,
          106.79272606261466,
          106.95021278245407,
          107.45266311207946,
          107.69551597385323,
          108.01742042392978,
          107.78108657285935,
          107.17332478058115,
          108.09405301857792,
          108.7157042840979,
          108.40459169204895,
          108.43308630542813,
          108.88068535206422,
          108.85525335879208,
          108.81929991414378,
          108.80097304977062,
          109.02538241544343,
          108.47568317133032,
          109.20945023983177,
          109.65494733035166,
          110.15907571444957,
          110.6484180313457,
          110.79191615087925,
          110.89793082362377,
          110.85354436076459,
          111.7344049171636,
          112.493248644442,
          111.99001866395251,
          112.8979968107033,
          112.65403501399085,
          113.13080247435012,
          114.02925528519108,
          114.02961343134557,
          114.26234522530581,
          114.31521097515288,
          115.38452120435771,
          114.67272480240825,
          113.19978454338681,
          113.08871048134553,
          113.32292575756885,
          110.77971269720938,
          106.15438114100458,
          107.54269083035169,
          107.30456086154427,
          103.5556826857034,
          104.76825142954895,
          106.11964234984707,
          106.36851220749239,
          107.77982570229351,
          108.75273650038221,
          108.88865763662086,
          107.87036362247703,
          107.21867891009182,
          107.27666265764522,
          108.95841729931183,
          110.13985573769119,
          108.6825545061162,
          107.30429835894486,
          106.6173761389143,
          107.01974259938838,
          108.36362320137609,
          108.61043034181958,
          108.27030666200312,
          107.94272969747703,
          109.7377552949923,
          109.52044814441905,
          108.9485661214068,
          108.08019449541294,
          107.89916637140685,
          108.28846394961771,
          106.81752369097863,
          106.70193769732414,
          106.85680940405202,
          104.26405861368514,
          102.08830979594808,
          104.49367786051226,
          103.32778213417438
         ],
         "yaxis": "y7"
        },
        {
         "name": "Caso 8",
         "type": "scatter",
         "xaxis": "x8",
         "y": [
          100.0171189708715,
          100.0713339649848,
          99.69412201689602,
          99.98488636559637,
          99.83783825955659,
          99.95237674816516,
          99.85988241299694,
          99.47919445993887,
          98.6193853598623,
          0.2827103839449541,
          99.44589086995403,
          99.03873610321105,
          98.73195456888385,
          99.47471344166667,
          98.98253810259932,
          100.1249326344037,
          100.6754860909731,
          100.66305894625381,
          100.49066760856263,
          100.07437000716358,
          100.01547039017588,
          99.96731608516829,
          100.03869705524924,
          100.02921351968656,
          100.46444641559623,
          100.36692218107795,
          100.06924065596323,
          100.19558694969415,
          99.9238532834864,
          99.55067039671246,
          100.09798948757494,
          99.88893641559629,
          98.00372736536696,
          98.09561998535929,
          98.85082152037455,
          99.18054410107038,
          99.51636098455661,
          99.6006957664373,
          99.72945987048931,
          99.74672531926609,
          99.48395285654742,
          99.32179331911318,
          100.27036840282882,
          100.19142161009174,
          100.03430174824155,
          99.76128795856279,
          99.87734465837146,
          100.07664484694193,
          101.05063942423538,
          101.2516716610092,
          101.53583166494641,
          101.45596641911322,
          101.34421209479892,
          101.31161066318269,
          101.29023878639144,
          100.57667003287462,
          100.09477783462538,
          99.994680006776,
          100.00969712297398,
          100.36159064151384,
          99.93484808738528,
          100.70493757591737,
          100.34489335152907,
          100.50693053004582,
          101.24946679755355,
          100.87708973058105,
          99.88945646247552,
          100.27419651857791,
          100.14977184984716,
          100.00716165703363,
          100.48833512538226,
          100.70434933872329,
          100.98655759862386,
          100.92501253012233,
          100.63856679931196,
          101.14758501811929,
          101.15186097041286,
          101.01677596483178,
          100.84567976521414,
          101.47559322400609,
          101.21573635359326,
          101.3448493364297,
          101.19399937224773,
          101.39226806659025,
          101.55578821987761,
          101.44837027759948,
          101.20004350105123,
          101.3876504350917,
          99.58484242041288,
          101.10821423035169,
          100.94036821632264,
          99.65749021825303,
          99.4923514764525,
          100.3272145867737,
          100.26471125504582,
          100.26932632484709,
          98.73567478291277,
          98.52009170180122,
          98.55510665351683,
          99.33846517828742,
          99.11040793256657,
          98.89215748111614,
          99.19588566368505,
          99.06430193027522,
          98.79924078883793,
          98.97468127775228,
          99.34993427844036,
          98.43290421120027,
          97.57588947805812,
          97.96087541659011,
          97.58368624900615,
          97.63262761781345,
          98.80370513711779,
          99.33404095474008,
          99.43636774376914,
          99.39044683318036,
          99.57750338892284,
          99.88278917992284,
          100.03508882851673,
          100.22039605917433,
          100.07846104824162,
          100.22741896659022,
          100.5073091560015,
          100.4594803442661,
          100.72822654151383,
          100.83843716567277,
          101.05002843922024,
          101.60801463853214,
          101.84556302385322,
          101.93449396689607,
          102.40003850814222,
          102.06374584212543,
          101.65895169258417,
          102.11762668593266,
          102.12568385986246,
          101.72093946192659,
          101.68545191972476,
          101.89328192675839,
          101.82662086498472,
          101.95634289564217,
          102.17812381452603,
          102.87179676766061,
          102.62411138937316,
          102.87381937010709,
          102.3345919175833,
          102.49985503745187,
          102.36757412759941,
          101.84633407026006,
          101.8813916577217,
          105.25570300811529,
          105.26091637307545,
          105.2083047671596,
          104.10744431717865,
          104.99476136147133,
          104.76910808706864,
          104.12867900356464,
          104.20590037626094,
          103.93800660401976,
          104.05954739696625,
          104.3241440395905,
          104.70678366879024,
          104.85774664747818,
          105.24911129579067,
          104.68012154592343,
          104.73488532901021,
          105.03765690663636,
          106.55186393530524,
          106.93924197883952,
          107.61674832309434,
          107.53933949432985,
          108.16561642578695,
          107.86948706901785,
          107.0541064888131,
          107.21308221839215,
          107.71680210519536,
          107.96286770739475,
          108.28472940364064,
          108.05043718073564,
          107.44109004876753,
          108.36371552226018,
          108.98836392802421,
          108.6757750535457,
          108.70355821577557,
          109.15293714622678,
          109.1270892348123,
          109.09124003390217,
          109.07238178270768,
          109.2979540986727,
          108.74600079332575,
          109.48221166188848,
          109.9277302550626,
          110.4352598775123,
          110.92482281676143,
          111.06892782514228,
          111.17406573485022,
          111.13111499545688,
          112.01362815817212,
          112.77354837281007,
          112.26889198631021,
          113.17935318134228,
          112.93429752627988,
          113.4115715528632,
          114.31272453723928,
          114.31292940796368,
          114.54635815532808,
          114.59945953318159,
          115.67189045445586,
          114.95678498365561,
          113.48158490056883,
          113.37086148043224,
          113.60524750879783,
          111.05644294641635,
          106.41872672047859,
          107.81050465703458,
          107.57119703754277,
          103.81282106401213,
          105.0274808295412,
          106.38447175343182,
          106.6348506568829,
          108.05082476829732,
          109.02978048509677,
          109.1647748284414,
          108.14289979522192,
          107.48872639726953,
          107.5474104489951,
          109.23377635957523,
          110.41839223048922,
          108.95768865142199,
          107.57476406970041,
          106.88511527372019,
          107.28818776131965,
          108.6366891092909,
          108.88489069503221,
          108.54354511194535,
          108.21495247948421,
          110.01406801391738,
          109.79657449321208,
          109.22298138748577,
          108.35253262616598,
          108.17026063064083,
          108.56088497861197,
          107.08541829359123,
          106.96930700872196,
          107.12520621334842,
          104.52512679582858,
          102.3434933422829,
          104.75501654391354,
          103.58651396473263
         ],
         "yaxis": "y8"
        },
        {
         "name": "Caso 9",
         "type": "scatter",
         "xaxis": "x9",
         "y": [
          100.0171189708715,
          100.0713339649848,
          99.69412201689602,
          99.98488636559637,
          99.83783825955659,
          99.95237674816516,
          99.85988241299694,
          99.47919445993887,
          98.6193853598623,
          0.2827103839449541,
          99.44589086995403,
          99.03873610321105,
          98.73195456888385,
          99.47471344166667,
          98.98253810259932,
          100.1249326344037,
          100.6754860909731,
          100.66305894625381,
          100.49066760856263,
          100.07437000716358,
          100.01547039017588,
          99.96731608516829,
          100.03869705524924,
          100.02921351968656,
          100.46444641559623,
          100.36692218107795,
          100.06924065596323,
          100.19558694969415,
          99.9238532834864,
          99.55067039671246,
          100.09798948757494,
          99.88893641559629,
          98.00372736536696,
          98.09561998535929,
          98.85082152037455,
          99.18054410107038,
          99.51636098455661,
          99.6006957664373,
          99.72945987048931,
          99.74672531926609,
          99.48395285654742,
          99.32179331911318,
          100.27036840282882,
          100.19142161009174,
          100.03430174824155,
          99.76128795856279,
          99.87734465837146,
          100.07664484694193,
          101.05063942423538,
          101.2516716610092,
          101.53583166494641,
          101.45596641911322,
          101.34421209479892,
          101.31161066318269,
          101.29023878639144,
          100.57667003287462,
          100.09477783462538,
          99.994680006776,
          100.00969712297398,
          100.36159064151384,
          99.93484808738528,
          100.70493757591737,
          100.34489335152907,
          100.50693053004582,
          101.24946679755355,
          100.87708973058105,
          99.88945646247552,
          100.27419651857791,
          100.14977184984716,
          100.00716165703363,
          100.48833512538226,
          100.70434933872329,
          100.98655759862386,
          100.92501253012233,
          100.63856679931196,
          101.14758501811929,
          101.15186097041286,
          101.01677596483178,
          100.84567976521414,
          101.47559322400609,
          101.21573635359326,
          101.3448493364297,
          101.19399937224773,
          101.39226806659025,
          101.55578821987761,
          101.44837027759948,
          101.20004350105123,
          101.3876504350917,
          99.58484242041288,
          101.10821423035169,
          100.94036821632264,
          99.65749021825303,
          99.4923514764525,
          100.3272145867737,
          100.26471125504582,
          100.26932632484709,
          98.73567478291277,
          98.52009170180122,
          98.55510665351683,
          99.33846517828742,
          99.11040793256657,
          98.89215748111614,
          99.19588566368505,
          99.06430193027522,
          98.79924078883793,
          98.97468127775228,
          99.34993427844036,
          98.43290421120027,
          97.57588947805812,
          97.96087541659011,
          97.58368624900615,
          97.63262761781345,
          98.80370513711779,
          99.33404095474008,
          99.43636774376914,
          99.39044683318036,
          99.57750338892284,
          99.88278917992284,
          100.03508882851673,
          100.22039605917433,
          100.07846104824162,
          100.22741896659022,
          100.5073091560015,
          100.4594803442661,
          100.72822654151383,
          100.83843716567277,
          101.05002843922024,
          101.60801463853214,
          101.84556302385322,
          101.93449396689607,
          102.40003850814222,
          102.06374584212543,
          101.65895169258417,
          102.11762668593266,
          102.12568385986246,
          101.72093946192659,
          101.68545191972476,
          101.89328192675839,
          101.82662086498472,
          101.95634289564217,
          102.17812381452603,
          102.87179676766061,
          102.62411138937316,
          102.87381937010709,
          102.3345919175833,
          102.49985503745187,
          102.36757412759941,
          101.84633407026006,
          101.8813916577217,
          102.11063958769115,
          102.15263328165138,
          102.12081566077977,
          101.04456807133033,
          101.8772054373089,
          101.69332706475531,
          101.06449023478598,
          101.12742662614676,
          100.9191288190367,
          101.0341933478592,
          101.26007589694194,
          101.63313520680435,
          101.78422692316512,
          102.15767023432721,
          101.61018559128439,
          101.64663822209475,
          101.97376960405204,
          103.46664348493883,
          103.85245036659016,
          104.52440036850149,
          108.29977934346277,
          109.09717029210626,
          108.32040207751592,
          107.94660443539092,
          108.07813444474374,
          108.73150356498314,
          109.02202597493454,
          109.38497199992516,
          109.11837732689862,
          108.52205271533856,
          109.42002885589226,
          110.01035768290312,
          109.65536747257762,
          109.6690881408904,
          110.23013123269736,
          110.24916272783389,
          110.28110874582866,
          110.24083527485972,
          110.45841267467266,
          109.95018018331464,
          110.72044352861954,
          111.1287129392817,
          111.67754740688363,
          112.0993243839132,
          112.20875679786757,
          112.24661539420127,
          112.26370490232696,
          113.20820372978376,
          113.84861583703703,
          113.33942604956978,
          114.09224792218482,
          113.76813626112981,
          114.25487357325102,
          115.21883908260381,
          115.26442478526,
          115.48212815794987,
          115.44577479895248,
          116.50110985858588,
          115.74403578297792,
          114.34079345982042,
          114.18182233647588,
          114.29452918754208,
          111.76560837590718,
          107.221593968523,
          108.45593865447063,
          108.22005658211746,
          104.52836880078563,
          105.69832097631874,
          106.95355027474747,
          107.1891536382342,
          108.47901317149271,
          109.40191643725403,
          109.52102660972692,
          108.44042810366628,
          107.67839296449684,
          107.73925177964833,
          109.39844220871677,
          110.52006507639356,
          108.95126400852975,
          107.31851050953986,
          106.14912644635241,
          106.57586782341939,
          107.80862249607185,
          108.04581583800972,
          107.61826088746724,
          107.94798828020951,
          109.6346247292181,
          109.40534307557053,
          108.84407585016837,
          107.96499247938647,
          107.78547218286569,
          108.16854074904602,
          106.66409692802095,
          106.54337406816313,
          106.71998618765433,
          104.23393203591472,
          102.2321455151515,
          104.48922680374112,
          103.50795770026187
         ],
         "yaxis": "y9"
        },
        {
         "name": "Caso 10",
         "type": "scatter",
         "xaxis": "x10",
         "y": [
          100.0171189708715,
          100.0713339649848,
          99.69412201689602,
          99.98488636559637,
          99.83783825955659,
          99.95237674816516,
          99.85988241299694,
          99.47919445993887,
          98.6193853598623,
          0.2827103839449541,
          99.44589086995403,
          99.03873610321105,
          98.73195456888385,
          99.47471344166667,
          98.98253810259932,
          100.1249326344037,
          100.6754860909731,
          100.66305894625381,
          100.49066760856263,
          100.07437000716358,
          100.01547039017588,
          99.96731608516829,
          100.03869705524924,
          100.02921351968656,
          100.46444641559623,
          100.36692218107795,
          100.06924065596323,
          100.19558694969415,
          99.9238532834864,
          99.55067039671246,
          100.09798948757494,
          99.88893641559629,
          98.00372736536696,
          98.09561998535929,
          98.85082152037455,
          99.18054410107038,
          99.51636098455661,
          99.6006957664373,
          99.72945987048931,
          99.74672531926609,
          99.48395285654742,
          99.32179331911318,
          100.27036840282882,
          100.19142161009174,
          100.03430174824155,
          99.76128795856279,
          99.87734465837146,
          100.07664484694193,
          101.05063942423538,
          101.2516716610092,
          101.53583166494641,
          101.45596641911322,
          101.34421209479892,
          101.31161066318269,
          101.29023878639144,
          100.57667003287462,
          100.09477783462538,
          99.994680006776,
          100.00969712297398,
          100.36159064151384,
          99.93484808738528,
          100.70493757591737,
          100.34489335152907,
          100.50693053004582,
          101.24946679755355,
          100.87708973058105,
          99.88945646247552,
          100.27419651857791,
          100.14977184984716,
          100.00716165703363,
          100.48833512538226,
          100.70434933872329,
          100.98655759862386,
          100.92501253012233,
          100.63856679931196,
          101.14758501811929,
          101.15186097041286,
          101.01677596483178,
          100.84567976521414,
          101.47559322400609,
          101.21573635359326,
          101.3448493364297,
          101.19399937224773,
          101.39226806659025,
          101.55578821987761,
          101.44837027759948,
          101.20004350105123,
          101.3876504350917,
          99.58484242041288,
          101.10821423035169,
          100.94036821632264,
          99.65749021825303,
          99.4923514764525,
          100.3272145867737,
          100.26471125504582,
          100.26932632484709,
          98.73567478291277,
          98.52009170180122,
          98.55510665351683,
          99.33846517828742,
          99.11040793256657,
          98.89215748111614,
          99.19588566368505,
          99.06430193027522,
          98.79924078883793,
          98.97468127775228,
          99.34993427844036,
          98.43290421120027,
          97.57588947805812,
          97.96087541659011,
          97.58368624900615,
          97.63262761781345,
          98.80370513711779,
          99.33404095474008,
          99.43636774376914,
          99.39044683318036,
          99.57750338892284,
          99.88278917992284,
          100.03508882851673,
          100.22039605917433,
          100.07846104824162,
          100.22741896659022,
          100.5073091560015,
          100.4594803442661,
          100.72822654151383,
          100.83843716567277,
          101.05002843922024,
          101.60801463853214,
          101.84556302385322,
          101.93449396689607,
          102.40003850814222,
          102.06374584212543,
          101.65895169258417,
          102.11762668593266,
          102.12568385986246,
          101.72093946192659,
          101.68545191972476,
          101.89328192675839,
          101.82662086498472,
          101.95634289564217,
          102.17812381452603,
          102.87179676766061,
          102.62411138937316,
          102.87381937010709,
          102.3345919175833,
          102.49985503745187,
          102.36757412759941,
          101.84633407026006,
          101.8813916577217,
          102.11063958769115,
          102.15263328165138,
          102.12081566077977,
          101.04456807133033,
          101.8772054373089,
          101.69332706475531,
          101.06449023478598,
          101.12742662614676,
          100.9191288190367,
          101.0341933478592,
          101.26007589694194,
          101.63313520680435,
          101.78422692316512,
          102.15767023432721,
          101.61018559128439,
          101.64663822209475,
          101.97376960405204,
          103.46664348493883,
          103.85245036659016,
          104.52440036850149,
          104.4727322974305,
          105.07095218088678,
          104.79045350711004,
          103.99936904686541,
          104.14413228665903,
          104.65728705665136,
          104.89090299273695,
          105.2242012384556,
          104.98927157194198,
          104.38840475168199,
          105.30792597484708,
          105.89723895496937,
          105.58748479717126,
          105.62028471620795,
          106.05620278211015,
          106.01626981399083,
          105.99525577905192,
          105.97479129797398,
          106.1951240535168,
          105.6559446506881,
          110.87984113481372,
          111.28893113029731,
          111.83926753041023,
          112.26161089868273,
          112.37180642235604,
          112.41009313010915,
          112.42703632716596,
          113.37347586187583,
          114.01596181238239,
          113.5044033013549,
          114.25850612442602,
          113.93357207293941,
          114.42150550974786,
          115.38644724189686,
          115.43158536575085,
          115.65008488009033,
          115.61418713699662,
          116.6716411442228,
          115.91348762807678,
          114.50811685363192,
          114.3477311823109,
          114.46150366763267,
          111.92974397041775,
          107.37817340175386,
          108.61379346616486,
          108.37879430613474,
          104.68160734734664,
          105.85332092051185,
          107.11115860240872,
          107.34750070771547,
          108.63976125487392,
          109.56579034488523,
          109.68617755333082,
          108.6046605286037,
          107.84233425306738,
          107.90239590244636,
          109.56364306078284,
          110.68638174738427,
          109.11530250425291,
          107.48091094497553,
          106.31026598633797,
          106.7378663363944,
          107.9716394401957,
          108.20902125201354,
          107.7813685792623,
          108.11181832164094,
          109.80096502066242,
          109.57043122318404,
          109.0085240254046,
          108.1277357211893,
          107.94767586473466,
          108.33129890139254,
          106.82487719646217,
          106.70456799164472,
          106.88164135280392,
          104.3915749927738,
          102.38841710809183,
          104.64919218848327,
          103.66564776251411
         ],
         "yaxis": "y10"
        },
        {
         "name": "Caso 11",
         "type": "scatter",
         "xaxis": "x11",
         "y": [
          100.0171189708715,
          100.0713339649848,
          99.69412201689602,
          99.98488636559637,
          99.83783825955659,
          99.95237674816516,
          99.85988241299694,
          99.47919445993887,
          98.6193853598623,
          0.2827103839449541,
          99.44589086995403,
          99.03873610321105,
          98.73195456888385,
          99.47471344166667,
          98.98253810259932,
          100.1249326344037,
          100.6754860909731,
          100.66305894625381,
          100.49066760856263,
          100.07437000716358,
          100.01547039017588,
          99.96731608516829,
          100.03869705524924,
          100.02921351968656,
          100.46444641559623,
          100.36692218107795,
          100.06924065596323,
          100.19558694969415,
          99.9238532834864,
          99.55067039671246,
          100.09798948757494,
          99.88893641559629,
          98.00372736536696,
          98.09561998535929,
          98.85082152037455,
          99.18054410107038,
          99.51636098455661,
          99.6006957664373,
          99.72945987048931,
          99.74672531926609,
          99.48395285654742,
          99.32179331911318,
          100.27036840282882,
          100.19142161009174,
          100.03430174824155,
          99.76128795856279,
          99.87734465837146,
          100.07664484694193,
          101.05063942423538,
          101.2516716610092,
          101.53583166494641,
          101.45596641911322,
          101.34421209479892,
          101.31161066318269,
          101.29023878639144,
          100.57667003287462,
          100.09477783462538,
          99.994680006776,
          100.00969712297398,
          100.36159064151384,
          99.93484808738528,
          100.70493757591737,
          100.34489335152907,
          100.50693053004582,
          101.24946679755355,
          100.87708973058105,
          99.88945646247552,
          100.27419651857791,
          100.14977184984716,
          100.00716165703363,
          100.48833512538226,
          100.70434933872329,
          100.98655759862386,
          100.92501253012233,
          100.63856679931196,
          101.14758501811929,
          101.15186097041286,
          101.01677596483178,
          100.84567976521414,
          101.47559322400609,
          101.21573635359326,
          101.3448493364297,
          101.19399937224773,
          101.39226806659025,
          101.55578821987761,
          101.44837027759948,
          101.20004350105123,
          101.3876504350917,
          99.58484242041288,
          101.10821423035169,
          100.94036821632264,
          99.65749021825303,
          99.4923514764525,
          100.3272145867737,
          100.26471125504582,
          100.26932632484709,
          98.73567478291277,
          98.52009170180122,
          98.55510665351683,
          99.33846517828742,
          99.11040793256657,
          98.89215748111614,
          99.19588566368505,
          99.06430193027522,
          98.79924078883793,
          98.97468127775228,
          99.34993427844036,
          98.43290421120027,
          97.57588947805812,
          97.96087541659011,
          97.58368624900615,
          97.63262761781345,
          98.80370513711779,
          99.33404095474008,
          99.43636774376914,
          99.39044683318036,
          99.57750338892284,
          99.88278917992284,
          100.03508882851673,
          100.22039605917433,
          100.07846104824162,
          100.22741896659022,
          100.5073091560015,
          100.4594803442661,
          100.72822654151383,
          100.83843716567277,
          101.05002843922024,
          101.60801463853214,
          101.84556302385322,
          101.93449396689607,
          102.40003850814222,
          102.06374584212543,
          101.65895169258417,
          102.11762668593266,
          102.12568385986246,
          101.72093946192659,
          101.68545191972476,
          101.89328192675839,
          101.82662086498472,
          101.95634289564217,
          102.17812381452603,
          102.87179676766061,
          102.62411138937316,
          102.87381937010709,
          102.3345919175833,
          102.49985503745187,
          102.36757412759941,
          101.84633407026006,
          101.8813916577217,
          102.11063958769115,
          102.15263328165138,
          102.12081566077977,
          101.04456807133033,
          101.8772054373089,
          101.69332706475531,
          101.06449023478598,
          101.12742662614676,
          100.9191288190367,
          101.0341933478592,
          101.26007589694194,
          101.63313520680435,
          101.78422692316512,
          102.15767023432721,
          101.61018559128439,
          101.64663822209475,
          101.97376960405204,
          103.46664348493883,
          103.85245036659016,
          104.52440036850149,
          104.4727322974305,
          105.07095218088678,
          104.79045350711004,
          103.99936904686541,
          104.14413228665903,
          104.65728705665136,
          104.89090299273695,
          105.2242012384556,
          104.98927157194198,
          104.38840475168199,
          105.30792597484708,
          105.89723895496937,
          105.58748479717126,
          105.62028471620795,
          106.05620278211015,
          106.01626981399083,
          105.99525577905192,
          105.97479129797398,
          106.1951240535168,
          105.6559446506881,
          106.3612742607033,
          106.7618236637614,
          107.23013348600911,
          107.69141245481653,
          107.83819681257647,
          107.94262385573394,
          107.92903225901382,
          108.78256557626165,
          109.53878719648313,
          109.04421352431194,
          109.91203572729367,
          109.67340969373089,
          110.14478275569576,
          111.0369885481651,
          111.02847793960234,
          111.26603669074929,
          111.3051301218654,
          112.3633687499235,
          111.69486968375378,
          110.25207487045105,
          110.13940548769112,
          114.32978113400077,
          111.79423805538346,
          107.24628823141215,
          108.48088212315828,
          108.24850290374009,
          104.55558953808084,
          105.72489422259162,
          106.98831563301852,
          107.22186106173027,
          108.51902320392897,
          109.44160990522099,
          109.559911314167,
          108.48094100328673,
          107.72121464442766,
          107.78206416803928,
          109.44192725980355,
          110.56557063581413,
          109.00122080211557,
          107.56313106475257,
          106.3917864685682,
          106.81962195466564,
          108.05435630185116,
          108.29198753615415,
          107.86400220056667,
          108.3972968185115,
          110.08791980804685,
          109.86190672527391,
          109.29606155379672,
          108.41357280634679,
          108.23391800370231,
          108.61869909180203,
          107.10843741201361,
          106.98757364404985,
          107.1623489060068,
          104.6713954051379,
          102.664140089762,
          104.92700842788062,
          103.94688359848885
         ],
         "yaxis": "y11"
        },
        {
         "name": "Caso 12",
         "type": "scatter",
         "xaxis": "x12",
         "y": [
          100.0171189708715,
          100.0713339649848,
          99.69412201689602,
          99.98488636559637,
          99.83783825955659,
          99.95237674816516,
          99.85988241299694,
          99.47919445993887,
          98.6193853598623,
          0.2827103839449541,
          99.44589086995403,
          99.03873610321105,
          98.73195456888385,
          99.47471344166667,
          98.98253810259932,
          100.1249326344037,
          100.6754860909731,
          100.66305894625381,
          100.49066760856263,
          100.07437000716358,
          100.01547039017588,
          99.96731608516829,
          100.03869705524924,
          100.02921351968656,
          100.46444641559623,
          100.36692218107795,
          100.06924065596323,
          100.19558694969415,
          99.9238532834864,
          99.55067039671246,
          100.09798948757494,
          99.88893641559629,
          98.00372736536696,
          98.09561998535929,
          98.85082152037455,
          99.18054410107038,
          99.51636098455661,
          99.6006957664373,
          99.72945987048931,
          99.74672531926609,
          99.48395285654742,
          99.32179331911318,
          100.27036840282882,
          100.19142161009174,
          100.03430174824155,
          99.76128795856279,
          99.87734465837146,
          100.07664484694193,
          101.05063942423538,
          101.2516716610092,
          101.53583166494641,
          101.45596641911322,
          101.34421209479892,
          101.31161066318269,
          101.29023878639144,
          100.57667003287462,
          100.09477783462538,
          99.994680006776,
          100.00969712297398,
          100.36159064151384,
          99.93484808738528,
          100.70493757591737,
          100.34489335152907,
          100.50693053004582,
          101.24946679755355,
          100.87708973058105,
          99.88945646247552,
          100.27419651857791,
          100.14977184984716,
          100.00716165703363,
          100.48833512538226,
          100.70434933872329,
          100.98655759862386,
          100.92501253012233,
          100.63856679931196,
          101.14758501811929,
          101.15186097041286,
          101.01677596483178,
          100.84567976521414,
          101.47559322400609,
          101.21573635359326,
          101.3448493364297,
          101.19399937224773,
          101.39226806659025,
          101.55578821987761,
          101.44837027759948,
          101.20004350105123,
          101.3876504350917,
          99.58484242041288,
          101.10821423035169,
          100.94036821632264,
          99.65749021825303,
          99.4923514764525,
          100.3272145867737,
          100.26471125504582,
          100.26932632484709,
          98.73567478291277,
          98.52009170180122,
          98.55510665351683,
          99.33846517828742,
          99.11040793256657,
          98.89215748111614,
          99.19588566368505,
          99.06430193027522,
          98.79924078883793,
          98.97468127775228,
          99.34993427844036,
          98.43290421120027,
          97.57588947805812,
          97.96087541659011,
          97.58368624900615,
          97.63262761781345,
          98.80370513711779,
          99.33404095474008,
          99.43636774376914,
          99.39044683318036,
          99.57750338892284,
          99.88278917992284,
          100.03508882851673,
          100.22039605917433,
          100.07846104824162,
          100.22741896659022,
          100.5073091560015,
          100.4594803442661,
          100.72822654151383,
          100.83843716567277,
          101.05002843922024,
          101.60801463853214,
          101.84556302385322,
          101.93449396689607,
          102.40003850814222,
          102.06374584212543,
          101.65895169258417,
          102.11762668593266,
          102.12568385986246,
          101.72093946192659,
          101.68545191972476,
          101.89328192675839,
          101.82662086498472,
          101.95634289564217,
          102.17812381452603,
          102.87179676766061,
          102.62411138937316,
          102.87381937010709,
          102.3345919175833,
          102.49985503745187,
          102.36757412759941,
          101.84633407026006,
          101.8813916577217,
          102.11063958769115,
          102.15263328165138,
          102.12081566077977,
          101.04456807133033,
          101.8772054373089,
          101.69332706475531,
          101.06449023478598,
          101.12742662614676,
          100.9191288190367,
          101.0341933478592,
          101.26007589694194,
          101.63313520680435,
          101.78422692316512,
          102.15767023432721,
          101.61018559128439,
          101.64663822209475,
          101.97376960405204,
          103.46664348493883,
          103.85245036659016,
          104.52440036850149,
          104.4727322974305,
          105.07095218088678,
          104.79045350711004,
          103.99936904686541,
          104.14413228665903,
          104.65728705665136,
          104.89090299273695,
          105.2242012384556,
          104.98927157194198,
          104.38840475168199,
          105.30792597484708,
          105.89723895496937,
          105.58748479717126,
          105.62028471620795,
          106.05620278211015,
          106.01626981399083,
          105.99525577905192,
          105.97479129797398,
          106.1951240535168,
          105.6559446506881,
          106.3612742607033,
          106.7618236637614,
          107.23013348600911,
          107.69141245481653,
          107.83819681257647,
          107.94262385573394,
          107.92903225901382,
          108.78256557626165,
          109.53878719648313,
          109.04421352431194,
          109.91203572729367,
          109.67340969373089,
          110.14478275569576,
          111.0369885481651,
          111.02847793960234,
          111.26603669074929,
          111.3051301218654,
          112.3633687499235,
          111.69486968375378,
          110.25207487045105,
          110.13940548769112,
          110.42058242607041,
          107.96806485703362,
          103.45852917216973,
          104.71687660726306,
          104.52509034782112,
          100.86359621983945,
          102.0392261842889,
          103.31832994105511,
          103.60110961223236,
          104.98716395932732,
          105.93679176055049,
          106.0693826334099,
          105.0636604788227,
          104.43774979564226,
          104.46513904151384,
          106.09844876724013,
          107.25848306880737,
          105.85969279755352,
          104.54685173379208,
          106.51656031518323,
          106.94161619633506,
          108.17694092161558,
          108.41669146896035,
          108.01408370258044,
          108.55646584315632,
          110.24719244936428,
          110.02022288556469,
          109.45489705856394,
          108.57754834525058,
          108.39693023747193,
          108.7824273155572,
          107.1393289131638,
          107.02101662004486,
          107.19416287172774,
          104.70680646245327,
          102.70099920837696,
          104.9614772752057,
          103.98374481757666
         ],
         "yaxis": "y12"
        },
        {
         "name": "Original iShares",
         "type": "scatter",
         "xaxis": "x13",
         "y": [
          100.0171189708715,
          100.0713339649848,
          99.69412201689602,
          99.98488636559637,
          99.83783825955659,
          99.95237674816516,
          99.85988241299694,
          99.47919445993887,
          98.6193853598623,
          0.2827103839449541,
          99.44589086995403,
          99.03873610321105,
          98.73195456888385,
          99.47471344166667,
          98.98253810259932,
          100.1249326344037,
          100.6754860909731,
          100.66305894625381,
          100.49066760856263,
          100.07437000716358,
          99.06001722148413,
          99.01232487218348,
          99.08190195181972,
          99.08016541829835,
          99.50984328236198,
          99.41299101538463,
          99.11862676814292,
          99.24506458422685,
          98.97569760590531,
          98.6077805456099,
          99.14954892933025,
          98.94268429098675,
          96.99841744763012,
          97.08895737630145,
          97.8368088050893,
          98.16319210776999,
          98.49498925602178,
          98.57854721336433,
          98.70634840473964,
          98.72313434172507,
          98.463134102505,
          98.30306413566437,
          100.24740659835292,
          100.32642700815686,
          100.1696369339608,
          99.8974660572549,
          100.01115404094116,
          100.15813055278433,
          101.15302559764704,
          101.36361759266671,
          101.66096054278441,
          101.57324789105883,
          101.3986937256118,
          101.36867809957259,
          101.97930721999998,
          101.26016795466664,
          100.77926208943134,
          100.67780008510202,
          100.69105812364707,
          101.03852646462745,
          100.60561752580391,
          101.37688234407847,
          101.01084589396076,
          101.17729053639212,
          101.92347675152935,
          101.7095336370196,
          100.81890126219609,
          101.21119817050983,
          101.08620611898043,
          100.94123040870595,
          101.4292438755295,
          101.63981184678424,
          101.92777630070591,
          101.86706129419612,
          101.58203336070589,
          102.09342683631374,
          102.09274682909799,
          101.95704632509795,
          101.77938825615686,
          102.407156663451,
          102.13662803576476,
          102.36496041948854,
          102.21587867239217,
          102.41432409811763,
          102.69975410660415,
          102.58578055212968,
          102.49738157137551,
          102.68985203309883,
          100.87311456725286,
          102.4902624209066,
          102.32300856787809,
          101.03284907639703,
          100.86586965877298,
          101.70942958319662,
          101.64775147456034,
          101.65213553645953,
          100.09550164200868,
          99.88593179914344,
          99.9261096495507,
          100.72475878155532,
          100.49116641533638,
          100.26553808987882,
          100.57561502305589,
          100.4455191665494,
          100.32819049378656,
          100.51456376983201,
          100.90743695920287,
          100.98940930538967,
          100.07793242411788,
          100.45963405471117,
          100.08263770461424,
          100.14514095944162,
          101.37442496533538,
          101.94248744641331,
          102.13407774637454,
          102.09150502605654,
          102.20644164968759,
          102.51192109529109,
          102.66861707266376,
          102.85856353152383,
          102.70522681644049,
          102.84375949305932,
          103.13570234079106,
          103.04148022062809,
          103.29387707134549,
          103.41236461046918,
          103.63861367956557,
          104.25057385810403,
          104.49030381750771,
          104.591349137003,
          105.07245913138381,
          104.73919852958717,
          104.35052623581805,
          104.7992221305811,
          104.81006792928139,
          104.39993681750772,
          104.36575876735478,
          104.55818116162094,
          104.4932484179664,
          104.61466578333341,
          104.83649921521408,
          105.5421580126911,
          105.30040767484701,
          105.55197794999997,
          104.98737283874398,
          105.22280476475149,
          105.08488921681959,
          104.54608555191129,
          104.73627362798173,
          105.25570300811529,
          105.26091637307545,
          105.2083047671596,
          104.10744431717865,
          104.99476136147133,
          104.76910808706864,
          104.12867900356464,
          104.20590037626094,
          103.93800660401976,
          104.05954739696625,
          104.3241440395905,
          104.70678366879024,
          104.85774664747818,
          105.24911129579067,
          104.68012154592343,
          104.73488532901021,
          105.03765690663636,
          106.55186393530524,
          106.93924197883952,
          107.61674832309434,
          108.29977934346277,
          109.09717029210626,
          108.32040207751592,
          107.94660443539092,
          108.07813444474374,
          108.73150356498314,
          109.02202597493454,
          109.38497199992516,
          109.11837732689862,
          108.52205271533856,
          109.42002885589226,
          110.01035768290312,
          109.65536747257762,
          109.6690881408904,
          110.23013123269736,
          110.24916272783389,
          110.28110874582866,
          110.24083527485972,
          110.45841267467266,
          109.95018018331464,
          110.87984113481372,
          111.28893113029731,
          111.83926753041023,
          112.26161089868273,
          112.37180642235604,
          112.41009313010915,
          112.42703632716596,
          113.37347586187583,
          114.01596181238239,
          113.5044033013549,
          114.25850612442602,
          113.93357207293941,
          114.42150550974786,
          115.38644724189686,
          115.43158536575085,
          115.65008488009033,
          115.61418713699662,
          116.6716411442228,
          115.91348762807678,
          114.50811685363192,
          114.3477311823109,
          114.32978113400077,
          111.79423805538346,
          107.24628823141215,
          108.48088212315828,
          108.24850290374009,
          104.55558953808084,
          105.72489422259162,
          106.98831563301852,
          107.22186106173027,
          108.51902320392897,
          109.44160990522099,
          109.559911314167,
          108.48094100328673,
          107.72121464442766,
          107.78206416803928,
          109.44192725980355,
          110.56557063581413,
          109.00122080211557,
          107.56313106475257,
          106.51656031518323,
          106.94161619633506,
          108.17694092161558,
          108.41669146896035,
          108.01408370258044,
          108.55646584315632,
          110.24719244936428,
          110.02022288556469,
          109.45489705856394,
          108.57754834525058,
          108.39693023747193,
          108.7824273155572,
          107.1393289131638,
          107.02101662004486,
          107.19416287172774,
          104.70680646245327,
          102.70099920837696,
          104.9614772752057,
          103.98374481757666
         ],
         "yaxis": "y13"
        }
       ],
       "layout": {
        "height": 768,
        "template": {
         "data": {
          "bar": [
           {
            "error_x": {
             "color": "#2a3f5f"
            },
            "error_y": {
             "color": "#2a3f5f"
            },
            "marker": {
             "line": {
              "color": "#E5ECF6",
              "width": 0.5
             }
            },
            "type": "bar"
           }
          ],
          "barpolar": [
           {
            "marker": {
             "line": {
              "color": "#E5ECF6",
              "width": 0.5
             }
            },
            "type": "barpolar"
           }
          ],
          "carpet": [
           {
            "aaxis": {
             "endlinecolor": "#2a3f5f",
             "gridcolor": "white",
             "linecolor": "white",
             "minorgridcolor": "white",
             "startlinecolor": "#2a3f5f"
            },
            "baxis": {
             "endlinecolor": "#2a3f5f",
             "gridcolor": "white",
             "linecolor": "white",
             "minorgridcolor": "white",
             "startlinecolor": "#2a3f5f"
            },
            "type": "carpet"
           }
          ],
          "choropleth": [
           {
            "colorbar": {
             "outlinewidth": 0,
             "ticks": ""
            },
            "type": "choropleth"
           }
          ],
          "contour": [
           {
            "colorbar": {
             "outlinewidth": 0,
             "ticks": ""
            },
            "colorscale": [
             [
              0,
              "#0d0887"
             ],
             [
              0.1111111111111111,
              "#46039f"
             ],
             [
              0.2222222222222222,
              "#7201a8"
             ],
             [
              0.3333333333333333,
              "#9c179e"
             ],
             [
              0.4444444444444444,
              "#bd3786"
             ],
             [
              0.5555555555555556,
              "#d8576b"
             ],
             [
              0.6666666666666666,
              "#ed7953"
             ],
             [
              0.7777777777777778,
              "#fb9f3a"
             ],
             [
              0.8888888888888888,
              "#fdca26"
             ],
             [
              1,
              "#f0f921"
             ]
            ],
            "type": "contour"
           }
          ],
          "contourcarpet": [
           {
            "colorbar": {
             "outlinewidth": 0,
             "ticks": ""
            },
            "type": "contourcarpet"
           }
          ],
          "heatmap": [
           {
            "colorbar": {
             "outlinewidth": 0,
             "ticks": ""
            },
            "colorscale": [
             [
              0,
              "#0d0887"
             ],
             [
              0.1111111111111111,
              "#46039f"
             ],
             [
              0.2222222222222222,
              "#7201a8"
             ],
             [
              0.3333333333333333,
              "#9c179e"
             ],
             [
              0.4444444444444444,
              "#bd3786"
             ],
             [
              0.5555555555555556,
              "#d8576b"
             ],
             [
              0.6666666666666666,
              "#ed7953"
             ],
             [
              0.7777777777777778,
              "#fb9f3a"
             ],
             [
              0.8888888888888888,
              "#fdca26"
             ],
             [
              1,
              "#f0f921"
             ]
            ],
            "type": "heatmap"
           }
          ],
          "heatmapgl": [
           {
            "colorbar": {
             "outlinewidth": 0,
             "ticks": ""
            },
            "colorscale": [
             [
              0,
              "#0d0887"
             ],
             [
              0.1111111111111111,
              "#46039f"
             ],
             [
              0.2222222222222222,
              "#7201a8"
             ],
             [
              0.3333333333333333,
              "#9c179e"
             ],
             [
              0.4444444444444444,
              "#bd3786"
             ],
             [
              0.5555555555555556,
              "#d8576b"
             ],
             [
              0.6666666666666666,
              "#ed7953"
             ],
             [
              0.7777777777777778,
              "#fb9f3a"
             ],
             [
              0.8888888888888888,
              "#fdca26"
             ],
             [
              1,
              "#f0f921"
             ]
            ],
            "type": "heatmapgl"
           }
          ],
          "histogram": [
           {
            "marker": {
             "colorbar": {
              "outlinewidth": 0,
              "ticks": ""
             }
            },
            "type": "histogram"
           }
          ],
          "histogram2d": [
           {
            "colorbar": {
             "outlinewidth": 0,
             "ticks": ""
            },
            "colorscale": [
             [
              0,
              "#0d0887"
             ],
             [
              0.1111111111111111,
              "#46039f"
             ],
             [
              0.2222222222222222,
              "#7201a8"
             ],
             [
              0.3333333333333333,
              "#9c179e"
             ],
             [
              0.4444444444444444,
              "#bd3786"
             ],
             [
              0.5555555555555556,
              "#d8576b"
             ],
             [
              0.6666666666666666,
              "#ed7953"
             ],
             [
              0.7777777777777778,
              "#fb9f3a"
             ],
             [
              0.8888888888888888,
              "#fdca26"
             ],
             [
              1,
              "#f0f921"
             ]
            ],
            "type": "histogram2d"
           }
          ],
          "histogram2dcontour": [
           {
            "colorbar": {
             "outlinewidth": 0,
             "ticks": ""
            },
            "colorscale": [
             [
              0,
              "#0d0887"
             ],
             [
              0.1111111111111111,
              "#46039f"
             ],
             [
              0.2222222222222222,
              "#7201a8"
             ],
             [
              0.3333333333333333,
              "#9c179e"
             ],
             [
              0.4444444444444444,
              "#bd3786"
             ],
             [
              0.5555555555555556,
              "#d8576b"
             ],
             [
              0.6666666666666666,
              "#ed7953"
             ],
             [
              0.7777777777777778,
              "#fb9f3a"
             ],
             [
              0.8888888888888888,
              "#fdca26"
             ],
             [
              1,
              "#f0f921"
             ]
            ],
            "type": "histogram2dcontour"
           }
          ],
          "mesh3d": [
           {
            "colorbar": {
             "outlinewidth": 0,
             "ticks": ""
            },
            "type": "mesh3d"
           }
          ],
          "parcoords": [
           {
            "line": {
             "colorbar": {
              "outlinewidth": 0,
              "ticks": ""
             }
            },
            "type": "parcoords"
           }
          ],
          "scatter": [
           {
            "marker": {
             "colorbar": {
              "outlinewidth": 0,
              "ticks": ""
             }
            },
            "type": "scatter"
           }
          ],
          "scatter3d": [
           {
            "line": {
             "colorbar": {
              "outlinewidth": 0,
              "ticks": ""
             }
            },
            "marker": {
             "colorbar": {
              "outlinewidth": 0,
              "ticks": ""
             }
            },
            "type": "scatter3d"
           }
          ],
          "scattercarpet": [
           {
            "marker": {
             "colorbar": {
              "outlinewidth": 0,
              "ticks": ""
             }
            },
            "type": "scattercarpet"
           }
          ],
          "scattergeo": [
           {
            "marker": {
             "colorbar": {
              "outlinewidth": 0,
              "ticks": ""
             }
            },
            "type": "scattergeo"
           }
          ],
          "scattergl": [
           {
            "marker": {
             "colorbar": {
              "outlinewidth": 0,
              "ticks": ""
             }
            },
            "type": "scattergl"
           }
          ],
          "scattermapbox": [
           {
            "marker": {
             "colorbar": {
              "outlinewidth": 0,
              "ticks": ""
             }
            },
            "type": "scattermapbox"
           }
          ],
          "scatterpolar": [
           {
            "marker": {
             "colorbar": {
              "outlinewidth": 0,
              "ticks": ""
             }
            },
            "type": "scatterpolar"
           }
          ],
          "scatterpolargl": [
           {
            "marker": {
             "colorbar": {
              "outlinewidth": 0,
              "ticks": ""
             }
            },
            "type": "scatterpolargl"
           }
          ],
          "scatterternary": [
           {
            "marker": {
             "colorbar": {
              "outlinewidth": 0,
              "ticks": ""
             }
            },
            "type": "scatterternary"
           }
          ],
          "surface": [
           {
            "colorbar": {
             "outlinewidth": 0,
             "ticks": ""
            },
            "colorscale": [
             [
              0,
              "#0d0887"
             ],
             [
              0.1111111111111111,
              "#46039f"
             ],
             [
              0.2222222222222222,
              "#7201a8"
             ],
             [
              0.3333333333333333,
              "#9c179e"
             ],
             [
              0.4444444444444444,
              "#bd3786"
             ],
             [
              0.5555555555555556,
              "#d8576b"
             ],
             [
              0.6666666666666666,
              "#ed7953"
             ],
             [
              0.7777777777777778,
              "#fb9f3a"
             ],
             [
              0.8888888888888888,
              "#fdca26"
             ],
             [
              1,
              "#f0f921"
             ]
            ],
            "type": "surface"
           }
          ],
          "table": [
           {
            "cells": {
             "fill": {
              "color": "#EBF0F8"
             },
             "line": {
              "color": "white"
             }
            },
            "header": {
             "fill": {
              "color": "#C8D4E3"
             },
             "line": {
              "color": "white"
             }
            },
            "type": "table"
           }
          ]
         },
         "layout": {
          "annotationdefaults": {
           "arrowcolor": "#2a3f5f",
           "arrowhead": 0,
           "arrowwidth": 1
          },
          "colorscale": {
           "diverging": [
            [
             0,
             "#8e0152"
            ],
            [
             0.1,
             "#c51b7d"
            ],
            [
             0.2,
             "#de77ae"
            ],
            [
             0.3,
             "#f1b6da"
            ],
            [
             0.4,
             "#fde0ef"
            ],
            [
             0.5,
             "#f7f7f7"
            ],
            [
             0.6,
             "#e6f5d0"
            ],
            [
             0.7,
             "#b8e186"
            ],
            [
             0.8,
             "#7fbc41"
            ],
            [
             0.9,
             "#4d9221"
            ],
            [
             1,
             "#276419"
            ]
           ],
           "sequential": [
            [
             0,
             "#0d0887"
            ],
            [
             0.1111111111111111,
             "#46039f"
            ],
            [
             0.2222222222222222,
             "#7201a8"
            ],
            [
             0.3333333333333333,
             "#9c179e"
            ],
            [
             0.4444444444444444,
             "#bd3786"
            ],
            [
             0.5555555555555556,
             "#d8576b"
            ],
            [
             0.6666666666666666,
             "#ed7953"
            ],
            [
             0.7777777777777778,
             "#fb9f3a"
            ],
            [
             0.8888888888888888,
             "#fdca26"
            ],
            [
             1,
             "#f0f921"
            ]
           ],
           "sequentialminus": [
            [
             0,
             "#0d0887"
            ],
            [
             0.1111111111111111,
             "#46039f"
            ],
            [
             0.2222222222222222,
             "#7201a8"
            ],
            [
             0.3333333333333333,
             "#9c179e"
            ],
            [
             0.4444444444444444,
             "#bd3786"
            ],
            [
             0.5555555555555556,
             "#d8576b"
            ],
            [
             0.6666666666666666,
             "#ed7953"
            ],
            [
             0.7777777777777778,
             "#fb9f3a"
            ],
            [
             0.8888888888888888,
             "#fdca26"
            ],
            [
             1,
             "#f0f921"
            ]
           ]
          },
          "colorway": [
           "#636efa",
           "#EF553B",
           "#00cc96",
           "#ab63fa",
           "#FFA15A",
           "#19d3f3",
           "#FF6692",
           "#B6E880",
           "#FF97FF",
           "#FECB52"
          ],
          "font": {
           "color": "#2a3f5f"
          },
          "geo": {
           "bgcolor": "white",
           "lakecolor": "white",
           "landcolor": "#E5ECF6",
           "showlakes": true,
           "showland": true,
           "subunitcolor": "white"
          },
          "hoverlabel": {
           "align": "left"
          },
          "hovermode": "closest",
          "mapbox": {
           "style": "light"
          },
          "paper_bgcolor": "white",
          "plot_bgcolor": "#E5ECF6",
          "polar": {
           "angularaxis": {
            "gridcolor": "white",
            "linecolor": "white",
            "ticks": ""
           },
           "bgcolor": "#E5ECF6",
           "radialaxis": {
            "gridcolor": "white",
            "linecolor": "white",
            "ticks": ""
           }
          },
          "scene": {
           "xaxis": {
            "backgroundcolor": "#E5ECF6",
            "gridcolor": "white",
            "gridwidth": 2,
            "linecolor": "white",
            "showbackground": true,
            "ticks": "",
            "zerolinecolor": "white"
           },
           "yaxis": {
            "backgroundcolor": "#E5ECF6",
            "gridcolor": "white",
            "gridwidth": 2,
            "linecolor": "white",
            "showbackground": true,
            "ticks": "",
            "zerolinecolor": "white"
           },
           "zaxis": {
            "backgroundcolor": "#E5ECF6",
            "gridcolor": "white",
            "gridwidth": 2,
            "linecolor": "white",
            "showbackground": true,
            "ticks": "",
            "zerolinecolor": "white"
           }
          },
          "shapedefaults": {
           "line": {
            "color": "#2a3f5f"
           }
          },
          "ternary": {
           "aaxis": {
            "gridcolor": "white",
            "linecolor": "white",
            "ticks": ""
           },
           "baxis": {
            "gridcolor": "white",
            "linecolor": "white",
            "ticks": ""
           },
           "bgcolor": "#E5ECF6",
           "caxis": {
            "gridcolor": "white",
            "linecolor": "white",
            "ticks": ""
           }
          },
          "title": {
           "x": 0.05
          },
          "xaxis": {
           "automargin": true,
           "gridcolor": "white",
           "linecolor": "white",
           "ticks": "",
           "zerolinecolor": "white",
           "zerolinewidth": 2
          },
          "yaxis": {
           "automargin": true,
           "gridcolor": "white",
           "linecolor": "white",
           "ticks": "",
           "zerolinecolor": "white",
           "zerolinewidth": 2
          }
         }
        },
        "title": {
         "text": "NAV Diario"
        },
        "width": 1024,
        "xaxis": {
         "anchor": "y",
         "domain": [
          0,
          0.11666666666666665
         ],
         "title": {
          "text": "Días"
         }
        },
        "xaxis10": {
         "anchor": "y10",
         "domain": [
          0.53,
          0.6466666666666667
         ],
         "title": {
          "text": "Días"
         }
        },
        "xaxis11": {
         "anchor": "y11",
         "domain": [
          0.7066666666666666,
          0.8233333333333333
         ],
         "title": {
          "text": "Días"
         }
        },
        "xaxis12": {
         "anchor": "y12",
         "domain": [
          0.8833333333333333,
          1
         ],
         "title": {
          "text": "Días"
         }
        },
        "xaxis13": {
         "anchor": "y13",
         "domain": [
          0,
          0.11666666666666665
         ],
         "title": {
          "text": "Días"
         }
        },
        "xaxis14": {
         "anchor": "y14",
         "domain": [
          0.17666666666666664,
          0.2933333333333333
         ],
         "title": {
          "text": "Días"
         }
        },
        "xaxis15": {
         "anchor": "y15",
         "domain": [
          0.3533333333333333,
          0.4699999999999999
         ],
         "title": {
          "text": "Días"
         }
        },
        "xaxis16": {
         "anchor": "y16",
         "domain": [
          0.53,
          0.6466666666666667
         ],
         "title": {
          "text": "Días"
         }
        },
        "xaxis17": {
         "anchor": "y17",
         "domain": [
          0.7066666666666666,
          0.8233333333333333
         ],
         "title": {
          "text": "Días"
         }
        },
        "xaxis18": {
         "anchor": "y18",
         "domain": [
          0.8833333333333333,
          1
         ],
         "title": {
          "text": "Días"
         }
        },
        "xaxis2": {
         "anchor": "y2",
         "domain": [
          0.17666666666666664,
          0.2933333333333333
         ],
         "title": {
          "text": "Días"
         }
        },
        "xaxis3": {
         "anchor": "y3",
         "domain": [
          0.3533333333333333,
          0.4699999999999999
         ],
         "title": {
          "text": "Días"
         }
        },
        "xaxis4": {
         "anchor": "y4",
         "domain": [
          0.53,
          0.6466666666666667
         ],
         "title": {
          "text": "Días"
         }
        },
        "xaxis5": {
         "anchor": "y5",
         "domain": [
          0.7066666666666666,
          0.8233333333333333
         ],
         "title": {
          "text": "Días"
         }
        },
        "xaxis6": {
         "anchor": "y6",
         "domain": [
          0.8833333333333333,
          1
         ],
         "title": {
          "text": "Días"
         }
        },
        "xaxis7": {
         "anchor": "y7",
         "domain": [
          0,
          0.11666666666666665
         ],
         "title": {
          "text": "Días"
         }
        },
        "xaxis8": {
         "anchor": "y8",
         "domain": [
          0.17666666666666664,
          0.2933333333333333
         ],
         "title": {
          "text": "Días"
         }
        },
        "xaxis9": {
         "anchor": "y9",
         "domain": [
          0.3533333333333333,
          0.4699999999999999
         ],
         "title": {
          "text": "Días"
         }
        },
        "yaxis": {
         "anchor": "x",
         "domain": [
          0.8,
          1
         ],
         "title": {
          "text": "NAV"
         }
        },
        "yaxis10": {
         "anchor": "x10",
         "domain": [
          0.4,
          0.6
         ],
         "title": {
          "text": "NAV"
         }
        },
        "yaxis11": {
         "anchor": "x11",
         "domain": [
          0.4,
          0.6
         ],
         "title": {
          "text": "NAV"
         }
        },
        "yaxis12": {
         "anchor": "x12",
         "domain": [
          0.4,
          0.6
         ],
         "title": {
          "text": "NAV"
         }
        },
        "yaxis13": {
         "anchor": "x13",
         "domain": [
          0,
          0.19999999999999998
         ],
         "title": {
          "text": "NAV"
         }
        },
        "yaxis14": {
         "anchor": "x14",
         "domain": [
          0,
          0.19999999999999998
         ],
         "title": {
          "text": "NAV"
         }
        },
        "yaxis15": {
         "anchor": "x15",
         "domain": [
          0,
          0.19999999999999998
         ],
         "title": {
          "text": "NAV"
         }
        },
        "yaxis16": {
         "anchor": "x16",
         "domain": [
          0,
          0.19999999999999998
         ],
         "title": {
          "text": "NAV"
         }
        },
        "yaxis17": {
         "anchor": "x17",
         "domain": [
          0,
          0.19999999999999998
         ],
         "title": {
          "text": "NAV"
         }
        },
        "yaxis18": {
         "anchor": "x18",
         "domain": [
          0,
          0.19999999999999998
         ],
         "title": {
          "text": "NAV"
         }
        },
        "yaxis2": {
         "anchor": "x2",
         "domain": [
          0.8,
          1
         ],
         "title": {
          "text": "NAV"
         }
        },
        "yaxis3": {
         "anchor": "x3",
         "domain": [
          0.8,
          1
         ],
         "title": {
          "text": "NAV"
         }
        },
        "yaxis4": {
         "anchor": "x4",
         "domain": [
          0.8,
          1
         ],
         "title": {
          "text": "NAV"
         }
        },
        "yaxis5": {
         "anchor": "x5",
         "domain": [
          0.8,
          1
         ],
         "title": {
          "text": "NAV"
         }
        },
        "yaxis6": {
         "anchor": "x6",
         "domain": [
          0.8,
          1
         ],
         "title": {
          "text": "NAV"
         }
        },
        "yaxis7": {
         "anchor": "x7",
         "domain": [
          0.4,
          0.6
         ],
         "title": {
          "text": "NAV"
         }
        },
        "yaxis8": {
         "anchor": "x8",
         "domain": [
          0.4,
          0.6
         ],
         "title": {
          "text": "NAV"
         }
        },
        "yaxis9": {
         "anchor": "x9",
         "domain": [
          0.4,
          0.6
         ],
         "title": {
          "text": "NAV"
         }
        }
       }
      },
      "text/html": [
       "<div>\n",
       "        \n",
       "        \n",
       "            <div id=\"1f9e81ac-29f4-45c6-8fab-887598022317\" class=\"plotly-graph-div\" style=\"height:768px; width:1024px;\"></div>\n",
       "            <script type=\"text/javascript\">\n",
       "                require([\"plotly\"], function(Plotly) {\n",
       "                    window.PLOTLYENV=window.PLOTLYENV || {};\n",
       "                    \n",
       "                if (document.getElementById(\"1f9e81ac-29f4-45c6-8fab-887598022317\")) {\n",
       "                    Plotly.newPlot(\n",
       "                        '1f9e81ac-29f4-45c6-8fab-887598022317',\n",
       "                        [{\"name\": \"Caso 1\", \"type\": \"scatter\", \"xaxis\": \"x\", \"y\": [100.0171189708715, 100.0713339649848, 99.69412201689602, 99.98488636559637, 99.83783825955659, 99.95237674816516, 99.85988241299694, 99.47919445993887, 98.6193853598623, 0.2827103839449541, 99.44589086995403, 99.03873610321105, 98.73195456888385, 99.47471344166667, 98.98253810259932, 100.1249326344037, 100.6754860909731, 100.66305894625381, 100.49066760856263, 100.07437000716358, 100.01547039017588, 99.96731608516829, 100.03869705524924, 100.02921351968656, 100.46444641559623, 100.36692218107795, 100.06924065596323, 100.19558694969415, 99.9238532834864, 99.55067039671246, 100.09798948757494, 99.88893641559629, 98.00372736536696, 98.09561998535929, 98.85082152037455, 99.18054410107038, 99.51636098455661, 99.6006957664373, 99.72945987048931, 99.74672531926609, 99.48395285654742, 99.32179331911318, 100.27036840282882, 100.19142161009174, 100.03430174824155, 99.76128795856279, 99.87734465837146, 100.07664484694193, 101.05063942423538, 101.2516716610092, 101.53583166494641, 101.45596641911322, 101.34421209479892, 101.31161066318269, 101.29023878639144, 100.57667003287462, 100.09477783462538, 99.994680006776, 100.00969712297398, 100.36159064151384, 99.93484808738528, 100.70493757591737, 100.34489335152907, 100.50693053004582, 101.24946679755355, 100.87708973058105, 99.88945646247552, 100.27419651857791, 100.14977184984716, 100.00716165703363, 100.48833512538226, 100.70434933872329, 100.98655759862386, 100.92501253012233, 100.63856679931196, 101.14758501811929, 101.15186097041286, 101.01677596483178, 100.84567976521414, 101.47559322400609, 101.21573635359326, 101.3448493364297, 101.19399937224773, 101.39226806659025, 101.55578821987761, 101.44837027759948, 101.20004350105123, 101.3876504350917, 99.58484242041288, 101.10821423035169, 100.94036821632264, 99.65749021825303, 99.4923514764525, 100.3272145867737, 100.26471125504582, 100.26932632484709, 98.73567478291277, 98.52009170180122, 98.55510665351683, 99.33846517828742, 99.11040793256657, 98.89215748111614, 99.19588566368505, 99.06430193027522, 98.79924078883793, 98.97468127775228, 99.34993427844036, 98.43290421120027, 97.57588947805812, 97.96087541659011, 97.58368624900615, 97.63262761781345, 98.80370513711779, 99.33404095474008, 99.43636774376914, 99.39044683318036, 99.57750338892284, 99.88278917992284, 100.03508882851673, 100.22039605917433, 100.07846104824162, 100.22741896659022, 100.5073091560015, 100.4594803442661, 100.72822654151383, 100.83843716567277, 101.05002843922024, 101.60801463853214, 101.84556302385322, 101.93449396689607, 102.40003850814222, 102.06374584212543, 101.65895169258417, 102.11762668593266, 102.12568385986246, 101.72093946192659, 101.68545191972476, 101.89328192675839, 101.82662086498472, 101.95634289564217, 102.17812381452603, 102.87179676766061, 102.62411138937316, 102.87381937010709, 102.3345919175833, 102.49985503745187, 102.36757412759941, 101.84633407026006, 101.8813916577217, 102.11063958769115, 102.15263328165138, 102.12081566077977, 101.04456807133033, 101.8772054373089, 101.69332706475531, 101.06449023478598, 101.12742662614676, 100.9191288190367, 101.0341933478592, 101.26007589694194, 101.63313520680435, 101.78422692316512, 102.15767023432721, 101.61018559128439, 101.64663822209475, 101.97376960405204, 103.46664348493883, 103.85245036659016, 104.52440036850149, 104.4727322974305, 105.07095218088678, 104.79045350711004, 103.99936904686541, 104.14413228665903, 104.65728705665136, 104.89090299273695, 105.2242012384556, 104.98927157194198, 104.38840475168199, 105.30792597484708, 105.89723895496937, 105.58748479717126, 105.62028471620795, 106.05620278211015, 106.01626981399083, 105.99525577905192, 105.97479129797398, 106.1951240535168, 105.6559446506881, 106.3612742607033, 106.7618236637614, 107.23013348600911, 107.69141245481653, 107.83819681257647, 107.94262385573394, 107.92903225901382, 108.78256557626165, 109.53878719648313, 109.04421352431194, 109.91203572729367, 109.67340969373089, 110.14478275569576, 111.0369885481651, 111.02847793960234, 111.26603669074929, 111.3051301218654, 112.3633687499235, 111.69486968375378, 110.25207487045105, 110.13940548769112, 110.42058242607041, 107.96806485703362, 103.45852917216973, 104.71687660726306, 104.52509034782112, 100.86359621983945, 102.0392261842889, 103.31832994105511, 103.60110961223236, 104.98716395932732, 105.93679176055049, 106.0693826334099, 105.0636604788227, 104.43774979564226, 104.46513904151384, 106.09844876724013, 107.25848306880737, 105.85969279755352, 104.54685173379208, 104.14822581433495, 104.55256674648315, 105.84776628302747, 106.05226614212538, 105.71830114166663, 105.11608495955656, 106.84741225932726, 106.6478352691896, 106.11421394816516, 105.28378791964835, 105.14261056681961, 105.51882071643729, 104.08727687064224, 103.98087734334861, 104.10417457270641, 101.57120714969427, 99.47418833119266, 101.82044993826452, 100.68179411743121], \"yaxis\": \"y\"}, {\"name\": \"Caso 2\", \"type\": \"scatter\", \"xaxis\": \"x2\", \"y\": [100.0171189708715, 100.0713339649848, 99.69412201689602, 99.98488636559637, 99.83783825955659, 99.95237674816516, 99.85988241299694, 99.47919445993887, 98.6193853598623, 0.2827103839449541, 99.44589086995403, 99.03873610321105, 98.73195456888385, 99.47471344166667, 98.98253810259932, 100.1249326344037, 100.6754860909731, 100.66305894625381, 100.49066760856263, 100.07437000716358, 99.06001722148413, 99.01232487218348, 99.08190195181972, 99.08016541829835, 99.50984328236198, 99.41299101538463, 99.11862676814292, 99.24506458422685, 98.97569760590531, 98.6077805456099, 99.14954892933025, 98.94268429098675, 96.99841744763012, 97.08895737630145, 97.8368088050893, 98.16319210776999, 98.49498925602178, 98.57854721336433, 98.70634840473964, 98.72313434172507, 98.463134102505, 98.30306413566437, 99.24215012952604, 99.16390240940169, 99.00833989836826, 98.73810262191152, 98.85251572653452, 99.04899186771569, 100.0117491801088, 100.21100939409483, 100.49338032816631, 100.41452476130547, 100.3036273549114, 100.27178910340093, 100.25159939471634, 99.54582792292149, 99.06933105059443, 98.97009240280727, 98.98568716118874, 99.33404358360536, 98.91142778477075, 99.67379470240861, 99.31683135003885, 99.4781429281274, 100.21269771095575, 99.84421059914531, 98.86596862216788, 99.24695432548559, 99.12369157008557, 98.9817751905983, 99.45818843799532, 99.67081826923078, 99.95083167583526, 99.89067410784772, 99.60738920031088, 100.11092134607621, 100.11503129184155, 99.98246365959594, 99.8124618869465, 100.43474543783994, 100.17781758616931, 100.30512609549339, 100.15516478585855, 100.35126615275831, 100.51343052960371, 100.40677591173274, 100.1585998595571, 100.34465983613057, 98.56265685551676, 100.06968631907537, 99.90232887195025, 98.63340006109163, 98.47032635726501, 99.29704740947932, 99.23458854040396, 99.24017243457652, 97.7227277102564, 97.50943489779017, 97.54311434071487, 98.31841046130529, 98.09239259784161, 97.87642757373733, 98.1768146006217, 98.04633217008549, 97.78352958943285, 97.95791727171714, 98.3298699564879, 97.42257909063713, 96.5751504825952, 96.9562104505827, 96.5844103542346, 96.63200628508156, 97.79131383562557, 98.31499139141414, 98.41588843632479, 98.37110176923078, 98.55670541302335, 98.85931480508083, 99.00966975679877, 99.19294263465433, 99.05235511965806, 99.20000386087801, 99.47630823581969, 99.42962490069927, 99.69500531297595, 99.8049641927739, 100.01376942012436, 100.56561002470869, 100.80116688640251, 100.88962491499606, 101.35050030322458, 101.0176177477078, 100.61757431452996, 101.07233652952603, 101.07994191002338, 100.67901112556332, 100.64367798282827, 100.84838126262629, 100.78227010800315, 100.9109571329448, 101.12928691969704, 101.81633866697749, 101.57260124918417, 101.81974233550898, 101.2855385748446, 101.44947046817174, 101.31879655314692, 100.80294328834499, 100.83830910955704, 101.06490752501938, 101.10462852758349, 101.074808945066, 100.00949001631705, 100.83242318127425, 100.64874511693864, 100.02558121919196, 100.08845072432015, 99.88219990380726, 99.99545174390046, 100.2211802581974, 100.58966197086248, 100.73878098236204, 101.10807413589747, 100.56608325268064, 100.60313203605277, 100.92748530971252, 102.40280171973583, 102.78349746239311, 103.44920985679876, 103.39782364690298, 103.99172388624706, 103.71520815718722, 102.93193515959594, 103.07548789584305, 103.58118580901318, 103.8122840433567, 104.14043424677537, 103.9082345280498, 103.31373261806526, 104.22498217614607, 104.80616189044281, 104.49899914669773, 104.53079417024085, 104.96119143908318, 104.9228087694638, 104.90127345462311, 104.8809265214452, 105.09931879797978, 104.56605242362092, 105.26537852439785, 105.66098638554777, 106.12363892591294, 106.58022900341886, 106.72589604786327, 106.82879278508162, 106.81406010936279, 107.65945346010109, 108.40682195104888, 107.91858895446784, 108.77836990637154, 108.54171773240098, 109.00785220780885, 109.8890355942501, 109.88123584032631, 110.11585894576532, 110.15512400054388, 111.19989624522137, 110.5378763600621, 109.11087708395492, 109.00073782226109, 109.27877710905211, 106.8513971836053, 102.38965284262542, 103.63550726923089, 103.45034713951053, 99.82748704250194, 100.9884132252136, 102.25357983923861, 102.53412481779336, 103.90596777257198, 104.84755676425804, 104.97953578438232, 103.98332276697751, 103.36390953123544, 103.39198152688428, 105.00817906550124, 106.1570327187257, 104.77372967125095, 103.47509982136746, 103.08005341573433, 103.47972613527577, 104.7613365276612, 104.96452851351985, 104.63484529269618, 104.04058060178714, 105.75475069028752, 105.55693802937054, 105.0293382789433, 104.20718807498058, 104.06769300209794, 104.43951569005432, 103.02246428127438, 102.916149828749, 103.0378237565656, 100.53122681313135, 98.45671502393165, 100.77846507148408, 99.65204541188811], \"yaxis\": \"y2\"}, {\"name\": \"Caso 3\", \"type\": \"scatter\", \"xaxis\": \"x3\", \"y\": [100.0171189708715, 100.0713339649848, 99.69412201689602, 99.98488636559637, 99.83783825955659, 99.95237674816516, 99.85988241299694, 99.47919445993887, 98.6193853598623, 0.2827103839449541, 99.44589086995403, 99.03873610321105, 98.73195456888385, 99.47471344166667, 98.98253810259932, 100.1249326344037, 100.6754860909731, 100.66305894625381, 100.49066760856263, 100.07437000716358, 100.01547039017588, 99.96731608516829, 100.03869705524924, 100.02921351968656, 100.46444641559623, 100.36692218107795, 100.06924065596323, 100.19558694969415, 99.9238532834864, 99.55067039671246, 100.09798948757494, 99.88893641559629, 98.00372736536696, 98.09561998535929, 98.85082152037455, 99.18054410107038, 99.51636098455661, 99.6006957664373, 99.72945987048931, 99.74672531926609, 99.48395285654742, 99.32179331911318, 100.24740659835292, 100.32642700815686, 100.1696369339608, 99.8974660572549, 100.01115404094116, 100.15813055278433, 101.15302559764704, 101.36361759266671, 101.66096054278441, 101.57324789105883, 101.3986937256118, 101.36867809957259, 101.97930721999998, 101.26016795466664, 100.77926208943134, 100.67780008510202, 100.69105812364707, 101.03852646462745, 100.60561752580391, 101.37688234407847, 101.01084589396076, 101.17729053639212, 101.92695169992164, 101.55323520149017, 100.55959028145097, 100.94598193741179, 100.82074324313736, 100.6766870087059, 101.16351287458822, 101.377566845902, 101.66317873996081, 101.60382662031374, 101.31846039215681, 101.83183452232164, 101.83588272901949, 101.70168266839215, 101.52152159835286, 102.14658442925496, 101.88693390243138, 102.01715814492078, 101.8654642985098, 102.0645175938039, 102.17975207858825, 102.06929431886282, 101.81799842211765, 102.00368232796079, 100.19360758231376, 101.71924264960784, 101.55133552580389, 100.26828837311767, 100.10035698062747, 100.93889962886276, 100.87449151474503, 100.88116872972547, 99.33859288572549, 99.12535771248946, 99.16231980266666, 99.95138424337254, 99.71866125677808, 99.49600027090202, 99.80136750698036, 99.66512011466669, 99.39743215372552, 99.57479075325486, 99.95492019490197, 99.02003184890197, 98.1582403612549, 98.54526952992168, 98.16334998423525, 98.22035937780396, 99.3992270863922, 99.9266237806666, 100.02688979290193, 99.97851011325493, 100.16595715009727, 100.47362481365731, 100.62443143984314, 100.80758093364696, 100.66418859356861, 100.8135987227843, 101.09395868682357, 101.03045296054903, 101.29757368643145, 101.41238677505874, 101.63135770682358, 102.19039961184312, 102.43189518031376, 102.5242142883137, 102.98977556203934, 102.65135874792158, 102.24984019454895, 102.70965272698034, 102.71610164282347, 102.31183983647061, 102.28038266290203, 102.4875031763137, 102.42137352533331, 102.54803496541169, 102.76840369149028, 103.46404537584313, 103.21632611435284, 103.46465703552941, 102.9215157689655, 103.10814561462342, 102.97953110909803, 102.45713529952934, 102.49171802329408, 102.72036707043138, 102.76613829749022, 102.74084293725487, 101.6562616657255, 102.50245412533337, 102.31256198031379, 101.67664571419608, 101.74745790243136, 101.53832812831374, 101.65384294541177, 101.8753362832157, 102.25169138580394, 102.40188403380397, 102.77685452549021, 102.22433165105888, 102.26241501592153, 102.59666263576477, 104.08990640070591, 104.46721513105875, 105.14161374627452, 105.08868995819218, 105.6872853481569, 105.40872586807842, 104.61086337035285, 104.75859678980392, 105.27314924149029, 105.50984729678426, 105.84118560399996, 105.60643483686276, 105.00348702647058, 105.92991025717649, 106.51333718243139, 106.20135220988242, 106.23357655498043, 106.67311755529404, 106.63608047784308, 106.61491722909807, 106.59460218909801, 106.81873404407838, 106.27861851733338, 106.98789033976472, 107.39444456227446, 107.86323962003922, 108.32489733858816, 108.47205091058815, 108.57607150250975, 108.55842496174118, 109.41009594129409, 110.16385180180387, 109.67031388494108, 110.54842604329401, 110.3094072541961, 110.78351330066658, 111.67521063654908, 111.66893480086263, 111.9091431888627, 111.94737428941183, 113.00471426556868, 112.3275288652941, 110.87997791419612, 110.76001750599995, 111.05451388309801, 108.59002931870587, 104.05164882562273, 105.32594943945098, 105.13261882623533, 101.45698211784313, 102.63793706388228, 103.92456619898049, 104.21411161137245, 105.60656701168634, 106.55810924345094, 106.69374957349024, 105.68371116592162, 105.05454933686275, 105.08469701662747, 106.72603595227454, 107.89007164219603, 106.48860172399992, 105.16796257631368, 104.63398684423531, 105.04275289882357, 106.34905741286266, 106.5582547664314, 106.22646022635286, 105.7582909602353, 107.50341464243135, 107.30594332031377, 106.75824555545097, 105.92684060909794, 105.78402082847056, 106.16187737349021, 104.73170759615684, 104.61869101333339, 104.74351444227447, 102.20031099780385, 100.09518037066663, 102.45208067349017, 101.31308057850983], \"yaxis\": \"y3\"}, {\"name\": \"Caso 4\", \"type\": \"scatter\", \"xaxis\": \"x4\", \"y\": [100.0171189708715, 100.0713339649848, 99.69412201689602, 99.98488636559637, 99.83783825955659, 99.95237674816516, 99.85988241299694, 99.47919445993887, 98.6193853598623, 0.2827103839449541, 99.44589086995403, 99.03873610321105, 98.73195456888385, 99.47471344166667, 98.98253810259932, 100.1249326344037, 100.6754860909731, 100.66305894625381, 100.49066760856263, 100.07437000716358, 100.01547039017588, 99.96731608516829, 100.03869705524924, 100.02921351968656, 100.46444641559623, 100.36692218107795, 100.06924065596323, 100.19558694969415, 99.9238532834864, 99.55067039671246, 100.09798948757494, 99.88893641559629, 98.00372736536696, 98.09561998535929, 98.85082152037455, 99.18054410107038, 99.51636098455661, 99.6006957664373, 99.72945987048931, 99.74672531926609, 99.48395285654742, 99.32179331911318, 100.27036840282882, 100.19142161009174, 100.03430174824155, 99.76128795856279, 99.87734465837146, 100.07664484694193, 101.05063942423538, 101.2516716610092, 101.53583166494641, 101.45596641911322, 101.34421209479892, 101.31161066318269, 101.29023878639144, 100.57667003287462, 100.09477783462538, 99.994680006776, 100.00969712297398, 100.36159064151384, 99.93484808738528, 100.70493757591737, 100.34489335152907, 100.50693053004582, 101.92347675152935, 101.7095336370196, 100.81890126219609, 101.21119817050983, 101.08620611898043, 100.94123040870595, 101.4292438755295, 101.63981184678424, 101.92777630070591, 101.86706129419612, 101.58203336070589, 102.09342683631374, 102.09274682909799, 101.95704632509795, 101.77938825615686, 102.407156663451, 102.13662803576476, 102.36496041948854, 102.21587867239217, 102.41432409811763, 102.52636342956868, 102.41231956643134, 102.1622415193138, 102.35029444094117, 100.53529039137265, 102.0666276027059, 101.8990466461568, 100.61081292307841, 100.44223093560785, 101.28473216792165, 101.22114044298053, 101.22575269858814, 99.67566186803911, 99.46257323941649, 99.5002845923922, 100.29174660141183, 100.05856140514426, 99.83427498313729, 100.14125095411767, 100.0051303444705, 99.738931128549, 99.9161995192157, 100.2990543942745, 99.36363920164706, 98.50724284368621, 98.89590743498043, 98.51586076305888, 98.57082149474502, 99.75351399913734, 100.28258250411763, 100.38330927054902, 100.33566271788233, 100.52513973360387, 100.83487591181257, 100.98718225576474, 101.1715971411765, 101.02373418917645, 101.17227526725485, 101.45391129027453, 101.38952670596078, 101.65664324054904, 101.77091195035301, 101.98872355231376, 102.5442822281569, 102.78673306313725, 102.88003429482352, 103.34798490317655, 103.00857628360781, 102.60415510258815, 103.06150492964706, 103.06769443215677, 102.66150970784314, 102.6302856364706, 102.83867178831375, 102.77446265780384, 102.9016750600784, 103.1203266119215, 103.81944868729406, 103.56833572972548, 103.81503040431363, 103.26813317238978, 103.45500459419611, 103.33438610227452, 102.80975272101958, 102.84579554282365, 103.0752346800784, 103.1197045803921, 103.09488765239207, 102.01734679725489, 102.87523910705887, 102.68353175513722, 102.04773317035298, 102.11638241309798, 101.9029765787451, 102.01878583349017, 102.23906300643134, 102.61807278368619, 102.76837794329415, 103.14626777215683, 102.59284141576471, 102.63221961741182, 102.96465909513734, 104.45919028517652, 104.8371189195295, 105.51349840227456, 105.46212186882052, 106.06399929223532, 105.78298423050978, 104.98187573207849, 105.13046253694118, 105.64475202133337, 105.8824583301178, 106.21257216901957, 105.97642255066674, 105.37258122286279, 106.30029530454895, 106.88681885380396, 106.5770305279216, 106.61190008745096, 107.05149825105886, 107.01374396470598, 106.99224800564701, 106.97296692560784, 107.19648973929411, 106.65512840078439, 107.36664786219602, 107.77753418454905, 108.25088168909807, 108.71450891262744, 108.8614386428627, 108.9679888994511, 108.95122606545883, 109.8089970350981, 110.56558214674504, 110.07132715564704, 110.95358066721573, 110.7096978156078, 111.1857625472549, 112.08182792925487, 112.08335623129419, 112.32016906603933, 112.35324987278429, 113.41495964933326, 112.73544327725493, 111.28579461078432, 111.16598463525486, 111.46178784741178, 108.98584909956853, 104.43127037775376, 105.70806117717642, 105.51182922082357, 101.82251495666668, 103.00331967494122, 104.29306811019599, 104.58110079576466, 105.98069249223526, 106.93426799450982, 107.06994054815678, 106.05782771623518, 105.42838150509806, 105.46338128768633, 107.11019947898042, 108.2758073617255, 106.86471328007842, 105.5417648254118, 104.9302541693333, 105.33917705647058, 106.64791855584318, 106.86084954384317, 106.53302235482353, 106.14622135584308, 107.89973613427455, 107.70358384031373, 107.15185947835296, 106.31948793278431, 106.17386904015686, 106.55556340658828, 105.12236050368617, 105.00945027090198, 105.13639941803925, 102.58176172580386, 100.46877521694118, 102.83672935258828, 101.6930582618823], \"yaxis\": \"y4\"}, {\"name\": \"Caso 5\", \"type\": \"scatter\", \"xaxis\": \"x5\", \"y\": [100.0171189708715, 100.0713339649848, 99.69412201689602, 99.98488636559637, 99.83783825955659, 99.95237674816516, 99.85988241299694, 99.47919445993887, 98.6193853598623, 0.2827103839449541, 99.44589086995403, 99.03873610321105, 98.73195456888385, 99.47471344166667, 98.98253810259932, 100.1249326344037, 100.6754860909731, 100.66305894625381, 100.49066760856263, 100.07437000716358, 100.01547039017588, 99.96731608516829, 100.03869705524924, 100.02921351968656, 100.46444641559623, 100.36692218107795, 100.06924065596323, 100.19558694969415, 99.9238532834864, 99.55067039671246, 100.09798948757494, 99.88893641559629, 98.00372736536696, 98.09561998535929, 98.85082152037455, 99.18054410107038, 99.51636098455661, 99.6006957664373, 99.72945987048931, 99.74672531926609, 99.48395285654742, 99.32179331911318, 100.27036840282882, 100.19142161009174, 100.03430174824155, 99.76128795856279, 99.87734465837146, 100.07664484694193, 101.05063942423538, 101.2516716610092, 101.53583166494641, 101.45596641911322, 101.34421209479892, 101.31161066318269, 101.29023878639144, 100.57667003287462, 100.09477783462538, 99.994680006776, 100.00969712297398, 100.36159064151384, 99.93484808738528, 100.70493757591737, 100.34489335152907, 100.50693053004582, 101.24946679755355, 100.87708973058105, 99.88945646247552, 100.27419651857791, 100.14977184984716, 100.00716165703363, 100.48833512538226, 100.70434933872329, 100.98655759862386, 100.92501253012233, 100.63856679931196, 101.14758501811929, 101.15186097041286, 101.01677596483178, 100.84567976521414, 101.47559322400609, 101.21573635359326, 101.3448493364297, 101.19399937224773, 101.39226806659025, 102.69975410660415, 102.58578055212968, 102.49738157137551, 102.68985203309883, 100.87311456725286, 102.4902624209066, 102.32300856787809, 101.03284907639703, 100.86586965877298, 101.70942958319662, 101.64775147456034, 101.65213553645953, 100.09550164200868, 99.88593179914344, 99.9261096495507, 100.72475878155532, 100.49116641533638, 100.26553808987882, 100.57561502305589, 100.4455191665494, 100.32819049378656, 100.51456376983201, 100.90743695920287, 99.55545840926142, 98.69151326783891, 99.07885381926533, 98.70110099077763, 98.75857839335677, 99.94201033634229, 100.47274037065253, 100.57288236025795, 100.52262521352085, 100.71486764117705, 101.02634073472214, 101.17882717827274, 101.36247641336462, 101.21482834427516, 101.3636017418132, 101.64719661215327, 101.58265596201633, 101.84817987940599, 101.96167348706516, 102.18090378264951, 102.73675551637355, 102.98015093653771, 103.07430434450971, 103.54340463489645, 103.20592998225871, 102.8021378893708, 103.25861339867132, 103.26645791387256, 102.8594050695584, 102.82729055529505, 103.03207480211017, 102.96931833169198, 103.095923254787, 103.31604262504887, 104.01824609503713, 103.76570493849171, 104.01453335044944, 103.46385674366071, 103.65142604490043, 103.53314545595924, 103.00737178538492, 103.04757994005466, 103.2802746697147, 103.32350525423986, 103.29734511246578, 102.2251553972645, 103.082229017585, 102.88440500664323, 102.24976552754983, 102.31456491449788, 102.09996334497849, 102.21186620156305, 102.43410838108645, 102.8140358411098, 102.96373120164125, 103.34392151832743, 102.78927482078929, 102.82938098304027, 103.1617413567018, 104.65852410910513, 105.0366784727628, 105.7122544940211, 105.65858531851352, 106.26217969112939, 105.98256288323569, 105.18335139984369, 105.33431637940595, 105.85293147690504, 106.09029935803052, 106.41901272465802, 106.17976116232897, 105.57602210379056, 106.50627719718634, 107.09264511637363, 106.77891791481048, 106.81455230293092, 107.2565584372021, 107.22061676357946, 107.20289930668224, 107.18455510922236, 107.40913681000391, 106.8660649109808, 107.57574833028522, 107.99069838132081, 108.46365500687764, 108.92897357327084, 109.07509108546296, 109.18311021992972, 109.16873087531069, 110.02765024364976, 110.7861341319734, 110.29121600418134, 111.17780451762415, 110.92819794794842, 111.40619365365379, 112.30390603670189, 112.30516129996096, 112.53812760101589, 112.56927726604141, 113.62993971223128, 112.94635175404458, 111.49217181606093, 111.37174931985146, 111.66485744896434, 109.18282285470885, 104.6206964736788, 105.90175569949191, 105.70174941508397, 102.00355538561949, 103.18556957913238, 104.47598185720983, 104.75940316311058, 106.16191952434554, 107.1172336851895, 107.24917936303237, 106.23583488096925, 105.60377691379448, 105.63654067182497, 107.28599703962482, 108.4510585109809, 107.0360789017585, 105.70444318233675, 105.05735881860106, 105.46486354333715, 106.77797203931219, 106.99359264814376, 106.66712456303237, 106.3263468856585, 108.08402277311448, 107.88496549011346, 107.33136276240717, 106.50032124595553, 106.35069428573668, 106.73750706354043, 105.3032669254396, 105.19447439476343, 105.32365409480278, 102.76802513630331, 100.65498461797578, 103.0286366794842, 101.87944865720986], \"yaxis\": \"y5\"}, {\"name\": \"Caso 6\", \"type\": \"scatter\", \"xaxis\": \"x6\", \"y\": [100.0171189708715, 100.0713339649848, 99.69412201689602, 99.98488636559637, 99.83783825955659, 99.95237674816516, 99.85988241299694, 99.47919445993887, 98.6193853598623, 0.2827103839449541, 99.44589086995403, 99.03873610321105, 98.73195456888385, 99.47471344166667, 98.98253810259932, 100.1249326344037, 100.6754860909731, 100.66305894625381, 100.49066760856263, 100.07437000716358, 100.01547039017588, 99.96731608516829, 100.03869705524924, 100.02921351968656, 100.46444641559623, 100.36692218107795, 100.06924065596323, 100.19558694969415, 99.9238532834864, 99.55067039671246, 100.09798948757494, 99.88893641559629, 98.00372736536696, 98.09561998535929, 98.85082152037455, 99.18054410107038, 99.51636098455661, 99.6006957664373, 99.72945987048931, 99.74672531926609, 99.48395285654742, 99.32179331911318, 100.27036840282882, 100.19142161009174, 100.03430174824155, 99.76128795856279, 99.87734465837146, 100.07664484694193, 101.05063942423538, 101.2516716610092, 101.53583166494641, 101.45596641911322, 101.34421209479892, 101.31161066318269, 101.29023878639144, 100.57667003287462, 100.09477783462538, 99.994680006776, 100.00969712297398, 100.36159064151384, 99.93484808738528, 100.70493757591737, 100.34489335152907, 100.50693053004582, 101.24946679755355, 100.87708973058105, 99.88945646247552, 100.27419651857791, 100.14977184984716, 100.00716165703363, 100.48833512538226, 100.70434933872329, 100.98655759862386, 100.92501253012233, 100.63856679931196, 101.14758501811929, 101.15186097041286, 101.01677596483178, 100.84567976521414, 101.47559322400609, 101.21573635359326, 101.3448493364297, 101.19399937224773, 101.39226806659025, 101.55578821987761, 101.44837027759948, 101.20004350105123, 101.3876504350917, 99.58484242041288, 101.10821423035169, 100.94036821632264, 99.65749021825303, 99.4923514764525, 100.3272145867737, 100.26471125504582, 100.26932632484709, 98.73567478291277, 98.52009170180122, 98.55510665351683, 99.33846517828742, 99.11040793256657, 98.89215748111614, 99.19588566368505, 99.06430193027522, 98.79924078883793, 98.97468127775228, 99.34993427844036, 100.98940930538967, 100.07793242411788, 100.45963405471117, 100.08263770461424, 100.14514095944162, 101.37442496533538, 101.94248744641331, 102.13407774637454, 102.09150502605654, 102.20644164968759, 102.51192109529109, 102.66861707266376, 102.85856353152383, 102.70522681644049, 102.84375949305932, 103.13570234079106, 103.04148022062809, 103.29387707134549, 103.41236461046918, 103.63861367956557, 104.22074353997682, 104.45659326971698, 104.55669287072509, 105.03659329445522, 104.70306179596743, 104.31374982380765, 104.76220470841406, 104.77162489825514, 104.36204157340055, 104.32858653702984, 104.52179232849943, 104.45964074967038, 104.58245458526565, 104.8068391704925, 105.51253837875147, 105.27157278262897, 105.52345705963549, 104.95914176319896, 105.19483459375348, 105.05902063598286, 104.51763675703754, 104.57705922683218, 104.83157179100422, 104.83655122659937, 104.7892483968204, 103.68784044908884, 104.57599264559904, 104.35657469367966, 103.71895618472266, 103.79735036719661, 103.5366593951919, 103.65602987204332, 103.92037554967042, 104.3001769289647, 104.44972515292739, 104.84275880814272, 104.27679602272202, 104.33337215013576, 104.63677985095006, 106.14845695215216, 106.52895903939506, 107.20487234718888, 107.12809825365105, 107.74989528670031, 107.45678958891031, 106.64721855385805, 106.80340534086857, 107.3035174732842, 107.54478528639014, 107.86753350189991, 107.627325323769, 107.01971887165566, 107.93820213951143, 108.5560703271035, 108.2455128797984, 108.27528278061264, 108.72064253850327, 108.6957029309809, 108.65862510484685, 108.64127596289272, 108.86618641039162, 108.31818463722375, 109.04713732725877, 109.49315636355179, 109.99763112373006, 110.48633454842965, 110.62949004718888, 110.73704472896466, 110.68996048565332, 111.56981687987586, 112.32732734290805, 111.82439984761537, 112.72918890601005, 112.48528059154705, 112.96110458034128, 113.8589632085149, 113.86080354982553, 114.092482876774, 114.14459626537426, 115.21129312997289, 114.49932592194658, 113.02841251221405, 112.91809127522295, 113.15213820488562, 110.61244858949203, 105.99336635806432, 107.3741955745638, 107.1347261150446, 103.3914214889105, 104.60403706107019, 105.95117648049629, 106.19848106909654, 107.60714985599074, 108.57553516207835, 108.71299839503678, 107.69723450585494, 107.04700551694458, 107.10540515339281, 108.78455773008915, 109.96462044606443, 108.5101929561846, 107.13234316797201, 106.44739731256303, 106.84906161659556, 108.1919787046917, 108.4375120069019, 108.09896318301668, 107.76946614656855, 109.56213143718496, 109.34511217316786, 108.77320132307099, 107.9073584968593, 107.72777414905003, 108.11541136556805, 106.64717763094231, 106.53098498115544, 106.68686351981388, 104.09866342822802, 101.92475410616514, 104.32503450469173, 103.1594115527724], \"yaxis\": \"y6\"}, {\"name\": \"Caso 7\", \"type\": \"scatter\", \"xaxis\": \"x7\", \"y\": [100.0171189708715, 100.0713339649848, 99.69412201689602, 99.98488636559637, 99.83783825955659, 99.95237674816516, 99.85988241299694, 99.47919445993887, 98.6193853598623, 0.2827103839449541, 99.44589086995403, 99.03873610321105, 98.73195456888385, 99.47471344166667, 98.98253810259932, 100.1249326344037, 100.6754860909731, 100.66305894625381, 100.49066760856263, 100.07437000716358, 100.01547039017588, 99.96731608516829, 100.03869705524924, 100.02921351968656, 100.46444641559623, 100.36692218107795, 100.06924065596323, 100.19558694969415, 99.9238532834864, 99.55067039671246, 100.09798948757494, 99.88893641559629, 98.00372736536696, 98.09561998535929, 98.85082152037455, 99.18054410107038, 99.51636098455661, 99.6006957664373, 99.72945987048931, 99.74672531926609, 99.48395285654742, 99.32179331911318, 100.27036840282882, 100.19142161009174, 100.03430174824155, 99.76128795856279, 99.87734465837146, 100.07664484694193, 101.05063942423538, 101.2516716610092, 101.53583166494641, 101.45596641911322, 101.34421209479892, 101.31161066318269, 101.29023878639144, 100.57667003287462, 100.09477783462538, 99.994680006776, 100.00969712297398, 100.36159064151384, 99.93484808738528, 100.70493757591737, 100.34489335152907, 100.50693053004582, 101.24946679755355, 100.87708973058105, 99.88945646247552, 100.27419651857791, 100.14977184984716, 100.00716165703363, 100.48833512538226, 100.70434933872329, 100.98655759862386, 100.92501253012233, 100.63856679931196, 101.14758501811929, 101.15186097041286, 101.01677596483178, 100.84567976521414, 101.47559322400609, 101.21573635359326, 101.3448493364297, 101.19399937224773, 101.39226806659025, 101.55578821987761, 101.44837027759948, 101.20004350105123, 101.3876504350917, 99.58484242041288, 101.10821423035169, 100.94036821632264, 99.65749021825303, 99.4923514764525, 100.3272145867737, 100.26471125504582, 100.26932632484709, 98.73567478291277, 98.52009170180122, 98.55510665351683, 99.33846517828742, 99.11040793256657, 98.89215748111614, 99.19588566368505, 99.06430193027522, 98.79924078883793, 98.97468127775228, 99.34993427844036, 98.43290421120027, 97.57588947805812, 97.96087541659011, 97.58368624900615, 97.63262761781345, 98.80370513711779, 99.33404095474008, 99.43636774376914, 99.39044683318036, 99.57750338892284, 99.88278917992284, 100.03508882851673, 100.22039605917433, 100.07846104824162, 100.22741896659022, 100.5073091560015, 100.4594803442661, 100.72822654151383, 100.83843716567277, 101.05002843922024, 104.25057385810403, 104.49030381750771, 104.591349137003, 105.07245913138381, 104.73919852958717, 104.35052623581805, 104.7992221305811, 104.81006792928139, 104.39993681750772, 104.36575876735478, 104.55818116162094, 104.4932484179664, 104.61466578333341, 104.83649921521408, 105.5421580126911, 105.30040767484701, 105.55197794999997, 104.98737283874398, 105.22280476475149, 105.08488921681959, 104.54608555191129, 104.73627362798173, 104.98629423738532, 104.99179232652908, 104.94139859319566, 103.84155340917432, 104.72910184724775, 104.50563429227837, 103.86798546880735, 103.94524192255356, 103.68139302645264, 103.80187593692656, 104.06679609373099, 104.44833429327213, 104.5984560889908, 104.98991211368497, 104.42302113142208, 104.47821107607028, 104.78051068211003, 106.29250592056569, 106.67658022178898, 107.35240751330275, 107.27499019579214, 107.89876904885324, 107.6036755229358, 106.79272606261466, 106.95021278245407, 107.45266311207946, 107.69551597385323, 108.01742042392978, 107.78108657285935, 107.17332478058115, 108.09405301857792, 108.7157042840979, 108.40459169204895, 108.43308630542813, 108.88068535206422, 108.85525335879208, 108.81929991414378, 108.80097304977062, 109.02538241544343, 108.47568317133032, 109.20945023983177, 109.65494733035166, 110.15907571444957, 110.6484180313457, 110.79191615087925, 110.89793082362377, 110.85354436076459, 111.7344049171636, 112.493248644442, 111.99001866395251, 112.8979968107033, 112.65403501399085, 113.13080247435012, 114.02925528519108, 114.02961343134557, 114.26234522530581, 114.31521097515288, 115.38452120435771, 114.67272480240825, 113.19978454338681, 113.08871048134553, 113.32292575756885, 110.77971269720938, 106.15438114100458, 107.54269083035169, 107.30456086154427, 103.5556826857034, 104.76825142954895, 106.11964234984707, 106.36851220749239, 107.77982570229351, 108.75273650038221, 108.88865763662086, 107.87036362247703, 107.21867891009182, 107.27666265764522, 108.95841729931183, 110.13985573769119, 108.6825545061162, 107.30429835894486, 106.6173761389143, 107.01974259938838, 108.36362320137609, 108.61043034181958, 108.27030666200312, 107.94272969747703, 109.7377552949923, 109.52044814441905, 108.9485661214068, 108.08019449541294, 107.89916637140685, 108.28846394961771, 106.81752369097863, 106.70193769732414, 106.85680940405202, 104.26405861368514, 102.08830979594808, 104.49367786051226, 103.32778213417438], \"yaxis\": \"y7\"}, {\"name\": \"Caso 8\", \"type\": \"scatter\", \"xaxis\": \"x8\", \"y\": [100.0171189708715, 100.0713339649848, 99.69412201689602, 99.98488636559637, 99.83783825955659, 99.95237674816516, 99.85988241299694, 99.47919445993887, 98.6193853598623, 0.2827103839449541, 99.44589086995403, 99.03873610321105, 98.73195456888385, 99.47471344166667, 98.98253810259932, 100.1249326344037, 100.6754860909731, 100.66305894625381, 100.49066760856263, 100.07437000716358, 100.01547039017588, 99.96731608516829, 100.03869705524924, 100.02921351968656, 100.46444641559623, 100.36692218107795, 100.06924065596323, 100.19558694969415, 99.9238532834864, 99.55067039671246, 100.09798948757494, 99.88893641559629, 98.00372736536696, 98.09561998535929, 98.85082152037455, 99.18054410107038, 99.51636098455661, 99.6006957664373, 99.72945987048931, 99.74672531926609, 99.48395285654742, 99.32179331911318, 100.27036840282882, 100.19142161009174, 100.03430174824155, 99.76128795856279, 99.87734465837146, 100.07664484694193, 101.05063942423538, 101.2516716610092, 101.53583166494641, 101.45596641911322, 101.34421209479892, 101.31161066318269, 101.29023878639144, 100.57667003287462, 100.09477783462538, 99.994680006776, 100.00969712297398, 100.36159064151384, 99.93484808738528, 100.70493757591737, 100.34489335152907, 100.50693053004582, 101.24946679755355, 100.87708973058105, 99.88945646247552, 100.27419651857791, 100.14977184984716, 100.00716165703363, 100.48833512538226, 100.70434933872329, 100.98655759862386, 100.92501253012233, 100.63856679931196, 101.14758501811929, 101.15186097041286, 101.01677596483178, 100.84567976521414, 101.47559322400609, 101.21573635359326, 101.3448493364297, 101.19399937224773, 101.39226806659025, 101.55578821987761, 101.44837027759948, 101.20004350105123, 101.3876504350917, 99.58484242041288, 101.10821423035169, 100.94036821632264, 99.65749021825303, 99.4923514764525, 100.3272145867737, 100.26471125504582, 100.26932632484709, 98.73567478291277, 98.52009170180122, 98.55510665351683, 99.33846517828742, 99.11040793256657, 98.89215748111614, 99.19588566368505, 99.06430193027522, 98.79924078883793, 98.97468127775228, 99.34993427844036, 98.43290421120027, 97.57588947805812, 97.96087541659011, 97.58368624900615, 97.63262761781345, 98.80370513711779, 99.33404095474008, 99.43636774376914, 99.39044683318036, 99.57750338892284, 99.88278917992284, 100.03508882851673, 100.22039605917433, 100.07846104824162, 100.22741896659022, 100.5073091560015, 100.4594803442661, 100.72822654151383, 100.83843716567277, 101.05002843922024, 101.60801463853214, 101.84556302385322, 101.93449396689607, 102.40003850814222, 102.06374584212543, 101.65895169258417, 102.11762668593266, 102.12568385986246, 101.72093946192659, 101.68545191972476, 101.89328192675839, 101.82662086498472, 101.95634289564217, 102.17812381452603, 102.87179676766061, 102.62411138937316, 102.87381937010709, 102.3345919175833, 102.49985503745187, 102.36757412759941, 101.84633407026006, 101.8813916577217, 105.25570300811529, 105.26091637307545, 105.2083047671596, 104.10744431717865, 104.99476136147133, 104.76910808706864, 104.12867900356464, 104.20590037626094, 103.93800660401976, 104.05954739696625, 104.3241440395905, 104.70678366879024, 104.85774664747818, 105.24911129579067, 104.68012154592343, 104.73488532901021, 105.03765690663636, 106.55186393530524, 106.93924197883952, 107.61674832309434, 107.53933949432985, 108.16561642578695, 107.86948706901785, 107.0541064888131, 107.21308221839215, 107.71680210519536, 107.96286770739475, 108.28472940364064, 108.05043718073564, 107.44109004876753, 108.36371552226018, 108.98836392802421, 108.6757750535457, 108.70355821577557, 109.15293714622678, 109.1270892348123, 109.09124003390217, 109.07238178270768, 109.2979540986727, 108.74600079332575, 109.48221166188848, 109.9277302550626, 110.4352598775123, 110.92482281676143, 111.06892782514228, 111.17406573485022, 111.13111499545688, 112.01362815817212, 112.77354837281007, 112.26889198631021, 113.17935318134228, 112.93429752627988, 113.4115715528632, 114.31272453723928, 114.31292940796368, 114.54635815532808, 114.59945953318159, 115.67189045445586, 114.95678498365561, 113.48158490056883, 113.37086148043224, 113.60524750879783, 111.05644294641635, 106.41872672047859, 107.81050465703458, 107.57119703754277, 103.81282106401213, 105.0274808295412, 106.38447175343182, 106.6348506568829, 108.05082476829732, 109.02978048509677, 109.1647748284414, 108.14289979522192, 107.48872639726953, 107.5474104489951, 109.23377635957523, 110.41839223048922, 108.95768865142199, 107.57476406970041, 106.88511527372019, 107.28818776131965, 108.6366891092909, 108.88489069503221, 108.54354511194535, 108.21495247948421, 110.01406801391738, 109.79657449321208, 109.22298138748577, 108.35253262616598, 108.17026063064083, 108.56088497861197, 107.08541829359123, 106.96930700872196, 107.12520621334842, 104.52512679582858, 102.3434933422829, 104.75501654391354, 103.58651396473263], \"yaxis\": \"y8\"}, {\"name\": \"Caso 9\", \"type\": \"scatter\", \"xaxis\": \"x9\", \"y\": [100.0171189708715, 100.0713339649848, 99.69412201689602, 99.98488636559637, 99.83783825955659, 99.95237674816516, 99.85988241299694, 99.47919445993887, 98.6193853598623, 0.2827103839449541, 99.44589086995403, 99.03873610321105, 98.73195456888385, 99.47471344166667, 98.98253810259932, 100.1249326344037, 100.6754860909731, 100.66305894625381, 100.49066760856263, 100.07437000716358, 100.01547039017588, 99.96731608516829, 100.03869705524924, 100.02921351968656, 100.46444641559623, 100.36692218107795, 100.06924065596323, 100.19558694969415, 99.9238532834864, 99.55067039671246, 100.09798948757494, 99.88893641559629, 98.00372736536696, 98.09561998535929, 98.85082152037455, 99.18054410107038, 99.51636098455661, 99.6006957664373, 99.72945987048931, 99.74672531926609, 99.48395285654742, 99.32179331911318, 100.27036840282882, 100.19142161009174, 100.03430174824155, 99.76128795856279, 99.87734465837146, 100.07664484694193, 101.05063942423538, 101.2516716610092, 101.53583166494641, 101.45596641911322, 101.34421209479892, 101.31161066318269, 101.29023878639144, 100.57667003287462, 100.09477783462538, 99.994680006776, 100.00969712297398, 100.36159064151384, 99.93484808738528, 100.70493757591737, 100.34489335152907, 100.50693053004582, 101.24946679755355, 100.87708973058105, 99.88945646247552, 100.27419651857791, 100.14977184984716, 100.00716165703363, 100.48833512538226, 100.70434933872329, 100.98655759862386, 100.92501253012233, 100.63856679931196, 101.14758501811929, 101.15186097041286, 101.01677596483178, 100.84567976521414, 101.47559322400609, 101.21573635359326, 101.3448493364297, 101.19399937224773, 101.39226806659025, 101.55578821987761, 101.44837027759948, 101.20004350105123, 101.3876504350917, 99.58484242041288, 101.10821423035169, 100.94036821632264, 99.65749021825303, 99.4923514764525, 100.3272145867737, 100.26471125504582, 100.26932632484709, 98.73567478291277, 98.52009170180122, 98.55510665351683, 99.33846517828742, 99.11040793256657, 98.89215748111614, 99.19588566368505, 99.06430193027522, 98.79924078883793, 98.97468127775228, 99.34993427844036, 98.43290421120027, 97.57588947805812, 97.96087541659011, 97.58368624900615, 97.63262761781345, 98.80370513711779, 99.33404095474008, 99.43636774376914, 99.39044683318036, 99.57750338892284, 99.88278917992284, 100.03508882851673, 100.22039605917433, 100.07846104824162, 100.22741896659022, 100.5073091560015, 100.4594803442661, 100.72822654151383, 100.83843716567277, 101.05002843922024, 101.60801463853214, 101.84556302385322, 101.93449396689607, 102.40003850814222, 102.06374584212543, 101.65895169258417, 102.11762668593266, 102.12568385986246, 101.72093946192659, 101.68545191972476, 101.89328192675839, 101.82662086498472, 101.95634289564217, 102.17812381452603, 102.87179676766061, 102.62411138937316, 102.87381937010709, 102.3345919175833, 102.49985503745187, 102.36757412759941, 101.84633407026006, 101.8813916577217, 102.11063958769115, 102.15263328165138, 102.12081566077977, 101.04456807133033, 101.8772054373089, 101.69332706475531, 101.06449023478598, 101.12742662614676, 100.9191288190367, 101.0341933478592, 101.26007589694194, 101.63313520680435, 101.78422692316512, 102.15767023432721, 101.61018559128439, 101.64663822209475, 101.97376960405204, 103.46664348493883, 103.85245036659016, 104.52440036850149, 108.29977934346277, 109.09717029210626, 108.32040207751592, 107.94660443539092, 108.07813444474374, 108.73150356498314, 109.02202597493454, 109.38497199992516, 109.11837732689862, 108.52205271533856, 109.42002885589226, 110.01035768290312, 109.65536747257762, 109.6690881408904, 110.23013123269736, 110.24916272783389, 110.28110874582866, 110.24083527485972, 110.45841267467266, 109.95018018331464, 110.72044352861954, 111.1287129392817, 111.67754740688363, 112.0993243839132, 112.20875679786757, 112.24661539420127, 112.26370490232696, 113.20820372978376, 113.84861583703703, 113.33942604956978, 114.09224792218482, 113.76813626112981, 114.25487357325102, 115.21883908260381, 115.26442478526, 115.48212815794987, 115.44577479895248, 116.50110985858588, 115.74403578297792, 114.34079345982042, 114.18182233647588, 114.29452918754208, 111.76560837590718, 107.221593968523, 108.45593865447063, 108.22005658211746, 104.52836880078563, 105.69832097631874, 106.95355027474747, 107.1891536382342, 108.47901317149271, 109.40191643725403, 109.52102660972692, 108.44042810366628, 107.67839296449684, 107.73925177964833, 109.39844220871677, 110.52006507639356, 108.95126400852975, 107.31851050953986, 106.14912644635241, 106.57586782341939, 107.80862249607185, 108.04581583800972, 107.61826088746724, 107.94798828020951, 109.6346247292181, 109.40534307557053, 108.84407585016837, 107.96499247938647, 107.78547218286569, 108.16854074904602, 106.66409692802095, 106.54337406816313, 106.71998618765433, 104.23393203591472, 102.2321455151515, 104.48922680374112, 103.50795770026187], \"yaxis\": \"y9\"}, {\"name\": \"Caso 10\", \"type\": \"scatter\", \"xaxis\": \"x10\", \"y\": [100.0171189708715, 100.0713339649848, 99.69412201689602, 99.98488636559637, 99.83783825955659, 99.95237674816516, 99.85988241299694, 99.47919445993887, 98.6193853598623, 0.2827103839449541, 99.44589086995403, 99.03873610321105, 98.73195456888385, 99.47471344166667, 98.98253810259932, 100.1249326344037, 100.6754860909731, 100.66305894625381, 100.49066760856263, 100.07437000716358, 100.01547039017588, 99.96731608516829, 100.03869705524924, 100.02921351968656, 100.46444641559623, 100.36692218107795, 100.06924065596323, 100.19558694969415, 99.9238532834864, 99.55067039671246, 100.09798948757494, 99.88893641559629, 98.00372736536696, 98.09561998535929, 98.85082152037455, 99.18054410107038, 99.51636098455661, 99.6006957664373, 99.72945987048931, 99.74672531926609, 99.48395285654742, 99.32179331911318, 100.27036840282882, 100.19142161009174, 100.03430174824155, 99.76128795856279, 99.87734465837146, 100.07664484694193, 101.05063942423538, 101.2516716610092, 101.53583166494641, 101.45596641911322, 101.34421209479892, 101.31161066318269, 101.29023878639144, 100.57667003287462, 100.09477783462538, 99.994680006776, 100.00969712297398, 100.36159064151384, 99.93484808738528, 100.70493757591737, 100.34489335152907, 100.50693053004582, 101.24946679755355, 100.87708973058105, 99.88945646247552, 100.27419651857791, 100.14977184984716, 100.00716165703363, 100.48833512538226, 100.70434933872329, 100.98655759862386, 100.92501253012233, 100.63856679931196, 101.14758501811929, 101.15186097041286, 101.01677596483178, 100.84567976521414, 101.47559322400609, 101.21573635359326, 101.3448493364297, 101.19399937224773, 101.39226806659025, 101.55578821987761, 101.44837027759948, 101.20004350105123, 101.3876504350917, 99.58484242041288, 101.10821423035169, 100.94036821632264, 99.65749021825303, 99.4923514764525, 100.3272145867737, 100.26471125504582, 100.26932632484709, 98.73567478291277, 98.52009170180122, 98.55510665351683, 99.33846517828742, 99.11040793256657, 98.89215748111614, 99.19588566368505, 99.06430193027522, 98.79924078883793, 98.97468127775228, 99.34993427844036, 98.43290421120027, 97.57588947805812, 97.96087541659011, 97.58368624900615, 97.63262761781345, 98.80370513711779, 99.33404095474008, 99.43636774376914, 99.39044683318036, 99.57750338892284, 99.88278917992284, 100.03508882851673, 100.22039605917433, 100.07846104824162, 100.22741896659022, 100.5073091560015, 100.4594803442661, 100.72822654151383, 100.83843716567277, 101.05002843922024, 101.60801463853214, 101.84556302385322, 101.93449396689607, 102.40003850814222, 102.06374584212543, 101.65895169258417, 102.11762668593266, 102.12568385986246, 101.72093946192659, 101.68545191972476, 101.89328192675839, 101.82662086498472, 101.95634289564217, 102.17812381452603, 102.87179676766061, 102.62411138937316, 102.87381937010709, 102.3345919175833, 102.49985503745187, 102.36757412759941, 101.84633407026006, 101.8813916577217, 102.11063958769115, 102.15263328165138, 102.12081566077977, 101.04456807133033, 101.8772054373089, 101.69332706475531, 101.06449023478598, 101.12742662614676, 100.9191288190367, 101.0341933478592, 101.26007589694194, 101.63313520680435, 101.78422692316512, 102.15767023432721, 101.61018559128439, 101.64663822209475, 101.97376960405204, 103.46664348493883, 103.85245036659016, 104.52440036850149, 104.4727322974305, 105.07095218088678, 104.79045350711004, 103.99936904686541, 104.14413228665903, 104.65728705665136, 104.89090299273695, 105.2242012384556, 104.98927157194198, 104.38840475168199, 105.30792597484708, 105.89723895496937, 105.58748479717126, 105.62028471620795, 106.05620278211015, 106.01626981399083, 105.99525577905192, 105.97479129797398, 106.1951240535168, 105.6559446506881, 110.87984113481372, 111.28893113029731, 111.83926753041023, 112.26161089868273, 112.37180642235604, 112.41009313010915, 112.42703632716596, 113.37347586187583, 114.01596181238239, 113.5044033013549, 114.25850612442602, 113.93357207293941, 114.42150550974786, 115.38644724189686, 115.43158536575085, 115.65008488009033, 115.61418713699662, 116.6716411442228, 115.91348762807678, 114.50811685363192, 114.3477311823109, 114.46150366763267, 111.92974397041775, 107.37817340175386, 108.61379346616486, 108.37879430613474, 104.68160734734664, 105.85332092051185, 107.11115860240872, 107.34750070771547, 108.63976125487392, 109.56579034488523, 109.68617755333082, 108.6046605286037, 107.84233425306738, 107.90239590244636, 109.56364306078284, 110.68638174738427, 109.11530250425291, 107.48091094497553, 106.31026598633797, 106.7378663363944, 107.9716394401957, 108.20902125201354, 107.7813685792623, 108.11181832164094, 109.80096502066242, 109.57043122318404, 109.0085240254046, 108.1277357211893, 107.94767586473466, 108.33129890139254, 106.82487719646217, 106.70456799164472, 106.88164135280392, 104.3915749927738, 102.38841710809183, 104.64919218848327, 103.66564776251411], \"yaxis\": \"y10\"}, {\"name\": \"Caso 11\", \"type\": \"scatter\", \"xaxis\": \"x11\", \"y\": [100.0171189708715, 100.0713339649848, 99.69412201689602, 99.98488636559637, 99.83783825955659, 99.95237674816516, 99.85988241299694, 99.47919445993887, 98.6193853598623, 0.2827103839449541, 99.44589086995403, 99.03873610321105, 98.73195456888385, 99.47471344166667, 98.98253810259932, 100.1249326344037, 100.6754860909731, 100.66305894625381, 100.49066760856263, 100.07437000716358, 100.01547039017588, 99.96731608516829, 100.03869705524924, 100.02921351968656, 100.46444641559623, 100.36692218107795, 100.06924065596323, 100.19558694969415, 99.9238532834864, 99.55067039671246, 100.09798948757494, 99.88893641559629, 98.00372736536696, 98.09561998535929, 98.85082152037455, 99.18054410107038, 99.51636098455661, 99.6006957664373, 99.72945987048931, 99.74672531926609, 99.48395285654742, 99.32179331911318, 100.27036840282882, 100.19142161009174, 100.03430174824155, 99.76128795856279, 99.87734465837146, 100.07664484694193, 101.05063942423538, 101.2516716610092, 101.53583166494641, 101.45596641911322, 101.34421209479892, 101.31161066318269, 101.29023878639144, 100.57667003287462, 100.09477783462538, 99.994680006776, 100.00969712297398, 100.36159064151384, 99.93484808738528, 100.70493757591737, 100.34489335152907, 100.50693053004582, 101.24946679755355, 100.87708973058105, 99.88945646247552, 100.27419651857791, 100.14977184984716, 100.00716165703363, 100.48833512538226, 100.70434933872329, 100.98655759862386, 100.92501253012233, 100.63856679931196, 101.14758501811929, 101.15186097041286, 101.01677596483178, 100.84567976521414, 101.47559322400609, 101.21573635359326, 101.3448493364297, 101.19399937224773, 101.39226806659025, 101.55578821987761, 101.44837027759948, 101.20004350105123, 101.3876504350917, 99.58484242041288, 101.10821423035169, 100.94036821632264, 99.65749021825303, 99.4923514764525, 100.3272145867737, 100.26471125504582, 100.26932632484709, 98.73567478291277, 98.52009170180122, 98.55510665351683, 99.33846517828742, 99.11040793256657, 98.89215748111614, 99.19588566368505, 99.06430193027522, 98.79924078883793, 98.97468127775228, 99.34993427844036, 98.43290421120027, 97.57588947805812, 97.96087541659011, 97.58368624900615, 97.63262761781345, 98.80370513711779, 99.33404095474008, 99.43636774376914, 99.39044683318036, 99.57750338892284, 99.88278917992284, 100.03508882851673, 100.22039605917433, 100.07846104824162, 100.22741896659022, 100.5073091560015, 100.4594803442661, 100.72822654151383, 100.83843716567277, 101.05002843922024, 101.60801463853214, 101.84556302385322, 101.93449396689607, 102.40003850814222, 102.06374584212543, 101.65895169258417, 102.11762668593266, 102.12568385986246, 101.72093946192659, 101.68545191972476, 101.89328192675839, 101.82662086498472, 101.95634289564217, 102.17812381452603, 102.87179676766061, 102.62411138937316, 102.87381937010709, 102.3345919175833, 102.49985503745187, 102.36757412759941, 101.84633407026006, 101.8813916577217, 102.11063958769115, 102.15263328165138, 102.12081566077977, 101.04456807133033, 101.8772054373089, 101.69332706475531, 101.06449023478598, 101.12742662614676, 100.9191288190367, 101.0341933478592, 101.26007589694194, 101.63313520680435, 101.78422692316512, 102.15767023432721, 101.61018559128439, 101.64663822209475, 101.97376960405204, 103.46664348493883, 103.85245036659016, 104.52440036850149, 104.4727322974305, 105.07095218088678, 104.79045350711004, 103.99936904686541, 104.14413228665903, 104.65728705665136, 104.89090299273695, 105.2242012384556, 104.98927157194198, 104.38840475168199, 105.30792597484708, 105.89723895496937, 105.58748479717126, 105.62028471620795, 106.05620278211015, 106.01626981399083, 105.99525577905192, 105.97479129797398, 106.1951240535168, 105.6559446506881, 106.3612742607033, 106.7618236637614, 107.23013348600911, 107.69141245481653, 107.83819681257647, 107.94262385573394, 107.92903225901382, 108.78256557626165, 109.53878719648313, 109.04421352431194, 109.91203572729367, 109.67340969373089, 110.14478275569576, 111.0369885481651, 111.02847793960234, 111.26603669074929, 111.3051301218654, 112.3633687499235, 111.69486968375378, 110.25207487045105, 110.13940548769112, 114.32978113400077, 111.79423805538346, 107.24628823141215, 108.48088212315828, 108.24850290374009, 104.55558953808084, 105.72489422259162, 106.98831563301852, 107.22186106173027, 108.51902320392897, 109.44160990522099, 109.559911314167, 108.48094100328673, 107.72121464442766, 107.78206416803928, 109.44192725980355, 110.56557063581413, 109.00122080211557, 107.56313106475257, 106.3917864685682, 106.81962195466564, 108.05435630185116, 108.29198753615415, 107.86400220056667, 108.3972968185115, 110.08791980804685, 109.86190672527391, 109.29606155379672, 108.41357280634679, 108.23391800370231, 108.61869909180203, 107.10843741201361, 106.98757364404985, 107.1623489060068, 104.6713954051379, 102.664140089762, 104.92700842788062, 103.94688359848885], \"yaxis\": \"y11\"}, {\"name\": \"Caso 12\", \"type\": \"scatter\", \"xaxis\": \"x12\", \"y\": [100.0171189708715, 100.0713339649848, 99.69412201689602, 99.98488636559637, 99.83783825955659, 99.95237674816516, 99.85988241299694, 99.47919445993887, 98.6193853598623, 0.2827103839449541, 99.44589086995403, 99.03873610321105, 98.73195456888385, 99.47471344166667, 98.98253810259932, 100.1249326344037, 100.6754860909731, 100.66305894625381, 100.49066760856263, 100.07437000716358, 100.01547039017588, 99.96731608516829, 100.03869705524924, 100.02921351968656, 100.46444641559623, 100.36692218107795, 100.06924065596323, 100.19558694969415, 99.9238532834864, 99.55067039671246, 100.09798948757494, 99.88893641559629, 98.00372736536696, 98.09561998535929, 98.85082152037455, 99.18054410107038, 99.51636098455661, 99.6006957664373, 99.72945987048931, 99.74672531926609, 99.48395285654742, 99.32179331911318, 100.27036840282882, 100.19142161009174, 100.03430174824155, 99.76128795856279, 99.87734465837146, 100.07664484694193, 101.05063942423538, 101.2516716610092, 101.53583166494641, 101.45596641911322, 101.34421209479892, 101.31161066318269, 101.29023878639144, 100.57667003287462, 100.09477783462538, 99.994680006776, 100.00969712297398, 100.36159064151384, 99.93484808738528, 100.70493757591737, 100.34489335152907, 100.50693053004582, 101.24946679755355, 100.87708973058105, 99.88945646247552, 100.27419651857791, 100.14977184984716, 100.00716165703363, 100.48833512538226, 100.70434933872329, 100.98655759862386, 100.92501253012233, 100.63856679931196, 101.14758501811929, 101.15186097041286, 101.01677596483178, 100.84567976521414, 101.47559322400609, 101.21573635359326, 101.3448493364297, 101.19399937224773, 101.39226806659025, 101.55578821987761, 101.44837027759948, 101.20004350105123, 101.3876504350917, 99.58484242041288, 101.10821423035169, 100.94036821632264, 99.65749021825303, 99.4923514764525, 100.3272145867737, 100.26471125504582, 100.26932632484709, 98.73567478291277, 98.52009170180122, 98.55510665351683, 99.33846517828742, 99.11040793256657, 98.89215748111614, 99.19588566368505, 99.06430193027522, 98.79924078883793, 98.97468127775228, 99.34993427844036, 98.43290421120027, 97.57588947805812, 97.96087541659011, 97.58368624900615, 97.63262761781345, 98.80370513711779, 99.33404095474008, 99.43636774376914, 99.39044683318036, 99.57750338892284, 99.88278917992284, 100.03508882851673, 100.22039605917433, 100.07846104824162, 100.22741896659022, 100.5073091560015, 100.4594803442661, 100.72822654151383, 100.83843716567277, 101.05002843922024, 101.60801463853214, 101.84556302385322, 101.93449396689607, 102.40003850814222, 102.06374584212543, 101.65895169258417, 102.11762668593266, 102.12568385986246, 101.72093946192659, 101.68545191972476, 101.89328192675839, 101.82662086498472, 101.95634289564217, 102.17812381452603, 102.87179676766061, 102.62411138937316, 102.87381937010709, 102.3345919175833, 102.49985503745187, 102.36757412759941, 101.84633407026006, 101.8813916577217, 102.11063958769115, 102.15263328165138, 102.12081566077977, 101.04456807133033, 101.8772054373089, 101.69332706475531, 101.06449023478598, 101.12742662614676, 100.9191288190367, 101.0341933478592, 101.26007589694194, 101.63313520680435, 101.78422692316512, 102.15767023432721, 101.61018559128439, 101.64663822209475, 101.97376960405204, 103.46664348493883, 103.85245036659016, 104.52440036850149, 104.4727322974305, 105.07095218088678, 104.79045350711004, 103.99936904686541, 104.14413228665903, 104.65728705665136, 104.89090299273695, 105.2242012384556, 104.98927157194198, 104.38840475168199, 105.30792597484708, 105.89723895496937, 105.58748479717126, 105.62028471620795, 106.05620278211015, 106.01626981399083, 105.99525577905192, 105.97479129797398, 106.1951240535168, 105.6559446506881, 106.3612742607033, 106.7618236637614, 107.23013348600911, 107.69141245481653, 107.83819681257647, 107.94262385573394, 107.92903225901382, 108.78256557626165, 109.53878719648313, 109.04421352431194, 109.91203572729367, 109.67340969373089, 110.14478275569576, 111.0369885481651, 111.02847793960234, 111.26603669074929, 111.3051301218654, 112.3633687499235, 111.69486968375378, 110.25207487045105, 110.13940548769112, 110.42058242607041, 107.96806485703362, 103.45852917216973, 104.71687660726306, 104.52509034782112, 100.86359621983945, 102.0392261842889, 103.31832994105511, 103.60110961223236, 104.98716395932732, 105.93679176055049, 106.0693826334099, 105.0636604788227, 104.43774979564226, 104.46513904151384, 106.09844876724013, 107.25848306880737, 105.85969279755352, 104.54685173379208, 106.51656031518323, 106.94161619633506, 108.17694092161558, 108.41669146896035, 108.01408370258044, 108.55646584315632, 110.24719244936428, 110.02022288556469, 109.45489705856394, 108.57754834525058, 108.39693023747193, 108.7824273155572, 107.1393289131638, 107.02101662004486, 107.19416287172774, 104.70680646245327, 102.70099920837696, 104.9614772752057, 103.98374481757666], \"yaxis\": \"y12\"}, {\"name\": \"Original iShares\", \"type\": \"scatter\", \"xaxis\": \"x13\", \"y\": [100.0171189708715, 100.0713339649848, 99.69412201689602, 99.98488636559637, 99.83783825955659, 99.95237674816516, 99.85988241299694, 99.47919445993887, 98.6193853598623, 0.2827103839449541, 99.44589086995403, 99.03873610321105, 98.73195456888385, 99.47471344166667, 98.98253810259932, 100.1249326344037, 100.6754860909731, 100.66305894625381, 100.49066760856263, 100.07437000716358, 99.06001722148413, 99.01232487218348, 99.08190195181972, 99.08016541829835, 99.50984328236198, 99.41299101538463, 99.11862676814292, 99.24506458422685, 98.97569760590531, 98.6077805456099, 99.14954892933025, 98.94268429098675, 96.99841744763012, 97.08895737630145, 97.8368088050893, 98.16319210776999, 98.49498925602178, 98.57854721336433, 98.70634840473964, 98.72313434172507, 98.463134102505, 98.30306413566437, 100.24740659835292, 100.32642700815686, 100.1696369339608, 99.8974660572549, 100.01115404094116, 100.15813055278433, 101.15302559764704, 101.36361759266671, 101.66096054278441, 101.57324789105883, 101.3986937256118, 101.36867809957259, 101.97930721999998, 101.26016795466664, 100.77926208943134, 100.67780008510202, 100.69105812364707, 101.03852646462745, 100.60561752580391, 101.37688234407847, 101.01084589396076, 101.17729053639212, 101.92347675152935, 101.7095336370196, 100.81890126219609, 101.21119817050983, 101.08620611898043, 100.94123040870595, 101.4292438755295, 101.63981184678424, 101.92777630070591, 101.86706129419612, 101.58203336070589, 102.09342683631374, 102.09274682909799, 101.95704632509795, 101.77938825615686, 102.407156663451, 102.13662803576476, 102.36496041948854, 102.21587867239217, 102.41432409811763, 102.69975410660415, 102.58578055212968, 102.49738157137551, 102.68985203309883, 100.87311456725286, 102.4902624209066, 102.32300856787809, 101.03284907639703, 100.86586965877298, 101.70942958319662, 101.64775147456034, 101.65213553645953, 100.09550164200868, 99.88593179914344, 99.9261096495507, 100.72475878155532, 100.49116641533638, 100.26553808987882, 100.57561502305589, 100.4455191665494, 100.32819049378656, 100.51456376983201, 100.90743695920287, 100.98940930538967, 100.07793242411788, 100.45963405471117, 100.08263770461424, 100.14514095944162, 101.37442496533538, 101.94248744641331, 102.13407774637454, 102.09150502605654, 102.20644164968759, 102.51192109529109, 102.66861707266376, 102.85856353152383, 102.70522681644049, 102.84375949305932, 103.13570234079106, 103.04148022062809, 103.29387707134549, 103.41236461046918, 103.63861367956557, 104.25057385810403, 104.49030381750771, 104.591349137003, 105.07245913138381, 104.73919852958717, 104.35052623581805, 104.7992221305811, 104.81006792928139, 104.39993681750772, 104.36575876735478, 104.55818116162094, 104.4932484179664, 104.61466578333341, 104.83649921521408, 105.5421580126911, 105.30040767484701, 105.55197794999997, 104.98737283874398, 105.22280476475149, 105.08488921681959, 104.54608555191129, 104.73627362798173, 105.25570300811529, 105.26091637307545, 105.2083047671596, 104.10744431717865, 104.99476136147133, 104.76910808706864, 104.12867900356464, 104.20590037626094, 103.93800660401976, 104.05954739696625, 104.3241440395905, 104.70678366879024, 104.85774664747818, 105.24911129579067, 104.68012154592343, 104.73488532901021, 105.03765690663636, 106.55186393530524, 106.93924197883952, 107.61674832309434, 108.29977934346277, 109.09717029210626, 108.32040207751592, 107.94660443539092, 108.07813444474374, 108.73150356498314, 109.02202597493454, 109.38497199992516, 109.11837732689862, 108.52205271533856, 109.42002885589226, 110.01035768290312, 109.65536747257762, 109.6690881408904, 110.23013123269736, 110.24916272783389, 110.28110874582866, 110.24083527485972, 110.45841267467266, 109.95018018331464, 110.87984113481372, 111.28893113029731, 111.83926753041023, 112.26161089868273, 112.37180642235604, 112.41009313010915, 112.42703632716596, 113.37347586187583, 114.01596181238239, 113.5044033013549, 114.25850612442602, 113.93357207293941, 114.42150550974786, 115.38644724189686, 115.43158536575085, 115.65008488009033, 115.61418713699662, 116.6716411442228, 115.91348762807678, 114.50811685363192, 114.3477311823109, 114.32978113400077, 111.79423805538346, 107.24628823141215, 108.48088212315828, 108.24850290374009, 104.55558953808084, 105.72489422259162, 106.98831563301852, 107.22186106173027, 108.51902320392897, 109.44160990522099, 109.559911314167, 108.48094100328673, 107.72121464442766, 107.78206416803928, 109.44192725980355, 110.56557063581413, 109.00122080211557, 107.56313106475257, 106.51656031518323, 106.94161619633506, 108.17694092161558, 108.41669146896035, 108.01408370258044, 108.55646584315632, 110.24719244936428, 110.02022288556469, 109.45489705856394, 108.57754834525058, 108.39693023747193, 108.7824273155572, 107.1393289131638, 107.02101662004486, 107.19416287172774, 104.70680646245327, 102.70099920837696, 104.9614772752057, 103.98374481757666], \"yaxis\": \"y13\"}],\n",
       "                        {\"height\": 768, \"template\": {\"data\": {\"bar\": [{\"error_x\": {\"color\": \"#2a3f5f\"}, \"error_y\": {\"color\": \"#2a3f5f\"}, \"marker\": {\"line\": {\"color\": \"#E5ECF6\", \"width\": 0.5}}, \"type\": \"bar\"}], \"barpolar\": [{\"marker\": {\"line\": {\"color\": \"#E5ECF6\", \"width\": 0.5}}, \"type\": \"barpolar\"}], \"carpet\": [{\"aaxis\": {\"endlinecolor\": \"#2a3f5f\", \"gridcolor\": \"white\", \"linecolor\": \"white\", \"minorgridcolor\": \"white\", \"startlinecolor\": \"#2a3f5f\"}, \"baxis\": {\"endlinecolor\": \"#2a3f5f\", \"gridcolor\": \"white\", \"linecolor\": \"white\", \"minorgridcolor\": \"white\", \"startlinecolor\": \"#2a3f5f\"}, \"type\": \"carpet\"}], \"choropleth\": [{\"colorbar\": {\"outlinewidth\": 0, \"ticks\": \"\"}, \"type\": \"choropleth\"}], \"contour\": [{\"colorbar\": {\"outlinewidth\": 0, \"ticks\": \"\"}, \"colorscale\": [[0.0, \"#0d0887\"], [0.1111111111111111, \"#46039f\"], [0.2222222222222222, \"#7201a8\"], [0.3333333333333333, \"#9c179e\"], [0.4444444444444444, \"#bd3786\"], [0.5555555555555556, \"#d8576b\"], [0.6666666666666666, \"#ed7953\"], [0.7777777777777778, \"#fb9f3a\"], [0.8888888888888888, \"#fdca26\"], [1.0, \"#f0f921\"]], \"type\": \"contour\"}], \"contourcarpet\": [{\"colorbar\": {\"outlinewidth\": 0, \"ticks\": \"\"}, \"type\": \"contourcarpet\"}], \"heatmap\": [{\"colorbar\": {\"outlinewidth\": 0, \"ticks\": \"\"}, \"colorscale\": [[0.0, \"#0d0887\"], [0.1111111111111111, \"#46039f\"], [0.2222222222222222, \"#7201a8\"], [0.3333333333333333, \"#9c179e\"], [0.4444444444444444, \"#bd3786\"], [0.5555555555555556, \"#d8576b\"], [0.6666666666666666, \"#ed7953\"], [0.7777777777777778, \"#fb9f3a\"], [0.8888888888888888, \"#fdca26\"], [1.0, \"#f0f921\"]], \"type\": \"heatmap\"}], \"heatmapgl\": [{\"colorbar\": {\"outlinewidth\": 0, \"ticks\": \"\"}, \"colorscale\": [[0.0, \"#0d0887\"], [0.1111111111111111, \"#46039f\"], [0.2222222222222222, \"#7201a8\"], [0.3333333333333333, \"#9c179e\"], [0.4444444444444444, \"#bd3786\"], [0.5555555555555556, \"#d8576b\"], [0.6666666666666666, \"#ed7953\"], [0.7777777777777778, \"#fb9f3a\"], [0.8888888888888888, \"#fdca26\"], [1.0, \"#f0f921\"]], \"type\": \"heatmapgl\"}], \"histogram\": [{\"marker\": {\"colorbar\": {\"outlinewidth\": 0, \"ticks\": \"\"}}, \"type\": \"histogram\"}], \"histogram2d\": [{\"colorbar\": {\"outlinewidth\": 0, \"ticks\": \"\"}, \"colorscale\": [[0.0, \"#0d0887\"], [0.1111111111111111, \"#46039f\"], [0.2222222222222222, \"#7201a8\"], [0.3333333333333333, \"#9c179e\"], [0.4444444444444444, \"#bd3786\"], [0.5555555555555556, \"#d8576b\"], [0.6666666666666666, \"#ed7953\"], [0.7777777777777778, \"#fb9f3a\"], [0.8888888888888888, \"#fdca26\"], [1.0, \"#f0f921\"]], \"type\": \"histogram2d\"}], \"histogram2dcontour\": [{\"colorbar\": {\"outlinewidth\": 0, \"ticks\": \"\"}, \"colorscale\": [[0.0, \"#0d0887\"], [0.1111111111111111, \"#46039f\"], [0.2222222222222222, \"#7201a8\"], [0.3333333333333333, \"#9c179e\"], [0.4444444444444444, \"#bd3786\"], [0.5555555555555556, \"#d8576b\"], [0.6666666666666666, \"#ed7953\"], [0.7777777777777778, \"#fb9f3a\"], [0.8888888888888888, \"#fdca26\"], [1.0, \"#f0f921\"]], \"type\": \"histogram2dcontour\"}], \"mesh3d\": [{\"colorbar\": {\"outlinewidth\": 0, \"ticks\": \"\"}, \"type\": \"mesh3d\"}], \"parcoords\": [{\"line\": {\"colorbar\": {\"outlinewidth\": 0, \"ticks\": \"\"}}, \"type\": \"parcoords\"}], \"scatter\": [{\"marker\": {\"colorbar\": {\"outlinewidth\": 0, \"ticks\": \"\"}}, \"type\": \"scatter\"}], \"scatter3d\": [{\"line\": {\"colorbar\": {\"outlinewidth\": 0, \"ticks\": \"\"}}, \"marker\": {\"colorbar\": {\"outlinewidth\": 0, \"ticks\": \"\"}}, \"type\": \"scatter3d\"}], \"scattercarpet\": [{\"marker\": {\"colorbar\": {\"outlinewidth\": 0, \"ticks\": \"\"}}, \"type\": \"scattercarpet\"}], \"scattergeo\": [{\"marker\": {\"colorbar\": {\"outlinewidth\": 0, \"ticks\": \"\"}}, \"type\": \"scattergeo\"}], \"scattergl\": [{\"marker\": {\"colorbar\": {\"outlinewidth\": 0, \"ticks\": \"\"}}, \"type\": \"scattergl\"}], \"scattermapbox\": [{\"marker\": {\"colorbar\": {\"outlinewidth\": 0, \"ticks\": \"\"}}, \"type\": \"scattermapbox\"}], \"scatterpolar\": [{\"marker\": {\"colorbar\": {\"outlinewidth\": 0, \"ticks\": \"\"}}, \"type\": \"scatterpolar\"}], \"scatterpolargl\": [{\"marker\": {\"colorbar\": {\"outlinewidth\": 0, \"ticks\": \"\"}}, \"type\": \"scatterpolargl\"}], \"scatterternary\": [{\"marker\": {\"colorbar\": {\"outlinewidth\": 0, \"ticks\": \"\"}}, \"type\": \"scatterternary\"}], \"surface\": [{\"colorbar\": {\"outlinewidth\": 0, \"ticks\": \"\"}, \"colorscale\": [[0.0, \"#0d0887\"], [0.1111111111111111, \"#46039f\"], [0.2222222222222222, \"#7201a8\"], [0.3333333333333333, \"#9c179e\"], [0.4444444444444444, \"#bd3786\"], [0.5555555555555556, \"#d8576b\"], [0.6666666666666666, \"#ed7953\"], [0.7777777777777778, \"#fb9f3a\"], [0.8888888888888888, \"#fdca26\"], [1.0, \"#f0f921\"]], \"type\": \"surface\"}], \"table\": [{\"cells\": {\"fill\": {\"color\": \"#EBF0F8\"}, \"line\": {\"color\": \"white\"}}, \"header\": {\"fill\": {\"color\": \"#C8D4E3\"}, \"line\": {\"color\": \"white\"}}, \"type\": \"table\"}]}, \"layout\": {\"annotationdefaults\": {\"arrowcolor\": \"#2a3f5f\", \"arrowhead\": 0, \"arrowwidth\": 1}, \"colorscale\": {\"diverging\": [[0, \"#8e0152\"], [0.1, \"#c51b7d\"], [0.2, \"#de77ae\"], [0.3, \"#f1b6da\"], [0.4, \"#fde0ef\"], [0.5, \"#f7f7f7\"], [0.6, \"#e6f5d0\"], [0.7, \"#b8e186\"], [0.8, \"#7fbc41\"], [0.9, \"#4d9221\"], [1, \"#276419\"]], \"sequential\": [[0.0, \"#0d0887\"], [0.1111111111111111, \"#46039f\"], [0.2222222222222222, \"#7201a8\"], [0.3333333333333333, \"#9c179e\"], [0.4444444444444444, \"#bd3786\"], [0.5555555555555556, \"#d8576b\"], [0.6666666666666666, \"#ed7953\"], [0.7777777777777778, \"#fb9f3a\"], [0.8888888888888888, \"#fdca26\"], [1.0, \"#f0f921\"]], \"sequentialminus\": [[0.0, \"#0d0887\"], [0.1111111111111111, \"#46039f\"], [0.2222222222222222, \"#7201a8\"], [0.3333333333333333, \"#9c179e\"], [0.4444444444444444, \"#bd3786\"], [0.5555555555555556, \"#d8576b\"], [0.6666666666666666, \"#ed7953\"], [0.7777777777777778, \"#fb9f3a\"], [0.8888888888888888, \"#fdca26\"], [1.0, \"#f0f921\"]]}, \"colorway\": [\"#636efa\", \"#EF553B\", \"#00cc96\", \"#ab63fa\", \"#FFA15A\", \"#19d3f3\", \"#FF6692\", \"#B6E880\", \"#FF97FF\", \"#FECB52\"], \"font\": {\"color\": \"#2a3f5f\"}, \"geo\": {\"bgcolor\": \"white\", \"lakecolor\": \"white\", \"landcolor\": \"#E5ECF6\", \"showlakes\": true, \"showland\": true, \"subunitcolor\": \"white\"}, \"hoverlabel\": {\"align\": \"left\"}, \"hovermode\": \"closest\", \"mapbox\": {\"style\": \"light\"}, \"paper_bgcolor\": \"white\", \"plot_bgcolor\": \"#E5ECF6\", \"polar\": {\"angularaxis\": {\"gridcolor\": \"white\", \"linecolor\": \"white\", \"ticks\": \"\"}, \"bgcolor\": \"#E5ECF6\", \"radialaxis\": {\"gridcolor\": \"white\", \"linecolor\": \"white\", \"ticks\": \"\"}}, \"scene\": {\"xaxis\": {\"backgroundcolor\": \"#E5ECF6\", \"gridcolor\": \"white\", \"gridwidth\": 2, \"linecolor\": \"white\", \"showbackground\": true, \"ticks\": \"\", \"zerolinecolor\": \"white\"}, \"yaxis\": {\"backgroundcolor\": \"#E5ECF6\", \"gridcolor\": \"white\", \"gridwidth\": 2, \"linecolor\": \"white\", \"showbackground\": true, \"ticks\": \"\", \"zerolinecolor\": \"white\"}, \"zaxis\": {\"backgroundcolor\": \"#E5ECF6\", \"gridcolor\": \"white\", \"gridwidth\": 2, \"linecolor\": \"white\", \"showbackground\": true, \"ticks\": \"\", \"zerolinecolor\": \"white\"}}, \"shapedefaults\": {\"line\": {\"color\": \"#2a3f5f\"}}, \"ternary\": {\"aaxis\": {\"gridcolor\": \"white\", \"linecolor\": \"white\", \"ticks\": \"\"}, \"baxis\": {\"gridcolor\": \"white\", \"linecolor\": \"white\", \"ticks\": \"\"}, \"bgcolor\": \"#E5ECF6\", \"caxis\": {\"gridcolor\": \"white\", \"linecolor\": \"white\", \"ticks\": \"\"}}, \"title\": {\"x\": 0.05}, \"xaxis\": {\"automargin\": true, \"gridcolor\": \"white\", \"linecolor\": \"white\", \"ticks\": \"\", \"zerolinecolor\": \"white\", \"zerolinewidth\": 2}, \"yaxis\": {\"automargin\": true, \"gridcolor\": \"white\", \"linecolor\": \"white\", \"ticks\": \"\", \"zerolinecolor\": \"white\", \"zerolinewidth\": 2}}}, \"title\": {\"text\": \"NAV Diario\"}, \"width\": 1024, \"xaxis\": {\"anchor\": \"y\", \"domain\": [0.0, 0.11666666666666665], \"title\": {\"text\": \"D\\u00edas\"}}, \"xaxis10\": {\"anchor\": \"y10\", \"domain\": [0.53, 0.6466666666666667], \"title\": {\"text\": \"D\\u00edas\"}}, \"xaxis11\": {\"anchor\": \"y11\", \"domain\": [0.7066666666666666, 0.8233333333333333], \"title\": {\"text\": \"D\\u00edas\"}}, \"xaxis12\": {\"anchor\": \"y12\", \"domain\": [0.8833333333333333, 1.0], \"title\": {\"text\": \"D\\u00edas\"}}, \"xaxis13\": {\"anchor\": \"y13\", \"domain\": [0.0, 0.11666666666666665], \"title\": {\"text\": \"D\\u00edas\"}}, \"xaxis14\": {\"anchor\": \"y14\", \"domain\": [0.17666666666666664, 0.2933333333333333], \"title\": {\"text\": \"D\\u00edas\"}}, \"xaxis15\": {\"anchor\": \"y15\", \"domain\": [0.3533333333333333, 0.4699999999999999], \"title\": {\"text\": \"D\\u00edas\"}}, \"xaxis16\": {\"anchor\": \"y16\", \"domain\": [0.53, 0.6466666666666667], \"title\": {\"text\": \"D\\u00edas\"}}, \"xaxis17\": {\"anchor\": \"y17\", \"domain\": [0.7066666666666666, 0.8233333333333333], \"title\": {\"text\": \"D\\u00edas\"}}, \"xaxis18\": {\"anchor\": \"y18\", \"domain\": [0.8833333333333333, 1.0], \"title\": {\"text\": \"D\\u00edas\"}}, \"xaxis2\": {\"anchor\": \"y2\", \"domain\": [0.17666666666666664, 0.2933333333333333], \"title\": {\"text\": \"D\\u00edas\"}}, \"xaxis3\": {\"anchor\": \"y3\", \"domain\": [0.3533333333333333, 0.4699999999999999], \"title\": {\"text\": \"D\\u00edas\"}}, \"xaxis4\": {\"anchor\": \"y4\", \"domain\": [0.53, 0.6466666666666667], \"title\": {\"text\": \"D\\u00edas\"}}, \"xaxis5\": {\"anchor\": \"y5\", \"domain\": [0.7066666666666666, 0.8233333333333333], \"title\": {\"text\": \"D\\u00edas\"}}, \"xaxis6\": {\"anchor\": \"y6\", \"domain\": [0.8833333333333333, 1.0], \"title\": {\"text\": \"D\\u00edas\"}}, \"xaxis7\": {\"anchor\": \"y7\", \"domain\": [0.0, 0.11666666666666665], \"title\": {\"text\": \"D\\u00edas\"}}, \"xaxis8\": {\"anchor\": \"y8\", \"domain\": [0.17666666666666664, 0.2933333333333333], \"title\": {\"text\": \"D\\u00edas\"}}, \"xaxis9\": {\"anchor\": \"y9\", \"domain\": [0.3533333333333333, 0.4699999999999999], \"title\": {\"text\": \"D\\u00edas\"}}, \"yaxis\": {\"anchor\": \"x\", \"domain\": [0.8, 1.0], \"title\": {\"text\": \"NAV\"}}, \"yaxis10\": {\"anchor\": \"x10\", \"domain\": [0.4, 0.6], \"title\": {\"text\": \"NAV\"}}, \"yaxis11\": {\"anchor\": \"x11\", \"domain\": [0.4, 0.6], \"title\": {\"text\": \"NAV\"}}, \"yaxis12\": {\"anchor\": \"x12\", \"domain\": [0.4, 0.6], \"title\": {\"text\": \"NAV\"}}, \"yaxis13\": {\"anchor\": \"x13\", \"domain\": [0.0, 0.19999999999999998], \"title\": {\"text\": \"NAV\"}}, \"yaxis14\": {\"anchor\": \"x14\", \"domain\": [0.0, 0.19999999999999998], \"title\": {\"text\": \"NAV\"}}, \"yaxis15\": {\"anchor\": \"x15\", \"domain\": [0.0, 0.19999999999999998], \"title\": {\"text\": \"NAV\"}}, \"yaxis16\": {\"anchor\": \"x16\", \"domain\": [0.0, 0.19999999999999998], \"title\": {\"text\": \"NAV\"}}, \"yaxis17\": {\"anchor\": \"x17\", \"domain\": [0.0, 0.19999999999999998], \"title\": {\"text\": \"NAV\"}}, \"yaxis18\": {\"anchor\": \"x18\", \"domain\": [0.0, 0.19999999999999998], \"title\": {\"text\": \"NAV\"}}, \"yaxis2\": {\"anchor\": \"x2\", \"domain\": [0.8, 1.0], \"title\": {\"text\": \"NAV\"}}, \"yaxis3\": {\"anchor\": \"x3\", \"domain\": [0.8, 1.0], \"title\": {\"text\": \"NAV\"}}, \"yaxis4\": {\"anchor\": \"x4\", \"domain\": [0.8, 1.0], \"title\": {\"text\": \"NAV\"}}, \"yaxis5\": {\"anchor\": \"x5\", \"domain\": [0.8, 1.0], \"title\": {\"text\": \"NAV\"}}, \"yaxis6\": {\"anchor\": \"x6\", \"domain\": [0.8, 1.0], \"title\": {\"text\": \"NAV\"}}, \"yaxis7\": {\"anchor\": \"x7\", \"domain\": [0.4, 0.6], \"title\": {\"text\": \"NAV\"}}, \"yaxis8\": {\"anchor\": \"x8\", \"domain\": [0.4, 0.6], \"title\": {\"text\": \"NAV\"}}, \"yaxis9\": {\"anchor\": \"x9\", \"domain\": [0.4, 0.6], \"title\": {\"text\": \"NAV\"}}},\n",
       "                        {\"responsive\": true}\n",
       "                    ).then(function(){\n",
       "                            \n",
       "var gd = document.getElementById('1f9e81ac-29f4-45c6-8fab-887598022317');\n",
       "var x = new MutationObserver(function (mutations, observer) {{\n",
       "        var display = window.getComputedStyle(gd).display;\n",
       "        if (!display || display === 'none') {{\n",
       "            console.log([gd, 'removed!']);\n",
       "            Plotly.purge(gd);\n",
       "            observer.disconnect();\n",
       "        }}\n",
       "}});\n",
       "\n",
       "// Listen for the removal of the full notebook cells\n",
       "var notebookContainer = gd.closest('#notebook-container');\n",
       "if (notebookContainer) {{\n",
       "    x.observe(notebookContainer, {childList: true});\n",
       "}}\n",
       "\n",
       "// Listen for the clearing of the current output cell\n",
       "var outputEl = gd.closest('.output');\n",
       "if (outputEl) {{\n",
       "    x.observe(outputEl, {childList: true});\n",
       "}}\n",
       "\n",
       "                        })\n",
       "                };\n",
       "                });\n",
       "            </script>\n",
       "        </div>"
      ]
     },
     "metadata": {},
     "output_type": "display_data"
    }
   ],
   "source": [
    "from plotly.subplots import make_subplots\n",
    "\n",
    "fig = make_subplots(rows=3, cols=6, horizontal_spacing = 0.06, vertical_spacing=0.2)\n",
    "\n",
    "fig.add_trace(go.Scatter(y=nav_t[0], name=\"Caso 1\"),row=1, col=1)\n",
    "fig.add_trace(go.Scatter(y=nav_t[1], name=\"Caso 2\"),row=1, col=2)\n",
    "fig.add_trace(go.Scatter(y=nav_t[2], name=\"Caso 3\"),row=1, col=3)\n",
    "fig.add_trace(go.Scatter(y=nav_t[3], name=\"Caso 4\"),row=1, col=4)\n",
    "fig.add_trace(go.Scatter(y=nav_t[4], name=\"Caso 5\"),row=1, col=5)\n",
    "fig.add_trace(go.Scatter(y=nav_t[5], name=\"Caso 6\"),row=1, col=6)\n",
    "fig.add_trace(go.Scatter(y=nav_t[6], name=\"Caso 7\"),row=2, col=1)\n",
    "fig.add_trace(go.Scatter(y=nav_t[7], name=\"Caso 8\"),row=2, col=2)\n",
    "fig.add_trace(go.Scatter(y=nav_t[8], name=\"Caso 9\"),row=2, col=3)\n",
    "fig.add_trace(go.Scatter(y=nav_t[9], name=\"Caso 10\"),row=2, col=4)\n",
    "fig.add_trace(go.Scatter(y=nav_t[10], name=\"Caso 11\"),row=2, col=5)\n",
    "fig.add_trace(go.Scatter(y=nav_t[11], name=\"Caso 12\"),row=2, col=6)\n",
    "fig.add_trace(go.Scatter(y=nav_original, name=\"Original iShares\"),row=3, col=1)\n",
    "\n",
    "fig.update_xaxes(title_text=\"Días\")\n",
    "fig.update_yaxes(title_text=\"NAV\")\n",
    "\n",
    "fig.update_layout(height=768, width=1024, title_text=\"NAV Diario\")\n",
    "fig.show()"
   ]
  },
  {
   "cell_type": "markdown",
   "metadata": {},
   "source": [
    "### Comparación de rendimientos"
   ]
  },
  {
   "cell_type": "markdown",
   "metadata": {},
   "source": [
    "Se entiende por rendimiento la pérdida/ganancia que se obtiene de una operación financiera."
   ]
  },
  {
   "cell_type": "code",
   "execution_count": 375,
   "metadata": {
    "scrolled": false
   },
   "outputs": [
    {
     "data": {
      "text/html": [
       "<div>\n",
       "<style scoped>\n",
       "    .dataframe tbody tr th:only-of-type {\n",
       "        vertical-align: middle;\n",
       "    }\n",
       "\n",
       "    .dataframe tbody tr th {\n",
       "        vertical-align: top;\n",
       "    }\n",
       "\n",
       "    .dataframe thead th {\n",
       "        text-align: right;\n",
       "    }\n",
       "</style>\n",
       "<table border=\"1\" class=\"dataframe\">\n",
       "  <thead>\n",
       "    <tr style=\"text-align: right;\">\n",
       "      <th></th>\n",
       "      <th>Original iShares</th>\n",
       "      <th>Caso 1</th>\n",
       "      <th>Caso 2</th>\n",
       "      <th>Caso 3</th>\n",
       "      <th>Caso 4</th>\n",
       "      <th>Caso 5</th>\n",
       "      <th>Caso 6</th>\n",
       "      <th>Caso 7</th>\n",
       "      <th>Caso 8</th>\n",
       "      <th>Caso 9</th>\n",
       "      <th>Caso 10</th>\n",
       "      <th>Caso 11</th>\n",
       "      <th>Caso 12</th>\n",
       "      <th>Proposal</th>\n",
       "    </tr>\n",
       "  </thead>\n",
       "  <tbody>\n",
       "    <tr>\n",
       "      <th>2017-04</th>\n",
       "      <td>-0.001850</td>\n",
       "      <td>0.000572</td>\n",
       "      <td>0.000572</td>\n",
       "      <td>0.000572</td>\n",
       "      <td>0.000572</td>\n",
       "      <td>0.000572</td>\n",
       "      <td>0.000572</td>\n",
       "      <td>0.000572</td>\n",
       "      <td>0.000572</td>\n",
       "      <td>0.000572</td>\n",
       "      <td>0.000572</td>\n",
       "      <td>0.000572</td>\n",
       "      <td>0.000572</td>\n",
       "      <td>0.047096</td>\n",
       "    </tr>\n",
       "    <tr>\n",
       "      <th>2017-05</th>\n",
       "      <td>-0.017715</td>\n",
       "      <td>-0.006936</td>\n",
       "      <td>-0.007641</td>\n",
       "      <td>-0.006936</td>\n",
       "      <td>-0.006936</td>\n",
       "      <td>-0.006936</td>\n",
       "      <td>-0.006936</td>\n",
       "      <td>-0.006936</td>\n",
       "      <td>-0.006936</td>\n",
       "      <td>-0.006936</td>\n",
       "      <td>-0.006936</td>\n",
       "      <td>-0.006936</td>\n",
       "      <td>-0.006936</td>\n",
       "      <td>-0.007952</td>\n",
       "    </tr>\n",
       "    <tr>\n",
       "      <th>2017-06</th>\n",
       "      <td>0.029238</td>\n",
       "      <td>0.002359</td>\n",
       "      <td>0.002378</td>\n",
       "      <td>0.009276</td>\n",
       "      <td>0.002359</td>\n",
       "      <td>0.002359</td>\n",
       "      <td>0.002359</td>\n",
       "      <td>0.002359</td>\n",
       "      <td>0.002359</td>\n",
       "      <td>0.002359</td>\n",
       "      <td>0.002359</td>\n",
       "      <td>0.002359</td>\n",
       "      <td>0.002359</td>\n",
       "      <td>-0.049223</td>\n",
       "    </tr>\n",
       "    <tr>\n",
       "      <th>2017-07</th>\n",
       "      <td>0.012229</td>\n",
       "      <td>0.001410</td>\n",
       "      <td>0.001383</td>\n",
       "      <td>0.001350</td>\n",
       "      <td>0.004816</td>\n",
       "      <td>0.001410</td>\n",
       "      <td>0.001410</td>\n",
       "      <td>0.001410</td>\n",
       "      <td>0.001410</td>\n",
       "      <td>0.001410</td>\n",
       "      <td>0.001410</td>\n",
       "      <td>0.001410</td>\n",
       "      <td>0.001410</td>\n",
       "      <td>0.057951</td>\n",
       "    </tr>\n",
       "    <tr>\n",
       "      <th>2017-08</th>\n",
       "      <td>-0.014716</td>\n",
       "      <td>-0.021721</td>\n",
       "      <td>-0.021724</td>\n",
       "      <td>-0.021774</td>\n",
       "      <td>-0.021724</td>\n",
       "      <td>-0.017452</td>\n",
       "      <td>-0.021721</td>\n",
       "      <td>-0.021721</td>\n",
       "      <td>-0.021721</td>\n",
       "      <td>-0.021721</td>\n",
       "      <td>-0.021721</td>\n",
       "      <td>-0.021721</td>\n",
       "      <td>-0.021721</td>\n",
       "      <td>0.000705</td>\n",
       "    </tr>\n",
       "    <tr>\n",
       "      <th>2017-09</th>\n",
       "      <td>0.027067</td>\n",
       "      <td>0.026588</td>\n",
       "      <td>0.026597</td>\n",
       "      <td>0.026372</td>\n",
       "      <td>0.026419</td>\n",
       "      <td>0.026372</td>\n",
       "      <td>0.026232</td>\n",
       "      <td>0.026588</td>\n",
       "      <td>0.026588</td>\n",
       "      <td>0.026588</td>\n",
       "      <td>0.026588</td>\n",
       "      <td>0.026588</td>\n",
       "      <td>0.026588</td>\n",
       "      <td>0.019081</td>\n",
       "    </tr>\n",
       "    <tr>\n",
       "      <th>2017-10</th>\n",
       "      <td>0.010590</td>\n",
       "      <td>0.002691</td>\n",
       "      <td>0.002712</td>\n",
       "      <td>0.002949</td>\n",
       "      <td>0.002940</td>\n",
       "      <td>0.003025</td>\n",
       "      <td>0.003419</td>\n",
       "      <td>0.004659</td>\n",
       "      <td>0.002691</td>\n",
       "      <td>0.002691</td>\n",
       "      <td>0.002691</td>\n",
       "      <td>0.002691</td>\n",
       "      <td>0.002691</td>\n",
       "      <td>0.003039</td>\n",
       "    </tr>\n",
       "    <tr>\n",
       "      <th>2017-11</th>\n",
       "      <td>0.032502</td>\n",
       "      <td>0.023639</td>\n",
       "      <td>0.023592</td>\n",
       "      <td>0.023571</td>\n",
       "      <td>0.023655</td>\n",
       "      <td>0.023547</td>\n",
       "      <td>0.022639</td>\n",
       "      <td>0.022537</td>\n",
       "      <td>0.022432</td>\n",
       "      <td>0.023639</td>\n",
       "      <td>0.023639</td>\n",
       "      <td>0.023639</td>\n",
       "      <td>0.023639</td>\n",
       "      <td>0.003087</td>\n",
       "    </tr>\n",
       "    <tr>\n",
       "      <th>2017-12</th>\n",
       "      <td>0.016736</td>\n",
       "      <td>0.011326</td>\n",
       "      <td>0.011298</td>\n",
       "      <td>0.011323</td>\n",
       "      <td>0.011312</td>\n",
       "      <td>0.011428</td>\n",
       "      <td>0.011109</td>\n",
       "      <td>0.011193</td>\n",
       "      <td>0.011221</td>\n",
       "      <td>0.015239</td>\n",
       "      <td>0.011326</td>\n",
       "      <td>0.011326</td>\n",
       "      <td>0.011326</td>\n",
       "      <td>0.009929</td>\n",
       "    </tr>\n",
       "    <tr>\n",
       "      <th>2018-01</th>\n",
       "      <td>0.039998</td>\n",
       "      <td>0.035522</td>\n",
       "      <td>0.035485</td>\n",
       "      <td>0.035258</td>\n",
       "      <td>0.035387</td>\n",
       "      <td>0.035287</td>\n",
       "      <td>0.035498</td>\n",
       "      <td>0.035521</td>\n",
       "      <td>0.035519</td>\n",
       "      <td>0.031262</td>\n",
       "      <td>0.031276</td>\n",
       "      <td>0.035522</td>\n",
       "      <td>0.035522</td>\n",
       "      <td>0.016275</td>\n",
       "    </tr>\n",
       "    <tr>\n",
       "      <th>2018-02</th>\n",
       "      <td>-0.057597</td>\n",
       "      <td>-0.053194</td>\n",
       "      <td>-0.053109</td>\n",
       "      <td>-0.053006</td>\n",
       "      <td>-0.053113</td>\n",
       "      <td>-0.053378</td>\n",
       "      <td>-0.053201</td>\n",
       "      <td>-0.053110</td>\n",
       "      <td>-0.053083</td>\n",
       "      <td>-0.061035</td>\n",
       "      <td>-0.060986</td>\n",
       "      <td>-0.059185</td>\n",
       "      <td>-0.053194</td>\n",
       "      <td>-0.033001</td>\n",
       "    </tr>\n",
       "    <tr>\n",
       "      <th>2018-03</th>\n",
       "      <td>-0.023851</td>\n",
       "      <td>-0.033284</td>\n",
       "      <td>-0.033256</td>\n",
       "      <td>-0.031738</td>\n",
       "      <td>-0.030851</td>\n",
       "      <td>-0.030249</td>\n",
       "      <td>-0.030888</td>\n",
       "      <td>-0.030854</td>\n",
       "      <td>-0.030861</td>\n",
       "      <td>-0.024882</td>\n",
       "      <td>-0.024876</td>\n",
       "      <td>-0.022980</td>\n",
       "      <td>-0.023779</td>\n",
       "      <td>0.041650</td>\n",
       "    </tr>\n",
       "  </tbody>\n",
       "</table>\n",
       "</div>"
      ],
      "text/plain": [
       "         Original iShares    Caso 1    Caso 2    Caso 3    Caso 4    Caso 5  \\\n",
       "2017-04         -0.001850  0.000572  0.000572  0.000572  0.000572  0.000572   \n",
       "2017-05         -0.017715 -0.006936 -0.007641 -0.006936 -0.006936 -0.006936   \n",
       "2017-06          0.029238  0.002359  0.002378  0.009276  0.002359  0.002359   \n",
       "2017-07          0.012229  0.001410  0.001383  0.001350  0.004816  0.001410   \n",
       "2017-08         -0.014716 -0.021721 -0.021724 -0.021774 -0.021724 -0.017452   \n",
       "2017-09          0.027067  0.026588  0.026597  0.026372  0.026419  0.026372   \n",
       "2017-10          0.010590  0.002691  0.002712  0.002949  0.002940  0.003025   \n",
       "2017-11          0.032502  0.023639  0.023592  0.023571  0.023655  0.023547   \n",
       "2017-12          0.016736  0.011326  0.011298  0.011323  0.011312  0.011428   \n",
       "2018-01          0.039998  0.035522  0.035485  0.035258  0.035387  0.035287   \n",
       "2018-02         -0.057597 -0.053194 -0.053109 -0.053006 -0.053113 -0.053378   \n",
       "2018-03         -0.023851 -0.033284 -0.033256 -0.031738 -0.030851 -0.030249   \n",
       "\n",
       "           Caso 6    Caso 7    Caso 8    Caso 9   Caso 10   Caso 11   Caso 12  \\\n",
       "2017-04  0.000572  0.000572  0.000572  0.000572  0.000572  0.000572  0.000572   \n",
       "2017-05 -0.006936 -0.006936 -0.006936 -0.006936 -0.006936 -0.006936 -0.006936   \n",
       "2017-06  0.002359  0.002359  0.002359  0.002359  0.002359  0.002359  0.002359   \n",
       "2017-07  0.001410  0.001410  0.001410  0.001410  0.001410  0.001410  0.001410   \n",
       "2017-08 -0.021721 -0.021721 -0.021721 -0.021721 -0.021721 -0.021721 -0.021721   \n",
       "2017-09  0.026232  0.026588  0.026588  0.026588  0.026588  0.026588  0.026588   \n",
       "2017-10  0.003419  0.004659  0.002691  0.002691  0.002691  0.002691  0.002691   \n",
       "2017-11  0.022639  0.022537  0.022432  0.023639  0.023639  0.023639  0.023639   \n",
       "2017-12  0.011109  0.011193  0.011221  0.015239  0.011326  0.011326  0.011326   \n",
       "2018-01  0.035498  0.035521  0.035519  0.031262  0.031276  0.035522  0.035522   \n",
       "2018-02 -0.053201 -0.053110 -0.053083 -0.061035 -0.060986 -0.059185 -0.053194   \n",
       "2018-03 -0.030888 -0.030854 -0.030861 -0.024882 -0.024876 -0.022980 -0.023779   \n",
       "\n",
       "         Proposal  \n",
       "2017-04  0.047096  \n",
       "2017-05 -0.007952  \n",
       "2017-06 -0.049223  \n",
       "2017-07  0.057951  \n",
       "2017-08  0.000705  \n",
       "2017-09  0.019081  \n",
       "2017-10  0.003039  \n",
       "2017-11  0.003087  \n",
       "2017-12  0.009929  \n",
       "2018-01  0.016275  \n",
       "2018-02 -0.033001  \n",
       "2018-03  0.041650  "
      ]
     },
     "execution_count": 375,
     "metadata": {},
     "output_type": "execute_result"
    }
   ],
   "source": [
    "r_dates = dates[:-1]\n",
    "colmns = ['Caso '+str(i) for i in range(1,len(rend)+1)] #Generacion de columnas df\n",
    "colmns.insert(0, \"Original iShares\")\n",
    "rend_table = pd.DataFrame(index=r_dates, columns=colmns)\n",
    "rend_table['Original iShares'] = rend_etf_mensual\n",
    "for i in colmns[1::]:\n",
    "    case = colmns[1::].index(i) #Se extrae el numero de la columna para buscarlo en los rendimientos mensuales de quandl\n",
    "    rend_table[i] = rend[case] #Columna se le asigna el caso correspondiente\n",
    "pd.set_option('precision', 4)\n",
    "rend_table['Proposal'] = rend_mensual_n\n",
    "rend_table"
   ]
  },
  {
   "cell_type": "markdown",
   "metadata": {},
   "source": [
    "### Comparación de volatilidad"
   ]
  },
  {
   "cell_type": "markdown",
   "metadata": {},
   "source": [
    "La volatilidad es una medida que se encarga de calcular la variabilidad que existe en los precios de un activo; la desviación estándar suele ser utilizada como volatilidad."
   ]
  },
  {
   "cell_type": "code",
   "execution_count": 376,
   "metadata": {
    "scrolled": true
   },
   "outputs": [
    {
     "data": {
      "text/html": [
       "<div>\n",
       "<style scoped>\n",
       "    .dataframe tbody tr th:only-of-type {\n",
       "        vertical-align: middle;\n",
       "    }\n",
       "\n",
       "    .dataframe tbody tr th {\n",
       "        vertical-align: top;\n",
       "    }\n",
       "\n",
       "    .dataframe thead th {\n",
       "        text-align: right;\n",
       "    }\n",
       "</style>\n",
       "<table border=\"1\" class=\"dataframe\">\n",
       "  <thead>\n",
       "    <tr style=\"text-align: right;\">\n",
       "      <th></th>\n",
       "      <th>Original iShares</th>\n",
       "      <th>Caso 1</th>\n",
       "      <th>Caso 2</th>\n",
       "      <th>Caso 3</th>\n",
       "      <th>Caso 4</th>\n",
       "      <th>Caso 5</th>\n",
       "      <th>Caso 6</th>\n",
       "      <th>Caso 7</th>\n",
       "      <th>Caso 8</th>\n",
       "      <th>Caso 9</th>\n",
       "      <th>Caso 10</th>\n",
       "      <th>Caso 11</th>\n",
       "      <th>Caso 12</th>\n",
       "      <th>Proposal</th>\n",
       "    </tr>\n",
       "  </thead>\n",
       "  <tbody>\n",
       "    <tr>\n",
       "      <th>2017-04</th>\n",
       "      <td>21.685445</td>\n",
       "      <td>21.685445</td>\n",
       "      <td>21.685445</td>\n",
       "      <td>21.685445</td>\n",
       "      <td>21.685445</td>\n",
       "      <td>21.685445</td>\n",
       "      <td>21.685445</td>\n",
       "      <td>21.685445</td>\n",
       "      <td>21.685445</td>\n",
       "      <td>21.685445</td>\n",
       "      <td>21.685445</td>\n",
       "      <td>21.685445</td>\n",
       "      <td>21.685445</td>\n",
       "      <td>0.262218</td>\n",
       "    </tr>\n",
       "    <tr>\n",
       "      <th>2017-05</th>\n",
       "      <td>0.648849</td>\n",
       "      <td>0.628055</td>\n",
       "      <td>0.648849</td>\n",
       "      <td>0.628055</td>\n",
       "      <td>0.628055</td>\n",
       "      <td>0.628055</td>\n",
       "      <td>0.628055</td>\n",
       "      <td>0.628055</td>\n",
       "      <td>0.628055</td>\n",
       "      <td>0.628055</td>\n",
       "      <td>0.628055</td>\n",
       "      <td>0.628055</td>\n",
       "      <td>0.628055</td>\n",
       "      <td>0.015826</td>\n",
       "    </tr>\n",
       "    <tr>\n",
       "      <th>2017-06</th>\n",
       "      <td>0.573561</td>\n",
       "      <td>0.578208</td>\n",
       "      <td>0.571615</td>\n",
       "      <td>0.573561</td>\n",
       "      <td>0.578208</td>\n",
       "      <td>0.578208</td>\n",
       "      <td>0.578208</td>\n",
       "      <td>0.578208</td>\n",
       "      <td>0.578208</td>\n",
       "      <td>0.578208</td>\n",
       "      <td>0.578208</td>\n",
       "      <td>0.578208</td>\n",
       "      <td>0.578208</td>\n",
       "      <td>0.021125</td>\n",
       "    </tr>\n",
       "    <tr>\n",
       "      <th>2017-07</th>\n",
       "      <td>0.466445</td>\n",
       "      <td>0.459677</td>\n",
       "      <td>0.454686</td>\n",
       "      <td>0.461206</td>\n",
       "      <td>0.466445</td>\n",
       "      <td>0.459677</td>\n",
       "      <td>0.459677</td>\n",
       "      <td>0.459677</td>\n",
       "      <td>0.459677</td>\n",
       "      <td>0.459677</td>\n",
       "      <td>0.459677</td>\n",
       "      <td>0.459677</td>\n",
       "      <td>0.459677</td>\n",
       "      <td>0.028800</td>\n",
       "    </tr>\n",
       "    <tr>\n",
       "      <th>2017-08</th>\n",
       "      <td>0.940602</td>\n",
       "      <td>0.995355</td>\n",
       "      <td>0.984848</td>\n",
       "      <td>1.000717</td>\n",
       "      <td>1.003503</td>\n",
       "      <td>0.940602</td>\n",
       "      <td>0.995355</td>\n",
       "      <td>0.995355</td>\n",
       "      <td>0.995355</td>\n",
       "      <td>0.995355</td>\n",
       "      <td>0.995355</td>\n",
       "      <td>0.995355</td>\n",
       "      <td>0.995355</td>\n",
       "      <td>0.007554</td>\n",
       "    </tr>\n",
       "    <tr>\n",
       "      <th>2017-09</th>\n",
       "      <td>1.138475</td>\n",
       "      <td>1.103494</td>\n",
       "      <td>1.092121</td>\n",
       "      <td>1.101508</td>\n",
       "      <td>1.105368</td>\n",
       "      <td>1.107672</td>\n",
       "      <td>1.138475</td>\n",
       "      <td>1.103494</td>\n",
       "      <td>1.103494</td>\n",
       "      <td>1.103494</td>\n",
       "      <td>1.103494</td>\n",
       "      <td>1.103494</td>\n",
       "      <td>1.103494</td>\n",
       "      <td>0.006585</td>\n",
       "    </tr>\n",
       "    <tr>\n",
       "      <th>2017-10</th>\n",
       "      <td>0.368382</td>\n",
       "      <td>0.366058</td>\n",
       "      <td>0.362257</td>\n",
       "      <td>0.366824</td>\n",
       "      <td>0.366563</td>\n",
       "      <td>0.367374</td>\n",
       "      <td>0.372179</td>\n",
       "      <td>0.368382</td>\n",
       "      <td>0.366058</td>\n",
       "      <td>0.366058</td>\n",
       "      <td>0.366058</td>\n",
       "      <td>0.366058</td>\n",
       "      <td>0.366058</td>\n",
       "      <td>0.012407</td>\n",
       "    </tr>\n",
       "    <tr>\n",
       "      <th>2017-11</th>\n",
       "      <td>0.954586</td>\n",
       "      <td>0.942103</td>\n",
       "      <td>0.931886</td>\n",
       "      <td>0.942519</td>\n",
       "      <td>0.943578</td>\n",
       "      <td>0.943855</td>\n",
       "      <td>0.953532</td>\n",
       "      <td>0.953373</td>\n",
       "      <td>0.954586</td>\n",
       "      <td>0.942103</td>\n",
       "      <td>0.942103</td>\n",
       "      <td>0.942103</td>\n",
       "      <td>0.942103</td>\n",
       "      <td>0.004027</td>\n",
       "    </tr>\n",
       "    <tr>\n",
       "      <th>2017-12</th>\n",
       "      <td>0.790828</td>\n",
       "      <td>0.669874</td>\n",
       "      <td>0.661114</td>\n",
       "      <td>0.671639</td>\n",
       "      <td>0.673983</td>\n",
       "      <td>0.676507</td>\n",
       "      <td>0.676422</td>\n",
       "      <td>0.681203</td>\n",
       "      <td>0.684373</td>\n",
       "      <td>0.790828</td>\n",
       "      <td>0.669874</td>\n",
       "      <td>0.669874</td>\n",
       "      <td>0.669874</td>\n",
       "      <td>0.019811</td>\n",
       "    </tr>\n",
       "    <tr>\n",
       "      <th>2018-01</th>\n",
       "      <td>1.591860</td>\n",
       "      <td>1.686322</td>\n",
       "      <td>1.667662</td>\n",
       "      <td>1.689202</td>\n",
       "      <td>1.698290</td>\n",
       "      <td>1.699415</td>\n",
       "      <td>1.716301</td>\n",
       "      <td>1.720099</td>\n",
       "      <td>1.723843</td>\n",
       "      <td>1.589028</td>\n",
       "      <td>1.591860</td>\n",
       "      <td>1.686322</td>\n",
       "      <td>1.686322</td>\n",
       "      <td>0.014302</td>\n",
       "    </tr>\n",
       "    <tr>\n",
       "      <th>2018-02</th>\n",
       "      <td>2.090026</td>\n",
       "      <td>2.069744</td>\n",
       "      <td>2.047644</td>\n",
       "      <td>2.079668</td>\n",
       "      <td>2.088569</td>\n",
       "      <td>2.091904</td>\n",
       "      <td>2.113158</td>\n",
       "      <td>2.115269</td>\n",
       "      <td>2.121342</td>\n",
       "      <td>2.093670</td>\n",
       "      <td>2.096797</td>\n",
       "      <td>2.090026</td>\n",
       "      <td>2.069744</td>\n",
       "      <td>0.028617</td>\n",
       "    </tr>\n",
       "    <tr>\n",
       "      <th>2018-03</th>\n",
       "      <td>1.986809</td>\n",
       "      <td>2.010406</td>\n",
       "      <td>1.989658</td>\n",
       "      <td>2.002496</td>\n",
       "      <td>1.998864</td>\n",
       "      <td>1.992045</td>\n",
       "      <td>2.047347</td>\n",
       "      <td>2.050213</td>\n",
       "      <td>2.056089</td>\n",
       "      <td>1.945071</td>\n",
       "      <td>1.947516</td>\n",
       "      <td>1.942434</td>\n",
       "      <td>1.986809</td>\n",
       "      <td>0.025019</td>\n",
       "    </tr>\n",
       "  </tbody>\n",
       "</table>\n",
       "</div>"
      ],
      "text/plain": [
       "         Original iShares    Caso 1    Caso 2    Caso 3    Caso 4    Caso 5  \\\n",
       "2017-04         21.685445 21.685445 21.685445 21.685445 21.685445 21.685445   \n",
       "2017-05          0.648849  0.628055  0.648849  0.628055  0.628055  0.628055   \n",
       "2017-06          0.573561  0.578208  0.571615  0.573561  0.578208  0.578208   \n",
       "2017-07          0.466445  0.459677  0.454686  0.461206  0.466445  0.459677   \n",
       "2017-08          0.940602  0.995355  0.984848  1.000717  1.003503  0.940602   \n",
       "2017-09          1.138475  1.103494  1.092121  1.101508  1.105368  1.107672   \n",
       "2017-10          0.368382  0.366058  0.362257  0.366824  0.366563  0.367374   \n",
       "2017-11          0.954586  0.942103  0.931886  0.942519  0.943578  0.943855   \n",
       "2017-12          0.790828  0.669874  0.661114  0.671639  0.673983  0.676507   \n",
       "2018-01          1.591860  1.686322  1.667662  1.689202  1.698290  1.699415   \n",
       "2018-02          2.090026  2.069744  2.047644  2.079668  2.088569  2.091904   \n",
       "2018-03          1.986809  2.010406  1.989658  2.002496  1.998864  1.992045   \n",
       "\n",
       "           Caso 6    Caso 7    Caso 8    Caso 9   Caso 10   Caso 11   Caso 12  \\\n",
       "2017-04 21.685445 21.685445 21.685445 21.685445 21.685445 21.685445 21.685445   \n",
       "2017-05  0.628055  0.628055  0.628055  0.628055  0.628055  0.628055  0.628055   \n",
       "2017-06  0.578208  0.578208  0.578208  0.578208  0.578208  0.578208  0.578208   \n",
       "2017-07  0.459677  0.459677  0.459677  0.459677  0.459677  0.459677  0.459677   \n",
       "2017-08  0.995355  0.995355  0.995355  0.995355  0.995355  0.995355  0.995355   \n",
       "2017-09  1.138475  1.103494  1.103494  1.103494  1.103494  1.103494  1.103494   \n",
       "2017-10  0.372179  0.368382  0.366058  0.366058  0.366058  0.366058  0.366058   \n",
       "2017-11  0.953532  0.953373  0.954586  0.942103  0.942103  0.942103  0.942103   \n",
       "2017-12  0.676422  0.681203  0.684373  0.790828  0.669874  0.669874  0.669874   \n",
       "2018-01  1.716301  1.720099  1.723843  1.589028  1.591860  1.686322  1.686322   \n",
       "2018-02  2.113158  2.115269  2.121342  2.093670  2.096797  2.090026  2.069744   \n",
       "2018-03  2.047347  2.050213  2.056089  1.945071  1.947516  1.942434  1.986809   \n",
       "\n",
       "         Proposal  \n",
       "2017-04  0.262218  \n",
       "2017-05  0.015826  \n",
       "2017-06  0.021125  \n",
       "2017-07  0.028800  \n",
       "2017-08  0.007554  \n",
       "2017-09  0.006585  \n",
       "2017-10  0.012407  \n",
       "2017-11  0.004027  \n",
       "2017-12  0.019811  \n",
       "2018-01  0.014302  \n",
       "2018-02  0.028617  \n",
       "2018-03  0.025019  "
      ]
     },
     "execution_count": 376,
     "metadata": {},
     "output_type": "execute_result"
    }
   ],
   "source": [
    "r_dates = dates[:-1]\n",
    "colmns = ['Caso '+str(i) for i in range(1,len(rend)+1)]\n",
    "colmns.insert(0, \"Original iShares\")\n",
    "desv_table = pd.DataFrame(index=r_dates, columns=colmns)\n",
    "desv_table['Original iShares'] = desv_original_etf\n",
    "for i in colmns[1::]:\n",
    "    case = colmns[1::].index(i) #Se extrae el numero de la columna para buscarlo en los rendimientos mensuales de quandl\n",
    "    desv_table[i] = desv_std[case] #Columna se le asigna el caso correspondiente\n",
    "pd.set_option('precision', 4)\n",
    "desv_table['Proposal'] = desv_est_n\n",
    "desv_table"
   ]
  },
  {
   "cell_type": "markdown",
   "metadata": {},
   "source": [
    "### Comparación Sharpe Ratio"
   ]
  },
  {
   "cell_type": "markdown",
   "metadata": {},
   "source": [
    "Es una medida de sensibilidad para analizar el rendimiento de una inversión o cartera, tomando en cuenta el riego que lleva dicho movimiento."
   ]
  },
  {
   "cell_type": "markdown",
   "metadata": {},
   "source": [
    ">Extrayendo tasa libre de riesgo de Estados Unidos."
   ]
  },
  {
   "cell_type": "code",
   "execution_count": 377,
   "metadata": {
    "scrolled": true
   },
   "outputs": [],
   "source": [
    "treasury = 'Treasury Yield.xlsx' # Archivo de tasas\n",
    "start_date = '03-01-2017'\n",
    "end_date = '04-01-2018'\n",
    "t_yield = pd.read_excel(treasury, header = 0) #se lee archivo de tasas\n",
    "t_yield['Date'] = pd.to_datetime(t_yield['Date']) #Fechas se convierten a datetime para filtar\n",
    "t_y = t_yield[(t_yield['Date'] > start_date) & (t_yield['Date'] <= end_date)] #Se filtra dataframe por fecha\n",
    "t_y = t_y.sort_values(by=['Date']) #Se ordena en base a fechas\n",
    "rf_rates = [t_y[(t_y['Date'] > dates[i]) & (t_y['Date'] < dates[i+1])].iloc[-1,1] for i in range(len(dates)-1)] #Se extrae el último dato de cada mes"
   ]
  },
  {
   "cell_type": "code",
   "execution_count": 378,
   "metadata": {
    "scrolled": true
   },
   "outputs": [
    {
     "data": {
      "text/html": [
       "<div>\n",
       "<style scoped>\n",
       "    .dataframe tbody tr th:only-of-type {\n",
       "        vertical-align: middle;\n",
       "    }\n",
       "\n",
       "    .dataframe tbody tr th {\n",
       "        vertical-align: top;\n",
       "    }\n",
       "\n",
       "    .dataframe thead th {\n",
       "        text-align: right;\n",
       "    }\n",
       "</style>\n",
       "<table border=\"1\" class=\"dataframe\">\n",
       "  <thead>\n",
       "    <tr style=\"text-align: right;\">\n",
       "      <th></th>\n",
       "      <th>Original iShares</th>\n",
       "      <th>Caso 1</th>\n",
       "      <th>Caso 2</th>\n",
       "      <th>Caso 3</th>\n",
       "      <th>Caso 4</th>\n",
       "      <th>Caso 5</th>\n",
       "      <th>Caso 6</th>\n",
       "      <th>Caso 7</th>\n",
       "      <th>Caso 8</th>\n",
       "      <th>Caso 9</th>\n",
       "      <th>Caso 10</th>\n",
       "      <th>Caso 11</th>\n",
       "      <th>Caso 12</th>\n",
       "      <th>Proposal</th>\n",
       "    </tr>\n",
       "  </thead>\n",
       "  <tbody>\n",
       "    <tr>\n",
       "      <th>2017-04</th>\n",
       "      <td>-0.000111</td>\n",
       "      <td>0.000000</td>\n",
       "      <td>0.000000</td>\n",
       "      <td>0.000000</td>\n",
       "      <td>0.000000</td>\n",
       "      <td>0.000000</td>\n",
       "      <td>0.000000</td>\n",
       "      <td>0.000000</td>\n",
       "      <td>0.000000</td>\n",
       "      <td>0.000000</td>\n",
       "      <td>0.000000</td>\n",
       "      <td>0.000000</td>\n",
       "      <td>0.000000</td>\n",
       "      <td>0.177444</td>\n",
       "    </tr>\n",
       "    <tr>\n",
       "      <th>2017-05</th>\n",
       "      <td>-0.028407</td>\n",
       "      <td>-0.012184</td>\n",
       "      <td>-0.012881</td>\n",
       "      <td>-0.012184</td>\n",
       "      <td>-0.012184</td>\n",
       "      <td>-0.012184</td>\n",
       "      <td>-0.012184</td>\n",
       "      <td>-0.012184</td>\n",
       "      <td>-0.012184</td>\n",
       "      <td>-0.012184</td>\n",
       "      <td>-0.012184</td>\n",
       "      <td>-0.012184</td>\n",
       "      <td>-0.012184</td>\n",
       "      <td>-0.547726</td>\n",
       "    </tr>\n",
       "    <tr>\n",
       "      <th>2017-06</th>\n",
       "      <td>0.049756</td>\n",
       "      <td>0.002870</td>\n",
       "      <td>0.002935</td>\n",
       "      <td>0.014952</td>\n",
       "      <td>0.002870</td>\n",
       "      <td>0.002870</td>\n",
       "      <td>0.002870</td>\n",
       "      <td>0.002870</td>\n",
       "      <td>0.002870</td>\n",
       "      <td>0.002870</td>\n",
       "      <td>0.002870</td>\n",
       "      <td>0.002870</td>\n",
       "      <td>0.002870</td>\n",
       "      <td>-2.363187</td>\n",
       "    </tr>\n",
       "    <tr>\n",
       "      <th>2017-07</th>\n",
       "      <td>0.024431</td>\n",
       "      <td>0.001255</td>\n",
       "      <td>0.001208</td>\n",
       "      <td>0.001119</td>\n",
       "      <td>0.008538</td>\n",
       "      <td>0.001255</td>\n",
       "      <td>0.001255</td>\n",
       "      <td>0.001255</td>\n",
       "      <td>0.001255</td>\n",
       "      <td>0.001255</td>\n",
       "      <td>0.001255</td>\n",
       "      <td>0.001255</td>\n",
       "      <td>0.001255</td>\n",
       "      <td>1.983271</td>\n",
       "    </tr>\n",
       "    <tr>\n",
       "      <th>2017-08</th>\n",
       "      <td>-0.016487</td>\n",
       "      <td>-0.022617</td>\n",
       "      <td>-0.022862</td>\n",
       "      <td>-0.022549</td>\n",
       "      <td>-0.022437</td>\n",
       "      <td>-0.019396</td>\n",
       "      <td>-0.022617</td>\n",
       "      <td>-0.022617</td>\n",
       "      <td>-0.022617</td>\n",
       "      <td>-0.022617</td>\n",
       "      <td>-0.022617</td>\n",
       "      <td>-0.022617</td>\n",
       "      <td>-0.022617</td>\n",
       "      <td>-0.011522</td>\n",
       "    </tr>\n",
       "    <tr>\n",
       "      <th>2017-09</th>\n",
       "      <td>0.023072</td>\n",
       "      <td>0.023369</td>\n",
       "      <td>0.023621</td>\n",
       "      <td>0.023215</td>\n",
       "      <td>0.023177</td>\n",
       "      <td>0.023086</td>\n",
       "      <td>0.022339</td>\n",
       "      <td>0.023369</td>\n",
       "      <td>0.023369</td>\n",
       "      <td>0.023369</td>\n",
       "      <td>0.023369</td>\n",
       "      <td>0.023369</td>\n",
       "      <td>0.023369</td>\n",
       "      <td>2.776211</td>\n",
       "    </tr>\n",
       "    <tr>\n",
       "      <th>2017-10</th>\n",
       "      <td>0.026509</td>\n",
       "      <td>0.005096</td>\n",
       "      <td>0.005208</td>\n",
       "      <td>0.005789</td>\n",
       "      <td>0.005771</td>\n",
       "      <td>0.005990</td>\n",
       "      <td>0.006969</td>\n",
       "      <td>0.010408</td>\n",
       "      <td>0.005096</td>\n",
       "      <td>0.005096</td>\n",
       "      <td>0.005096</td>\n",
       "      <td>0.005096</td>\n",
       "      <td>0.005096</td>\n",
       "      <td>0.178461</td>\n",
       "    </tr>\n",
       "    <tr>\n",
       "      <th>2017-11</th>\n",
       "      <td>0.033053</td>\n",
       "      <td>0.024083</td>\n",
       "      <td>0.024297</td>\n",
       "      <td>0.024001</td>\n",
       "      <td>0.024063</td>\n",
       "      <td>0.023942</td>\n",
       "      <td>0.022746</td>\n",
       "      <td>0.022643</td>\n",
       "      <td>0.022504</td>\n",
       "      <td>0.024083</td>\n",
       "      <td>0.024083</td>\n",
       "      <td>0.024083</td>\n",
       "      <td>0.024083</td>\n",
       "      <td>0.530819</td>\n",
       "    </tr>\n",
       "    <tr>\n",
       "      <th>2017-12</th>\n",
       "      <td>0.019814</td>\n",
       "      <td>0.015315</td>\n",
       "      <td>0.015476</td>\n",
       "      <td>0.015271</td>\n",
       "      <td>0.015201</td>\n",
       "      <td>0.015316</td>\n",
       "      <td>0.014846</td>\n",
       "      <td>0.014865</td>\n",
       "      <td>0.014837</td>\n",
       "      <td>0.017921</td>\n",
       "      <td>0.015315</td>\n",
       "      <td>0.015315</td>\n",
       "      <td>0.015315</td>\n",
       "      <td>0.447361</td>\n",
       "    </tr>\n",
       "    <tr>\n",
       "      <th>2018-01</th>\n",
       "      <td>0.024378</td>\n",
       "      <td>0.020358</td>\n",
       "      <td>0.020564</td>\n",
       "      <td>0.020167</td>\n",
       "      <td>0.020135</td>\n",
       "      <td>0.020063</td>\n",
       "      <td>0.019989</td>\n",
       "      <td>0.019958</td>\n",
       "      <td>0.019913</td>\n",
       "      <td>0.018924</td>\n",
       "      <td>0.018899</td>\n",
       "      <td>0.020358</td>\n",
       "      <td>0.020358</td>\n",
       "      <td>1.054689</td>\n",
       "    </tr>\n",
       "    <tr>\n",
       "      <th>2018-02</th>\n",
       "      <td>-0.028156</td>\n",
       "      <td>-0.026305</td>\n",
       "      <td>-0.026547</td>\n",
       "      <td>-0.026089</td>\n",
       "      <td>-0.026029</td>\n",
       "      <td>-0.026114</td>\n",
       "      <td>-0.025768</td>\n",
       "      <td>-0.025699</td>\n",
       "      <td>-0.025612</td>\n",
       "      <td>-0.029749</td>\n",
       "      <td>-0.029682</td>\n",
       "      <td>-0.028916</td>\n",
       "      <td>-0.026305</td>\n",
       "      <td>-1.196888</td>\n",
       "    </tr>\n",
       "    <tr>\n",
       "      <th>2018-03</th>\n",
       "      <td>-0.012688</td>\n",
       "      <td>-0.017231</td>\n",
       "      <td>-0.017397</td>\n",
       "      <td>-0.016528</td>\n",
       "      <td>-0.016114</td>\n",
       "      <td>-0.015867</td>\n",
       "      <td>-0.015750</td>\n",
       "      <td>-0.015712</td>\n",
       "      <td>-0.015670</td>\n",
       "      <td>-0.013491</td>\n",
       "      <td>-0.013471</td>\n",
       "      <td>-0.012530</td>\n",
       "      <td>-0.012652</td>\n",
       "      <td>1.610461</td>\n",
       "    </tr>\n",
       "  </tbody>\n",
       "</table>\n",
       "</div>"
      ],
      "text/plain": [
       "         Original iShares    Caso 1    Caso 2    Caso 3    Caso 4    Caso 5  \\\n",
       "2017-04         -0.000111  0.000000  0.000000  0.000000  0.000000  0.000000   \n",
       "2017-05         -0.028407 -0.012184 -0.012881 -0.012184 -0.012184 -0.012184   \n",
       "2017-06          0.049756  0.002870  0.002935  0.014952  0.002870  0.002870   \n",
       "2017-07          0.024431  0.001255  0.001208  0.001119  0.008538  0.001255   \n",
       "2017-08         -0.016487 -0.022617 -0.022862 -0.022549 -0.022437 -0.019396   \n",
       "2017-09          0.023072  0.023369  0.023621  0.023215  0.023177  0.023086   \n",
       "2017-10          0.026509  0.005096  0.005208  0.005789  0.005771  0.005990   \n",
       "2017-11          0.033053  0.024083  0.024297  0.024001  0.024063  0.023942   \n",
       "2017-12          0.019814  0.015315  0.015476  0.015271  0.015201  0.015316   \n",
       "2018-01          0.024378  0.020358  0.020564  0.020167  0.020135  0.020063   \n",
       "2018-02         -0.028156 -0.026305 -0.026547 -0.026089 -0.026029 -0.026114   \n",
       "2018-03         -0.012688 -0.017231 -0.017397 -0.016528 -0.016114 -0.015867   \n",
       "\n",
       "           Caso 6    Caso 7    Caso 8    Caso 9   Caso 10   Caso 11   Caso 12  \\\n",
       "2017-04  0.000000  0.000000  0.000000  0.000000  0.000000  0.000000  0.000000   \n",
       "2017-05 -0.012184 -0.012184 -0.012184 -0.012184 -0.012184 -0.012184 -0.012184   \n",
       "2017-06  0.002870  0.002870  0.002870  0.002870  0.002870  0.002870  0.002870   \n",
       "2017-07  0.001255  0.001255  0.001255  0.001255  0.001255  0.001255  0.001255   \n",
       "2017-08 -0.022617 -0.022617 -0.022617 -0.022617 -0.022617 -0.022617 -0.022617   \n",
       "2017-09  0.022339  0.023369  0.023369  0.023369  0.023369  0.023369  0.023369   \n",
       "2017-10  0.006969  0.010408  0.005096  0.005096  0.005096  0.005096  0.005096   \n",
       "2017-11  0.022746  0.022643  0.022504  0.024083  0.024083  0.024083  0.024083   \n",
       "2017-12  0.014846  0.014865  0.014837  0.017921  0.015315  0.015315  0.015315   \n",
       "2018-01  0.019989  0.019958  0.019913  0.018924  0.018899  0.020358  0.020358   \n",
       "2018-02 -0.025768 -0.025699 -0.025612 -0.029749 -0.029682 -0.028916 -0.026305   \n",
       "2018-03 -0.015750 -0.015712 -0.015670 -0.013491 -0.013471 -0.012530 -0.012652   \n",
       "\n",
       "         Proposal  \n",
       "2017-04  0.177444  \n",
       "2017-05 -0.547726  \n",
       "2017-06 -2.363187  \n",
       "2017-07  1.983271  \n",
       "2017-08 -0.011522  \n",
       "2017-09  2.776211  \n",
       "2017-10  0.178461  \n",
       "2017-11  0.530819  \n",
       "2017-12  0.447361  \n",
       "2018-01  1.054689  \n",
       "2018-02 -1.196888  \n",
       "2018-03  1.610461  "
      ]
     },
     "execution_count": 378,
     "metadata": {},
     "output_type": "execute_result"
    }
   ],
   "source": [
    "sharpe = rend_table.copy()\n",
    "for i in range(len(sharpe.iloc[:,0])):\n",
    "    for j in range(len(sharpe.iloc[0,:])):\n",
    "        sharpe.iat[i,j] = (rend_table.iat[i,j]-(rf_rates[i]/12/100))/desv_table.iat[i,j] #se saca el sharpe por coordenada\n",
    "pd.set_option('display.float_format', lambda x: '%.6f' % x)      #formato de 6 decimales\n",
    "sharpe"
   ]
  },
  {
   "cell_type": "markdown",
   "metadata": {},
   "source": [
    "### Resultados anuales"
   ]
  },
  {
   "cell_type": "markdown",
   "metadata": {},
   "source": [
    "Se parte del supuesto que se disponía de $1,000,000.00 USD para invertir en el ETF, es importante recalcar que se simulan los 14 escenarios planteados a lo largo del proyecto para determinar cual hubiera obtenido una ganancia mayor."
   ]
  },
  {
   "cell_type": "code",
   "execution_count": 379,
   "metadata": {},
   "outputs": [
    {
     "data": {
      "text/html": [
       "<div>\n",
       "<style scoped>\n",
       "    .dataframe tbody tr th:only-of-type {\n",
       "        vertical-align: middle;\n",
       "    }\n",
       "\n",
       "    .dataframe tbody tr th {\n",
       "        vertical-align: top;\n",
       "    }\n",
       "\n",
       "    .dataframe thead th {\n",
       "        text-align: right;\n",
       "    }\n",
       "</style>\n",
       "<table border=\"1\" class=\"dataframe\">\n",
       "  <thead>\n",
       "    <tr style=\"text-align: right;\">\n",
       "      <th></th>\n",
       "      <th>Original iShares</th>\n",
       "      <th>Caso 1</th>\n",
       "      <th>Caso 2</th>\n",
       "      <th>Caso 3</th>\n",
       "      <th>Caso 4</th>\n",
       "      <th>Caso 5</th>\n",
       "      <th>Caso 6</th>\n",
       "      <th>Caso 7</th>\n",
       "      <th>Caso 8</th>\n",
       "      <th>Caso 9</th>\n",
       "      <th>Caso 10</th>\n",
       "      <th>Caso 11</th>\n",
       "      <th>Caso 12</th>\n",
       "      <th>Proposal</th>\n",
       "    </tr>\n",
       "  </thead>\n",
       "  <tbody>\n",
       "    <tr>\n",
       "      <th>Capital Final</th>\n",
       "      <td>$1039659.47</td>\n",
       "      <td>$1006645.61</td>\n",
       "      <td>$996349.89</td>\n",
       "      <td>$1012957.4</td>\n",
       "      <td>$1016756.52</td>\n",
       "      <td>$1018620.11</td>\n",
       "      <td>$1031417.55</td>\n",
       "      <td>$1033100.97</td>\n",
       "      <td>$1035687.84</td>\n",
       "      <td>$1034902.41</td>\n",
       "      <td>$1036479.04</td>\n",
       "      <td>$1039290.92</td>\n",
       "      <td>$1039659.47</td>\n",
       "      <td>$1039659.47</td>\n",
       "    </tr>\n",
       "    <tr>\n",
       "      <th>Volatilidad</th>\n",
       "      <td>7.995691</td>\n",
       "      <td>7.195845</td>\n",
       "      <td>7.101836</td>\n",
       "      <td>7.271309</td>\n",
       "      <td>7.336803</td>\n",
       "      <td>7.377891</td>\n",
       "      <td>7.738622</td>\n",
       "      <td>7.846526</td>\n",
       "      <td>7.908507</td>\n",
       "      <td>8.060415</td>\n",
       "      <td>7.912299</td>\n",
       "      <td>7.477623</td>\n",
       "      <td>7.317521</td>\n",
       "      <td>7.995691</td>\n",
       "    </tr>\n",
       "    <tr>\n",
       "      <th>Sharpe</th>\n",
       "      <td>0.003359</td>\n",
       "      <td>-0.000855</td>\n",
       "      <td>-0.002316</td>\n",
       "      <td>0.000022</td>\n",
       "      <td>0.000539</td>\n",
       "      <td>0.000789</td>\n",
       "      <td>0.002406</td>\n",
       "      <td>0.002587</td>\n",
       "      <td>0.002894</td>\n",
       "      <td>0.002742</td>\n",
       "      <td>0.002993</td>\n",
       "      <td>0.003543</td>\n",
       "      <td>0.003671</td>\n",
       "      <td>0.003359</td>\n",
       "    </tr>\n",
       "  </tbody>\n",
       "</table>\n",
       "</div>"
      ],
      "text/plain": [
       "              Original iShares       Caso 1      Caso 2      Caso 3  \\\n",
       "Capital Final      $1039659.47  $1006645.61  $996349.89  $1012957.4   \n",
       "Volatilidad           7.995691     7.195845    7.101836    7.271309   \n",
       "Sharpe                0.003359    -0.000855   -0.002316    0.000022   \n",
       "\n",
       "                    Caso 4       Caso 5       Caso 6       Caso 7  \\\n",
       "Capital Final  $1016756.52  $1018620.11  $1031417.55  $1033100.97   \n",
       "Volatilidad       7.336803     7.377891     7.738622     7.846526   \n",
       "Sharpe            0.000539     0.000789     0.002406     0.002587   \n",
       "\n",
       "                    Caso 8       Caso 9      Caso 10      Caso 11  \\\n",
       "Capital Final  $1035687.84  $1034902.41  $1036479.04  $1039290.92   \n",
       "Volatilidad       7.908507     8.060415     7.912299     7.477623   \n",
       "Sharpe            0.002894     0.002742     0.002993     0.003543   \n",
       "\n",
       "                   Caso 12     Proposal  \n",
       "Capital Final  $1039659.47  $1039659.47  \n",
       "Volatilidad       7.317521     7.995691  \n",
       "Sharpe            0.003671     0.003359  "
      ]
     },
     "execution_count": 379,
     "metadata": {},
     "output_type": "execute_result"
    }
   ],
   "source": [
    "rend_an_cases = [((nav_t[i][-1]/nav_t[i][0])-1) for i in range(len(nav_t))] #rendimientos anuales de cada caso\n",
    "vol_an_cases = [np.std(nav_t[i]) for i in range(len(nav_t))] #Volatilidad anual de cada caso\n",
    "rf = t_y.iloc[-1,1]/100 #Tasa libre de riesgo\n",
    "sharpe = [(rend_an_cases[i]-rf)/vol_an_cases[i] for i in range(len(rend_an_cases))] #Sharpe de cada caso\n",
    "\n",
    "cap = 1000000\n",
    "idx = ['Capital Final', 'Volatilidad', 'Sharpe']\n",
    "colmns = ['Caso '+str(i) for i in range(1,len(rend)+1)]\n",
    "colmns.insert(0, \"Original iShares\")\n",
    "general_table = pd.DataFrame(index=idx, columns=colmns)\n",
    "for i in colmns[1::]:\n",
    "    case = colmns[1::].index(i) #Se extrae el numero de la columna para buscarlo en los casos\n",
    "    general_table.loc['Capital Final',i] = (1+rend_an_cases[case])*cap #Columna se le asigna el caso correspondiente\n",
    "    \n",
    "for i in colmns[1::]:\n",
    "    case = colmns[1::].index(i) #Se extrae el numero de la columna para buscarlo en los casos\n",
    "    general_table.loc['Volatilidad',i] = vol_an_cases[case] #Columna se le asigna el caso correspondiente\n",
    "    \n",
    "for i in colmns[1::]:\n",
    "    case = colmns[1::].index(i) #Se extrae el numero de la columna para buscarlo en los casos\n",
    "    general_table.loc['Sharpe',i] = sharpe[case] #Columna se le asigna el caso correspondiente\n",
    "    \n",
    "general_table['Original iShares'] = [(1+(nav_original[-1]/nav_original[0])-1)*cap, np.std(nav_original), \n",
    "                                     ((nav_original[-1]/nav_original[0])-1-rf)/np.std(nav_original)]\n",
    "\n",
    "general_table['Proposal'] = [(1+(nav_proposal[-1]/nav_proposal[0])-1)*cap, np.std(nav_proposal), \n",
    "                                     ((nav_proposal[-1]/nav_proposal[0])-1-rf)/np.std(nav_proposal)]\n",
    "\n",
    "general_table.loc['Capital Final',:] = general_table.apply(lambda row: \"$\" + str(round(row['Capital Final'],2)))\n",
    "\n",
    "general_table"
   ]
  },
  {
   "cell_type": "markdown",
   "metadata": {},
   "source": [
    "## Conclusiones"
   ]
  },
  {
   "cell_type": "markdown",
   "metadata": {},
   "source": [
    "A lo largo del laboratorio nos encontramos con distintos problemas para trabajar los archivos debido a que contenían mucha información y debiamos analizar todo, el hecho de que usaramos compresión de listas nos permitio eficientar el tiempo en el que se ejecutaban las operaciones.\n",
    "\n",
    "Con medidas descriptivas tales como rendimiento, volatilidad y Sharpe evaluamos 14 escenarios diferentes del ETF que contemplaban rebalanceo en diferentes periodos de tiempo; el interés sobre esto fue para despertar en nosotros la búsqueda de cómo replicar un ETF y comprobar que tan eficientes fueron los rebalanceos que se hicieron en la vida real y cómo resultaban los que se simularon.\n",
    "\n",
    "Con esta herramienta tan poderosa como es Python, pudimos replicar un ETF con nuestro propio criterio de rebalanceo sin necesidad de contratar un gestor. Pueden ser fines didácticos, pero si en algún momento pensamos dedicarnos a esto nos queda claro que se requiere conocimiento del mercado para fijar la estrategia, sin embargo es posible programarlo nosotros mismos.\n",
    "\n",
    "Al crear muchas alternativas o caminos diferentes nos permite experimentar en la búsqueda de un mejor rendimiento y así decidir si nos quedamos pasivamente con el ETF o si mejor le dedicamos tiempo y le damos una gestión activa, esto dependerá de los beneficios extra que nos traiga modificar nuestras posiciones con el ETF."
   ]
  },
  {
   "cell_type": "markdown",
   "metadata": {},
   "source": [
    "## Notas"
   ]
  },
  {
   "cell_type": "markdown",
   "metadata": {},
   "source": [
    "> Para los cálculos solo se están usando los activos de \"Equity\".\n",
    "\n",
    "> En total tenemos 453 activos diferentes en el etf, quandl sólo permitió extraer 449; algunos en algún periodo de tiempo ya tenían NaN, se rellenaron con 0.\n",
    "\n",
    "> Las ponderaciones mensuales no van a dar 100%, debido a la ausencia de algunos activos."
   ]
  }
 ],
 "metadata": {
  "kernelspec": {
   "display_name": "Python 3",
   "language": "python",
   "name": "python3"
  },
  "language_info": {
   "codemirror_mode": {
    "name": "ipython",
    "version": 3
   },
   "file_extension": ".py",
   "mimetype": "text/x-python",
   "name": "python",
   "nbconvert_exporter": "python",
   "pygments_lexer": "ipython3",
   "version": "3.7.1"
  }
 },
 "nbformat": 4,
 "nbformat_minor": 2
}
